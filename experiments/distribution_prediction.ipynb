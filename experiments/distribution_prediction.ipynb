{
 "cells": [
  {
   "cell_type": "code",
   "execution_count": 46,
   "metadata": {},
   "outputs": [
    {
     "name": "stdout",
     "output_type": "stream",
     "text": [
      "Current conda environment: reinvent\n",
      "Working directory: /home/fts_g_ucla_edu/Projects/rips-relay/experiments\n"
     ]
    }
   ],
   "source": [
    "import subprocess\n",
    "import os\n",
    "print('Current conda environment:', os.environ['CONDA_DEFAULT_ENV'])\n",
    "os.environ['TOKENIZERS_PARALLELISM'] = \"false\"\n",
    "\n",
    "cwd = os.getcwd()\n",
    "print('Working directory:', cwd)\n",
    "\n",
    "import warnings\n",
    "warnings.filterwarnings('ignore')\n",
    "\n",
    "import random\n",
    "random.seed(42)"
   ]
  },
  {
   "cell_type": "code",
   "execution_count": 10,
   "metadata": {},
   "outputs": [],
   "source": [
    "import pandas as pd\n",
    "\n",
    "from rdkit import Chem\n",
    "\n",
    "from molscore import MolScore\n",
    "from moleval.metrics.metrics import GetMetrics\n",
    "\n",
    "from sklearn.ensemble import RandomForestClassifier\n",
    "from sklearn.model_selection import train_test_split\n",
    "from sklearn.metrics import precision_score, roc_auc_score, RocCurveDisplay\n",
    "\n",
    "from xgboost import XGBClassifier\n",
    "\n",
    "import pickle"
   ]
  },
  {
   "cell_type": "code",
   "execution_count": 11,
   "metadata": {},
   "outputs": [],
   "source": [
    "fragments = []\n",
    "\n",
    "f = open(\"data/fragments.smi\", \"r\")\n",
    "\n",
    "for i in range(100):\n",
    "    mol = f.readline()\n",
    "    fragments.append(mol[:-1])"
   ]
  },
  {
   "cell_type": "code",
   "execution_count": 12,
   "metadata": {},
   "outputs": [
    {
     "data": {
      "text/plain": [
       "['C1c2cncnc2NC1',\n",
       " 'Cc1n[nH]c(N)c1C#N',\n",
       " 'NCc1cc(Br)cnc1',\n",
       " 'CC(Nc1nccs1)=O',\n",
       " 'Cc1c(CO)cncc1']"
      ]
     },
     "execution_count": 12,
     "metadata": {},
     "output_type": "execute_result"
    }
   ],
   "source": [
    "fragments[:5]"
   ]
  },
  {
   "cell_type": "markdown",
   "metadata": {},
   "source": [
    "### Generate a distribution from each fragment for each model"
   ]
  },
  {
   "cell_type": "code",
   "execution_count": 19,
   "metadata": {},
   "outputs": [],
   "source": [
    "reinvent_distributions, crem_distributions, coati_distributions, safe_distributions = [], [], [], []\n",
    "models = ['reinvent', 'crem', 'coati', 'safe']"
   ]
  },
  {
   "cell_type": "code",
   "execution_count": 26,
   "metadata": {},
   "outputs": [],
   "source": [
    "%%capture\n",
    "\n",
    "for fragment in fragments[:5]:\n",
    "    for model in models:\n",
    "\n",
    "        DF_FILEPATH = f'data/{model}_dataframe.csv'\n",
    "\n",
    "        arg1 = '--model'\n",
    "        arg2 = '--input_frag'\n",
    "        arg3 = '--sample'\n",
    "\n",
    "        args = ['python3', 'generate_analogs.py',\n",
    "                arg1, model,\n",
    "                arg2, fragment,\n",
    "                arg3, '50']\n",
    "\n",
    "        # Change directory to generate analogs with python script\n",
    "        %cd ..\n",
    "\n",
    "        subprocess.run(args,\n",
    "                    stdout=subprocess.DEVNULL,\n",
    "                    stderr=subprocess.STDOUT)\n",
    "                \n",
    "        # Change directory back to that of the current notebook\n",
    "        %cd experiments\n",
    "\n",
    "        df = pd.read_csv(DF_FILEPATH, index_col=0)\n",
    "\n",
    "        df['Model'] = model\n",
    "\n",
    "        if model == 'reinvent':\n",
    "            reinvent_distributions.append(df)\n",
    "        elif model == 'crem':\n",
    "            crem_distributions.append(df)\n",
    "        elif model == 'coati':\n",
    "            coati_distributions.append(df)\n",
    "        elif model == 'safe':\n",
    "            safe_distributions.append(df)"
   ]
  },
  {
   "cell_type": "code",
   "execution_count": 49,
   "metadata": {},
   "outputs": [],
   "source": [
    "data = {'reinvent' : reinvent_distributions,\n",
    "        'crem' : crem_distributions,\n",
    "        'coati' : coati_distributions,\n",
    "        'safe' : safe_distributions}"
   ]
  },
  {
   "cell_type": "code",
   "execution_count": 50,
   "metadata": {},
   "outputs": [],
   "source": [
    "with open('lists.pkl', 'wb') as file:\n",
    "    pickle.dump(data, file)"
   ]
  },
  {
   "cell_type": "code",
   "execution_count": 13,
   "metadata": {},
   "outputs": [],
   "source": [
    "with open('lists.pkl', 'rb') as file:\n",
    "    data = pickle.load(file)"
   ]
  },
  {
   "cell_type": "code",
   "execution_count": 14,
   "metadata": {},
   "outputs": [],
   "source": [
    "reinvent_distributions = data['reinvent']\n",
    "crem_distributions = data['crem']\n",
    "coati_distributions = data['coati']\n",
    "safe_distributions = data['safe']"
   ]
  },
  {
   "cell_type": "code",
   "execution_count": 15,
   "metadata": {},
   "outputs": [],
   "source": [
    "smiles = reinvent_distributions[0]['SMILES'].to_list()"
   ]
  },
  {
   "cell_type": "code",
   "execution_count": 16,
   "metadata": {},
   "outputs": [
    {
     "data": {
      "text/plain": [
       "['O=[N+]([O-])c1ccc2c(n1)C(O)CN2',\n",
       " 'CC(C)Oc1ncnc2c1CNC2',\n",
       " 'Nc1nc2c(nc1Br)CCN2',\n",
       " 'Nc1nc(Cl)c2c(n1)CNCC2',\n",
       " 'Cc1nc(N)c2c(n1)CCN2C',\n",
       " 'Cc1nc2c(nc1Cl)NCC2',\n",
       " 'CN1CCc2nc(N)c3ncc(N)nc3c2C1',\n",
       " 'Brc1ccc2[nH]ncc2n1',\n",
       " 'CC(C)[C@H]1Cc2cncnc2N1',\n",
       " 'CC1CNc2ncncc2C1',\n",
       " 'CCC1Cc2cncnc2N1',\n",
       " 'Nc1cc2c(cn1)CNCC2',\n",
       " 'CCCNc1nc2c(nc1O)CCN2',\n",
       " 'c1ncc2c(n1)NC1(CC2)CC1',\n",
       " 'CC1CNc2cncnc21',\n",
       " 'c1ncc2c(n1)NC1CCCCC21',\n",
       " 'O=[N+]([O-])c1cc2c(cn1)C(O)CN2',\n",
       " 'CN1CCc2cncnc21',\n",
       " 'c1c[nH]c(-c2ncc3c(n2)NCC3)c1',\n",
       " 'CC1CNc2ncncc2N1',\n",
       " 'N#Cc1ncc2c(n1)NCC2',\n",
       " 'CC1Cc2nc(N)cnc2N1',\n",
       " 'CC1CCCNc2ncncc21',\n",
       " 'Nc1nc(N)c2c(n1)CCN2',\n",
       " 'CC1Cc2nc(N)nc(N)c2N1',\n",
       " 'O=[N+]([O-])c1cc2c(cn1)CNCC2',\n",
       " 'CNc1nc2c(nc1C)NCC2',\n",
       " 'C[C@@H]1Cc2cnc(N)nc2N1',\n",
       " 'Brc1ncnc2c1CCN2',\n",
       " 'CC1CCNc2nccnc21',\n",
       " 'Clc1ccc2[nH]cnc2n1',\n",
       " 'c1ncc2c(n1)OCCCC2',\n",
       " 'CCN1CCc2cncnc21',\n",
       " 'Brc1ncc2c(n1)CCN2',\n",
       " 'c1cnc2c(c1)CCN2',\n",
       " 'CC1(C)CNc2ncncc21',\n",
       " 'COC1CNc2nccnc2CN1',\n",
       " 'c1cnc2c(n1)CCN2',\n",
       " 'C[C@@H]1CNc2cncnc2N1',\n",
       " 'c1ncc2c(n1)OCCC2',\n",
       " 'O=[N+]([O-])c1ccc2[nH]ncc2c1',\n",
       " 'c1ccc(C2Cc3cncnc3N2)cc1',\n",
       " 'OCC1CNc2nccnc2N1',\n",
       " 'c1ncc2c(n1)NC1(CC1)CN2',\n",
       " 'CCCCCN1CCc2cncnc21',\n",
       " 'CC1CNc2nccnc2C1',\n",
       " 'CCN1CCc2nc(N)c3nc(N)c(OC)nc3c21',\n",
       " 'CCN1CCc2cncnc21',\n",
       " 'Cc1nc2c(O)ncnc2[nH]1',\n",
       " 'O=[N+]([O-])c1ccc2c(n1)NCC2']"
      ]
     },
     "execution_count": 16,
     "metadata": {},
     "output_type": "execute_result"
    }
   ],
   "source": [
    "smiles"
   ]
  },
  {
   "cell_type": "code",
   "execution_count": 21,
   "metadata": {},
   "outputs": [],
   "source": [
    "smiles2 = crem_distributions[1]['SMILES'].to_list()\n",
    "smiles3 = coati_distributions[0]['SMILES'].to_list()\n",
    "smiles4 = safe_distributions[0]['SMILES'].to_list()"
   ]
  },
  {
   "cell_type": "code",
   "execution_count": 17,
   "metadata": {},
   "outputs": [
    {
     "name": "stdout",
     "output_type": "stream",
     "text": [
      "Cleaning up reference smiles\n"
     ]
    },
    {
     "name": "stderr",
     "output_type": "stream",
     "text": [
      "/home/fts_g_ucla_edu/.local/lib/python3.10/site-packages/moleval/metrics/metrics.py:205: UserWarning: Less than 1000 molecules so SEDiv is non-standard.\n",
      "  warnings.warn(f'Less than {se_k} molecules so SEDiv is non-standard.')\n",
      "/home/fts_g_ucla_edu/.local/lib/python3.10/site-packages/moleval/metrics/metrics.py:211: UserWarning: Less than 1000 molecules so SPDiv is non-standard.\n",
      "  warnings.warn(f'Less than {sp_k} molecules so SPDiv is non-standard.')\n"
     ]
    }
   ],
   "source": [
    "MetricEngine = GetMetrics(\n",
    "    n_jobs=1,\n",
    "    device='cpu',\n",
    "    batch_size=512,\n",
    "    run_fcd=False\n",
    ")\n",
    "metrics = MetricEngine.calculate(\n",
    "    smiles,\n",
    "    calc_valid=True,\n",
    "    calc_unique=True,\n",
    "    unique_k=10000,\n",
    "    se_k=1000,\n",
    "    sp_k=1000,\n",
    "    properties=True,\n",
    ")"
   ]
  },
  {
   "cell_type": "code",
   "execution_count": 18,
   "metadata": {},
   "outputs": [
    {
     "data": {
      "text/plain": [
       "{'#': 50,\n",
       " 'Validity': 1.0,\n",
       " '# valid': 50,\n",
       " 'Uniqueness': 0.98,\n",
       " '# valid & unique': 49,\n",
       " 'IntDiv1': 0.7948251545106506,\n",
       " 'IntDiv2': 0.7476713129919497,\n",
       " 'SEDiv': 0.46938775510204084,\n",
       " 'SPDiv': 0.9840981234875023,\n",
       " '# scaffolds': 28,\n",
       " 'ScaffDiv': 0.697516663342106,\n",
       " 'ScaffUniqueness': 0.5714285714285714,\n",
       " 'FG': 0.08743169398907104,\n",
       " 'RS': 0.5490196078431373,\n",
       " 'Filters': 0.5918367346938775,\n",
       " 'Purchasable_ZINC20': 0.08163265306122448}"
      ]
     },
     "execution_count": 18,
     "metadata": {},
     "output_type": "execute_result"
    }
   ],
   "source": [
    "metrics"
   ]
  },
  {
   "cell_type": "code",
   "execution_count": 22,
   "metadata": {},
   "outputs": [
    {
     "name": "stdout",
     "output_type": "stream",
     "text": [
      "Cleaning up reference smiles\n"
     ]
    },
    {
     "name": "stderr",
     "output_type": "stream",
     "text": [
      "/home/fts_g_ucla_edu/.local/lib/python3.10/site-packages/moleval/metrics/metrics.py:205: UserWarning: Less than 1000 molecules so SEDiv is non-standard.\n",
      "  warnings.warn(f'Less than {se_k} molecules so SEDiv is non-standard.')\n",
      "/home/fts_g_ucla_edu/.local/lib/python3.10/site-packages/moleval/metrics/metrics.py:211: UserWarning: Less than 1000 molecules so SPDiv is non-standard.\n",
      "  warnings.warn(f'Less than {sp_k} molecules so SPDiv is non-standard.')\n"
     ]
    }
   ],
   "source": [
    "MetricEngine = GetMetrics(\n",
    "    n_jobs=1,\n",
    "    device='cpu',\n",
    "    batch_size=512,\n",
    "    run_fcd=False\n",
    ")\n",
    "metrics2 = MetricEngine.calculate(\n",
    "    smiles2,\n",
    "    calc_valid=True,\n",
    "    calc_unique=True,\n",
    "    unique_k=10000,\n",
    "    se_k=1000,\n",
    "    sp_k=1000,\n",
    "    properties=True,\n",
    ")"
   ]
  },
  {
   "cell_type": "code",
   "execution_count": 23,
   "metadata": {},
   "outputs": [
    {
     "data": {
      "text/plain": [
       "{'#': 50,\n",
       " 'Validity': 1.0,\n",
       " '# valid': 50,\n",
       " 'Uniqueness': 1.0,\n",
       " '# valid & unique': 50,\n",
       " 'IntDiv1': 0.8960155154228211,\n",
       " 'IntDiv2': 0.8251595270036898,\n",
       " 'SEDiv': 0.94,\n",
       " 'SPDiv': 0.9949364419468035,\n",
       " '# scaffolds': 8,\n",
       " 'ScaffDiv': 0.6374329067766666,\n",
       " 'ScaffUniqueness': 0.16,\n",
       " 'FG': 0.4722222222222222,\n",
       " 'RS': 0.7666666666666667,\n",
       " 'Filters': 0.26,\n",
       " 'Purchasable_ZINC20': 0.48}"
      ]
     },
     "execution_count": 23,
     "metadata": {},
     "output_type": "execute_result"
    }
   ],
   "source": [
    "metrics2"
   ]
  },
  {
   "cell_type": "code",
   "execution_count": 26,
   "metadata": {},
   "outputs": [
    {
     "name": "stdout",
     "output_type": "stream",
     "text": [
      "Cleaning up reference smiles\n"
     ]
    },
    {
     "name": "stderr",
     "output_type": "stream",
     "text": [
      "/home/fts_g_ucla_edu/.local/lib/python3.10/site-packages/moleval/metrics/metrics.py:205: UserWarning: Less than 1000 molecules so SEDiv is non-standard.\n",
      "  warnings.warn(f'Less than {se_k} molecules so SEDiv is non-standard.')\n",
      "/home/fts_g_ucla_edu/.local/lib/python3.10/site-packages/moleval/metrics/metrics.py:211: UserWarning: Less than 1000 molecules so SPDiv is non-standard.\n",
      "  warnings.warn(f'Less than {sp_k} molecules so SPDiv is non-standard.')\n"
     ]
    }
   ],
   "source": [
    "MetricEngine = GetMetrics(\n",
    "    n_jobs=1,\n",
    "    device='cpu',\n",
    "    batch_size=512,\n",
    "    run_fcd=False\n",
    ")\n",
    "metrics3 = MetricEngine.calculate(\n",
    "    smiles3,\n",
    "    calc_valid=True,\n",
    "    calc_unique=True,\n",
    "    unique_k=10000,\n",
    "    se_k=1000,\n",
    "    sp_k=1000,\n",
    "    properties=True,\n",
    ")"
   ]
  },
  {
   "cell_type": "code",
   "execution_count": 27,
   "metadata": {},
   "outputs": [
    {
     "data": {
      "text/plain": [
       "{'#': 50,\n",
       " 'Validity': 1.0,\n",
       " '# valid': 50,\n",
       " 'Uniqueness': 1.0,\n",
       " '# valid & unique': 50,\n",
       " 'IntDiv1': 0.7771809272766114,\n",
       " 'IntDiv2': 0.7398999224879415,\n",
       " 'SEDiv': 0.6,\n",
       " 'SPDiv': 0.9868649318951688,\n",
       " '# scaffolds': 49,\n",
       " 'ScaffDiv': 0.7617993031080342,\n",
       " 'ScaffUniqueness': 0.98,\n",
       " 'FG': 0.15151515151515152,\n",
       " 'RS': 0.5675675675675675,\n",
       " 'Filters': 0.54,\n",
       " 'Purchasable_ZINC20': 0.22}"
      ]
     },
     "execution_count": 27,
     "metadata": {},
     "output_type": "execute_result"
    }
   ],
   "source": [
    "metrics3"
   ]
  },
  {
   "cell_type": "code",
   "execution_count": 28,
   "metadata": {},
   "outputs": [
    {
     "name": "stdout",
     "output_type": "stream",
     "text": [
      "Cleaning up reference smiles\n"
     ]
    },
    {
     "name": "stderr",
     "output_type": "stream",
     "text": [
      "/home/fts_g_ucla_edu/.local/lib/python3.10/site-packages/moleval/metrics/metrics.py:205: UserWarning: Less than 1000 molecules so SEDiv is non-standard.\n",
      "  warnings.warn(f'Less than {se_k} molecules so SEDiv is non-standard.')\n",
      "/home/fts_g_ucla_edu/.local/lib/python3.10/site-packages/moleval/metrics/metrics.py:211: UserWarning: Less than 1000 molecules so SPDiv is non-standard.\n",
      "  warnings.warn(f'Less than {sp_k} molecules so SPDiv is non-standard.')\n"
     ]
    }
   ],
   "source": [
    "MetricEngine = GetMetrics(\n",
    "    n_jobs=1,\n",
    "    device='cpu',\n",
    "    batch_size=512,\n",
    "    run_fcd=False\n",
    ")\n",
    "metrics4 = MetricEngine.calculate(\n",
    "    smiles4,\n",
    "    calc_valid=True,\n",
    "    calc_unique=True,\n",
    "    unique_k=10000,\n",
    "    se_k=1000,\n",
    "    sp_k=1000,\n",
    "    properties=True,\n",
    ")"
   ]
  },
  {
   "cell_type": "code",
   "execution_count": 29,
   "metadata": {},
   "outputs": [
    {
     "data": {
      "text/plain": [
       "{'#': 50,\n",
       " 'Validity': 1.0,\n",
       " '# valid': 50,\n",
       " 'Uniqueness': 1.0,\n",
       " '# valid & unique': 50,\n",
       " 'IntDiv1': 0.8577182090759278,\n",
       " 'IntDiv2': 0.8078390865298755,\n",
       " 'SEDiv': 0.98,\n",
       " 'SPDiv': 0.9941221599368881,\n",
       " '# scaffolds': 45,\n",
       " 'ScaffDiv': 0.8265063596654821,\n",
       " 'ScaffUniqueness': 0.9,\n",
       " 'FG': 0.32142857142857145,\n",
       " 'RS': 0.31666666666666665,\n",
       " 'Filters': 0.82,\n",
       " 'Purchasable_ZINC20': 0.0}"
      ]
     },
     "execution_count": 29,
     "metadata": {},
     "output_type": "execute_result"
    }
   ],
   "source": [
    "metrics4"
   ]
  },
  {
   "cell_type": "code",
   "execution_count": null,
   "metadata": {},
   "outputs": [],
   "source": []
  }
 ],
 "metadata": {
  "kernelspec": {
   "display_name": "reinvent",
   "language": "python",
   "name": "python3"
  },
  "language_info": {
   "codemirror_mode": {
    "name": "ipython",
    "version": 3
   },
   "file_extension": ".py",
   "mimetype": "text/x-python",
   "name": "python",
   "nbconvert_exporter": "python",
   "pygments_lexer": "ipython3",
   "version": "3.10.13"
  }
 },
 "nbformat": 4,
 "nbformat_minor": 2
}
