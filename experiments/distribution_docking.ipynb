{
 "cells": [
  {
   "cell_type": "markdown",
   "metadata": {},
   "source": [
    "## Configuration"
   ]
  },
  {
   "cell_type": "code",
   "execution_count": 16,
   "metadata": {},
   "outputs": [
    {
     "name": "stdout",
     "output_type": "stream",
     "text": [
      "Current conda environment: reinvent\n",
      "Working directory: /home/fts_g_ucla_edu/Projects/rips-relay/experiments\n"
     ]
    }
   ],
   "source": [
    "import subprocess\n",
    "import os\n",
    "print('Current conda environment:', os.environ['CONDA_DEFAULT_ENV'])\n",
    "os.environ['TOKENIZERS_PARALLELISM'] = \"false\"\n",
    "os.environ[\"CUDA_VISIBLE_DEVICES\"] = \"0\"  # set gpu\n",
    "\n",
    "os.environ[\"PATH\"] += \":/usr/local/openeye/bin\"\n",
    "os.environ[\"OE_LICENSE\"] = \"/home/fts_g_ucla_edu/Projects/oe_license.txt\"\n",
    "\n",
    "cwd = os.getcwd()\n",
    "print('Working directory:', cwd)\n",
    "\n",
    "import warnings\n",
    "warnings.filterwarnings('ignore')\n",
    "\n",
    "import random\n",
    "random.seed(42)"
   ]
  },
  {
   "cell_type": "code",
   "execution_count": 17,
   "metadata": {},
   "outputs": [],
   "source": [
    "import numpy as np\n",
    "\n",
    "import pandas as pd\n",
    "\n",
    "from rdkit import Chem\n",
    "from rdkit.Chem import PandasTools\n",
    "from rdkit.Chem.Draw import MolsToGridImage\n",
    "import useful_rdkit_utils as uru\n",
    "from rdkit.Chem.rdFMCS import FindMCS\n",
    "\n",
    "import pickle\n",
    "\n",
    "import mols2grid"
   ]
  },
  {
   "cell_type": "markdown",
   "metadata": {},
   "source": [
    "## Generating Data"
   ]
  },
  {
   "cell_type": "code",
   "execution_count": 18,
   "metadata": {},
   "outputs": [],
   "source": [
    "models = ['reinvent', 'coati', 'safe']\n",
    "prefixes = ['2zdt', '2qd9', '2ojg']"
   ]
  },
  {
   "cell_type": "code",
   "execution_count": 19,
   "metadata": {},
   "outputs": [
    {
     "name": "stdout",
     "output_type": "stream",
     "text": [
      "/home/fts_g_ucla_edu/Projects/rips-relay\n",
      "/home/fts_g_ucla_edu/Projects/rips-relay/experiments\n",
      "/home/fts_g_ucla_edu/Projects/rips-relay\n",
      "/home/fts_g_ucla_edu/Projects/rips-relay/experiments\n",
      "/home/fts_g_ucla_edu/Projects/rips-relay\n",
      "/home/fts_g_ucla_edu/Projects/rips-relay/experiments\n",
      "/home/fts_g_ucla_edu/Projects/rips-relay\n",
      "/home/fts_g_ucla_edu/Projects/rips-relay/experiments\n",
      "/home/fts_g_ucla_edu/Projects/rips-relay\n",
      "/home/fts_g_ucla_edu/Projects/rips-relay/experiments\n",
      "/home/fts_g_ucla_edu/Projects/rips-relay\n",
      "/home/fts_g_ucla_edu/Projects/rips-relay/experiments\n",
      "/home/fts_g_ucla_edu/Projects/rips-relay\n",
      "/home/fts_g_ucla_edu/Projects/rips-relay/experiments\n",
      "/home/fts_g_ucla_edu/Projects/rips-relay\n",
      "/home/fts_g_ucla_edu/Projects/rips-relay/experiments\n",
      "/home/fts_g_ucla_edu/Projects/rips-relay\n",
      "/home/fts_g_ucla_edu/Projects/rips-relay/experiments\n"
     ]
    }
   ],
   "source": [
    "reinvent_distributions, crem_distributions, coati_distributions, safe_distributions = [], [], [], []\n",
    "\n",
    "for pdb in prefixes:\n",
    "    for model in models:\n",
    "\n",
    "        DF_FILEPATH = f'data/{model}_dataframe.csv'\n",
    "\n",
    "        arg1 = '--model'\n",
    "        arg2 = '--sample'\n",
    "        arg3 = '--remove_odd_rings'\n",
    "        arg4 = '--dock'\n",
    "        arg5 = '--pdb'\n",
    "\n",
    "        args = ['python3', 'generate_analogs.py',\n",
    "                arg1, model,\n",
    "                arg2, '200',\n",
    "                arg3,\n",
    "                arg4,\n",
    "                arg5, pdb]\n",
    "\n",
    "        # Change directory to generate analogs with python script\n",
    "        %cd ..\n",
    "\n",
    "        subprocess.run(args,\n",
    "                    stdout=subprocess.DEVNULL,\n",
    "                    stderr=subprocess.STDOUT)\n",
    "                \n",
    "        # Change directory back to that of the current notebook\n",
    "        %cd experiments\n",
    "\n",
    "        df = pd.read_csv(DF_FILEPATH, index_col=0)\n",
    "\n",
    "        df['Model'] = model\n",
    "\n",
    "        if model == 'reinvent':\n",
    "            reinvent_distributions.append(df)\n",
    "        elif model == 'crem':\n",
    "            crem_distributions.append(df)\n",
    "        elif model == 'coati':\n",
    "            coati_distributions.append(df)\n",
    "        elif model == 'safe':\n",
    "            safe_distributions.append(df)"
   ]
  },
  {
   "cell_type": "code",
   "execution_count": 25,
   "metadata": {},
   "outputs": [],
   "source": [
    "data = {'reinvent' : reinvent_distributions,\n",
    "        'crem' : crem_distributions,\n",
    "        'coati' : coati_distributions,\n",
    "        'safe' : safe_distributions}"
   ]
  },
  {
   "cell_type": "code",
   "execution_count": 26,
   "metadata": {},
   "outputs": [],
   "source": [
    "with open('lists_docking.pkl', 'wb') as file:\n",
    "    pickle.dump(data, file)"
   ]
  },
  {
   "cell_type": "code",
   "execution_count": 27,
   "metadata": {},
   "outputs": [
    {
     "name": "stdout",
     "output_type": "stream",
     "text": [
      "198\n",
      "198\n",
      "198\n",
      "66\n",
      "66\n",
      "66\n",
      "195\n",
      "128\n",
      "166\n"
     ]
    }
   ],
   "source": [
    "for d in data:\n",
    "    for df in data[d]:\n",
    "        print(len(df))"
   ]
  },
  {
   "cell_type": "markdown",
   "metadata": {},
   "source": [
    "## Defining Utils"
   ]
  },
  {
   "cell_type": "code",
   "execution_count": 22,
   "metadata": {},
   "outputs": [],
   "source": [
    "def remove_odd_rings(df):\n",
    "\n",
    "    ring_system_lookup = uru.RingSystemLookup.default()\n",
    "    df['ring_systems'] = df.SMILES.apply(ring_system_lookup.process_smiles)\n",
    "    df[['min_ring','min_freq']] = df.ring_systems.apply(uru.get_min_ring_frequency).to_list()\n",
    "\n",
    "    odd_rings = df['min_freq'] < 100\n",
    "\n",
    "    df['Odd rings'] = ~ odd_rings\n",
    "\n",
    "    df = df[df['Odd rings']].drop(columns=['Odd rings'])\n",
    "    \n",
    "    return df.loc[:, ['SMILES', 'Input_SMILES', 'Model']]"
   ]
  },
  {
   "cell_type": "code",
   "execution_count": 23,
   "metadata": {},
   "outputs": [],
   "source": [
    "'''\n",
    "Removes distributions with zero molecules\n",
    "\n",
    "Removes invalid SMILES strings\n",
    "\n",
    "Removes odd ring systems from distributions\n",
    "'''\n",
    "def preprocess_data(data):\n",
    "\n",
    "    for d in data:\n",
    "        \n",
    "        for i, df in enumerate(data[d]):\n",
    "            \n",
    "            if df.empty:\n",
    "                pass\n",
    "            else:\n",
    "                smiles_list = df['SMILES'].to_list()\n",
    "\n",
    "                valid_smiles = []\n",
    "                invalid_smiles = []\n",
    "\n",
    "                for smiles in smiles_list:\n",
    "                        \n",
    "                    try:\n",
    "                        molecule = Chem.MolFromSmiles(smiles, sanitize=True)\n",
    "                        if molecule is not None:\n",
    "                            valid_smiles.append(True)\n",
    "                        else:\n",
    "                            valid_smiles.append(False)\n",
    "                    except Exception as e:\n",
    "                        invalid_smiles.append(smiles)\n",
    "\n",
    "                df = remove_odd_rings(df)\n",
    "\n",
    "                data[d][i] = df\n",
    "            \n",
    "        filtered_df_list = [df for df in data[d] if len(df) > 0]\n",
    "    \n",
    "        data[d] = filtered_df_list\n",
    "                \n",
    "    \n",
    "    return data"
   ]
  },
  {
   "cell_type": "markdown",
   "metadata": {},
   "source": [
    "## Data Preprocessing"
   ]
  },
  {
   "cell_type": "code",
   "execution_count": 24,
   "metadata": {},
   "outputs": [],
   "source": [
    "# data = preprocess_data(data)"
   ]
  },
  {
   "cell_type": "markdown",
   "metadata": {},
   "source": [
    "## Docking"
   ]
  }
 ],
 "metadata": {
  "kernelspec": {
   "display_name": "reinvent",
   "language": "python",
   "name": "python3"
  },
  "language_info": {
   "codemirror_mode": {
    "name": "ipython",
    "version": 3
   },
   "file_extension": ".py",
   "mimetype": "text/x-python",
   "name": "python",
   "nbconvert_exporter": "python",
   "pygments_lexer": "ipython3",
   "version": "3.10.13"
  }
 },
 "nbformat": 4,
 "nbformat_minor": 2
}
