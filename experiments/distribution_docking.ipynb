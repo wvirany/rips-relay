{
 "cells": [
  {
   "cell_type": "markdown",
   "metadata": {},
   "source": [
    "## Configuration"
   ]
  },
  {
   "cell_type": "code",
   "execution_count": null,
   "metadata": {},
   "outputs": [],
   "source": [
    "import subprocess\n",
    "import os\n",
    "print('Current conda environment:', os.environ['CONDA_DEFAULT_ENV'])\n",
    "os.environ['TOKENIZERS_PARALLELISM'] = \"false\"\n",
    "os.environ[\"CUDA_VISIBLE_DEVICES\"] = \"0\"  # set gpu\n",
    "\n",
    "os.environ[\"PATH\"] += \":/usr/local/openeye/bin\"\n",
    "os.environ[\"OE_LICENSE\"] = \"/home/fts_g_ucla_edu/Projects/oe_license.txt\"\n",
    "\n",
    "cwd = os.getcwd()\n",
    "print('Working directory:', cwd)\n",
    "\n",
    "import warnings\n",
    "warnings.filterwarnings('ignore')\n",
    "\n",
    "import random\n",
    "random.seed(42)"
   ]
  },
  {
   "cell_type": "code",
   "execution_count": null,
   "metadata": {},
   "outputs": [],
   "source": [
    "import numpy as np\n",
    "\n",
    "import pandas as pd\n",
    "\n",
    "from rdkit import Chem\n",
    "from rdkit.Chem import PandasTools\n",
    "from rdkit.Chem.Draw import MolsToGridImage\n",
    "import useful_rdkit_utils as uru\n",
    "from rdkit.Chem.rdFMCS import FindMCS\n",
    "\n",
    "import pickle\n",
    "\n",
    "import mols2grid"
   ]
  },
  {
   "cell_type": "markdown",
   "metadata": {},
   "source": [
    "## Generating Data"
   ]
  },
  {
   "cell_type": "code",
   "execution_count": null,
   "metadata": {},
   "outputs": [],
   "source": [
    "models = ['reinvent', 'coati', 'safe']\n",
    "prefixes = ['2zdt', '2qd9', '2ojg']"
   ]
  },
  {
   "cell_type": "code",
   "execution_count": null,
   "metadata": {},
   "outputs": [],
   "source": [
    "%%capture\n",
    "\n",
    "reinvent_distributions, crem_distributions, coati_distributions, safe_distributions = [], [], [], []\n",
    "\n",
    "for pdb in prefixes:\n",
    "    for model in models:\n",
    "\n",
    "        DF_FILEPATH = f'data/{model}_dataframe.csv'\n",
    "\n",
    "        arg1 = '--model'\n",
    "        arg2 = '--sample'\n",
    "        arg3 = '--remove_odd_rings'\n",
    "        arg4 = '--dock'\n",
    "        arg5 = '--pdb'\n",
    "\n",
    "        args = ['python3', 'generate_analogs.py',\n",
    "                arg1, model,\n",
    "                arg2, '200',\n",
    "                arg3,\n",
    "                arg4,\n",
    "                arg5, pdb]\n",
    "\n",
    "        # Change directory to generate analogs with python script\n",
    "        %cd ..\n",
    "\n",
    "        subprocess.run(args,\n",
    "                    stdout=subprocess.DEVNULL,\n",
    "                    stderr=subprocess.STDOUT)\n",
    "                \n",
    "        # Change directory back to that of the current notebook\n",
    "        %cd experiments\n",
    "\n",
    "        df = pd.read_csv(DF_FILEPATH, index_col=0)\n",
    "\n",
    "        df['Model'] = model\n",
    "\n",
    "        if model == 'reinvent':\n",
    "            reinvent_distributions.append(df)\n",
    "        elif model == 'crem':\n",
    "            crem_distributions.append(df)\n",
    "        elif model == 'coati':\n",
    "            coati_distributions.append(df)\n",
    "        elif model == 'safe':\n",
    "            safe_distributions.append(df)"
   ]
  },
  {
   "cell_type": "code",
   "execution_count": null,
   "metadata": {},
   "outputs": [],
   "source": [
    "data = {'reinvent' : reinvent_distributions,\n",
    "        'crem' : crem_distributions,\n",
    "        'coati' : coati_distributions,\n",
    "        'safe' : safe_distributions}"
   ]
  },
  {
   "cell_type": "code",
   "execution_count": null,
   "metadata": {},
   "outputs": [],
   "source": [
    "with open('lists_docking.pkl', 'wb') as file:\n",
    "    pickle.dump(data, file)"
   ]
  },
  {
   "cell_type": "markdown",
   "metadata": {},
   "source": [
    "## Docking"
   ]
  }
 ],
 "metadata": {
  "kernelspec": {
   "display_name": "reinvent",
   "language": "python",
   "name": "python3"
  },
  "language_info": {
   "codemirror_mode": {
    "name": "ipython",
    "version": 3
   },
   "file_extension": ".py",
   "mimetype": "text/x-python",
   "name": "python",
   "nbconvert_exporter": "python",
   "pygments_lexer": "ipython3",
   "version": "3.10.13"
  }
 },
 "nbformat": 4,
 "nbformat_minor": 2
}
