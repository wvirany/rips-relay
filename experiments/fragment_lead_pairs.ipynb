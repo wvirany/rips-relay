{
 "cells": [
  {
   "cell_type": "markdown",
   "metadata": {},
   "source": [
    "# Fragment-Lead Pairs: A first look"
   ]
  },
  {
   "cell_type": "code",
   "execution_count": 28,
   "metadata": {},
   "outputs": [
    {
     "name": "stdout",
     "output_type": "stream",
     "text": [
      "Current conda environment: reinvent4\n"
     ]
    }
   ],
   "source": [
    "import os\n",
    "print('Current conda environment:', os.environ['CONDA_DEFAULT_ENV'])\n",
    "\n",
    "import warnings\n",
    "warnings.filterwarnings('ignore')\n",
    "\n",
    "import random\n",
    "random.seed(42)"
   ]
  },
  {
   "cell_type": "code",
   "execution_count": 29,
   "metadata": {},
   "outputs": [],
   "source": [
    "import subprocess\n",
    "\n",
    "import numpy as np\n",
    "import pandas as pd\n",
    "import matplotlib.pyplot as plt\n",
    "import seaborn as sns\n",
    "\n",
    "from sklearn.decomposition import PCA\n",
    "from sklearn.manifold import TSNE\n",
    "from sklearn.preprocessing import StandardScaler\n",
    "\n",
    "from rdkit import Chem\n",
    "from rdkit.Chem import AllChem, rdFingerprintGenerator\n",
    "import useful_rdkit_utils as uru\n",
    "from rdkit import DataStructs\n",
    "\n",
    "sns.set(rc = {'figure.figsize':(15,8)})"
   ]
  },
  {
   "cell_type": "code",
   "execution_count": 30,
   "metadata": {},
   "outputs": [],
   "source": [
    "fragment_lead_pairs = pd.read_csv('data/fragment_lead_pairs.csv')"
   ]
  },
  {
   "cell_type": "code",
   "execution_count": 31,
   "metadata": {},
   "outputs": [
    {
     "data": {
      "text/html": [
       "<div>\n",
       "<style scoped>\n",
       "    .dataframe tbody tr th:only-of-type {\n",
       "        vertical-align: middle;\n",
       "    }\n",
       "\n",
       "    .dataframe tbody tr th {\n",
       "        vertical-align: top;\n",
       "    }\n",
       "\n",
       "    .dataframe thead th {\n",
       "        text-align: right;\n",
       "    }\n",
       "</style>\n",
       "<table border=\"1\" class=\"dataframe\">\n",
       "  <thead>\n",
       "    <tr style=\"text-align: right;\">\n",
       "      <th></th>\n",
       "      <th>Year</th>\n",
       "      <th>Table_Entry</th>\n",
       "      <th>Fragment</th>\n",
       "      <th>Lead</th>\n",
       "    </tr>\n",
       "  </thead>\n",
       "  <tbody>\n",
       "    <tr>\n",
       "      <th>0</th>\n",
       "      <td>2022</td>\n",
       "      <td>1</td>\n",
       "      <td>Nc1cc(c[nH]c1=O)C(F)(F)F</td>\n",
       "      <td>N[C@H]1CCN(Cc2cccc(c2)c3ccc4c(=O)[nH]ccc4c3)C1</td>\n",
       "    </tr>\n",
       "    <tr>\n",
       "      <th>1</th>\n",
       "      <td>2022</td>\n",
       "      <td>2</td>\n",
       "      <td>CN1C[C@@H](O)[C@H](C1=O)c2ccc(C)cc2</td>\n",
       "      <td>COc1ccc(CN2C[C@H](O)[C@](CCC(C)C)(C2=O)c3ccc(c...</td>\n",
       "    </tr>\n",
       "    <tr>\n",
       "      <th>2</th>\n",
       "      <td>2022</td>\n",
       "      <td>3</td>\n",
       "      <td>Fc1cncc(c1)N2C(=O)N[C@@H](Cc3ccccc3)C2=O</td>\n",
       "      <td>Clc1ccccc1C2CC3(C2)NC(=O)N(C3=O)c4cncc5ccccc45</td>\n",
       "    </tr>\n",
       "    <tr>\n",
       "      <th>3</th>\n",
       "      <td>2022</td>\n",
       "      <td>4</td>\n",
       "      <td>c1ccc(cc1)c2ccccc2c3nnn[nH]3</td>\n",
       "      <td>Cc1ccc(cc1)c2cccc(c2c3nnn[nH]3)S(=O)(=O)N</td>\n",
       "    </tr>\n",
       "    <tr>\n",
       "      <th>4</th>\n",
       "      <td>2022</td>\n",
       "      <td>5</td>\n",
       "      <td>CN(C)C(=O)C(N)Cc1ccc(F)cc1</td>\n",
       "      <td>Clc1ccc(cc1)[C@H]2CN[C@H](C2)C(=O)N3CCN(CC3)c4...</td>\n",
       "    </tr>\n",
       "    <tr>\n",
       "      <th>...</th>\n",
       "      <td>...</td>\n",
       "      <td>...</td>\n",
       "      <td>...</td>\n",
       "      <td>...</td>\n",
       "    </tr>\n",
       "    <tr>\n",
       "      <th>162</th>\n",
       "      <td>2016</td>\n",
       "      <td>23</td>\n",
       "      <td>CC1Cn2c(cc3cccc(S1)c23)C(=O)O</td>\n",
       "      <td>Cc1cc(OCCCc2c(C(=O)O)n3CCCc4c(Cl)ccc2c43)cc(C)...</td>\n",
       "    </tr>\n",
       "    <tr>\n",
       "      <th>163</th>\n",
       "      <td>2016</td>\n",
       "      <td>24</td>\n",
       "      <td>COC(=O)[C@@H](N)Cc1c[nH]c2ccccc12</td>\n",
       "      <td>Clc1sc(cc1Br)S(=O)(=O)NCCc2c[nH]c3ccccc23</td>\n",
       "    </tr>\n",
       "    <tr>\n",
       "      <th>164</th>\n",
       "      <td>2016</td>\n",
       "      <td>25</td>\n",
       "      <td>OC(=O)c1cc(c2ccccc2)n(n1)c3ccccc3</td>\n",
       "      <td>OC(=O)c1ccc(o1)c2ccc(Cl)c(c2)C(=S)NCc3ccc(cc3)...</td>\n",
       "    </tr>\n",
       "    <tr>\n",
       "      <th>165</th>\n",
       "      <td>2016</td>\n",
       "      <td>26</td>\n",
       "      <td>O=C(CN1CCNCC1)N2CCCCC2</td>\n",
       "      <td>COC[C@H]1CN[C@H](C)CN1CC(=O)N2CC(C)(C)c3cnc(Cc...</td>\n",
       "    </tr>\n",
       "    <tr>\n",
       "      <th>166</th>\n",
       "      <td>2016</td>\n",
       "      <td>27</td>\n",
       "      <td>C1COc2cc(ccc2O1)c3cc(ncn3)n4cccn4</td>\n",
       "      <td>Fc1ccc(nc1)c2cc(ncn2)c3cc(Cl)cc(C#N)c3</td>\n",
       "    </tr>\n",
       "  </tbody>\n",
       "</table>\n",
       "<p>167 rows × 4 columns</p>\n",
       "</div>"
      ],
      "text/plain": [
       "     Year  Table_Entry                                  Fragment  \\\n",
       "0    2022            1                  Nc1cc(c[nH]c1=O)C(F)(F)F   \n",
       "1    2022            2       CN1C[C@@H](O)[C@H](C1=O)c2ccc(C)cc2   \n",
       "2    2022            3  Fc1cncc(c1)N2C(=O)N[C@@H](Cc3ccccc3)C2=O   \n",
       "3    2022            4              c1ccc(cc1)c2ccccc2c3nnn[nH]3   \n",
       "4    2022            5                CN(C)C(=O)C(N)Cc1ccc(F)cc1   \n",
       "..    ...          ...                                       ...   \n",
       "162  2016           23             CC1Cn2c(cc3cccc(S1)c23)C(=O)O   \n",
       "163  2016           24         COC(=O)[C@@H](N)Cc1c[nH]c2ccccc12   \n",
       "164  2016           25         OC(=O)c1cc(c2ccccc2)n(n1)c3ccccc3   \n",
       "165  2016           26                    O=C(CN1CCNCC1)N2CCCCC2   \n",
       "166  2016           27         C1COc2cc(ccc2O1)c3cc(ncn3)n4cccn4   \n",
       "\n",
       "                                                  Lead  \n",
       "0       N[C@H]1CCN(Cc2cccc(c2)c3ccc4c(=O)[nH]ccc4c3)C1  \n",
       "1    COc1ccc(CN2C[C@H](O)[C@](CCC(C)C)(C2=O)c3ccc(c...  \n",
       "2       Clc1ccccc1C2CC3(C2)NC(=O)N(C3=O)c4cncc5ccccc45  \n",
       "3            Cc1ccc(cc1)c2cccc(c2c3nnn[nH]3)S(=O)(=O)N  \n",
       "4    Clc1ccc(cc1)[C@H]2CN[C@H](C2)C(=O)N3CCN(CC3)c4...  \n",
       "..                                                 ...  \n",
       "162  Cc1cc(OCCCc2c(C(=O)O)n3CCCc4c(Cl)ccc2c43)cc(C)...  \n",
       "163          Clc1sc(cc1Br)S(=O)(=O)NCCc2c[nH]c3ccccc23  \n",
       "164  OC(=O)c1ccc(o1)c2ccc(Cl)c(c2)C(=S)NCc3ccc(cc3)...  \n",
       "165  COC[C@H]1CN[C@H](C)CN1CC(=O)N2CC(C)(C)c3cnc(Cc...  \n",
       "166             Fc1ccc(nc1)c2cc(ncn2)c3cc(Cl)cc(C#N)c3  \n",
       "\n",
       "[167 rows x 4 columns]"
      ]
     },
     "execution_count": 31,
     "metadata": {},
     "output_type": "execute_result"
    }
   ],
   "source": [
    "fragment_lead_pairs"
   ]
  },
  {
   "cell_type": "code",
   "execution_count": 32,
   "metadata": {},
   "outputs": [],
   "source": [
    "initial_fragment_smiles, lead_smiles = fragment_lead_pairs['Fragment'][0], fragment_lead_pairs['Lead'][0]"
   ]
  },
  {
   "cell_type": "code",
   "execution_count": 33,
   "metadata": {},
   "outputs": [],
   "source": [
    "os.environ[\"SMILES\"] = initial_fragment_smiles\n",
    "command = f'python3 generate_analogs.py --toml_file sampling.toml --smiles \\'{initial_fragment_smiles}\\' --dock'\n",
    "# subprocess.run(command, check=True)"
   ]
  },
  {
   "cell_type": "code",
   "execution_count": 34,
   "metadata": {},
   "outputs": [
    {
     "data": {
      "text/plain": [
       "('Nc1cc(c[nH]c1=O)C(F)(F)F', 'N[C@H]1CCN(Cc2cccc(c2)c3ccc4c(=O)[nH]ccc4c3)C1')"
      ]
     },
     "execution_count": 34,
     "metadata": {},
     "output_type": "execute_result"
    }
   ],
   "source": [
    "initial_fragment_smiles, lead_smiles"
   ]
  },
  {
   "cell_type": "code",
   "execution_count": 35,
   "metadata": {},
   "outputs": [],
   "source": [
    "## RUN IN TERMINAL: \n",
    "# \n",
    "#              \n",
    "#            python3 generate_analogs.py --toml_file sampling.toml --smiles 'Nc1cc(c[nH]c1=O)C(F)(F)F' --lead 'N[C@H]1CCN(Cc2cccc(c2)c3ccc4c(=O)[nH]ccc4c3)C1' --dock\n",
    "#\n",
    "#\n",
    "# ... WAIT UNTIL AFTER DOCKING HAS FINISHED"
   ]
  },
  {
   "cell_type": "code",
   "execution_count": 36,
   "metadata": {},
   "outputs": [],
   "source": [
    "analogs = pd.read_csv('data/dataframe.csv')"
   ]
  },
  {
   "cell_type": "code",
   "execution_count": 37,
   "metadata": {},
   "outputs": [
    {
     "name": "stdout",
     "output_type": "stream",
     "text": [
      "(426, 8)\n"
     ]
    },
    {
     "data": {
      "text/html": [
       "<div>\n",
       "<style scoped>\n",
       "    .dataframe tbody tr th:only-of-type {\n",
       "        vertical-align: middle;\n",
       "    }\n",
       "\n",
       "    .dataframe tbody tr th {\n",
       "        vertical-align: top;\n",
       "    }\n",
       "\n",
       "    .dataframe thead th {\n",
       "        text-align: right;\n",
       "    }\n",
       "</style>\n",
       "<table border=\"1\" class=\"dataframe\">\n",
       "  <thead>\n",
       "    <tr style=\"text-align: right;\">\n",
       "      <th></th>\n",
       "      <th>Unnamed: 0</th>\n",
       "      <th>SMILES</th>\n",
       "      <th>Input_SMILES</th>\n",
       "      <th>Tanimoto</th>\n",
       "      <th>Name</th>\n",
       "      <th>Success</th>\n",
       "      <th>ID</th>\n",
       "      <th>Docking score</th>\n",
       "    </tr>\n",
       "  </thead>\n",
       "  <tbody>\n",
       "    <tr>\n",
       "      <th>0</th>\n",
       "      <td>0</td>\n",
       "      <td>N[C@H]1CCN(Cc2cccc(c2)c3ccc4c(=O)[nH]ccc4c3)C1</td>\n",
       "      <td>Nc1cc(c[nH]c1=O)C(F)(F)F</td>\n",
       "      <td>NaN</td>\n",
       "      <td>MOL0000</td>\n",
       "      <td>False</td>\n",
       "      <td>MOL0000</td>\n",
       "      <td>-7.300167</td>\n",
       "    </tr>\n",
       "    <tr>\n",
       "      <th>1</th>\n",
       "      <td>1</td>\n",
       "      <td>CC(C)(C)c1c[nH]c(=O)c(N)c1</td>\n",
       "      <td>Nc1cc(C(F)(F)F)c[nH]c1=O</td>\n",
       "      <td>0.550000</td>\n",
       "      <td>MOL0001</td>\n",
       "      <td>False</td>\n",
       "      <td>MOL0001</td>\n",
       "      <td>-6.790637</td>\n",
       "    </tr>\n",
       "    <tr>\n",
       "      <th>2</th>\n",
       "      <td>2</td>\n",
       "      <td>Nc1cc(C(F)(F)F)c[nH]c1=O</td>\n",
       "      <td>Nc1cc(C(F)(F)F)c[nH]c1=O</td>\n",
       "      <td>1.000000</td>\n",
       "      <td>MOL0002</td>\n",
       "      <td>False</td>\n",
       "      <td>MOL0002</td>\n",
       "      <td>-6.669536</td>\n",
       "    </tr>\n",
       "    <tr>\n",
       "      <th>3</th>\n",
       "      <td>3</td>\n",
       "      <td>CCc1c[nH]c(=O)c(N)c1</td>\n",
       "      <td>Nc1cc(C(F)(F)F)c[nH]c1=O</td>\n",
       "      <td>0.450000</td>\n",
       "      <td>MOL0003</td>\n",
       "      <td>False</td>\n",
       "      <td>MOL0003</td>\n",
       "      <td>-6.736929</td>\n",
       "    </tr>\n",
       "    <tr>\n",
       "      <th>4</th>\n",
       "      <td>4</td>\n",
       "      <td>CCNc1cc(C(F)(F)F)c[nH]c1=O</td>\n",
       "      <td>Nc1cc(C(F)(F)F)c[nH]c1=O</td>\n",
       "      <td>0.581395</td>\n",
       "      <td>MOL0004</td>\n",
       "      <td>False</td>\n",
       "      <td>MOL0004</td>\n",
       "      <td>-7.754296</td>\n",
       "    </tr>\n",
       "    <tr>\n",
       "      <th>...</th>\n",
       "      <td>...</td>\n",
       "      <td>...</td>\n",
       "      <td>...</td>\n",
       "      <td>...</td>\n",
       "      <td>...</td>\n",
       "      <td>...</td>\n",
       "      <td>...</td>\n",
       "      <td>...</td>\n",
       "    </tr>\n",
       "    <tr>\n",
       "      <th>421</th>\n",
       "      <td>421</td>\n",
       "      <td>CC1CN(c2cc(C(F)(F)F)c[nH]c2=O)C(=O)O1</td>\n",
       "      <td>Nc1cc(C(F)(F)F)c[nH]c1=O</td>\n",
       "      <td>0.441860</td>\n",
       "      <td>MOL0421</td>\n",
       "      <td>False</td>\n",
       "      <td>MOL0421</td>\n",
       "      <td>-7.723195</td>\n",
       "    </tr>\n",
       "    <tr>\n",
       "      <th>422</th>\n",
       "      <td>422</td>\n",
       "      <td>O=C(Nc1cc(C(F)(F)F)c[nH]c1=O)C1CC1</td>\n",
       "      <td>Nc1cc(C(F)(F)F)c[nH]c1=O</td>\n",
       "      <td>0.360000</td>\n",
       "      <td>MOL0422</td>\n",
       "      <td>False</td>\n",
       "      <td>MOL0422</td>\n",
       "      <td>-7.649107</td>\n",
       "    </tr>\n",
       "    <tr>\n",
       "      <th>423</th>\n",
       "      <td>423</td>\n",
       "      <td>CC(C)(C)[C@H]1CN(c2cc(C(F)(F)F)c[nH]c2=O)C(=O)O1</td>\n",
       "      <td>Nc1cc(C(F)(F)F)c[nH]c1=O</td>\n",
       "      <td>0.404255</td>\n",
       "      <td>MOL0423</td>\n",
       "      <td>False</td>\n",
       "      <td>MOL0423</td>\n",
       "      <td>-8.423723</td>\n",
       "    </tr>\n",
       "    <tr>\n",
       "      <th>424</th>\n",
       "      <td>424</td>\n",
       "      <td>Nc1cc(Cn2cc(C(F)(F)F)cc(N)c2=O)c[nH]c1=O</td>\n",
       "      <td>Nc1cc(C(F)(F)F)c[nH]c1=O</td>\n",
       "      <td>NaN</td>\n",
       "      <td>MOL0424</td>\n",
       "      <td>False</td>\n",
       "      <td>MOL0424</td>\n",
       "      <td>-5.164618</td>\n",
       "    </tr>\n",
       "    <tr>\n",
       "      <th>425</th>\n",
       "      <td>425</td>\n",
       "      <td>Nc1cc(C(F)(F)F)c(-c2ccc(C(F)(F)F)cc2)[nH]c1=O</td>\n",
       "      <td>Nc1cc(C(F)(F)F)c[nH]c1=O</td>\n",
       "      <td>0.583333</td>\n",
       "      <td>MOL0425</td>\n",
       "      <td>False</td>\n",
       "      <td>MOL0425</td>\n",
       "      <td>-5.746493</td>\n",
       "    </tr>\n",
       "  </tbody>\n",
       "</table>\n",
       "<p>426 rows × 8 columns</p>\n",
       "</div>"
      ],
      "text/plain": [
       "     Unnamed: 0                                            SMILES  \\\n",
       "0             0    N[C@H]1CCN(Cc2cccc(c2)c3ccc4c(=O)[nH]ccc4c3)C1   \n",
       "1             1                        CC(C)(C)c1c[nH]c(=O)c(N)c1   \n",
       "2             2                          Nc1cc(C(F)(F)F)c[nH]c1=O   \n",
       "3             3                              CCc1c[nH]c(=O)c(N)c1   \n",
       "4             4                        CCNc1cc(C(F)(F)F)c[nH]c1=O   \n",
       "..          ...                                               ...   \n",
       "421         421             CC1CN(c2cc(C(F)(F)F)c[nH]c2=O)C(=O)O1   \n",
       "422         422                O=C(Nc1cc(C(F)(F)F)c[nH]c1=O)C1CC1   \n",
       "423         423  CC(C)(C)[C@H]1CN(c2cc(C(F)(F)F)c[nH]c2=O)C(=O)O1   \n",
       "424         424          Nc1cc(Cn2cc(C(F)(F)F)cc(N)c2=O)c[nH]c1=O   \n",
       "425         425     Nc1cc(C(F)(F)F)c(-c2ccc(C(F)(F)F)cc2)[nH]c1=O   \n",
       "\n",
       "                 Input_SMILES  Tanimoto     Name  Success       ID  \\\n",
       "0    Nc1cc(c[nH]c1=O)C(F)(F)F       NaN  MOL0000    False  MOL0000   \n",
       "1    Nc1cc(C(F)(F)F)c[nH]c1=O  0.550000  MOL0001    False  MOL0001   \n",
       "2    Nc1cc(C(F)(F)F)c[nH]c1=O  1.000000  MOL0002    False  MOL0002   \n",
       "3    Nc1cc(C(F)(F)F)c[nH]c1=O  0.450000  MOL0003    False  MOL0003   \n",
       "4    Nc1cc(C(F)(F)F)c[nH]c1=O  0.581395  MOL0004    False  MOL0004   \n",
       "..                        ...       ...      ...      ...      ...   \n",
       "421  Nc1cc(C(F)(F)F)c[nH]c1=O  0.441860  MOL0421    False  MOL0421   \n",
       "422  Nc1cc(C(F)(F)F)c[nH]c1=O  0.360000  MOL0422    False  MOL0422   \n",
       "423  Nc1cc(C(F)(F)F)c[nH]c1=O  0.404255  MOL0423    False  MOL0423   \n",
       "424  Nc1cc(C(F)(F)F)c[nH]c1=O       NaN  MOL0424    False  MOL0424   \n",
       "425  Nc1cc(C(F)(F)F)c[nH]c1=O  0.583333  MOL0425    False  MOL0425   \n",
       "\n",
       "     Docking score  \n",
       "0        -7.300167  \n",
       "1        -6.790637  \n",
       "2        -6.669536  \n",
       "3        -6.736929  \n",
       "4        -7.754296  \n",
       "..             ...  \n",
       "421      -7.723195  \n",
       "422      -7.649107  \n",
       "423      -8.423723  \n",
       "424      -5.164618  \n",
       "425      -5.746493  \n",
       "\n",
       "[426 rows x 8 columns]"
      ]
     },
     "execution_count": 37,
     "metadata": {},
     "output_type": "execute_result"
    }
   ],
   "source": [
    "print(analogs.shape)\n",
    "analogs"
   ]
  },
  {
   "cell_type": "code",
   "execution_count": 38,
   "metadata": {},
   "outputs": [
    {
     "data": {
      "text/plain": [
       "0.4558167182814971"
      ]
     },
     "execution_count": 38,
     "metadata": {},
     "output_type": "execute_result"
    }
   ],
   "source": [
    "analogs['Tanimoto'].mean()"
   ]
  },
  {
   "cell_type": "code",
   "execution_count": 39,
   "metadata": {},
   "outputs": [
    {
     "name": "stdout",
     "output_type": "stream",
     "text": [
      "False\n"
     ]
    }
   ],
   "source": [
    "print(lead_smiles in analogs['SMILES'][1:].to_list())"
   ]
  },
  {
   "cell_type": "markdown",
   "metadata": {},
   "source": [
    "## Visualizing the Distribution"
   ]
  },
  {
   "cell_type": "code",
   "execution_count": 40,
   "metadata": {},
   "outputs": [],
   "source": [
    "smiles = analogs['SMILES'][1:].to_numpy()\n",
    "\n",
    "mols = [Chem.MolFromSmiles(smile) for smile in smiles]\n",
    "\n",
    "initial_fragment = Chem.MolFromSmiles(initial_fragment_smiles)\n",
    "lead_mol = Chem.MolFromSmiles(lead_smiles)"
   ]
  },
  {
   "cell_type": "code",
   "execution_count": 41,
   "metadata": {},
   "outputs": [],
   "source": [
    "fpgen = AllChem.GetMorganGenerator()\n",
    "\n",
    "fingerprints = np.array([fpgen.GetFingerprint(mol).ToList() for mol in mols])\n",
    "\n",
    "initial_fragment_fp = np.array([fpgen.GetFingerprint(initial_fragment)])\n",
    "lead_fp = np.array([fpgen.GetFingerprint(lead_mol).ToList()])\n",
    "\n",
    "X = np.vstack((initial_fragment_fp, fingerprints, lead_fp))"
   ]
  },
  {
   "cell_type": "code",
   "execution_count": 42,
   "metadata": {},
   "outputs": [],
   "source": [
    "scaler = StandardScaler()\n",
    "X = scaler.fit_transform(X)"
   ]
  },
  {
   "cell_type": "code",
   "execution_count": 43,
   "metadata": {},
   "outputs": [],
   "source": [
    "pca = PCA(n_components=3, random_state=0)\n",
    "pca_fps = pca.fit_transform(X)"
   ]
  },
  {
   "cell_type": "code",
   "execution_count": 44,
   "metadata": {},
   "outputs": [
    {
     "data": {
      "image/png": "[encoded data removed]",
      "text/plain": [
       "<Figure size 1600x800 with 1 Axes>"
      ]
     },
     "metadata": {},
     "output_type": "display_data"
    }
   ],
   "source": [
    "fig, ax = plt.subplots(ncols=1, nrows=1, figsize=(16,8))\n",
    "\n",
    "ax.scatter(pca_fps.T[0][1:-1], pca_fps.T[1][1:-1], s=5, c='limegreen', label='Generated', alpha=.2)\n",
    "ax.scatter(pca_fps.T[0][0], pca_fps.T[1][0], s=100, c='midnightblue', marker='x', label='Initial Fragment')\n",
    "ax.scatter(pca_fps.T[0][-1], pca_fps.T[1][-1], s=100, c='red', marker='x', label='Lead')\n",
    "\n",
    "handles, labels = ax.get_legend_handles_labels()\n",
    "handles[0] = plt.Line2D([], [], marker='.', color='limegreen', linestyle='None', markersize=5, alpha=1)\n",
    "\n",
    "ax.set_xlabel('PC1')\n",
    "ax.set_ylabel('PC2')\n",
    "\n",
    "\n",
    "ax.legend(handles, labels)\n",
    "\n",
    "fig.suptitle('Distribution of Generated Molecules from Fragment-Lead Pair', fontsize=20)\n",
    "\n",
    "subtitle = f'Input Fragment: {initial_fragment_smiles}, Lead: {lead_smiles}'\n",
    "ax.set_title(subtitle, fontsize=10, y=1.02);"
   ]
  },
  {
   "cell_type": "markdown",
   "metadata": {},
   "source": [
    "From this plot, it seems that the model is not generating analogs in the same chemical space as the lead molecule."
   ]
  },
  {
   "cell_type": "markdown",
   "metadata": {},
   "source": [
    "## Assessing Binding Affinity"
   ]
  },
  {
   "cell_type": "code",
   "execution_count": 45,
   "metadata": {},
   "outputs": [],
   "source": [
    "lead_docking_score = analogs.iloc[0]['Docking score']"
   ]
  },
  {
   "cell_type": "code",
   "execution_count": 46,
   "metadata": {},
   "outputs": [
    {
     "data": {
      "image/png": "[encoded data removed]",
      "text/plain": [
       "<Figure size 1000x700 with 1 Axes>"
      ]
     },
     "metadata": {},
     "output_type": "display_data"
    }
   ],
   "source": [
    "fig = plt.figure(figsize =(10, 7))\n",
    "\n",
    "plt.boxplot(analogs['Docking score'], vert=False, patch_artist=True)\n",
    "\n",
    "plt.plot(lead_docking_score, 1, 'x', markersize=10, color='red')\n",
    "\n",
    "plt.xlabel('Docking Score')\n",
    "\n",
    "ax = plt.gca()\n",
    "ax.set(yticklabels=[])\n",
    "\n",
    "title = f'Distribution of docking scores from fragment-lead pair'\n",
    "subtitle = f'Input Fragment: {initial_fragment_smiles}, Lead: {lead_smiles}'\n",
    "\n",
    "fig.suptitle(title)\n",
    "plt.title(subtitle, fontsize=10);"
   ]
  },
  {
   "cell_type": "markdown",
   "metadata": {},
   "source": [
    "## Investigating Tanimoto Similarity"
   ]
  },
  {
   "cell_type": "code",
   "execution_count": 47,
   "metadata": {},
   "outputs": [],
   "source": [
    "def tanimoto_similarity(smi_1, smi_2, use_counts=False):\n",
    "    fpgen = rdFingerprintGenerator.GetMorganGenerator(radius=2,fpSize=2048,countSimulation=True)\n",
    "    mol_1 = Chem.MolFromSmiles(smi_1)\n",
    "    mol_2 = Chem.MolFromSmiles(smi_2)\n",
    "    if use_counts:\n",
    "        fp_1 = rdFingerprintGenerator.GetCountFPs([mol_1])[0]\n",
    "        fp_2 = rdFingerprintGenerator.GetCountFPs([mol_2])[0]\n",
    "    else:\n",
    "        fp_1 = rdFingerprintGenerator.GetFPs([mol_1])[0]\n",
    "        fp_2 = rdFingerprintGenerator.GetFPs([mol_2])[0]\n",
    "    return DataStructs.TanimotoSimilarity(fp_1, fp_2)"
   ]
  },
  {
   "cell_type": "code",
   "execution_count": 49,
   "metadata": {},
   "outputs": [],
   "source": [
    "similarities_to_lead = [tanimoto_similarity(analog, lead_smiles, True) for analog in analogs['SMILES'].values]"
   ]
  },
  {
   "cell_type": "code",
   "execution_count": 50,
   "metadata": {},
   "outputs": [],
   "source": [
    "analogs['sim_to_lead'] = similarities_to_lead"
   ]
  },
  {
   "cell_type": "code",
   "execution_count": 53,
   "metadata": {},
   "outputs": [
    {
     "data": {
      "text/html": [
       "<div>\n",
       "<style scoped>\n",
       "    .dataframe tbody tr th:only-of-type {\n",
       "        vertical-align: middle;\n",
       "    }\n",
       "\n",
       "    .dataframe tbody tr th {\n",
       "        vertical-align: top;\n",
       "    }\n",
       "\n",
       "    .dataframe thead th {\n",
       "        text-align: right;\n",
       "    }\n",
       "</style>\n",
       "<table border=\"1\" class=\"dataframe\">\n",
       "  <thead>\n",
       "    <tr style=\"text-align: right;\">\n",
       "      <th></th>\n",
       "      <th>Unnamed: 0</th>\n",
       "      <th>SMILES</th>\n",
       "      <th>Input_SMILES</th>\n",
       "      <th>Tanimoto</th>\n",
       "      <th>Name</th>\n",
       "      <th>Success</th>\n",
       "      <th>ID</th>\n",
       "      <th>Docking score</th>\n",
       "      <th>sim_to_lead</th>\n",
       "    </tr>\n",
       "  </thead>\n",
       "  <tbody>\n",
       "    <tr>\n",
       "      <th>0</th>\n",
       "      <td>0</td>\n",
       "      <td>N[C@H]1CCN(Cc2cccc(c2)c3ccc4c(=O)[nH]ccc4c3)C1</td>\n",
       "      <td>Nc1cc(c[nH]c1=O)C(F)(F)F</td>\n",
       "      <td>NaN</td>\n",
       "      <td>MOL0000</td>\n",
       "      <td>False</td>\n",
       "      <td>MOL0000</td>\n",
       "      <td>-7.300167</td>\n",
       "      <td>1.000000</td>\n",
       "    </tr>\n",
       "    <tr>\n",
       "      <th>178</th>\n",
       "      <td>178</td>\n",
       "      <td>Nc1cc(-c2cccc(C(F)(F)F)c2)c[nH]c1=O</td>\n",
       "      <td>Nc1cc(C(F)(F)F)c[nH]c1=O</td>\n",
       "      <td>NaN</td>\n",
       "      <td>MOL0178</td>\n",
       "      <td>False</td>\n",
       "      <td>MOL0178</td>\n",
       "      <td>-6.648698</td>\n",
       "      <td>0.293478</td>\n",
       "    </tr>\n",
       "    <tr>\n",
       "      <th>383</th>\n",
       "      <td>383</td>\n",
       "      <td>Nc1cc(-c2ccc(F)cc2)c[nH]c1=O</td>\n",
       "      <td>Nc1cc(C(F)(F)F)c[nH]c1=O</td>\n",
       "      <td>0.360000</td>\n",
       "      <td>MOL0383</td>\n",
       "      <td>False</td>\n",
       "      <td>MOL0383</td>\n",
       "      <td>-7.113871</td>\n",
       "      <td>0.287356</td>\n",
       "    </tr>\n",
       "    <tr>\n",
       "      <th>24</th>\n",
       "      <td>24</td>\n",
       "      <td>Nc1cc(-c2ccccc2)c[nH]c1=O</td>\n",
       "      <td>Nc1cc(C(F)(F)F)c[nH]c1=O</td>\n",
       "      <td>0.400000</td>\n",
       "      <td>MOL0024</td>\n",
       "      <td>False</td>\n",
       "      <td>MOL0024</td>\n",
       "      <td>-6.608237</td>\n",
       "      <td>0.279070</td>\n",
       "    </tr>\n",
       "    <tr>\n",
       "      <th>69</th>\n",
       "      <td>69</td>\n",
       "      <td>Nc1cc(Cc2ccccc2)c[nH]c1=O</td>\n",
       "      <td>Nc1cc(C(F)(F)F)c[nH]c1=O</td>\n",
       "      <td>0.363636</td>\n",
       "      <td>MOL0069</td>\n",
       "      <td>False</td>\n",
       "      <td>MOL0069</td>\n",
       "      <td>-6.885932</td>\n",
       "      <td>0.269663</td>\n",
       "    </tr>\n",
       "    <tr>\n",
       "      <th>...</th>\n",
       "      <td>...</td>\n",
       "      <td>...</td>\n",
       "      <td>...</td>\n",
       "      <td>...</td>\n",
       "      <td>...</td>\n",
       "      <td>...</td>\n",
       "      <td>...</td>\n",
       "      <td>...</td>\n",
       "      <td>...</td>\n",
       "    </tr>\n",
       "    <tr>\n",
       "      <th>109</th>\n",
       "      <td>109</td>\n",
       "      <td>Nc1cc(C(F)(F)F)cnc1N</td>\n",
       "      <td>Nc1cc(C(F)(F)F)c[nH]c1=O</td>\n",
       "      <td>NaN</td>\n",
       "      <td>MOL0109</td>\n",
       "      <td>False</td>\n",
       "      <td>MOL0109</td>\n",
       "      <td>-6.153137</td>\n",
       "      <td>0.074468</td>\n",
       "    </tr>\n",
       "    <tr>\n",
       "      <th>10</th>\n",
       "      <td>10</td>\n",
       "      <td>Nc1cc(C(F)(F)F)cnc1O</td>\n",
       "      <td>Nc1cc(C(F)(F)F)c[nH]c1=O</td>\n",
       "      <td>0.476190</td>\n",
       "      <td>MOL0010</td>\n",
       "      <td>False</td>\n",
       "      <td>MOL0010</td>\n",
       "      <td>-5.761381</td>\n",
       "      <td>0.074468</td>\n",
       "    </tr>\n",
       "    <tr>\n",
       "      <th>298</th>\n",
       "      <td>298</td>\n",
       "      <td>Nc1ncc(C(F)(F)F)cc1O</td>\n",
       "      <td>Nc1cc(C(F)(F)F)c[nH]c1=O</td>\n",
       "      <td>0.428571</td>\n",
       "      <td>MOL0298</td>\n",
       "      <td>False</td>\n",
       "      <td>MOL0298</td>\n",
       "      <td>-5.967862</td>\n",
       "      <td>0.074468</td>\n",
       "    </tr>\n",
       "    <tr>\n",
       "      <th>160</th>\n",
       "      <td>160</td>\n",
       "      <td>CNc1ncc(C(F)(F)F)cc1N</td>\n",
       "      <td>Nc1cc(C(F)(F)F)c[nH]c1=O</td>\n",
       "      <td>0.450000</td>\n",
       "      <td>MOL0160</td>\n",
       "      <td>False</td>\n",
       "      <td>MOL0160</td>\n",
       "      <td>-5.671219</td>\n",
       "      <td>0.072165</td>\n",
       "    </tr>\n",
       "    <tr>\n",
       "      <th>260</th>\n",
       "      <td>260</td>\n",
       "      <td>Nc1cc(C(F)(F)F)c(C(F)(F)F)cn1</td>\n",
       "      <td>Nc1cc(C(F)(F)F)c[nH]c1=O</td>\n",
       "      <td>0.441860</td>\n",
       "      <td>MOL0260</td>\n",
       "      <td>False</td>\n",
       "      <td>MOL0260</td>\n",
       "      <td>-6.803239</td>\n",
       "      <td>0.069307</td>\n",
       "    </tr>\n",
       "  </tbody>\n",
       "</table>\n",
       "<p>426 rows × 9 columns</p>\n",
       "</div>"
      ],
      "text/plain": [
       "     Unnamed: 0                                          SMILES  \\\n",
       "0             0  N[C@H]1CCN(Cc2cccc(c2)c3ccc4c(=O)[nH]ccc4c3)C1   \n",
       "178         178             Nc1cc(-c2cccc(C(F)(F)F)c2)c[nH]c1=O   \n",
       "383         383                    Nc1cc(-c2ccc(F)cc2)c[nH]c1=O   \n",
       "24           24                       Nc1cc(-c2ccccc2)c[nH]c1=O   \n",
       "69           69                       Nc1cc(Cc2ccccc2)c[nH]c1=O   \n",
       "..          ...                                             ...   \n",
       "109         109                            Nc1cc(C(F)(F)F)cnc1N   \n",
       "10           10                            Nc1cc(C(F)(F)F)cnc1O   \n",
       "298         298                            Nc1ncc(C(F)(F)F)cc1O   \n",
       "160         160                           CNc1ncc(C(F)(F)F)cc1N   \n",
       "260         260                   Nc1cc(C(F)(F)F)c(C(F)(F)F)cn1   \n",
       "\n",
       "                 Input_SMILES  Tanimoto     Name  Success       ID  \\\n",
       "0    Nc1cc(c[nH]c1=O)C(F)(F)F       NaN  MOL0000    False  MOL0000   \n",
       "178  Nc1cc(C(F)(F)F)c[nH]c1=O       NaN  MOL0178    False  MOL0178   \n",
       "383  Nc1cc(C(F)(F)F)c[nH]c1=O  0.360000  MOL0383    False  MOL0383   \n",
       "24   Nc1cc(C(F)(F)F)c[nH]c1=O  0.400000  MOL0024    False  MOL0024   \n",
       "69   Nc1cc(C(F)(F)F)c[nH]c1=O  0.363636  MOL0069    False  MOL0069   \n",
       "..                        ...       ...      ...      ...      ...   \n",
       "109  Nc1cc(C(F)(F)F)c[nH]c1=O       NaN  MOL0109    False  MOL0109   \n",
       "10   Nc1cc(C(F)(F)F)c[nH]c1=O  0.476190  MOL0010    False  MOL0010   \n",
       "298  Nc1cc(C(F)(F)F)c[nH]c1=O  0.428571  MOL0298    False  MOL0298   \n",
       "160  Nc1cc(C(F)(F)F)c[nH]c1=O  0.450000  MOL0160    False  MOL0160   \n",
       "260  Nc1cc(C(F)(F)F)c[nH]c1=O  0.441860  MOL0260    False  MOL0260   \n",
       "\n",
       "     Docking score  sim_to_lead  \n",
       "0        -7.300167     1.000000  \n",
       "178      -6.648698     0.293478  \n",
       "383      -7.113871     0.287356  \n",
       "24       -6.608237     0.279070  \n",
       "69       -6.885932     0.269663  \n",
       "..             ...          ...  \n",
       "109      -6.153137     0.074468  \n",
       "10       -5.761381     0.074468  \n",
       "298      -5.967862     0.074468  \n",
       "160      -5.671219     0.072165  \n",
       "260      -6.803239     0.069307  \n",
       "\n",
       "[426 rows x 9 columns]"
      ]
     },
     "execution_count": 53,
     "metadata": {},
     "output_type": "execute_result"
    }
   ],
   "source": [
    "analogs.sort_values('sim_to_lead', ascending=False, inplace=True)\n",
    "\n",
    "analogs"
   ]
  },
  {
   "cell_type": "code",
   "execution_count": 57,
   "metadata": {},
   "outputs": [
    {
     "data": {
      "image/png": "[encoded data removed]",
      "text/plain": [
       "<Figure size 1000x700 with 1 Axes>"
      ]
     },
     "metadata": {},
     "output_type": "display_data"
    }
   ],
   "source": [
    "fig = plt.figure(figsize =(10, 7))\n",
    "\n",
    "plt.boxplot(analogs['sim_to_lead'][1:], vert=False, patch_artist=True)\n",
    "\n",
    "# plt.plot(analogs['sim_to_lead'][0], 1, 'x', markersize=10, color='red')\n",
    "\n",
    "plt.xlabel('Tanimoto Similarity')\n",
    "\n",
    "ax = plt.gca()\n",
    "ax.set(yticklabels=[])\n",
    "\n",
    "title = f'Tanimoto similarities between analogs and lead molecule'\n",
    "subtitle = f'Input Fragment: {initial_fragment_smiles}, Lead: {lead_smiles}'\n",
    "\n",
    "fig.suptitle(title)\n",
    "plt.title(subtitle, fontsize=10);"
   ]
  },
  {
   "cell_type": "markdown",
   "metadata": {},
   "source": [
    "### Now trying across priors..."
   ]
  },
  {
   "cell_type": "code",
   "execution_count": null,
   "metadata": {},
   "outputs": [],
   "source": []
  },
  {
   "cell_type": "markdown",
   "metadata": {},
   "source": [
    "## MORE MOLECULES"
   ]
  },
  {
   "cell_type": "code",
   "execution_count": null,
   "metadata": {},
   "outputs": [],
   "source": [
    "initial_fragment_smiles, lead_smiles = fragment_lead_pairs['Fragment'], fragment_lead_pairs['Lead']"
   ]
  },
  {
   "cell_type": "code",
   "execution_count": null,
   "metadata": {},
   "outputs": [],
   "source": [
    "for frag, lead in zip(initial_fragment_smiles, lead_smiles):\n",
    "\n",
    "    frag += '\\n'\n",
    "    \n",
    "    f = open(\"data/mol2mol.smi\", \"a\")\n",
    "    f.write(frag)\n",
    "    f.close()"
   ]
  },
  {
   "cell_type": "code",
   "execution_count": null,
   "metadata": {},
   "outputs": [
    {
     "data": {
      "text/html": [
       "<div>\n",
       "<style scoped>\n",
       "    .dataframe tbody tr th:only-of-type {\n",
       "        vertical-align: middle;\n",
       "    }\n",
       "\n",
       "    .dataframe tbody tr th {\n",
       "        vertical-align: top;\n",
       "    }\n",
       "\n",
       "    .dataframe thead th {\n",
       "        text-align: right;\n",
       "    }\n",
       "</style>\n",
       "<table border=\"1\" class=\"dataframe\">\n",
       "  <thead>\n",
       "    <tr style=\"text-align: right;\">\n",
       "      <th></th>\n",
       "      <th>SMILES</th>\n",
       "      <th>Input_SMILES</th>\n",
       "      <th>Tanimoto</th>\n",
       "      <th>NLL</th>\n",
       "    </tr>\n",
       "  </thead>\n",
       "  <tbody>\n",
       "    <tr>\n",
       "      <th>0</th>\n",
       "      <td>COc1c[nH]c(=O)c(N)c1</td>\n",
       "      <td>Nc1cc(C(F)(F)F)c[nH]c1=O</td>\n",
       "      <td>0.450000</td>\n",
       "      <td>6.027443</td>\n",
       "    </tr>\n",
       "    <tr>\n",
       "      <th>1</th>\n",
       "      <td>CN1C[C@H](O)[C@@H](c2c(F)cccc2F)C1=O</td>\n",
       "      <td>Cc1ccc([C@H]2C(=O)N(C)C[C@H]2O)cc1</td>\n",
       "      <td>0.473684</td>\n",
       "      <td>5.540741</td>\n",
       "    </tr>\n",
       "    <tr>\n",
       "      <th>2</th>\n",
       "      <td>CSCC[C@H]1NC(=O)N(c2cccc(F)c2)C1=O</td>\n",
       "      <td>O=C1N[C@@H](Cc2ccccc2)C(=O)N1c1cncc(F)c1</td>\n",
       "      <td>0.447368</td>\n",
       "      <td>5.973771</td>\n",
       "    </tr>\n",
       "    <tr>\n",
       "      <th>3</th>\n",
       "      <td>Nc1ccccc1-c1nnn[nH]1</td>\n",
       "      <td>c1ccc(-c2ccccc2-c2nnn[nH]2)cc1</td>\n",
       "      <td>0.508772</td>\n",
       "      <td>3.187813</td>\n",
       "    </tr>\n",
       "    <tr>\n",
       "      <th>4</th>\n",
       "      <td>COCCNC(=O)C(N)Cc1ccc(F)cc1</td>\n",
       "      <td>CN(C)C(=O)C(N)Cc1ccc(F)cc1</td>\n",
       "      <td>0.553571</td>\n",
       "      <td>6.512230</td>\n",
       "    </tr>\n",
       "    <tr>\n",
       "      <th>...</th>\n",
       "      <td>...</td>\n",
       "      <td>...</td>\n",
       "      <td>...</td>\n",
       "      <td>...</td>\n",
       "    </tr>\n",
       "    <tr>\n",
       "      <th>3411</th>\n",
       "      <td>N#Cc1cc2c([nH]c1=O)CC(OCCc1ccccc1)OC2</td>\n",
       "      <td>CC(C)C1Cc2[nH]c(=O)c(C#N)cc2CO1</td>\n",
       "      <td>0.569231</td>\n",
       "      <td>13.218761</td>\n",
       "    </tr>\n",
       "    <tr>\n",
       "      <th>3412</th>\n",
       "      <td>CN(C)C(=O)c1ccccc1O</td>\n",
       "      <td>O=C(O)c1ccccc1O</td>\n",
       "      <td>0.333333</td>\n",
       "      <td>4.657554</td>\n",
       "    </tr>\n",
       "    <tr>\n",
       "      <th>3413</th>\n",
       "      <td>O=C(O)c1cc(-c2ccccc2)n(-c2ccc(C(F)(F)F)cc2)n1</td>\n",
       "      <td>O=C(O)c1cc(-c2ccccc2)n(-c2ccccc2)n1</td>\n",
       "      <td>0.446429</td>\n",
       "      <td>5.074320</td>\n",
       "    </tr>\n",
       "    <tr>\n",
       "      <th>3414</th>\n",
       "      <td>O=C(CN[C@H]1C[C@@H]2CC[C@H]1C2)N1CCCCC1</td>\n",
       "      <td>O=C(CN1CCNCC1)N1CCCCC1</td>\n",
       "      <td>0.500000</td>\n",
       "      <td>13.807041</td>\n",
       "    </tr>\n",
       "    <tr>\n",
       "      <th>3415</th>\n",
       "      <td>FC(F)(F)c1ccc(-c2cc(-n3cccn3)ncn2)cc1</td>\n",
       "      <td>c1cnn(-c2cc(-c3ccc4c(c3)OCCO4)ncn2)c1</td>\n",
       "      <td>0.629630</td>\n",
       "      <td>4.672769</td>\n",
       "    </tr>\n",
       "  </tbody>\n",
       "</table>\n",
       "<p>3416 rows × 4 columns</p>\n",
       "</div>"
      ],
      "text/plain": [
       "                                             SMILES  \\\n",
       "0                              COc1c[nH]c(=O)c(N)c1   \n",
       "1              CN1C[C@H](O)[C@@H](c2c(F)cccc2F)C1=O   \n",
       "2                CSCC[C@H]1NC(=O)N(c2cccc(F)c2)C1=O   \n",
       "3                              Nc1ccccc1-c1nnn[nH]1   \n",
       "4                        COCCNC(=O)C(N)Cc1ccc(F)cc1   \n",
       "...                                             ...   \n",
       "3411          N#Cc1cc2c([nH]c1=O)CC(OCCc1ccccc1)OC2   \n",
       "3412                            CN(C)C(=O)c1ccccc1O   \n",
       "3413  O=C(O)c1cc(-c2ccccc2)n(-c2ccc(C(F)(F)F)cc2)n1   \n",
       "3414        O=C(CN[C@H]1C[C@@H]2CC[C@H]1C2)N1CCCCC1   \n",
       "3415          FC(F)(F)c1ccc(-c2cc(-n3cccn3)ncn2)cc1   \n",
       "\n",
       "                                  Input_SMILES  Tanimoto        NLL  \n",
       "0                     Nc1cc(C(F)(F)F)c[nH]c1=O  0.450000   6.027443  \n",
       "1           Cc1ccc([C@H]2C(=O)N(C)C[C@H]2O)cc1  0.473684   5.540741  \n",
       "2     O=C1N[C@@H](Cc2ccccc2)C(=O)N1c1cncc(F)c1  0.447368   5.973771  \n",
       "3               c1ccc(-c2ccccc2-c2nnn[nH]2)cc1  0.508772   3.187813  \n",
       "4                   CN(C)C(=O)C(N)Cc1ccc(F)cc1  0.553571   6.512230  \n",
       "...                                        ...       ...        ...  \n",
       "3411           CC(C)C1Cc2[nH]c(=O)c(C#N)cc2CO1  0.569231  13.218761  \n",
       "3412                           O=C(O)c1ccccc1O  0.333333   4.657554  \n",
       "3413       O=C(O)c1cc(-c2ccccc2)n(-c2ccccc2)n1  0.446429   5.074320  \n",
       "3414                    O=C(CN1CCNCC1)N1CCCCC1  0.500000  13.807041  \n",
       "3415     c1cnn(-c2cc(-c3ccc4c(c3)OCCO4)ncn2)c1  0.629630   4.672769  \n",
       "\n",
       "[3416 rows x 4 columns]"
      ]
     },
     "execution_count": 116,
     "metadata": {},
     "output_type": "execute_result"
    }
   ],
   "source": [
    "analogs"
   ]
  },
  {
   "cell_type": "code",
   "execution_count": null,
   "metadata": {},
   "outputs": [
    {
     "data": {
      "text/plain": [
       "<Axes: >"
      ]
     },
     "execution_count": 124,
     "metadata": {},
     "output_type": "execute_result"
    },
    {
     "data": {
      "image/png": "[encoded data removed]",
      "text/plain": [
       "<Figure size 1500x800 with 1 Axes>"
      ]
     },
     "metadata": {},
     "output_type": "display_data"
    }
   ],
   "source": [
    "analogs['Input_SMILES'].hist(bins=164)"
   ]
  }
 ],
 "metadata": {
  "kernelspec": {
   "display_name": "reinvent4",
   "language": "python",
   "name": "python3"
  },
  "language_info": {
   "codemirror_mode": {
    "name": "ipython",
    "version": 3
   },
   "file_extension": ".py",
   "mimetype": "text/x-python",
   "name": "python",
   "nbconvert_exporter": "python",
   "pygments_lexer": "ipython3",
   "version": "3.10.14"
  }
 },
 "nbformat": 4,
 "nbformat_minor": 2
}
