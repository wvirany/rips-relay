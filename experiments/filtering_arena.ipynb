{
 "cells": [
  {
   "cell_type": "markdown",
   "metadata": {},
   "source": [
    "## Filtering Arena"
   ]
  },
  {
   "cell_type": "code",
   "execution_count": 1,
   "metadata": {},
   "outputs": [
    {
     "name": "stdout",
     "output_type": "stream",
     "text": [
      "Current conda environment: reinvent\n",
      "Working directory: /home/fts_g_ucla_edu/Projects/rips-relay/experiments\n"
     ]
    }
   ],
   "source": [
    "import subprocess\n",
    "import os\n",
    "print('Current conda environment:', os.environ['CONDA_DEFAULT_ENV'])\n",
    "os.environ['TOKENIZERS_PARALLELISM'] = \"false\"\n",
    "\n",
    "cwd = os.getcwd()\n",
    "print('Working directory:', cwd)\n",
    "\n",
    "import warnings\n",
    "warnings.filterwarnings('ignore')\n",
    "\n",
    "import random\n",
    "random.seed(42)"
   ]
  },
  {
   "cell_type": "code",
   "execution_count": 2,
   "metadata": {},
   "outputs": [],
   "source": [
    "import numpy as np\n",
    "import pandas as pd\n",
    "\n",
    "from rdkit import Chem\n",
    "import useful_rdkit_utils as uru\n",
    "\n",
    "import pickle"
   ]
  },
  {
   "cell_type": "markdown",
   "metadata": {},
   "source": [
    "## Generating Data"
   ]
  },
  {
   "cell_type": "code",
   "execution_count": 3,
   "metadata": {},
   "outputs": [],
   "source": [
    "fragments = []\n",
    "\n",
    "f = open(\"data/fragments.smi\", \"r\")\n",
    "\n",
    "for i in range(1, 51):\n",
    "    mol = f.readline()\n",
    "    fragments.append(mol[:-1])"
   ]
  },
  {
   "cell_type": "markdown",
   "metadata": {},
   "source": [
    "### Generate a distribution from each fragment for each model"
   ]
  },
  {
   "cell_type": "code",
   "execution_count": 4,
   "metadata": {},
   "outputs": [],
   "source": [
    "models = ['reinvent', 'crem', 'coati', 'safe']"
   ]
  },
  {
   "cell_type": "markdown",
   "metadata": {},
   "source": [
    "#### Warning: The following 3 cells are dangerous:"
   ]
  },
  {
   "cell_type": "code",
   "execution_count": 5,
   "metadata": {},
   "outputs": [],
   "source": [
    "# %%capture\n",
    "\n",
    "# for fragment in fragments:\n",
    "#     for model in models:\n",
    "\n",
    "#         DF_FILEPATH = f'data/{model}_dataframe.csv'\n",
    "\n",
    "#         arg1 = '--model'\n",
    "#         arg2 = '--input_frag'\n",
    "#         arg3 = '--sample'\n",
    "\n",
    "#         args = ['python3', 'generate_analogs.py',\n",
    "#                 arg1, model,\n",
    "#                 arg2, fragment,\n",
    "#                 arg3, '200']\n",
    "\n",
    "#         # Change directory to generate analogs with python script\n",
    "#         %cd ..\n",
    "\n",
    "#         subprocess.run(args,\n",
    "#                     stdout=subprocess.DEVNULL,\n",
    "#                     stderr=subprocess.STDOUT)\n",
    "                \n",
    "#         # Change directory back to that of the current notebook\n",
    "#         %cd experiments\n",
    "\n",
    "#         df = pd.read_csv(DF_FILEPATH, index_col=0)\n",
    "\n",
    "#         df['Model'] = model\n",
    "\n",
    "#         if model == 'reinvent':\n",
    "#             reinvent_distributions.append(df)\n",
    "#         elif model == 'crem':\n",
    "#             crem_distributions.append(df)\n",
    "#         elif model == 'coati':\n",
    "#             coati_distributions.append(df)\n",
    "#         elif model == 'safe':\n",
    "#             safe_distributions.append(df)"
   ]
  },
  {
   "cell_type": "code",
   "execution_count": 6,
   "metadata": {},
   "outputs": [],
   "source": [
    "# data = {'reinvent' : reinvent_distributions,\n",
    "#         'crem' : crem_distributions,\n",
    "#         'coati' : coati_distributions,\n",
    "#         'safe' : safe_distributions}"
   ]
  },
  {
   "cell_type": "code",
   "execution_count": 7,
   "metadata": {},
   "outputs": [],
   "source": [
    "# with open('lists.pkl', 'wb') as file:\n",
    "#     pickle.dump(data, file)"
   ]
  },
  {
   "cell_type": "code",
   "execution_count": 8,
   "metadata": {},
   "outputs": [],
   "source": [
    "with open('lists.pkl', 'rb') as file:\n",
    "    data = pickle.load(file)"
   ]
  },
  {
   "cell_type": "markdown",
   "metadata": {},
   "source": [
    "### Concatenate data for each model"
   ]
  },
  {
   "cell_type": "code",
   "execution_count": 9,
   "metadata": {},
   "outputs": [],
   "source": [
    "model_dfs = []\n",
    "\n",
    "for model in models:\n",
    "\n",
    "    distributions = data[model]\n",
    "    model_df = pd.DataFrame()\n",
    "\n",
    "    for df in distributions:\n",
    "\n",
    "        model_df = pd.concat((model_df, df))\n",
    "\n",
    "    model_dfs.append(model_df)"
   ]
  },
  {
   "cell_type": "markdown",
   "metadata": {},
   "source": [
    "### Filtering invalid molecules"
   ]
  },
  {
   "cell_type": "code",
   "execution_count": 10,
   "metadata": {},
   "outputs": [
    {
     "name": "stderr",
     "output_type": "stream",
     "text": [
      "[20:30:19] WARNING: not removing hydrogen atom without neighbors\n",
      "[20:30:19] WARNING: not removing hydrogen atom without neighbors\n",
      "[20:30:19] WARNING: not removing hydrogen atom without neighbors\n",
      "[20:30:19] WARNING: not removing hydrogen atom without neighbors\n",
      "[20:30:19] WARNING: not removing hydrogen atom without neighbors\n",
      "[20:30:19] WARNING: not removing hydrogen atom without neighbors\n",
      "[20:30:19] WARNING: not removing hydrogen atom without neighbors\n",
      "[20:30:19] WARNING: not removing hydrogen atom without neighbors\n",
      "[20:30:19] WARNING: not removing hydrogen atom without neighbors\n",
      "[20:30:19] WARNING: not removing hydrogen atom without neighbors\n",
      "[20:30:19] WARNING: not removing hydrogen atom without neighbors\n",
      "[20:30:19] WARNING: not removing hydrogen atom without neighbors\n",
      "[20:30:19] WARNING: not removing hydrogen atom without neighbors\n",
      "[20:30:19] WARNING: not removing hydrogen atom without neighbors\n",
      "[20:30:19] WARNING: not removing hydrogen atom without neighbors\n",
      "[20:30:19] WARNING: not removing hydrogen atom without neighbors\n",
      "[20:30:19] WARNING: not removing hydrogen atom without neighbors\n",
      "[20:30:19] WARNING: not removing hydrogen atom without neighbors\n",
      "[20:30:19] WARNING: not removing hydrogen atom without neighbors\n",
      "[20:30:19] WARNING: not removing hydrogen atom without neighbors\n",
      "[20:30:19] WARNING: not removing hydrogen atom without neighbors\n",
      "[20:30:19] WARNING: not removing hydrogen atom without neighbors\n",
      "[20:30:19] WARNING: not removing hydrogen atom without neighbors\n",
      "[20:30:19] WARNING: not removing hydrogen atom without neighbors\n",
      "[20:30:19] WARNING: not removing hydrogen atom without neighbors\n",
      "[20:30:19] WARNING: not removing hydrogen atom without neighbors\n",
      "[20:30:19] WARNING: not removing hydrogen atom without neighbors\n",
      "[20:30:19] WARNING: not removing hydrogen atom without neighbors\n",
      "[20:30:19] WARNING: not removing hydrogen atom without neighbors\n",
      "[20:30:19] WARNING: not removing hydrogen atom without neighbors\n",
      "[20:30:19] WARNING: not removing hydrogen atom without neighbors\n",
      "[20:30:19] WARNING: not removing hydrogen atom without neighbors\n",
      "[20:30:19] WARNING: not removing hydrogen atom without neighbors\n",
      "[20:30:19] WARNING: not removing hydrogen atom without neighbors\n",
      "[20:30:19] WARNING: not removing hydrogen atom without neighbors\n",
      "[20:30:19] WARNING: not removing hydrogen atom without neighbors\n",
      "[20:30:19] WARNING: not removing hydrogen atom without neighbors\n",
      "[20:30:19] WARNING: not removing hydrogen atom without neighbors\n",
      "[20:30:19] WARNING: not removing hydrogen atom without neighbors\n",
      "[20:30:19] WARNING: not removing hydrogen atom without neighbors\n",
      "[20:30:19] WARNING: not removing hydrogen atom without neighbors\n",
      "[20:30:19] WARNING: not removing hydrogen atom without neighbors\n",
      "[20:30:19] WARNING: not removing hydrogen atom without neighbors\n",
      "[20:30:19] WARNING: not removing hydrogen atom without neighbors\n",
      "[20:30:19] WARNING: not removing hydrogen atom without neighbors\n",
      "[20:30:19] WARNING: not removing hydrogen atom without neighbors\n",
      "[20:30:19] WARNING: not removing hydrogen atom without neighbors\n",
      "[20:30:19] WARNING: not removing hydrogen atom without neighbors\n",
      "[20:30:19] WARNING: not removing hydrogen atom without neighbors\n",
      "[20:30:19] WARNING: not removing hydrogen atom without neighbors\n",
      "[20:30:19] WARNING: not removing hydrogen atom without neighbors\n",
      "[20:30:19] WARNING: not removing hydrogen atom without neighbors\n",
      "[20:30:19] WARNING: not removing hydrogen atom without neighbors\n",
      "[20:30:19] WARNING: not removing hydrogen atom without neighbors\n",
      "[20:30:19] WARNING: not removing hydrogen atom without neighbors\n",
      "[20:30:19] WARNING: not removing hydrogen atom without neighbors\n",
      "[20:30:19] WARNING: not removing hydrogen atom without neighbors\n",
      "[20:30:19] WARNING: not removing hydrogen atom without neighbors\n",
      "[20:30:19] WARNING: not removing hydrogen atom without neighbors\n",
      "[20:30:19] WARNING: not removing hydrogen atom without neighbors\n",
      "[20:30:19] WARNING: not removing hydrogen atom without neighbors\n",
      "[20:30:19] WARNING: not removing hydrogen atom without neighbors\n",
      "[20:30:19] WARNING: not removing hydrogen atom without neighbors\n",
      "[20:30:19] WARNING: not removing hydrogen atom without neighbors\n",
      "[20:30:19] WARNING: not removing hydrogen atom without neighbors\n",
      "[20:30:19] WARNING: not removing hydrogen atom without neighbors\n",
      "[20:30:19] WARNING: not removing hydrogen atom without neighbors\n",
      "[20:30:19] WARNING: not removing hydrogen atom without neighbors\n",
      "[20:30:19] WARNING: not removing hydrogen atom without neighbors\n",
      "[20:30:19] WARNING: not removing hydrogen atom without neighbors\n",
      "[20:30:19] WARNING: not removing hydrogen atom without neighbors\n",
      "[20:30:19] WARNING: not removing hydrogen atom without neighbors\n",
      "[20:30:19] WARNING: not removing hydrogen atom without neighbors\n",
      "[20:30:19] WARNING: not removing hydrogen atom without neighbors\n",
      "[20:30:19] WARNING: not removing hydrogen atom without neighbors\n",
      "[20:30:19] WARNING: not removing hydrogen atom without neighbors\n",
      "[20:30:19] WARNING: not removing hydrogen atom without neighbors\n",
      "[20:30:19] WARNING: not removing hydrogen atom without neighbors\n",
      "[20:30:19] WARNING: not removing hydrogen atom without neighbors\n",
      "[20:30:19] WARNING: not removing hydrogen atom without neighbors\n",
      "[20:30:19] WARNING: not removing hydrogen atom without neighbors\n",
      "[20:30:19] WARNING: not removing hydrogen atom without neighbors\n",
      "[20:30:19] WARNING: not removing hydrogen atom without neighbors\n",
      "[20:30:19] WARNING: not removing hydrogen atom without neighbors\n",
      "[20:30:19] WARNING: not removing hydrogen atom without neighbors\n",
      "[20:30:19] WARNING: not removing hydrogen atom without neighbors\n",
      "[20:30:19] WARNING: not removing hydrogen atom without neighbors\n",
      "[20:30:19] WARNING: not removing hydrogen atom without neighbors\n",
      "[20:30:19] WARNING: not removing hydrogen atom without neighbors\n",
      "[20:30:19] WARNING: not removing hydrogen atom without neighbors\n",
      "[20:30:20] WARNING: not removing hydrogen atom without neighbors\n",
      "[20:30:21] Can't kekulize mol.  Unkekulized atoms: 14 15 16 17 18\n",
      "[20:30:21] WARNING: not removing hydrogen atom without neighbors\n",
      "[20:30:21] WARNING: not removing hydrogen atom without neighbors\n",
      "[20:30:21] WARNING: not removing hydrogen atom without neighbors\n"
     ]
    }
   ],
   "source": [
    "for i, df in enumerate(model_dfs):\n",
    "\n",
    "    smiles_list = df['SMILES'].to_list()\n",
    "\n",
    "    valid_smiles = []\n",
    "    invalid_smiles = []\n",
    "\n",
    "    for smiles in smiles_list:\n",
    "        \n",
    "        try:\n",
    "            molecule = Chem.MolFromSmiles(smiles, sanitize=True)\n",
    "            if molecule is not None:\n",
    "                valid_smiles.append(True)\n",
    "            else:\n",
    "                valid_smiles.append(False)\n",
    "        except Exception as e:\n",
    "            invalid_smiles.append(smiles)\n",
    "        \n",
    "    model_dfs[i] = df[valid_smiles]"
   ]
  },
  {
   "cell_type": "code",
   "execution_count": 11,
   "metadata": {},
   "outputs": [
    {
     "data": {
      "text/plain": [
       "9999"
      ]
     },
     "execution_count": 11,
     "metadata": {},
     "output_type": "execute_result"
    }
   ],
   "source": [
    "len(model_dfs[3])"
   ]
  },
  {
   "cell_type": "markdown",
   "metadata": {},
   "source": [
    "## Filtering"
   ]
  },
  {
   "cell_type": "code",
   "execution_count": 12,
   "metadata": {},
   "outputs": [],
   "source": [
    "d = {'reinvent' : np.zeros(6),\n",
    "     'crem' : np.zeros(6),\n",
    "     'coati' : np.zeros(6),\n",
    "     'safe' : np.zeros(6)}\n",
    "\n",
    "scores = pd.DataFrame(data = d, index = ['valid', 'duplicates', 'good rings', 'chemical stability', 'scaffold novelty', 'skeleton novelty'])"
   ]
  },
  {
   "cell_type": "markdown",
   "metadata": {},
   "source": [
    "### Filter #1: Invalid SMILES strings"
   ]
  },
  {
   "cell_type": "code",
   "execution_count": 13,
   "metadata": {},
   "outputs": [],
   "source": [
    "def num_valid(df):\n",
    "\n",
    "    size = len(df)\n",
    "    count = 0\n",
    "\n",
    "    for smi in df.SMILES:\n",
    "\n",
    "        mol = Chem.MolFromSmiles(smi)\n",
    "\n",
    "        if mol is not None:\n",
    "            count += 1\n",
    "\n",
    "    return count / size"
   ]
  },
  {
   "cell_type": "code",
   "execution_count": 14,
   "metadata": {},
   "outputs": [
    {
     "name": "stderr",
     "output_type": "stream",
     "text": [
      "[20:30:23] WARNING: not removing hydrogen atom without neighbors\n",
      "[20:30:23] WARNING: not removing hydrogen atom without neighbors\n",
      "[20:30:23] WARNING: not removing hydrogen atom without neighbors\n",
      "[20:30:23] WARNING: not removing hydrogen atom without neighbors\n",
      "[20:30:23] WARNING: not removing hydrogen atom without neighbors\n",
      "[20:30:23] WARNING: not removing hydrogen atom without neighbors\n",
      "[20:30:23] WARNING: not removing hydrogen atom without neighbors\n",
      "[20:30:23] WARNING: not removing hydrogen atom without neighbors\n",
      "[20:30:23] WARNING: not removing hydrogen atom without neighbors\n",
      "[20:30:23] WARNING: not removing hydrogen atom without neighbors\n",
      "[20:30:23] WARNING: not removing hydrogen atom without neighbors\n",
      "[20:30:23] WARNING: not removing hydrogen atom without neighbors\n",
      "[20:30:23] WARNING: not removing hydrogen atom without neighbors\n",
      "[20:30:23] WARNING: not removing hydrogen atom without neighbors\n",
      "[20:30:23] WARNING: not removing hydrogen atom without neighbors\n",
      "[20:30:23] WARNING: not removing hydrogen atom without neighbors\n",
      "[20:30:23] WARNING: not removing hydrogen atom without neighbors\n",
      "[20:30:23] WARNING: not removing hydrogen atom without neighbors\n",
      "[20:30:23] WARNING: not removing hydrogen atom without neighbors\n",
      "[20:30:23] WARNING: not removing hydrogen atom without neighbors\n",
      "[20:30:23] WARNING: not removing hydrogen atom without neighbors\n",
      "[20:30:23] WARNING: not removing hydrogen atom without neighbors\n",
      "[20:30:23] WARNING: not removing hydrogen atom without neighbors\n",
      "[20:30:23] WARNING: not removing hydrogen atom without neighbors\n",
      "[20:30:23] WARNING: not removing hydrogen atom without neighbors\n",
      "[20:30:23] WARNING: not removing hydrogen atom without neighbors\n",
      "[20:30:23] WARNING: not removing hydrogen atom without neighbors\n",
      "[20:30:23] WARNING: not removing hydrogen atom without neighbors\n",
      "[20:30:23] WARNING: not removing hydrogen atom without neighbors\n",
      "[20:30:23] WARNING: not removing hydrogen atom without neighbors\n",
      "[20:30:23] WARNING: not removing hydrogen atom without neighbors\n",
      "[20:30:23] WARNING: not removing hydrogen atom without neighbors\n",
      "[20:30:23] WARNING: not removing hydrogen atom without neighbors\n",
      "[20:30:23] WARNING: not removing hydrogen atom without neighbors\n",
      "[20:30:23] WARNING: not removing hydrogen atom without neighbors\n",
      "[20:30:23] WARNING: not removing hydrogen atom without neighbors\n",
      "[20:30:23] WARNING: not removing hydrogen atom without neighbors\n",
      "[20:30:23] WARNING: not removing hydrogen atom without neighbors\n",
      "[20:30:23] WARNING: not removing hydrogen atom without neighbors\n",
      "[20:30:23] WARNING: not removing hydrogen atom without neighbors\n",
      "[20:30:23] WARNING: not removing hydrogen atom without neighbors\n",
      "[20:30:23] WARNING: not removing hydrogen atom without neighbors\n",
      "[20:30:23] WARNING: not removing hydrogen atom without neighbors\n",
      "[20:30:23] WARNING: not removing hydrogen atom without neighbors\n",
      "[20:30:23] WARNING: not removing hydrogen atom without neighbors\n",
      "[20:30:23] WARNING: not removing hydrogen atom without neighbors\n",
      "[20:30:23] WARNING: not removing hydrogen atom without neighbors\n",
      "[20:30:23] WARNING: not removing hydrogen atom without neighbors\n",
      "[20:30:23] WARNING: not removing hydrogen atom without neighbors\n",
      "[20:30:23] WARNING: not removing hydrogen atom without neighbors\n",
      "[20:30:23] WARNING: not removing hydrogen atom without neighbors\n",
      "[20:30:23] WARNING: not removing hydrogen atom without neighbors\n",
      "[20:30:23] WARNING: not removing hydrogen atom without neighbors\n",
      "[20:30:23] WARNING: not removing hydrogen atom without neighbors\n",
      "[20:30:23] WARNING: not removing hydrogen atom without neighbors\n",
      "[20:30:23] WARNING: not removing hydrogen atom without neighbors\n",
      "[20:30:23] WARNING: not removing hydrogen atom without neighbors\n",
      "[20:30:23] WARNING: not removing hydrogen atom without neighbors\n",
      "[20:30:23] WARNING: not removing hydrogen atom without neighbors\n",
      "[20:30:23] WARNING: not removing hydrogen atom without neighbors\n",
      "[20:30:23] WARNING: not removing hydrogen atom without neighbors\n",
      "[20:30:23] WARNING: not removing hydrogen atom without neighbors\n",
      "[20:30:23] WARNING: not removing hydrogen atom without neighbors\n",
      "[20:30:23] WARNING: not removing hydrogen atom without neighbors\n",
      "[20:30:23] WARNING: not removing hydrogen atom without neighbors\n",
      "[20:30:23] WARNING: not removing hydrogen atom without neighbors\n",
      "[20:30:23] WARNING: not removing hydrogen atom without neighbors\n",
      "[20:30:23] WARNING: not removing hydrogen atom without neighbors\n",
      "[20:30:23] WARNING: not removing hydrogen atom without neighbors\n",
      "[20:30:23] WARNING: not removing hydrogen atom without neighbors\n",
      "[20:30:23] WARNING: not removing hydrogen atom without neighbors\n",
      "[20:30:23] WARNING: not removing hydrogen atom without neighbors\n",
      "[20:30:23] WARNING: not removing hydrogen atom without neighbors\n",
      "[20:30:23] WARNING: not removing hydrogen atom without neighbors\n",
      "[20:30:23] WARNING: not removing hydrogen atom without neighbors\n",
      "[20:30:23] WARNING: not removing hydrogen atom without neighbors\n",
      "[20:30:23] WARNING: not removing hydrogen atom without neighbors\n",
      "[20:30:23] WARNING: not removing hydrogen atom without neighbors\n",
      "[20:30:23] WARNING: not removing hydrogen atom without neighbors\n",
      "[20:30:23] WARNING: not removing hydrogen atom without neighbors\n",
      "[20:30:23] WARNING: not removing hydrogen atom without neighbors\n",
      "[20:30:23] WARNING: not removing hydrogen atom without neighbors\n",
      "[20:30:23] WARNING: not removing hydrogen atom without neighbors\n",
      "[20:30:23] WARNING: not removing hydrogen atom without neighbors\n",
      "[20:30:23] WARNING: not removing hydrogen atom without neighbors\n",
      "[20:30:23] WARNING: not removing hydrogen atom without neighbors\n",
      "[20:30:23] WARNING: not removing hydrogen atom without neighbors\n",
      "[20:30:23] WARNING: not removing hydrogen atom without neighbors\n",
      "[20:30:23] WARNING: not removing hydrogen atom without neighbors\n",
      "[20:30:23] WARNING: not removing hydrogen atom without neighbors\n",
      "[20:30:24] WARNING: not removing hydrogen atom without neighbors\n",
      "[20:30:25] WARNING: not removing hydrogen atom without neighbors\n",
      "[20:30:25] WARNING: not removing hydrogen atom without neighbors\n",
      "[20:30:25] WARNING: not removing hydrogen atom without neighbors\n"
     ]
    }
   ],
   "source": [
    "for model, df in zip(models, model_dfs):\n",
    "\n",
    "    scores[model]['valid'] = num_valid(df)"
   ]
  },
  {
   "cell_type": "code",
   "execution_count": 15,
   "metadata": {},
   "outputs": [
    {
     "data": {
      "text/html": [
       "<div>\n",
       "<style scoped>\n",
       "    .dataframe tbody tr th:only-of-type {\n",
       "        vertical-align: middle;\n",
       "    }\n",
       "\n",
       "    .dataframe tbody tr th {\n",
       "        vertical-align: top;\n",
       "    }\n",
       "\n",
       "    .dataframe thead th {\n",
       "        text-align: right;\n",
       "    }\n",
       "</style>\n",
       "<table border=\"1\" class=\"dataframe\">\n",
       "  <thead>\n",
       "    <tr style=\"text-align: right;\">\n",
       "      <th></th>\n",
       "      <th>reinvent</th>\n",
       "      <th>crem</th>\n",
       "      <th>coati</th>\n",
       "      <th>safe</th>\n",
       "    </tr>\n",
       "  </thead>\n",
       "  <tbody>\n",
       "    <tr>\n",
       "      <th>valid</th>\n",
       "      <td>1.0</td>\n",
       "      <td>1.0</td>\n",
       "      <td>1.0</td>\n",
       "      <td>1.0</td>\n",
       "    </tr>\n",
       "    <tr>\n",
       "      <th>duplicates</th>\n",
       "      <td>0.0</td>\n",
       "      <td>0.0</td>\n",
       "      <td>0.0</td>\n",
       "      <td>0.0</td>\n",
       "    </tr>\n",
       "    <tr>\n",
       "      <th>good rings</th>\n",
       "      <td>0.0</td>\n",
       "      <td>0.0</td>\n",
       "      <td>0.0</td>\n",
       "      <td>0.0</td>\n",
       "    </tr>\n",
       "    <tr>\n",
       "      <th>chemical stability</th>\n",
       "      <td>0.0</td>\n",
       "      <td>0.0</td>\n",
       "      <td>0.0</td>\n",
       "      <td>0.0</td>\n",
       "    </tr>\n",
       "    <tr>\n",
       "      <th>scaffold novelty</th>\n",
       "      <td>0.0</td>\n",
       "      <td>0.0</td>\n",
       "      <td>0.0</td>\n",
       "      <td>0.0</td>\n",
       "    </tr>\n",
       "    <tr>\n",
       "      <th>skeleton novelty</th>\n",
       "      <td>0.0</td>\n",
       "      <td>0.0</td>\n",
       "      <td>0.0</td>\n",
       "      <td>0.0</td>\n",
       "    </tr>\n",
       "  </tbody>\n",
       "</table>\n",
       "</div>"
      ],
      "text/plain": [
       "                    reinvent  crem  coati  safe\n",
       "valid                    1.0   1.0    1.0   1.0\n",
       "duplicates               0.0   0.0    0.0   0.0\n",
       "good rings               0.0   0.0    0.0   0.0\n",
       "chemical stability       0.0   0.0    0.0   0.0\n",
       "scaffold novelty         0.0   0.0    0.0   0.0\n",
       "skeleton novelty         0.0   0.0    0.0   0.0"
      ]
     },
     "execution_count": 15,
     "metadata": {},
     "output_type": "execute_result"
    }
   ],
   "source": [
    "scores"
   ]
  },
  {
   "cell_type": "markdown",
   "metadata": {},
   "source": [
    "### Filter #2: Duplicates"
   ]
  },
  {
   "cell_type": "code",
   "execution_count": 16,
   "metadata": {},
   "outputs": [],
   "source": [
    "safe_df = model_dfs[3]"
   ]
  },
  {
   "cell_type": "code",
   "execution_count": 17,
   "metadata": {},
   "outputs": [
    {
     "data": {
      "text/html": [
       "<div>\n",
       "<style scoped>\n",
       "    .dataframe tbody tr th:only-of-type {\n",
       "        vertical-align: middle;\n",
       "    }\n",
       "\n",
       "    .dataframe tbody tr th {\n",
       "        vertical-align: top;\n",
       "    }\n",
       "\n",
       "    .dataframe thead th {\n",
       "        text-align: right;\n",
       "    }\n",
       "</style>\n",
       "<table border=\"1\" class=\"dataframe\">\n",
       "  <thead>\n",
       "    <tr style=\"text-align: right;\">\n",
       "      <th></th>\n",
       "      <th>SMILES</th>\n",
       "      <th>Model</th>\n",
       "    </tr>\n",
       "  </thead>\n",
       "  <tbody>\n",
       "    <tr>\n",
       "      <th>361</th>\n",
       "      <td>c1nc(C2CCOCC2)nc2c1CCN2</td>\n",
       "      <td>safe</td>\n",
       "    </tr>\n",
       "    <tr>\n",
       "      <th>73</th>\n",
       "      <td>c1nc(N2CCC2)nc2c1CCN2</td>\n",
       "      <td>safe</td>\n",
       "    </tr>\n",
       "    <tr>\n",
       "      <th>374</th>\n",
       "      <td>c1nc(-c2nn[nH]n2)nc2c1CCN2</td>\n",
       "      <td>safe</td>\n",
       "    </tr>\n",
       "    <tr>\n",
       "      <th>155</th>\n",
       "      <td>c1nc(SCCN2CCOCC2)nc2c1CCN2</td>\n",
       "      <td>safe</td>\n",
       "    </tr>\n",
       "    <tr>\n",
       "      <th>104</th>\n",
       "      <td>c1nc(N2CCCSCC2)nc2c1CCN2</td>\n",
       "      <td>safe</td>\n",
       "    </tr>\n",
       "    <tr>\n",
       "      <th>...</th>\n",
       "      <td>...</td>\n",
       "      <td>...</td>\n",
       "    </tr>\n",
       "    <tr>\n",
       "      <th>83</th>\n",
       "      <td>CC(C)C(=O)NC(c1nc2ccccc2n1-c1ccccc1)N1CCOCC1</td>\n",
       "      <td>safe</td>\n",
       "    </tr>\n",
       "    <tr>\n",
       "      <th>425</th>\n",
       "      <td>CC(C)C(=O)NC(c1nc2ccccc2n1C1CC1)N1CN(CC(=O)O)c...</td>\n",
       "      <td>safe</td>\n",
       "    </tr>\n",
       "    <tr>\n",
       "      <th>165</th>\n",
       "      <td>CC(C)C(=O)NC(c1cc2ccccc2nn1)c1nc2ccccc2n1CCC(=O)O</td>\n",
       "      <td>safe</td>\n",
       "    </tr>\n",
       "    <tr>\n",
       "      <th>266</th>\n",
       "      <td>CC(C)C(=O)NC(Nc1ccccc1)c1nc2ccccc2n1C1OC(CO)C(...</td>\n",
       "      <td>safe</td>\n",
       "    </tr>\n",
       "    <tr>\n",
       "      <th>199</th>\n",
       "      <td>CC(C)C(=O)NC(C(=O)O)c1nc2ccccc2n1-c1nncs1</td>\n",
       "      <td>safe</td>\n",
       "    </tr>\n",
       "  </tbody>\n",
       "</table>\n",
       "<p>9999 rows × 2 columns</p>\n",
       "</div>"
      ],
      "text/plain": [
       "                                                SMILES Model\n",
       "361                            c1nc(C2CCOCC2)nc2c1CCN2  safe\n",
       "73                               c1nc(N2CCC2)nc2c1CCN2  safe\n",
       "374                         c1nc(-c2nn[nH]n2)nc2c1CCN2  safe\n",
       "155                         c1nc(SCCN2CCOCC2)nc2c1CCN2  safe\n",
       "104                           c1nc(N2CCCSCC2)nc2c1CCN2  safe\n",
       "..                                                 ...   ...\n",
       "83        CC(C)C(=O)NC(c1nc2ccccc2n1-c1ccccc1)N1CCOCC1  safe\n",
       "425  CC(C)C(=O)NC(c1nc2ccccc2n1C1CC1)N1CN(CC(=O)O)c...  safe\n",
       "165  CC(C)C(=O)NC(c1cc2ccccc2nn1)c1nc2ccccc2n1CCC(=O)O  safe\n",
       "266  CC(C)C(=O)NC(Nc1ccccc1)c1nc2ccccc2n1C1OC(CO)C(...  safe\n",
       "199          CC(C)C(=O)NC(C(=O)O)c1nc2ccccc2n1-c1nncs1  safe\n",
       "\n",
       "[9999 rows x 2 columns]"
      ]
     },
     "execution_count": 17,
     "metadata": {},
     "output_type": "execute_result"
    }
   ],
   "source": [
    "safe_df"
   ]
  },
  {
   "cell_type": "code",
   "execution_count": 18,
   "metadata": {},
   "outputs": [
    {
     "name": "stderr",
     "output_type": "stream",
     "text": [
      "[20:30:33] WARNING: not removing hydrogen atom without neighbors\n",
      "[20:30:33] WARNING: not removing hydrogen atom without neighbors\n",
      "[20:30:33] WARNING: not removing hydrogen atom without neighbors\n",
      "[20:30:33] WARNING: not removing hydrogen atom without neighbors\n",
      "[20:30:33] WARNING: not removing hydrogen atom without neighbors\n",
      "[20:30:33] WARNING: not removing hydrogen atom without neighbors\n",
      "[20:30:33] WARNING: not removing hydrogen atom without neighbors\n",
      "[20:30:33] WARNING: not removing hydrogen atom without neighbors\n",
      "[20:30:33] WARNING: not removing hydrogen atom without neighbors\n",
      "[20:30:33] WARNING: not removing hydrogen atom without neighbors\n",
      "[20:30:33] WARNING: not removing hydrogen atom without neighbors\n",
      "[20:30:33] WARNING: not removing hydrogen atom without neighbors\n",
      "[20:30:33] WARNING: not removing hydrogen atom without neighbors\n",
      "[20:30:33] WARNING: not removing hydrogen atom without neighbors\n",
      "[20:30:33] WARNING: not removing hydrogen atom without neighbors\n",
      "[20:30:33] WARNING: not removing hydrogen atom without neighbors\n",
      "[20:30:33] WARNING: not removing hydrogen atom without neighbors\n",
      "[20:30:33] WARNING: not removing hydrogen atom without neighbors\n",
      "[20:30:33] WARNING: not removing hydrogen atom without neighbors\n",
      "[20:30:33] WARNING: not removing hydrogen atom without neighbors\n",
      "[20:30:33] WARNING: not removing hydrogen atom without neighbors\n",
      "[20:30:33] WARNING: not removing hydrogen atom without neighbors\n",
      "[20:30:33] WARNING: not removing hydrogen atom without neighbors\n",
      "[20:30:33] WARNING: not removing hydrogen atom without neighbors\n",
      "[20:30:33] WARNING: not removing hydrogen atom without neighbors\n",
      "[20:30:33] WARNING: not removing hydrogen atom without neighbors\n",
      "[20:30:33] WARNING: not removing hydrogen atom without neighbors\n",
      "[20:30:33] WARNING: not removing hydrogen atom without neighbors\n",
      "[20:30:33] WARNING: not removing hydrogen atom without neighbors\n",
      "[20:30:33] WARNING: not removing hydrogen atom without neighbors\n",
      "[20:30:33] WARNING: not removing hydrogen atom without neighbors\n",
      "[20:30:33] WARNING: not removing hydrogen atom without neighbors\n",
      "[20:30:33] WARNING: not removing hydrogen atom without neighbors\n",
      "[20:30:33] WARNING: not removing hydrogen atom without neighbors\n",
      "[20:30:33] WARNING: not removing hydrogen atom without neighbors\n",
      "[20:30:33] WARNING: not removing hydrogen atom without neighbors\n",
      "[20:30:33] WARNING: not removing hydrogen atom without neighbors\n",
      "[20:30:33] WARNING: not removing hydrogen atom without neighbors\n",
      "[20:30:33] WARNING: not removing hydrogen atom without neighbors\n",
      "[20:30:33] WARNING: not removing hydrogen atom without neighbors\n",
      "[20:30:33] WARNING: not removing hydrogen atom without neighbors\n",
      "[20:30:33] WARNING: not removing hydrogen atom without neighbors\n",
      "[20:30:33] WARNING: not removing hydrogen atom without neighbors\n",
      "[20:30:33] WARNING: not removing hydrogen atom without neighbors\n",
      "[20:30:33] WARNING: not removing hydrogen atom without neighbors\n",
      "[20:30:33] WARNING: not removing hydrogen atom without neighbors\n",
      "[20:30:33] WARNING: not removing hydrogen atom without neighbors\n",
      "[20:30:33] WARNING: not removing hydrogen atom without neighbors\n",
      "[20:30:33] WARNING: not removing hydrogen atom without neighbors\n",
      "[20:30:33] WARNING: not removing hydrogen atom without neighbors\n",
      "[20:30:33] WARNING: not removing hydrogen atom without neighbors\n",
      "[20:30:33] WARNING: not removing hydrogen atom without neighbors\n",
      "[20:30:33] WARNING: not removing hydrogen atom without neighbors\n",
      "[20:30:33] WARNING: not removing hydrogen atom without neighbors\n",
      "[20:30:33] WARNING: not removing hydrogen atom without neighbors\n",
      "[20:30:33] WARNING: not removing hydrogen atom without neighbors\n",
      "[20:30:33] WARNING: not removing hydrogen atom without neighbors\n",
      "[20:30:33] WARNING: not removing hydrogen atom without neighbors\n",
      "[20:30:33] WARNING: not removing hydrogen atom without neighbors\n",
      "[20:30:33] WARNING: not removing hydrogen atom without neighbors\n",
      "[20:30:33] WARNING: not removing hydrogen atom without neighbors\n",
      "[20:30:33] WARNING: not removing hydrogen atom without neighbors\n",
      "[20:30:33] WARNING: not removing hydrogen atom without neighbors\n",
      "[20:30:33] WARNING: not removing hydrogen atom without neighbors\n",
      "[20:30:33] WARNING: not removing hydrogen atom without neighbors\n",
      "[20:30:33] WARNING: not removing hydrogen atom without neighbors\n",
      "[20:30:33] WARNING: not removing hydrogen atom without neighbors\n",
      "[20:30:33] WARNING: not removing hydrogen atom without neighbors\n",
      "[20:30:33] WARNING: not removing hydrogen atom without neighbors\n",
      "[20:30:33] WARNING: not removing hydrogen atom without neighbors\n",
      "[20:30:33] WARNING: not removing hydrogen atom without neighbors\n",
      "[20:30:33] WARNING: not removing hydrogen atom without neighbors\n",
      "[20:30:33] WARNING: not removing hydrogen atom without neighbors\n",
      "[20:30:33] WARNING: not removing hydrogen atom without neighbors\n",
      "[20:30:33] WARNING: not removing hydrogen atom without neighbors\n",
      "[20:30:33] WARNING: not removing hydrogen atom without neighbors\n",
      "[20:30:33] WARNING: not removing hydrogen atom without neighbors\n",
      "[20:30:33] WARNING: not removing hydrogen atom without neighbors\n",
      "[20:30:33] WARNING: not removing hydrogen atom without neighbors\n",
      "[20:30:33] WARNING: not removing hydrogen atom without neighbors\n",
      "[20:30:33] WARNING: not removing hydrogen atom without neighbors\n",
      "[20:30:33] WARNING: not removing hydrogen atom without neighbors\n",
      "[20:30:33] WARNING: not removing hydrogen atom without neighbors\n",
      "[20:30:33] WARNING: not removing hydrogen atom without neighbors\n",
      "[20:30:33] WARNING: not removing hydrogen atom without neighbors\n",
      "[20:30:33] WARNING: not removing hydrogen atom without neighbors\n",
      "[20:30:33] WARNING: not removing hydrogen atom without neighbors\n",
      "[20:30:33] WARNING: not removing hydrogen atom without neighbors\n",
      "[20:30:34] WARNING: not removing hydrogen atom without neighbors\n",
      "[20:30:34] WARNING: not removing hydrogen atom without neighbors\n",
      "[20:30:36] WARNING: not removing hydrogen atom without neighbors\n",
      "[20:30:37] WARNING: not removing hydrogen atom without neighbors\n",
      "[20:30:37] WARNING: not removing hydrogen atom without neighbors\n",
      "[20:30:37] WARNING: not removing hydrogen atom without neighbors\n"
     ]
    }
   ],
   "source": [
    "for i, (model, df) in enumerate(zip(models, model_dfs)):\n",
    "\n",
    "    mols = [Chem.MolFromSmiles(smi) for smi in df.SMILES]\n",
    "\n",
    "    df['ROMol'] = mols\n",
    "\n",
    "    df['inchi'] = df.ROMol.apply(Chem.MolToInchiKey)\n",
    "\n",
    "    duplicates = df.drop_duplicates(subset=\"inchi\")\n",
    "\n",
    "    scores[model]['duplicates'] = len(duplicates) / len(df)\n",
    "\n",
    "    df.drop_duplicates(subset=\"inchi\", inplace=True)\n",
    "    \n",
    "    model_dfs[i] = df "
   ]
  },
  {
   "cell_type": "code",
   "execution_count": 19,
   "metadata": {},
   "outputs": [
    {
     "data": {
      "text/html": [
       "<div>\n",
       "<style scoped>\n",
       "    .dataframe tbody tr th:only-of-type {\n",
       "        vertical-align: middle;\n",
       "    }\n",
       "\n",
       "    .dataframe tbody tr th {\n",
       "        vertical-align: top;\n",
       "    }\n",
       "\n",
       "    .dataframe thead th {\n",
       "        text-align: right;\n",
       "    }\n",
       "</style>\n",
       "<table border=\"1\" class=\"dataframe\">\n",
       "  <thead>\n",
       "    <tr style=\"text-align: right;\">\n",
       "      <th></th>\n",
       "      <th>reinvent</th>\n",
       "      <th>crem</th>\n",
       "      <th>coati</th>\n",
       "      <th>safe</th>\n",
       "    </tr>\n",
       "  </thead>\n",
       "  <tbody>\n",
       "    <tr>\n",
       "      <th>valid</th>\n",
       "      <td>1.0000</td>\n",
       "      <td>1.000000</td>\n",
       "      <td>1.000000</td>\n",
       "      <td>1.00000</td>\n",
       "    </tr>\n",
       "    <tr>\n",
       "      <th>duplicates</th>\n",
       "      <td>0.9102</td>\n",
       "      <td>0.937527</td>\n",
       "      <td>0.846925</td>\n",
       "      <td>0.80428</td>\n",
       "    </tr>\n",
       "    <tr>\n",
       "      <th>good rings</th>\n",
       "      <td>0.0000</td>\n",
       "      <td>0.000000</td>\n",
       "      <td>0.000000</td>\n",
       "      <td>0.00000</td>\n",
       "    </tr>\n",
       "    <tr>\n",
       "      <th>chemical stability</th>\n",
       "      <td>0.0000</td>\n",
       "      <td>0.000000</td>\n",
       "      <td>0.000000</td>\n",
       "      <td>0.00000</td>\n",
       "    </tr>\n",
       "    <tr>\n",
       "      <th>scaffold novelty</th>\n",
       "      <td>0.0000</td>\n",
       "      <td>0.000000</td>\n",
       "      <td>0.000000</td>\n",
       "      <td>0.00000</td>\n",
       "    </tr>\n",
       "    <tr>\n",
       "      <th>skeleton novelty</th>\n",
       "      <td>0.0000</td>\n",
       "      <td>0.000000</td>\n",
       "      <td>0.000000</td>\n",
       "      <td>0.00000</td>\n",
       "    </tr>\n",
       "  </tbody>\n",
       "</table>\n",
       "</div>"
      ],
      "text/plain": [
       "                    reinvent      crem     coati     safe\n",
       "valid                 1.0000  1.000000  1.000000  1.00000\n",
       "duplicates            0.9102  0.937527  0.846925  0.80428\n",
       "good rings            0.0000  0.000000  0.000000  0.00000\n",
       "chemical stability    0.0000  0.000000  0.000000  0.00000\n",
       "scaffold novelty      0.0000  0.000000  0.000000  0.00000\n",
       "skeleton novelty      0.0000  0.000000  0.000000  0.00000"
      ]
     },
     "execution_count": 19,
     "metadata": {},
     "output_type": "execute_result"
    }
   ],
   "source": [
    "scores"
   ]
  },
  {
   "cell_type": "markdown",
   "metadata": {},
   "source": [
    "### Filter #3: Odd ring systems"
   ]
  },
  {
   "cell_type": "code",
   "execution_count": 20,
   "metadata": {},
   "outputs": [],
   "source": [
    "def number_odd_rings(df):\n",
    "\n",
    "    ring_system_lookup = uru.RingSystemLookup.default()\n",
    "    df['ring_systems'] = df.SMILES.apply(ring_system_lookup.process_smiles)\n",
    "    df[['min_ring','min_freq']] = df.ring_systems.apply(uru.get_min_ring_frequency).to_list()\n",
    "    good_rings = df.query('min_freq > 100').copy()\n",
    "\n",
    "    return len(good_rings) / len(df)"
   ]
  },
  {
   "cell_type": "code",
   "execution_count": 21,
   "metadata": {},
   "outputs": [
    {
     "name": "stderr",
     "output_type": "stream",
     "text": [
      "[20:31:02] WARNING: not removing hydrogen atom without neighbors\n",
      "[20:31:02] WARNING: not removing hydrogen atom without neighbors\n",
      "[20:31:02] WARNING: not removing hydrogen atom without neighbors\n",
      "[20:31:02] WARNING: not removing hydrogen atom without neighbors\n",
      "[20:31:02] WARNING: not removing hydrogen atom without neighbors\n",
      "[20:31:02] WARNING: not removing hydrogen atom without neighbors\n",
      "[20:31:02] WARNING: not removing hydrogen atom without neighbors\n",
      "[20:31:02] WARNING: not removing hydrogen atom without neighbors\n",
      "[20:31:02] WARNING: not removing hydrogen atom without neighbors\n",
      "[20:31:02] WARNING: not removing hydrogen atom without neighbors\n",
      "[20:31:02] WARNING: not removing hydrogen atom without neighbors\n",
      "[20:31:02] WARNING: not removing hydrogen atom without neighbors\n",
      "[20:31:02] WARNING: not removing hydrogen atom without neighbors\n",
      "[20:31:02] WARNING: not removing hydrogen atom without neighbors\n",
      "[20:31:02] WARNING: not removing hydrogen atom without neighbors\n",
      "[20:31:02] WARNING: not removing hydrogen atom without neighbors\n",
      "[20:31:02] WARNING: not removing hydrogen atom without neighbors\n",
      "[20:31:02] WARNING: not removing hydrogen atom without neighbors\n",
      "[20:31:02] WARNING: not removing hydrogen atom without neighbors\n",
      "[20:31:02] WARNING: not removing hydrogen atom without neighbors\n",
      "[20:31:02] WARNING: not removing hydrogen atom without neighbors\n",
      "[20:31:02] WARNING: not removing hydrogen atom without neighbors\n",
      "[20:31:02] WARNING: not removing hydrogen atom without neighbors\n",
      "[20:31:02] WARNING: not removing hydrogen atom without neighbors\n",
      "[20:31:02] WARNING: not removing hydrogen atom without neighbors\n",
      "[20:31:02] WARNING: not removing hydrogen atom without neighbors\n",
      "[20:31:02] WARNING: not removing hydrogen atom without neighbors\n",
      "[20:31:02] WARNING: not removing hydrogen atom without neighbors\n",
      "[20:31:02] WARNING: not removing hydrogen atom without neighbors\n",
      "[20:31:02] WARNING: not removing hydrogen atom without neighbors\n",
      "[20:31:02] WARNING: not removing hydrogen atom without neighbors\n",
      "[20:31:02] WARNING: not removing hydrogen atom without neighbors\n",
      "[20:31:02] WARNING: not removing hydrogen atom without neighbors\n",
      "[20:31:02] WARNING: not removing hydrogen atom without neighbors\n",
      "[20:31:02] WARNING: not removing hydrogen atom without neighbors\n",
      "[20:31:03] WARNING: not removing hydrogen atom without neighbors\n",
      "[20:31:03] WARNING: not removing hydrogen atom without neighbors\n",
      "[20:31:03] WARNING: not removing hydrogen atom without neighbors\n",
      "[20:31:03] WARNING: not removing hydrogen atom without neighbors\n",
      "[20:31:03] WARNING: not removing hydrogen atom without neighbors\n",
      "[20:31:03] WARNING: not removing hydrogen atom without neighbors\n",
      "[20:31:03] WARNING: not removing hydrogen atom without neighbors\n",
      "[20:31:03] WARNING: not removing hydrogen atom without neighbors\n",
      "[20:31:03] WARNING: not removing hydrogen atom without neighbors\n",
      "[20:31:03] WARNING: not removing hydrogen atom without neighbors\n",
      "[20:31:03] WARNING: not removing hydrogen atom without neighbors\n",
      "[20:31:04] WARNING: not removing hydrogen atom without neighbors\n",
      "[20:31:04] WARNING: not removing hydrogen atom without neighbors\n",
      "[20:31:04] WARNING: not removing hydrogen atom without neighbors\n",
      "[20:31:04] WARNING: not removing hydrogen atom without neighbors\n",
      "[20:31:04] WARNING: not removing hydrogen atom without neighbors\n",
      "[20:31:04] WARNING: not removing hydrogen atom without neighbors\n",
      "[20:31:04] WARNING: not removing hydrogen atom without neighbors\n",
      "[20:31:04] WARNING: not removing hydrogen atom without neighbors\n",
      "[20:31:06] WARNING: not removing hydrogen atom without neighbors\n",
      "[20:31:07] WARNING: not removing hydrogen atom without neighbors\n",
      "[20:31:07] WARNING: not removing hydrogen atom without neighbors\n",
      "[20:31:08] WARNING: not removing hydrogen atom without neighbors\n",
      "[20:31:08] WARNING: not removing hydrogen atom without neighbors\n",
      "[20:31:08] WARNING: not removing hydrogen atom without neighbors\n",
      "[20:31:08] WARNING: not removing hydrogen atom without neighbors\n",
      "[20:31:08] WARNING: not removing hydrogen atom without neighbors\n",
      "[20:31:14] WARNING: not removing hydrogen atom without neighbors\n",
      "[20:31:21] WARNING: not removing hydrogen atom without neighbors\n",
      "[20:31:21] WARNING: not removing hydrogen atom without neighbors\n",
      "[20:31:21] WARNING: not removing hydrogen atom without neighbors\n"
     ]
    }
   ],
   "source": [
    "for model, df in zip(models, model_dfs):\n",
    "\n",
    "    scores[model]['good rings'] = number_odd_rings(df)"
   ]
  },
  {
   "cell_type": "markdown",
   "metadata": {},
   "source": [
    "0.892\t0.575\t0.692\t0.983333"
   ]
  },
  {
   "cell_type": "code",
   "execution_count": 22,
   "metadata": {},
   "outputs": [
    {
     "data": {
      "text/html": [
       "<div>\n",
       "<style scoped>\n",
       "    .dataframe tbody tr th:only-of-type {\n",
       "        vertical-align: middle;\n",
       "    }\n",
       "\n",
       "    .dataframe tbody tr th {\n",
       "        vertical-align: top;\n",
       "    }\n",
       "\n",
       "    .dataframe thead th {\n",
       "        text-align: right;\n",
       "    }\n",
       "</style>\n",
       "<table border=\"1\" class=\"dataframe\">\n",
       "  <thead>\n",
       "    <tr style=\"text-align: right;\">\n",
       "      <th></th>\n",
       "      <th>reinvent</th>\n",
       "      <th>crem</th>\n",
       "      <th>coati</th>\n",
       "      <th>safe</th>\n",
       "    </tr>\n",
       "  </thead>\n",
       "  <tbody>\n",
       "    <tr>\n",
       "      <th>valid</th>\n",
       "      <td>1.000000</td>\n",
       "      <td>1.000000</td>\n",
       "      <td>1.000000</td>\n",
       "      <td>1.00000</td>\n",
       "    </tr>\n",
       "    <tr>\n",
       "      <th>duplicates</th>\n",
       "      <td>0.910200</td>\n",
       "      <td>0.937527</td>\n",
       "      <td>0.846925</td>\n",
       "      <td>0.80428</td>\n",
       "    </tr>\n",
       "    <tr>\n",
       "      <th>good rings</th>\n",
       "      <td>0.960668</td>\n",
       "      <td>0.862463</td>\n",
       "      <td>0.822612</td>\n",
       "      <td>0.90848</td>\n",
       "    </tr>\n",
       "    <tr>\n",
       "      <th>chemical stability</th>\n",
       "      <td>0.000000</td>\n",
       "      <td>0.000000</td>\n",
       "      <td>0.000000</td>\n",
       "      <td>0.00000</td>\n",
       "    </tr>\n",
       "    <tr>\n",
       "      <th>scaffold novelty</th>\n",
       "      <td>0.000000</td>\n",
       "      <td>0.000000</td>\n",
       "      <td>0.000000</td>\n",
       "      <td>0.00000</td>\n",
       "    </tr>\n",
       "    <tr>\n",
       "      <th>skeleton novelty</th>\n",
       "      <td>0.000000</td>\n",
       "      <td>0.000000</td>\n",
       "      <td>0.000000</td>\n",
       "      <td>0.00000</td>\n",
       "    </tr>\n",
       "  </tbody>\n",
       "</table>\n",
       "</div>"
      ],
      "text/plain": [
       "                    reinvent      crem     coati     safe\n",
       "valid               1.000000  1.000000  1.000000  1.00000\n",
       "duplicates          0.910200  0.937527  0.846925  0.80428\n",
       "good rings          0.960668  0.862463  0.822612  0.90848\n",
       "chemical stability  0.000000  0.000000  0.000000  0.00000\n",
       "scaffold novelty    0.000000  0.000000  0.000000  0.00000\n",
       "skeleton novelty    0.000000  0.000000  0.000000  0.00000"
      ]
     },
     "execution_count": 22,
     "metadata": {},
     "output_type": "execute_result"
    }
   ],
   "source": [
    "scores"
   ]
  },
  {
   "cell_type": "markdown",
   "metadata": {},
   "source": [
    "### Filter #4: Chemical Stability"
   ]
  },
  {
   "cell_type": "code",
   "execution_count": 23,
   "metadata": {},
   "outputs": [],
   "source": [
    "reos = uru.REOS()\n",
    "reos.set_active_rule_sets([\"Dundee\"])"
   ]
  },
  {
   "cell_type": "code",
   "execution_count": 24,
   "metadata": {},
   "outputs": [],
   "source": [
    "def num_stable(df):\n",
    "\n",
    "    temp_df = pd.DataFrame()\n",
    "\n",
    "    temp_df[['rule_set','reos']] = [list(reos.process_mol(x)) for x in df.ROMol]\n",
    "\n",
    "    return uru.value_counts_df(temp_df, \"reos\")['count'].values[0] / len(df)"
   ]
  },
  {
   "cell_type": "code",
   "execution_count": 25,
   "metadata": {},
   "outputs": [],
   "source": [
    "for model, df in zip(models, model_dfs):\n",
    "\n",
    "    scores[model]['chemical stability'] = num_stable(df)"
   ]
  },
  {
   "cell_type": "code",
   "execution_count": 26,
   "metadata": {},
   "outputs": [
    {
     "data": {
      "text/html": [
       "<div>\n",
       "<style scoped>\n",
       "    .dataframe tbody tr th:only-of-type {\n",
       "        vertical-align: middle;\n",
       "    }\n",
       "\n",
       "    .dataframe tbody tr th {\n",
       "        vertical-align: top;\n",
       "    }\n",
       "\n",
       "    .dataframe thead th {\n",
       "        text-align: right;\n",
       "    }\n",
       "</style>\n",
       "<table border=\"1\" class=\"dataframe\">\n",
       "  <thead>\n",
       "    <tr style=\"text-align: right;\">\n",
       "      <th></th>\n",
       "      <th>reinvent</th>\n",
       "      <th>crem</th>\n",
       "      <th>coati</th>\n",
       "      <th>safe</th>\n",
       "    </tr>\n",
       "  </thead>\n",
       "  <tbody>\n",
       "    <tr>\n",
       "      <th>valid</th>\n",
       "      <td>1.000000</td>\n",
       "      <td>1.000000</td>\n",
       "      <td>1.000000</td>\n",
       "      <td>1.000000</td>\n",
       "    </tr>\n",
       "    <tr>\n",
       "      <th>duplicates</th>\n",
       "      <td>0.910200</td>\n",
       "      <td>0.937527</td>\n",
       "      <td>0.846925</td>\n",
       "      <td>0.804280</td>\n",
       "    </tr>\n",
       "    <tr>\n",
       "      <th>good rings</th>\n",
       "      <td>0.960668</td>\n",
       "      <td>0.862463</td>\n",
       "      <td>0.822612</td>\n",
       "      <td>0.908480</td>\n",
       "    </tr>\n",
       "    <tr>\n",
       "      <th>chemical stability</th>\n",
       "      <td>0.811360</td>\n",
       "      <td>0.525248</td>\n",
       "      <td>0.725730</td>\n",
       "      <td>0.438697</td>\n",
       "    </tr>\n",
       "    <tr>\n",
       "      <th>scaffold novelty</th>\n",
       "      <td>0.000000</td>\n",
       "      <td>0.000000</td>\n",
       "      <td>0.000000</td>\n",
       "      <td>0.000000</td>\n",
       "    </tr>\n",
       "    <tr>\n",
       "      <th>skeleton novelty</th>\n",
       "      <td>0.000000</td>\n",
       "      <td>0.000000</td>\n",
       "      <td>0.000000</td>\n",
       "      <td>0.000000</td>\n",
       "    </tr>\n",
       "  </tbody>\n",
       "</table>\n",
       "</div>"
      ],
      "text/plain": [
       "                    reinvent      crem     coati      safe\n",
       "valid               1.000000  1.000000  1.000000  1.000000\n",
       "duplicates          0.910200  0.937527  0.846925  0.804280\n",
       "good rings          0.960668  0.862463  0.822612  0.908480\n",
       "chemical stability  0.811360  0.525248  0.725730  0.438697\n",
       "scaffold novelty    0.000000  0.000000  0.000000  0.000000\n",
       "skeleton novelty    0.000000  0.000000  0.000000  0.000000"
      ]
     },
     "execution_count": 26,
     "metadata": {},
     "output_type": "execute_result"
    }
   ],
   "source": [
    "scores"
   ]
  },
  {
   "cell_type": "code",
   "execution_count": 27,
   "metadata": {},
   "outputs": [],
   "source": [
    "\n",
    "from medchem.structural.lilly_demerits import LillyDemeritsFilters"
   ]
  },
  {
   "cell_type": "code",
   "execution_count": 28,
   "metadata": {},
   "outputs": [],
   "source": [
    "#def process_filters(alert: str):\n",
    "    #if not isinstance(alert, str):\n",
    "        #return None\n",
    "    #alerts = alert.split(\",\")\n",
    "    #output = set()\n",
    "    #for alert in alerts:\n",
    "        #if \":\" in alert:\n",
    "            #alert, value = alert.split(\":\")\n",
    "        #output.add(alert)\n",
    "    #return list(output)"
   ]
  },
  {
   "cell_type": "code",
   "execution_count": 29,
   "metadata": {},
   "outputs": [],
   "source": [
    "def process_structural_alerts(df: pd.DataFrame, smiles_column: str):\n",
    "    dfilter = LillyDemeritsFilters()\n",
    "    smiles = df[smiles_column].to_list()\n",
    "    results = dfilter(mols=[Chem.MolFromSmiles(smi) for smi in smiles])\n",
    "    df[\"pass_structure_filter\"] = results[\"pass_filter\"]\n",
    "    df[\"structure_filter_alerts\"] = results[\"reasons\"]\n",
    "    return df"
   ]
  },
  {
   "cell_type": "code",
   "execution_count": 30,
   "metadata": {},
   "outputs": [],
   "source": [
    "#model_dfs = [process_structural_alerts(df, \"SMILES\") for df in model_dfs]"
   ]
  },
  {
   "cell_type": "code",
   "execution_count": 31,
   "metadata": {},
   "outputs": [
    {
     "name": "stderr",
     "output_type": "stream",
     "text": [
      "Failed to find the pandas get_adjustment() function to patch\n",
      "Failed to patch pandas - PandasTools will have limited functionality\n"
     ]
    }
   ],
   "source": [
    "model_dfs[0] = process_structural_alerts(model_dfs[0], \"SMILES\")"
   ]
  },
  {
   "cell_type": "code",
   "execution_count": 32,
   "metadata": {},
   "outputs": [],
   "source": [
    "true_rate = model_dfs[0].pass_structure_filter.sum() / len(model_dfs[0])"
   ]
  },
  {
   "cell_type": "code",
   "execution_count": 33,
   "metadata": {},
   "outputs": [
    {
     "name": "stdout",
     "output_type": "stream",
     "text": [
      "0.9592397275324105\n"
     ]
    }
   ],
   "source": [
    "print(true_rate)"
   ]
  },
  {
   "cell_type": "code",
   "execution_count": 34,
   "metadata": {},
   "outputs": [],
   "source": [
    "from rdkit import Chem\n",
    "from rdkit.Chem import AllChem\n",
    "from rdkit.Chem.Scaffolds import MurckoScaffold\n",
    "from rdkit.DataStructs import BulkTanimotoSimilarity"
   ]
  },
  {
   "cell_type": "code",
   "execution_count": 35,
   "metadata": {},
   "outputs": [],
   "source": [
    "def extract_scaffold(smiles: str):\n",
    "    mol = Chem.MolFromSmiles(smiles)\n",
    "    scaffold = MurckoScaffold.GetScaffoldForMol(mol)\n",
    "    return Chem.MolToSmiles(scaffold)\n",
    "\n",
    "\n",
    "def extract_scaffold_skeleton(smiles: str):\n",
    "    mol = Chem.MolFromSmiles(smiles)\n",
    "    scaffold = MurckoScaffold.MakeScaffoldGeneric(MurckoScaffold.GetScaffoldForMol(mol))\n",
    "    return Chem.MolToSmiles(scaffold)\n",
    "\n"
   ]
  },
  {
   "cell_type": "code",
   "execution_count": 36,
   "metadata": {},
   "outputs": [],
   "source": [
    "def get_scaffold_novelty(df, initial_frags):\n",
    "    intial_scaffold = set([extract_scaffold(frag) for frag in initial_frags])\n",
    "    initial_skeleton = set([extract_scaffold_skeleton(frag) for frag in initial_frags])\n",
    "\n",
    "    model_scaffolds = set(df.SMILES.apply(extract_scaffold))\n",
    "    model_skeletons = set(df.SMILES.apply(extract_scaffold_skeleton))\n",
    "\n",
    "    novel_scaffolds = model_scaffolds - intial_scaffold\n",
    "    novel_skeletons = model_skeletons - initial_skeleton\n",
    "\n",
    "    return len(novel_scaffolds) / len(model_scaffolds), len(novel_skeletons) / len(model_skeletons)\n"
   ]
  },
  {
   "cell_type": "code",
   "execution_count": 37,
   "metadata": {},
   "outputs": [
    {
     "name": "stderr",
     "output_type": "stream",
     "text": [
      "[20:32:10] WARNING: not removing hydrogen atom without neighbors\n",
      "[20:32:10] WARNING: not removing hydrogen atom without neighbors\n",
      "[20:32:10] WARNING: not removing hydrogen atom without neighbors\n",
      "[20:32:10] WARNING: not removing hydrogen atom without neighbors\n",
      "[20:32:10] WARNING: not removing hydrogen atom without neighbors\n",
      "[20:32:10] WARNING: not removing hydrogen atom without neighbors\n",
      "[20:32:10] WARNING: not removing hydrogen atom without neighbors\n",
      "[20:32:10] WARNING: not removing hydrogen atom without neighbors\n",
      "[20:32:10] WARNING: not removing hydrogen atom without neighbors\n",
      "[20:32:10] WARNING: not removing hydrogen atom without neighbors\n",
      "[20:32:10] WARNING: not removing hydrogen atom without neighbors\n",
      "[20:32:10] WARNING: not removing hydrogen atom without neighbors\n",
      "[20:32:10] WARNING: not removing hydrogen atom without neighbors\n",
      "[20:32:10] WARNING: not removing hydrogen atom without neighbors\n",
      "[20:32:10] WARNING: not removing hydrogen atom without neighbors\n",
      "[20:32:10] WARNING: not removing hydrogen atom without neighbors\n",
      "[20:32:10] WARNING: not removing hydrogen atom without neighbors\n",
      "[20:32:10] WARNING: not removing hydrogen atom without neighbors\n",
      "[20:32:10] WARNING: not removing hydrogen atom without neighbors\n",
      "[20:32:10] WARNING: not removing hydrogen atom without neighbors\n",
      "[20:32:10] WARNING: not removing hydrogen atom without neighbors\n",
      "[20:32:10] WARNING: not removing hydrogen atom without neighbors\n",
      "[20:32:10] WARNING: not removing hydrogen atom without neighbors\n",
      "[20:32:10] WARNING: not removing hydrogen atom without neighbors\n",
      "[20:32:10] WARNING: not removing hydrogen atom without neighbors\n",
      "[20:32:10] WARNING: not removing hydrogen atom without neighbors\n",
      "[20:32:10] WARNING: not removing hydrogen atom without neighbors\n",
      "[20:32:10] WARNING: not removing hydrogen atom without neighbors\n",
      "[20:32:10] WARNING: not removing hydrogen atom without neighbors\n",
      "[20:32:10] WARNING: not removing hydrogen atom without neighbors\n",
      "[20:32:10] WARNING: not removing hydrogen atom without neighbors\n",
      "[20:32:10] WARNING: not removing hydrogen atom without neighbors\n",
      "[20:32:10] WARNING: not removing hydrogen atom without neighbors\n",
      "[20:32:10] WARNING: not removing hydrogen atom without neighbors\n",
      "[20:32:10] WARNING: not removing hydrogen atom without neighbors\n",
      "[20:32:10] WARNING: not removing hydrogen atom without neighbors\n",
      "[20:32:10] WARNING: not removing hydrogen atom without neighbors\n",
      "[20:32:10] WARNING: not removing hydrogen atom without neighbors\n",
      "[20:32:10] WARNING: not removing hydrogen atom without neighbors\n",
      "[20:32:10] WARNING: not removing hydrogen atom without neighbors\n",
      "[20:32:10] WARNING: not removing hydrogen atom without neighbors\n",
      "[20:32:10] WARNING: not removing hydrogen atom without neighbors\n",
      "[20:32:10] WARNING: not removing hydrogen atom without neighbors\n",
      "[20:32:10] WARNING: not removing hydrogen atom without neighbors\n",
      "[20:32:10] WARNING: not removing hydrogen atom without neighbors\n",
      "[20:32:10] WARNING: not removing hydrogen atom without neighbors\n",
      "[20:32:10] WARNING: not removing hydrogen atom without neighbors\n",
      "[20:32:10] WARNING: not removing hydrogen atom without neighbors\n",
      "[20:32:10] WARNING: not removing hydrogen atom without neighbors\n",
      "[20:32:10] WARNING: not removing hydrogen atom without neighbors\n",
      "[20:32:10] WARNING: not removing hydrogen atom without neighbors\n",
      "[20:32:10] WARNING: not removing hydrogen atom without neighbors\n",
      "[20:32:10] WARNING: not removing hydrogen atom without neighbors\n",
      "[20:32:10] WARNING: not removing hydrogen atom without neighbors\n",
      "[20:32:11] WARNING: not removing hydrogen atom without neighbors\n",
      "[20:32:11] WARNING: not removing hydrogen atom without neighbors\n",
      "[20:32:11] WARNING: not removing hydrogen atom without neighbors\n",
      "[20:32:11] WARNING: not removing hydrogen atom without neighbors\n",
      "[20:32:11] WARNING: not removing hydrogen atom without neighbors\n",
      "[20:32:11] WARNING: not removing hydrogen atom without neighbors\n",
      "[20:32:11] WARNING: not removing hydrogen atom without neighbors\n",
      "[20:32:11] WARNING: not removing hydrogen atom without neighbors\n",
      "[20:32:11] WARNING: not removing hydrogen atom without neighbors\n",
      "[20:32:11] WARNING: not removing hydrogen atom without neighbors\n",
      "[20:32:11] WARNING: not removing hydrogen atom without neighbors\n",
      "[20:32:11] WARNING: not removing hydrogen atom without neighbors\n",
      "[20:32:11] WARNING: not removing hydrogen atom without neighbors\n",
      "[20:32:11] WARNING: not removing hydrogen atom without neighbors\n",
      "[20:32:11] WARNING: not removing hydrogen atom without neighbors\n",
      "[20:32:11] WARNING: not removing hydrogen atom without neighbors\n",
      "[20:32:11] WARNING: not removing hydrogen atom without neighbors\n",
      "[20:32:11] WARNING: not removing hydrogen atom without neighbors\n",
      "[20:32:11] WARNING: not removing hydrogen atom without neighbors\n",
      "[20:32:11] WARNING: not removing hydrogen atom without neighbors\n",
      "[20:32:11] WARNING: not removing hydrogen atom without neighbors\n",
      "[20:32:11] WARNING: not removing hydrogen atom without neighbors\n",
      "[20:32:11] WARNING: not removing hydrogen atom without neighbors\n",
      "[20:32:11] WARNING: not removing hydrogen atom without neighbors\n",
      "[20:32:11] WARNING: not removing hydrogen atom without neighbors\n",
      "[20:32:11] WARNING: not removing hydrogen atom without neighbors\n",
      "[20:32:11] WARNING: not removing hydrogen atom without neighbors\n",
      "[20:32:11] WARNING: not removing hydrogen atom without neighbors\n",
      "[20:32:11] WARNING: not removing hydrogen atom without neighbors\n",
      "[20:32:11] WARNING: not removing hydrogen atom without neighbors\n",
      "[20:32:11] WARNING: not removing hydrogen atom without neighbors\n",
      "[20:32:11] WARNING: not removing hydrogen atom without neighbors\n",
      "[20:32:11] WARNING: not removing hydrogen atom without neighbors\n",
      "[20:32:11] WARNING: not removing hydrogen atom without neighbors\n",
      "[20:32:11] WARNING: not removing hydrogen atom without neighbors\n",
      "[20:32:11] WARNING: not removing hydrogen atom without neighbors\n",
      "[20:32:11] WARNING: not removing hydrogen atom without neighbors\n",
      "[20:32:11] WARNING: not removing hydrogen atom without neighbors\n",
      "[20:32:11] WARNING: not removing hydrogen atom without neighbors\n",
      "[20:32:11] WARNING: not removing hydrogen atom without neighbors\n",
      "[20:32:11] WARNING: not removing hydrogen atom without neighbors\n",
      "[20:32:11] WARNING: not removing hydrogen atom without neighbors\n",
      "[20:32:11] WARNING: not removing hydrogen atom without neighbors\n",
      "[20:32:11] WARNING: not removing hydrogen atom without neighbors\n",
      "[20:32:11] WARNING: not removing hydrogen atom without neighbors\n",
      "[20:32:11] WARNING: not removing hydrogen atom without neighbors\n",
      "[20:32:11] WARNING: not removing hydrogen atom without neighbors\n",
      "[20:32:11] WARNING: not removing hydrogen atom without neighbors\n",
      "[20:32:11] WARNING: not removing hydrogen atom without neighbors\n",
      "[20:32:11] WARNING: not removing hydrogen atom without neighbors\n",
      "[20:32:11] WARNING: not removing hydrogen atom without neighbors\n",
      "[20:32:11] WARNING: not removing hydrogen atom without neighbors\n",
      "[20:32:11] WARNING: not removing hydrogen atom without neighbors\n",
      "[20:32:12] WARNING: not removing hydrogen atom without neighbors\n",
      "[20:32:12] WARNING: not removing hydrogen atom without neighbors\n",
      "[20:32:12] WARNING: not removing hydrogen atom without neighbors\n",
      "[20:32:12] WARNING: not removing hydrogen atom without neighbors\n",
      "[20:32:12] WARNING: not removing hydrogen atom without neighbors\n",
      "[20:32:12] WARNING: not removing hydrogen atom without neighbors\n",
      "[20:32:12] WARNING: not removing hydrogen atom without neighbors\n",
      "[20:32:12] WARNING: not removing hydrogen atom without neighbors\n",
      "[20:32:12] WARNING: not removing hydrogen atom without neighbors\n",
      "[20:32:12] WARNING: not removing hydrogen atom without neighbors\n",
      "[20:32:12] WARNING: not removing hydrogen atom without neighbors\n",
      "[20:32:12] WARNING: not removing hydrogen atom without neighbors\n",
      "[20:32:13] WARNING: not removing hydrogen atom without neighbors\n",
      "[20:32:13] WARNING: not removing hydrogen atom without neighbors\n",
      "[20:32:13] WARNING: not removing hydrogen atom without neighbors\n",
      "[20:32:13] WARNING: not removing hydrogen atom without neighbors\n",
      "[20:32:13] WARNING: not removing hydrogen atom without neighbors\n",
      "[20:32:14] WARNING: not removing hydrogen atom without neighbors\n",
      "[20:32:15] WARNING: not removing hydrogen atom without neighbors\n",
      "[20:32:15] WARNING: not removing hydrogen atom without neighbors\n",
      "[20:32:15] WARNING: not removing hydrogen atom without neighbors\n",
      "[20:32:18] WARNING: not removing hydrogen atom without neighbors\n",
      "[20:32:20] WARNING: not removing hydrogen atom without neighbors\n",
      "[20:32:20] WARNING: not removing hydrogen atom without neighbors\n",
      "[20:32:20] WARNING: not removing hydrogen atom without neighbors\n"
     ]
    }
   ],
   "source": [
    "for model, df in zip(models, model_dfs):\n",
    "\n",
    "    scaffold_novelty, skeleton_novelty = get_scaffold_novelty(df, fragments)\n",
    "\n",
    "    scores[model]['scaffold novelty'] = scaffold_novelty\n",
    "    scores[model]['skeleton novelty'] = skeleton_novelty"
   ]
  },
  {
   "cell_type": "code",
   "execution_count": 38,
   "metadata": {},
   "outputs": [
    {
     "name": "stdout",
     "output_type": "stream",
     "text": [
      "                    reinvent      crem     coati      safe\n",
      "valid               1.000000  1.000000  1.000000  1.000000\n",
      "duplicates          0.910200  0.937527  0.846925  0.804280\n",
      "good rings          0.960668  0.862463  0.822612  0.908480\n",
      "chemical stability  0.811360  0.525248  0.725730  0.438697\n",
      "scaffold novelty    0.978992  0.984697  0.986613  0.991951\n",
      "skeleton novelty    0.963731  0.955128  0.971660  0.990145\n"
     ]
    }
   ],
   "source": [
    "print(scores)"
   ]
  },
  {
   "cell_type": "code",
   "execution_count": 39,
   "metadata": {},
   "outputs": [],
   "source": [
    "\n",
    "import matplotlib.pyplot as plt\n",
    "import matplotlib.colors\n",
    "import seaborn as sns"
   ]
  },
  {
   "cell_type": "code",
   "execution_count": 40,
   "metadata": {},
   "outputs": [
    {
     "data": {
      "image/png": "[encoded data removed]",
      "text/plain": [
       "<Figure size 1100x400 with 2 Axes>"
      ]
     },
     "metadata": {},
     "output_type": "display_data"
    }
   ],
   "source": [
    "#make bar plot of scaffold novelty and skeleton novelty\n",
    "\n",
    "fig, ax = plt.subplots(1, 2, figsize=(11, 4))\n",
    "ax = ax.flatten()\n",
    "\n",
    "scaffold_novelty = [scores[model]['scaffold novelty'] for model in models]\n",
    "skeleton_novelty = [scores[model]['skeleton novelty'] for model in models]\n",
    "\n",
    "sns.barplot(x=models, y=scaffold_novelty, ax=ax[0])\n",
    "ax[0].set_title('Scaffold Novelty')\n",
    "ax[0].set_ylabel('Fraction of Novel Scaffolds')\n",
    "\n",
    "sns.barplot(x=models, y=skeleton_novelty, ax=ax[1])\n",
    "ax[1].set_title('Skeleton Novelty')\n",
    "ax[1].set_ylabel('Fraction of Novel Skeletons')\n",
    "\n",
    "plt.tight_layout()\n",
    "plt.show()"
   ]
  },
  {
   "cell_type": "code",
   "execution_count": 41,
   "metadata": {},
   "outputs": [],
   "source": [
    "import medchem as mc"
   ]
  },
  {
   "cell_type": "code",
   "execution_count": 42,
   "metadata": {},
   "outputs": [],
   "source": [
    "from rdkit.Chem import PandasTools\n",
    "import datamol as dm"
   ]
  },
  {
   "cell_type": "code",
   "execution_count": null,
   "metadata": {},
   "outputs": [],
   "source": []
  },
  {
   "cell_type": "code",
   "execution_count": 43,
   "metadata": {},
   "outputs": [],
   "source": [
    "model_dfs[0][\"mol\"] = model_dfs[0][\"SMILES\"].apply(dm.to_mol)"
   ]
  },
  {
   "cell_type": "code",
   "execution_count": 44,
   "metadata": {},
   "outputs": [],
   "source": [
    "def process_filters(data):\n",
    "\n",
    "    data[\"rule_of_five\"] = data[\"SMILES\"].apply(mc.rules.basic_rules.rule_of_five)\n",
    "\n",
    "    # Apply some default medchem filters\n",
    "    data[\"alerts_Dundee\"] = mc.functional.alert_filter(\n",
    "        mols=data[\"mol\"].tolist(),\n",
    "        alerts=[\"Dundee\"],\n",
    "        n_jobs=-1,\n",
    "        progress=True,\n",
    "        return_idx=False,\n",
    "    )\n",
    "\n",
    "    data[\"alerts_SureChEMBL\"] = mc.functional.alert_filter(\n",
    "        mols=data[\"mol\"].tolist(),\n",
    "        alerts=[\"SureChEMBL\"],\n",
    "        n_jobs=-1,\n",
    "        progress=True,\n",
    "        return_idx=False,\n",
    "    )\n",
    "\n",
    "    data[\"filters_NIBR\"] = mc.functional.nibr_filter(\n",
    "        mols=data[\"mol\"].tolist(),\n",
    "        n_jobs=-1,\n",
    "        progress=True,\n",
    "        return_idx=False,\n",
    "    )\n",
    "\n",
    "    data[\"filter_molecular_graph\"] = mc.functional.molecular_graph_filter(\n",
    "        mols=data[\"mol\"].tolist(),\n",
    "        max_severity=5,\n",
    "        n_jobs=-1,\n",
    "        progress=True,\n",
    "        return_idx=False,\n",
    "    )\n",
    "\n",
    "    data[\"filter_lilly_demerit\"] = mc.functional.lilly_demerit_filter(\n",
    "        mols=data[\"mol\"].tolist(),\n",
    "        n_jobs=-1,\n",
    "        progress=True,\n",
    "        return_idx=False,\n",
    "    )"
   ]
  },
  {
   "cell_type": "code",
   "execution_count": 45,
   "metadata": {},
   "outputs": [],
   "source": [
    "\n",
    "import matplotlib.pyplot as plt\n",
    "import matplotlib.colors\n",
    "import seaborn as sns"
   ]
  },
  {
   "cell_type": "code",
   "execution_count": 46,
   "metadata": {},
   "outputs": [],
   "source": [
    "def plot_filters(data, model):\n",
    "    filter_columns = [\n",
    "        \"rule_of_five\",\n",
    "        \"alerts_Dundee\",\n",
    "        \"alerts_SureChEMBL\",\n",
    "        \"filters_NIBR\",\n",
    "        \"filter_molecular_graph\",\n",
    "        \"filter_lilly_demerit\",\n",
    "    ]\n",
    "\n",
    "    # Some sorting for a nice plot\n",
    "    data[\"n_filters_pass\"] = data[filter_columns].sum(axis=1)\n",
    "    data = data.sort_values(\"n_filters_pass\", ascending=True)\n",
    "\n",
    "    # Plot\n",
    "\n",
    "    f, ax = plt.subplots(figsize=(14, 4), constrained_layout=True)\n",
    "\n",
    "    cmap = matplotlib.colors.ListedColormap([\"#EF6262\", \"#1D5B79\"], None)\n",
    "\n",
    "    a = sns.heatmap(\n",
    "        data[filter_columns].T,\n",
    "        annot=False,\n",
    "        ax=ax,\n",
    "        xticklabels=False,  # type: ignore\n",
    "        yticklabels=True,  # type: ignore\n",
    "        cbar=True,\n",
    "        cmap=cmap,\n",
    "    )\n",
    "\n",
    "    ax.collections[0].colorbar.set_ticks([0.25, 0.75])\n",
    "    ax.collections[0].colorbar.set_ticklabels([\"Don't Pass\", \"Pass\"], fontsize=14)\n",
    "\n",
    "    ax.set_xlabel(f\"Analogs from {model} sorted (n={len(data)})\", fontsize=14)\n",
    "    ax.set_ylabel(\"Medchem Filters\", fontsize=18)\n",
    "\n",
    "    # Add percentage of passing mols in the y labels\n",
    "    new_ylabels = []\n",
    "    for t in ax.yaxis.get_ticklabels():\n",
    "        perc = data[t.get_text()].sum() / len(data) * 100\n",
    "        new_ylabels.append(f\"{t.get_text()} ({perc:.0f}%)\")\n",
    "    _ = ax.yaxis.set_ticklabels(new_ylabels, fontsize=12)\n"
   ]
  },
  {
   "cell_type": "code",
   "execution_count": null,
   "metadata": {},
   "outputs": [],
   "source": []
  },
  {
   "cell_type": "code",
   "execution_count": 47,
   "metadata": {},
   "outputs": [
    {
     "data": {
      "application/vnd.jupyter.widget-view+json": {
       "model_id": "393aad339b634cb29527c90a5f381bc8",
       "version_major": 2,
       "version_minor": 0
      },
      "text/plain": [
       "Common alerts filtering:   0%|          | 0/9102 [00:00<?, ?it/s]"
      ]
     },
     "metadata": {},
     "output_type": "display_data"
    },
    {
     "data": {
      "application/vnd.jupyter.widget-view+json": {
       "model_id": "28b163cc206e472795da374dee6cae13",
       "version_major": 2,
       "version_minor": 0
      },
      "text/plain": [
       "Common alerts filtering:   0%|          | 0/9102 [00:00<?, ?it/s]"
      ]
     },
     "metadata": {},
     "output_type": "display_data"
    },
    {
     "data": {
      "application/vnd.jupyter.widget-view+json": {
       "model_id": "daad58189d0243dca13add198c8070bb",
       "version_major": 2,
       "version_minor": 0
      },
      "text/plain": [
       "NIBR filtering:   0%|          | 0/9102 [00:00<?, ?it/s]"
      ]
     },
     "metadata": {},
     "output_type": "display_data"
    },
    {
     "data": {
      "application/vnd.jupyter.widget-view+json": {
       "model_id": "ba7f66905eac4616b027499c2e727308",
       "version_major": 2,
       "version_minor": 0
      },
      "text/plain": [
       "Match:   0%|          | 0/9102 [00:00<?, ?it/s]"
      ]
     },
     "metadata": {},
     "output_type": "display_data"
    },
    {
     "data": {
      "application/vnd.jupyter.widget-view+json": {
       "model_id": "96f513703c0246759caf2d846935e060",
       "version_major": 2,
       "version_minor": 0
      },
      "text/plain": [
       "Demerits filtering:   0%|          | 0/2 [00:00<?, ?it/s]"
      ]
     },
     "metadata": {},
     "output_type": "display_data"
    },
    {
     "ename": "KeyError",
     "evalue": "\"['rule_of_ghose', 'rule_of_veber', 'rule_of_zinc', 'alerts_PAINS', 'filter_bredt'] not in index\"",
     "output_type": "error",
     "traceback": [
      "\u001b[0;31m---------------------------------------------------------------------------\u001b[0m",
      "\u001b[0;31mKeyError\u001b[0m                                  Traceback (most recent call last)",
      "Cell \u001b[0;32mIn[47], line 7\u001b[0m\n\u001b[1;32m      3\u001b[0m df[\u001b[38;5;124m\"\u001b[39m\u001b[38;5;124mmol\u001b[39m\u001b[38;5;124m\"\u001b[39m] \u001b[38;5;241m=\u001b[39m df[\u001b[38;5;124m\"\u001b[39m\u001b[38;5;124mSMILES\u001b[39m\u001b[38;5;124m\"\u001b[39m]\u001b[38;5;241m.\u001b[39mapply(dm\u001b[38;5;241m.\u001b[39mto_mol)\n\u001b[1;32m      5\u001b[0m process_filters(df)\n\u001b[0;32m----> 7\u001b[0m \u001b[43mplot_filters\u001b[49m\u001b[43m(\u001b[49m\u001b[43mdf\u001b[49m\u001b[43m,\u001b[49m\u001b[43m \u001b[49m\u001b[43mmodel\u001b[49m\u001b[43m)\u001b[49m\n",
      "Cell \u001b[0;32mIn[46], line 17\u001b[0m, in \u001b[0;36mplot_filters\u001b[0;34m(data, model)\u001b[0m\n\u001b[1;32m      2\u001b[0m filter_columns \u001b[38;5;241m=\u001b[39m [\n\u001b[1;32m      3\u001b[0m     \u001b[38;5;124m\"\u001b[39m\u001b[38;5;124mrule_of_five\u001b[39m\u001b[38;5;124m\"\u001b[39m,\n\u001b[1;32m      4\u001b[0m     \u001b[38;5;124m\"\u001b[39m\u001b[38;5;124mrule_of_ghose\u001b[39m\u001b[38;5;124m\"\u001b[39m,\n\u001b[0;32m   (...)\u001b[0m\n\u001b[1;32m     13\u001b[0m     \u001b[38;5;124m\"\u001b[39m\u001b[38;5;124mfilter_lilly_demerit\u001b[39m\u001b[38;5;124m\"\u001b[39m,\n\u001b[1;32m     14\u001b[0m ]\n\u001b[1;32m     16\u001b[0m \u001b[38;5;66;03m# Some sorting for a nice plot\u001b[39;00m\n\u001b[0;32m---> 17\u001b[0m data[\u001b[38;5;124m\"\u001b[39m\u001b[38;5;124mn_filters_pass\u001b[39m\u001b[38;5;124m\"\u001b[39m] \u001b[38;5;241m=\u001b[39m \u001b[43mdata\u001b[49m\u001b[43m[\u001b[49m\u001b[43mfilter_columns\u001b[49m\u001b[43m]\u001b[49m\u001b[38;5;241m.\u001b[39msum(axis\u001b[38;5;241m=\u001b[39m\u001b[38;5;241m1\u001b[39m)\n\u001b[1;32m     18\u001b[0m data \u001b[38;5;241m=\u001b[39m data\u001b[38;5;241m.\u001b[39msort_values(\u001b[38;5;124m\"\u001b[39m\u001b[38;5;124mn_filters_pass\u001b[39m\u001b[38;5;124m\"\u001b[39m, ascending\u001b[38;5;241m=\u001b[39m\u001b[38;5;28;01mTrue\u001b[39;00m)\n\u001b[1;32m     20\u001b[0m \u001b[38;5;66;03m# Plot\u001b[39;00m\n",
      "File \u001b[0;32m~/.local/lib/python3.10/site-packages/pandas/core/frame.py:4108\u001b[0m, in \u001b[0;36mDataFrame.__getitem__\u001b[0;34m(self, key)\u001b[0m\n\u001b[1;32m   4106\u001b[0m     \u001b[38;5;28;01mif\u001b[39;00m is_iterator(key):\n\u001b[1;32m   4107\u001b[0m         key \u001b[38;5;241m=\u001b[39m \u001b[38;5;28mlist\u001b[39m(key)\n\u001b[0;32m-> 4108\u001b[0m     indexer \u001b[38;5;241m=\u001b[39m \u001b[38;5;28;43mself\u001b[39;49m\u001b[38;5;241;43m.\u001b[39;49m\u001b[43mcolumns\u001b[49m\u001b[38;5;241;43m.\u001b[39;49m\u001b[43m_get_indexer_strict\u001b[49m\u001b[43m(\u001b[49m\u001b[43mkey\u001b[49m\u001b[43m,\u001b[49m\u001b[43m \u001b[49m\u001b[38;5;124;43m\"\u001b[39;49m\u001b[38;5;124;43mcolumns\u001b[39;49m\u001b[38;5;124;43m\"\u001b[39;49m\u001b[43m)\u001b[49m[\u001b[38;5;241m1\u001b[39m]\n\u001b[1;32m   4110\u001b[0m \u001b[38;5;66;03m# take() does not accept boolean indexers\u001b[39;00m\n\u001b[1;32m   4111\u001b[0m \u001b[38;5;28;01mif\u001b[39;00m \u001b[38;5;28mgetattr\u001b[39m(indexer, \u001b[38;5;124m\"\u001b[39m\u001b[38;5;124mdtype\u001b[39m\u001b[38;5;124m\"\u001b[39m, \u001b[38;5;28;01mNone\u001b[39;00m) \u001b[38;5;241m==\u001b[39m \u001b[38;5;28mbool\u001b[39m:\n",
      "File \u001b[0;32m~/.local/lib/python3.10/site-packages/pandas/core/indexes/base.py:6200\u001b[0m, in \u001b[0;36mIndex._get_indexer_strict\u001b[0;34m(self, key, axis_name)\u001b[0m\n\u001b[1;32m   6197\u001b[0m \u001b[38;5;28;01melse\u001b[39;00m:\n\u001b[1;32m   6198\u001b[0m     keyarr, indexer, new_indexer \u001b[38;5;241m=\u001b[39m \u001b[38;5;28mself\u001b[39m\u001b[38;5;241m.\u001b[39m_reindex_non_unique(keyarr)\n\u001b[0;32m-> 6200\u001b[0m \u001b[38;5;28;43mself\u001b[39;49m\u001b[38;5;241;43m.\u001b[39;49m\u001b[43m_raise_if_missing\u001b[49m\u001b[43m(\u001b[49m\u001b[43mkeyarr\u001b[49m\u001b[43m,\u001b[49m\u001b[43m \u001b[49m\u001b[43mindexer\u001b[49m\u001b[43m,\u001b[49m\u001b[43m \u001b[49m\u001b[43maxis_name\u001b[49m\u001b[43m)\u001b[49m\n\u001b[1;32m   6202\u001b[0m keyarr \u001b[38;5;241m=\u001b[39m \u001b[38;5;28mself\u001b[39m\u001b[38;5;241m.\u001b[39mtake(indexer)\n\u001b[1;32m   6203\u001b[0m \u001b[38;5;28;01mif\u001b[39;00m \u001b[38;5;28misinstance\u001b[39m(key, Index):\n\u001b[1;32m   6204\u001b[0m     \u001b[38;5;66;03m# GH 42790 - Preserve name from an Index\u001b[39;00m\n",
      "File \u001b[0;32m~/.local/lib/python3.10/site-packages/pandas/core/indexes/base.py:6252\u001b[0m, in \u001b[0;36mIndex._raise_if_missing\u001b[0;34m(self, key, indexer, axis_name)\u001b[0m\n\u001b[1;32m   6249\u001b[0m     \u001b[38;5;28;01mraise\u001b[39;00m \u001b[38;5;167;01mKeyError\u001b[39;00m(\u001b[38;5;124mf\u001b[39m\u001b[38;5;124m\"\u001b[39m\u001b[38;5;124mNone of [\u001b[39m\u001b[38;5;132;01m{\u001b[39;00mkey\u001b[38;5;132;01m}\u001b[39;00m\u001b[38;5;124m] are in the [\u001b[39m\u001b[38;5;132;01m{\u001b[39;00maxis_name\u001b[38;5;132;01m}\u001b[39;00m\u001b[38;5;124m]\u001b[39m\u001b[38;5;124m\"\u001b[39m)\n\u001b[1;32m   6251\u001b[0m not_found \u001b[38;5;241m=\u001b[39m \u001b[38;5;28mlist\u001b[39m(ensure_index(key)[missing_mask\u001b[38;5;241m.\u001b[39mnonzero()[\u001b[38;5;241m0\u001b[39m]]\u001b[38;5;241m.\u001b[39munique())\n\u001b[0;32m-> 6252\u001b[0m \u001b[38;5;28;01mraise\u001b[39;00m \u001b[38;5;167;01mKeyError\u001b[39;00m(\u001b[38;5;124mf\u001b[39m\u001b[38;5;124m\"\u001b[39m\u001b[38;5;132;01m{\u001b[39;00mnot_found\u001b[38;5;132;01m}\u001b[39;00m\u001b[38;5;124m not in index\u001b[39m\u001b[38;5;124m\"\u001b[39m)\n",
      "\u001b[0;31mKeyError\u001b[0m: \"['rule_of_ghose', 'rule_of_veber', 'rule_of_zinc', 'alerts_PAINS', 'filter_bredt'] not in index\""
     ]
    }
   ],
   "source": [
    "for model, df in zip(models, model_dfs):\n",
    "\n",
    "        df[\"mol\"] = df[\"SMILES\"].apply(dm.to_mol)\n",
    "    \n",
    "        process_filters(df)\n",
    "    \n",
    "        plot_filters(df, model)"
   ]
  },
  {
   "cell_type": "code",
   "execution_count": null,
   "metadata": {},
   "outputs": [],
   "source": []
  }
 ],
 "metadata": {
  "kernelspec": {
   "display_name": "reinvent",
   "language": "python",
   "name": "python3"
  },
  "language_info": {
   "codemirror_mode": {
    "name": "ipython",
    "version": 3
   },
   "file_extension": ".py",
   "mimetype": "text/x-python",
   "name": "python",
   "nbconvert_exporter": "python",
   "pygments_lexer": "ipython3",
   "version": "3.10.13"
  }
 },
 "nbformat": 4,
 "nbformat_minor": 2
}
