{
 "cells": [
  {
   "cell_type": "markdown",
   "metadata": {},
   "source": [
    "## Preliminary Filtering and analysis"
   ]
  },
  {
   "cell_type": "code",
   "execution_count": 1,
   "metadata": {},
   "outputs": [
    {
     "name": "stdout",
     "output_type": "stream",
     "text": [
      "Current conda environment: reinvent\n",
      "Working directory: /home/fts_g_ucla_edu/Projects/rips-relay/experiments\n"
     ]
    }
   ],
   "source": [
    "import subprocess\n",
    "import os\n",
    "print('Current conda environment:', os.environ['CONDA_DEFAULT_ENV'])\n",
    "os.environ['TOKENIZERS_PARALLELISM'] = \"false\"\n",
    "\n",
    "cwd = os.getcwd()\n",
    "print('Working directory:', cwd)\n",
    "\n",
    "import warnings\n",
    "warnings.filterwarnings('ignore')\n",
    "\n",
    "import random\n",
    "random.seed(42)\n",
    "\n"
   ]
  },
  {
   "cell_type": "code",
   "execution_count": 2,
   "metadata": {},
   "outputs": [],
   "source": [
    "import numpy as np\n",
    "import pandas as pd\n",
    "\n",
    "from rdkit import Chem\n",
    "import useful_rdkit_utils as uru\n",
    "\n",
    "import pickle\n",
    "\n",
    "import seaborn as sns"
   ]
  },
  {
   "cell_type": "code",
   "execution_count": 3,
   "metadata": {},
   "outputs": [],
   "source": [
    "#Seaborn settings for visualizations\n",
    "\n",
    "rc = {\n",
    "    \"axes.facecolor\": \"#f7f9fc\",\n",
    "    \"figure.facecolor\": \"#f7f9fc\",\n",
    "    \"axes.edgecolor\": \"#000000\",\n",
    "    \"grid.color\": \"#EBEBE7\",\n",
    "    \"font.family\": \"serif\",\n",
    "    \"axes.labelcolor\": \"#000000\",\n",
    "    \"xtick.color\": \"#000000\",\n",
    "    \"ytick.color\": \"#000000\",\n",
    "    \"grid.alpha\": 0.4\n",
    "}\n",
    "\n",
    "default_palette = 'tab10'\n",
    "\n",
    "sns.set(rc=rc)\n",
    "pd.set_option('display.max_columns', 35)\n",
    "pd.options.display.float_format = '{:,.2f}'.format"
   ]
  },
  {
   "cell_type": "markdown",
   "metadata": {},
   "source": [
    "## Generating Data"
   ]
  },
  {
   "cell_type": "code",
   "execution_count": 4,
   "metadata": {},
   "outputs": [],
   "source": [
    "fragments = []\n",
    "\n",
    "f = open(\"data/fragments.smi\", \"r\")\n",
    "\n",
    "for i in range(1, 51):\n",
    "    mol = f.readline()\n",
    "    fragments.append(mol[:-1])"
   ]
  },
  {
   "cell_type": "markdown",
   "metadata": {},
   "source": [
    "### Generate a distribution from each fragment for each model"
   ]
  },
  {
   "cell_type": "code",
   "execution_count": 5,
   "metadata": {},
   "outputs": [],
   "source": [
    "models = ['reinvent', 'crem', 'coati', 'safe']"
   ]
  },
  {
   "cell_type": "markdown",
   "metadata": {},
   "source": [
    "The following three cells generate data and write / overwrite a pickle file containing it. Un-comment and run them to generate data for the following experiment"
   ]
  },
  {
   "cell_type": "code",
   "execution_count": 6,
   "metadata": {},
   "outputs": [],
   "source": [
    "# %%capture\n",
    "\n",
    "# for fragment in fragments:\n",
    "#     for model in models:\n",
    "\n",
    "#         DF_FILEPATH = f'data/{model}_dataframe.csv'\n",
    "\n",
    "#         arg1 = '--model'\n",
    "#         arg2 = '--input_frag'\n",
    "#         arg3 = '--sample'\n",
    "\n",
    "#         args = ['python3', 'generate_analogs.py',\n",
    "#                 arg1, model,\n",
    "#                 arg2, fragment,\n",
    "#                 arg3, '200']\n",
    "\n",
    "#         # Change directory to generate analogs with python script\n",
    "#         %cd ..\n",
    "\n",
    "#         subprocess.run(args,\n",
    "#                     stdout=subprocess.DEVNULL,\n",
    "#                     stderr=subprocess.STDOUT)\n",
    "                \n",
    "#         # Change directory back to that of the current notebook\n",
    "#         %cd experiments\n",
    "\n",
    "#         df = pd.read_csv(DF_FILEPATH, index_col=0)\n",
    "\n",
    "#         df['Model'] = model\n",
    "\n",
    "#         if model == 'reinvent':\n",
    "#             reinvent_distributions.append(df)\n",
    "#         elif model == 'crem':\n",
    "#             crem_distributions.append(df)\n",
    "#         elif model == 'coati':\n",
    "#             coati_distributions.append(df)\n",
    "#         elif model == 'safe':\n",
    "#             safe_distributions.append(df)"
   ]
  },
  {
   "cell_type": "code",
   "execution_count": 7,
   "metadata": {},
   "outputs": [],
   "source": [
    "# data = {'reinvent' : reinvent_distributions,\n",
    "#         'crem' : crem_distributions,\n",
    "#         'coati' : coati_distributions,\n",
    "#         'safe' : safe_distributions}"
   ]
  },
  {
   "cell_type": "code",
   "execution_count": 8,
   "metadata": {},
   "outputs": [],
   "source": [
    "# with open('lists.pkl', 'wb') as file:\n",
    "#     pickle.dump(data, file)"
   ]
  },
  {
   "cell_type": "code",
   "execution_count": 9,
   "metadata": {},
   "outputs": [],
   "source": [
    "with open('data/lists.pkl', 'rb') as file:\n",
    "    data = pickle.load(file)"
   ]
  },
  {
   "cell_type": "markdown",
   "metadata": {},
   "source": [
    "### Concatenate data for each model"
   ]
  },
  {
   "cell_type": "code",
   "execution_count": 10,
   "metadata": {},
   "outputs": [],
   "source": [
    "model_dfs = []\n",
    "\n",
    "for model in models:\n",
    "\n",
    "    distributions = data[model]\n",
    "    model_df = pd.DataFrame()\n",
    "\n",
    "    for df in distributions:\n",
    "\n",
    "        model_df = pd.concat((model_df, df))\n",
    "\n",
    "    model_dfs.append(model_df)"
   ]
  },
  {
   "cell_type": "markdown",
   "metadata": {},
   "source": [
    "### Filtering invalid molecules"
   ]
  },
  {
   "cell_type": "code",
   "execution_count": 11,
   "metadata": {},
   "outputs": [
    {
     "name": "stderr",
     "output_type": "stream",
     "text": [
      "[16:54:55] WARNING: not removing hydrogen atom without neighbors\n",
      "[16:54:55] WARNING: not removing hydrogen atom without neighbors\n",
      "[16:54:55] WARNING: not removing hydrogen atom without neighbors\n",
      "[16:54:55] WARNING: not removing hydrogen atom without neighbors\n",
      "[16:54:55] WARNING: not removing hydrogen atom without neighbors\n",
      "[16:54:55] WARNING: not removing hydrogen atom without neighbors\n",
      "[16:54:55] WARNING: not removing hydrogen atom without neighbors\n",
      "[16:54:55] WARNING: not removing hydrogen atom without neighbors\n",
      "[16:54:55] WARNING: not removing hydrogen atom without neighbors\n",
      "[16:54:55] WARNING: not removing hydrogen atom without neighbors\n",
      "[16:54:55] WARNING: not removing hydrogen atom without neighbors\n",
      "[16:54:55] WARNING: not removing hydrogen atom without neighbors\n",
      "[16:54:55] WARNING: not removing hydrogen atom without neighbors\n",
      "[16:54:55] WARNING: not removing hydrogen atom without neighbors\n",
      "[16:54:55] WARNING: not removing hydrogen atom without neighbors\n",
      "[16:54:55] WARNING: not removing hydrogen atom without neighbors\n",
      "[16:54:55] WARNING: not removing hydrogen atom without neighbors\n",
      "[16:54:55] WARNING: not removing hydrogen atom without neighbors\n",
      "[16:54:55] WARNING: not removing hydrogen atom without neighbors\n",
      "[16:54:55] WARNING: not removing hydrogen atom without neighbors\n",
      "[16:54:55] WARNING: not removing hydrogen atom without neighbors\n",
      "[16:54:55] WARNING: not removing hydrogen atom without neighbors\n",
      "[16:54:55] WARNING: not removing hydrogen atom without neighbors\n",
      "[16:54:55] WARNING: not removing hydrogen atom without neighbors\n",
      "[16:54:55] WARNING: not removing hydrogen atom without neighbors\n",
      "[16:54:55] WARNING: not removing hydrogen atom without neighbors\n",
      "[16:54:55] WARNING: not removing hydrogen atom without neighbors\n",
      "[16:54:55] WARNING: not removing hydrogen atom without neighbors\n",
      "[16:54:55] WARNING: not removing hydrogen atom without neighbors\n",
      "[16:54:55] WARNING: not removing hydrogen atom without neighbors\n",
      "[16:54:55] WARNING: not removing hydrogen atom without neighbors\n",
      "[16:54:55] WARNING: not removing hydrogen atom without neighbors\n",
      "[16:54:55] WARNING: not removing hydrogen atom without neighbors\n",
      "[16:54:55] WARNING: not removing hydrogen atom without neighbors\n",
      "[16:54:55] WARNING: not removing hydrogen atom without neighbors\n",
      "[16:54:55] WARNING: not removing hydrogen atom without neighbors\n",
      "[16:54:55] WARNING: not removing hydrogen atom without neighbors\n",
      "[16:54:55] WARNING: not removing hydrogen atom without neighbors\n",
      "[16:54:55] WARNING: not removing hydrogen atom without neighbors\n",
      "[16:54:55] WARNING: not removing hydrogen atom without neighbors\n",
      "[16:54:55] WARNING: not removing hydrogen atom without neighbors\n",
      "[16:54:55] WARNING: not removing hydrogen atom without neighbors\n",
      "[16:54:55] WARNING: not removing hydrogen atom without neighbors\n",
      "[16:54:55] WARNING: not removing hydrogen atom without neighbors\n",
      "[16:54:55] WARNING: not removing hydrogen atom without neighbors\n",
      "[16:54:55] WARNING: not removing hydrogen atom without neighbors\n",
      "[16:54:55] WARNING: not removing hydrogen atom without neighbors\n",
      "[16:54:55] WARNING: not removing hydrogen atom without neighbors\n",
      "[16:54:55] WARNING: not removing hydrogen atom without neighbors\n",
      "[16:54:55] WARNING: not removing hydrogen atom without neighbors\n",
      "[16:54:55] WARNING: not removing hydrogen atom without neighbors\n",
      "[16:54:55] WARNING: not removing hydrogen atom without neighbors\n",
      "[16:54:55] WARNING: not removing hydrogen atom without neighbors\n",
      "[16:54:55] WARNING: not removing hydrogen atom without neighbors\n",
      "[16:54:55] WARNING: not removing hydrogen atom without neighbors\n",
      "[16:54:55] WARNING: not removing hydrogen atom without neighbors\n",
      "[16:54:55] WARNING: not removing hydrogen atom without neighbors\n",
      "[16:54:55] WARNING: not removing hydrogen atom without neighbors\n",
      "[16:54:55] WARNING: not removing hydrogen atom without neighbors\n",
      "[16:54:55] WARNING: not removing hydrogen atom without neighbors\n",
      "[16:54:55] WARNING: not removing hydrogen atom without neighbors\n",
      "[16:54:55] WARNING: not removing hydrogen atom without neighbors\n",
      "[16:54:55] WARNING: not removing hydrogen atom without neighbors\n",
      "[16:54:55] WARNING: not removing hydrogen atom without neighbors\n",
      "[16:54:55] WARNING: not removing hydrogen atom without neighbors\n",
      "[16:54:55] WARNING: not removing hydrogen atom without neighbors\n",
      "[16:54:55] WARNING: not removing hydrogen atom without neighbors\n",
      "[16:54:55] WARNING: not removing hydrogen atom without neighbors\n",
      "[16:54:55] WARNING: not removing hydrogen atom without neighbors\n",
      "[16:54:55] WARNING: not removing hydrogen atom without neighbors\n",
      "[16:54:55] WARNING: not removing hydrogen atom without neighbors\n",
      "[16:54:55] WARNING: not removing hydrogen atom without neighbors\n",
      "[16:54:55] WARNING: not removing hydrogen atom without neighbors\n",
      "[16:54:55] WARNING: not removing hydrogen atom without neighbors\n",
      "[16:54:55] WARNING: not removing hydrogen atom without neighbors\n",
      "[16:54:55] WARNING: not removing hydrogen atom without neighbors\n",
      "[16:54:55] WARNING: not removing hydrogen atom without neighbors\n",
      "[16:54:55] WARNING: not removing hydrogen atom without neighbors\n",
      "[16:54:55] WARNING: not removing hydrogen atom without neighbors\n",
      "[16:54:55] WARNING: not removing hydrogen atom without neighbors\n",
      "[16:54:56] WARNING: not removing hydrogen atom without neighbors\n",
      "[16:54:56] WARNING: not removing hydrogen atom without neighbors\n",
      "[16:54:56] WARNING: not removing hydrogen atom without neighbors\n",
      "[16:54:56] WARNING: not removing hydrogen atom without neighbors\n",
      "[16:54:56] WARNING: not removing hydrogen atom without neighbors\n",
      "[16:54:56] WARNING: not removing hydrogen atom without neighbors\n",
      "[16:54:56] WARNING: not removing hydrogen atom without neighbors\n",
      "[16:54:56] WARNING: not removing hydrogen atom without neighbors\n",
      "[16:54:56] WARNING: not removing hydrogen atom without neighbors\n",
      "[16:54:56] WARNING: not removing hydrogen atom without neighbors\n",
      "[16:54:56] WARNING: not removing hydrogen atom without neighbors\n",
      "[16:54:57] Can't kekulize mol.  Unkekulized atoms: 14 15 16 17 18\n",
      "[16:54:57] WARNING: not removing hydrogen atom without neighbors\n",
      "[16:54:57] WARNING: not removing hydrogen atom without neighbors\n",
      "[16:54:57] WARNING: not removing hydrogen atom without neighbors\n"
     ]
    }
   ],
   "source": [
    "for i, df in enumerate(model_dfs):\n",
    "\n",
    "    smiles_list = df['SMILES'].to_list()\n",
    "\n",
    "    valid_smiles = []\n",
    "    invalid_smiles = []\n",
    "\n",
    "    for smiles in smiles_list:\n",
    "        \n",
    "        try:\n",
    "            molecule = Chem.MolFromSmiles(smiles, sanitize=True)\n",
    "            if molecule is not None:\n",
    "                valid_smiles.append(True)\n",
    "            else:\n",
    "                valid_smiles.append(False)\n",
    "        except Exception as e:\n",
    "            invalid_smiles.append(smiles)\n",
    "        \n",
    "    model_dfs[i] = df[valid_smiles]"
   ]
  },
  {
   "cell_type": "code",
   "execution_count": 12,
   "metadata": {},
   "outputs": [
    {
     "data": {
      "text/plain": [
       "9999"
      ]
     },
     "execution_count": 12,
     "metadata": {},
     "output_type": "execute_result"
    }
   ],
   "source": [
    "len(model_dfs[3])"
   ]
  },
  {
   "cell_type": "markdown",
   "metadata": {},
   "source": [
    "## Filtering\n",
    "Initialise dictionary"
   ]
  },
  {
   "cell_type": "code",
   "execution_count": 13,
   "metadata": {},
   "outputs": [],
   "source": [
    "d = {'reinvent' : np.zeros(9),\n",
    "     'crem' : np.zeros(9),\n",
    "     'coati' : np.zeros(9),\n",
    "     'safe' : np.zeros(9)}\n",
    "\n",
    "scores = pd.DataFrame(data = d, index = ['valid', 'duplicates', 'good rings', 'Dundee', 'scaffold novelty', 'skeleton novelty', \"Lilly_chem\", \"filters_NIBR\", \"rule_of_five\"])"
   ]
  },
  {
   "cell_type": "markdown",
   "metadata": {},
   "source": [
    "### Filter #1: Invalid SMILES strings"
   ]
  },
  {
   "cell_type": "code",
   "execution_count": 14,
   "metadata": {},
   "outputs": [],
   "source": [
    "def num_valid(df):\n",
    "\n",
    "    size = len(df)\n",
    "    count = 0\n",
    "\n",
    "    for smi in df.SMILES:\n",
    "\n",
    "        mol = Chem.MolFromSmiles(smi)\n",
    "\n",
    "        if mol is not None:\n",
    "            count += 1\n",
    "\n",
    "    return count / size"
   ]
  },
  {
   "cell_type": "code",
   "execution_count": 15,
   "metadata": {},
   "outputs": [
    {
     "name": "stderr",
     "output_type": "stream",
     "text": [
      "[16:54:59] WARNING: not removing hydrogen atom without neighbors\n",
      "[16:54:59] WARNING: not removing hydrogen atom without neighbors\n",
      "[16:54:59] WARNING: not removing hydrogen atom without neighbors\n",
      "[16:54:59] WARNING: not removing hydrogen atom without neighbors\n",
      "[16:54:59] WARNING: not removing hydrogen atom without neighbors\n",
      "[16:54:59] WARNING: not removing hydrogen atom without neighbors\n",
      "[16:54:59] WARNING: not removing hydrogen atom without neighbors\n",
      "[16:54:59] WARNING: not removing hydrogen atom without neighbors\n",
      "[16:54:59] WARNING: not removing hydrogen atom without neighbors\n",
      "[16:54:59] WARNING: not removing hydrogen atom without neighbors\n",
      "[16:54:59] WARNING: not removing hydrogen atom without neighbors\n",
      "[16:54:59] WARNING: not removing hydrogen atom without neighbors\n",
      "[16:54:59] WARNING: not removing hydrogen atom without neighbors\n",
      "[16:54:59] WARNING: not removing hydrogen atom without neighbors\n",
      "[16:54:59] WARNING: not removing hydrogen atom without neighbors\n",
      "[16:54:59] WARNING: not removing hydrogen atom without neighbors\n",
      "[16:54:59] WARNING: not removing hydrogen atom without neighbors\n",
      "[16:54:59] WARNING: not removing hydrogen atom without neighbors\n",
      "[16:54:59] WARNING: not removing hydrogen atom without neighbors\n",
      "[16:54:59] WARNING: not removing hydrogen atom without neighbors\n",
      "[16:54:59] WARNING: not removing hydrogen atom without neighbors\n",
      "[16:54:59] WARNING: not removing hydrogen atom without neighbors\n",
      "[16:54:59] WARNING: not removing hydrogen atom without neighbors\n",
      "[16:54:59] WARNING: not removing hydrogen atom without neighbors\n",
      "[16:54:59] WARNING: not removing hydrogen atom without neighbors\n",
      "[16:54:59] WARNING: not removing hydrogen atom without neighbors\n",
      "[16:54:59] WARNING: not removing hydrogen atom without neighbors\n",
      "[16:54:59] WARNING: not removing hydrogen atom without neighbors\n",
      "[16:54:59] WARNING: not removing hydrogen atom without neighbors\n",
      "[16:54:59] WARNING: not removing hydrogen atom without neighbors\n",
      "[16:54:59] WARNING: not removing hydrogen atom without neighbors\n",
      "[16:54:59] WARNING: not removing hydrogen atom without neighbors\n",
      "[16:54:59] WARNING: not removing hydrogen atom without neighbors\n",
      "[16:54:59] WARNING: not removing hydrogen atom without neighbors\n",
      "[16:54:59] WARNING: not removing hydrogen atom without neighbors\n",
      "[16:54:59] WARNING: not removing hydrogen atom without neighbors\n",
      "[16:54:59] WARNING: not removing hydrogen atom without neighbors\n",
      "[16:54:59] WARNING: not removing hydrogen atom without neighbors\n",
      "[16:54:59] WARNING: not removing hydrogen atom without neighbors\n",
      "[16:54:59] WARNING: not removing hydrogen atom without neighbors\n",
      "[16:54:59] WARNING: not removing hydrogen atom without neighbors\n",
      "[16:54:59] WARNING: not removing hydrogen atom without neighbors\n",
      "[16:54:59] WARNING: not removing hydrogen atom without neighbors\n",
      "[16:54:59] WARNING: not removing hydrogen atom without neighbors\n",
      "[16:54:59] WARNING: not removing hydrogen atom without neighbors\n",
      "[16:54:59] WARNING: not removing hydrogen atom without neighbors\n",
      "[16:54:59] WARNING: not removing hydrogen atom without neighbors\n",
      "[16:54:59] WARNING: not removing hydrogen atom without neighbors\n",
      "[16:54:59] WARNING: not removing hydrogen atom without neighbors\n",
      "[16:54:59] WARNING: not removing hydrogen atom without neighbors\n",
      "[16:54:59] WARNING: not removing hydrogen atom without neighbors\n",
      "[16:54:59] WARNING: not removing hydrogen atom without neighbors\n",
      "[16:54:59] WARNING: not removing hydrogen atom without neighbors\n",
      "[16:54:59] WARNING: not removing hydrogen atom without neighbors\n",
      "[16:54:59] WARNING: not removing hydrogen atom without neighbors\n",
      "[16:54:59] WARNING: not removing hydrogen atom without neighbors\n",
      "[16:54:59] WARNING: not removing hydrogen atom without neighbors\n",
      "[16:54:59] WARNING: not removing hydrogen atom without neighbors\n",
      "[16:54:59] WARNING: not removing hydrogen atom without neighbors\n",
      "[16:54:59] WARNING: not removing hydrogen atom without neighbors\n",
      "[16:54:59] WARNING: not removing hydrogen atom without neighbors\n",
      "[16:54:59] WARNING: not removing hydrogen atom without neighbors\n",
      "[16:54:59] WARNING: not removing hydrogen atom without neighbors\n",
      "[16:54:59] WARNING: not removing hydrogen atom without neighbors\n",
      "[16:54:59] WARNING: not removing hydrogen atom without neighbors\n",
      "[16:54:59] WARNING: not removing hydrogen atom without neighbors\n",
      "[16:54:59] WARNING: not removing hydrogen atom without neighbors\n",
      "[16:54:59] WARNING: not removing hydrogen atom without neighbors\n",
      "[16:54:59] WARNING: not removing hydrogen atom without neighbors\n",
      "[16:54:59] WARNING: not removing hydrogen atom without neighbors\n",
      "[16:54:59] WARNING: not removing hydrogen atom without neighbors\n",
      "[16:54:59] WARNING: not removing hydrogen atom without neighbors\n",
      "[16:54:59] WARNING: not removing hydrogen atom without neighbors\n",
      "[16:54:59] WARNING: not removing hydrogen atom without neighbors\n",
      "[16:54:59] WARNING: not removing hydrogen atom without neighbors\n",
      "[16:54:59] WARNING: not removing hydrogen atom without neighbors\n",
      "[16:54:59] WARNING: not removing hydrogen atom without neighbors\n",
      "[16:54:59] WARNING: not removing hydrogen atom without neighbors\n",
      "[16:54:59] WARNING: not removing hydrogen atom without neighbors\n",
      "[16:54:59] WARNING: not removing hydrogen atom without neighbors\n",
      "[16:54:59] WARNING: not removing hydrogen atom without neighbors\n",
      "[16:54:59] WARNING: not removing hydrogen atom without neighbors\n",
      "[16:54:59] WARNING: not removing hydrogen atom without neighbors\n",
      "[16:55:00] WARNING: not removing hydrogen atom without neighbors\n",
      "[16:55:00] WARNING: not removing hydrogen atom without neighbors\n",
      "[16:55:00] WARNING: not removing hydrogen atom without neighbors\n",
      "[16:55:00] WARNING: not removing hydrogen atom without neighbors\n",
      "[16:55:00] WARNING: not removing hydrogen atom without neighbors\n",
      "[16:55:00] WARNING: not removing hydrogen atom without neighbors\n",
      "[16:55:00] WARNING: not removing hydrogen atom without neighbors\n",
      "[16:55:00] WARNING: not removing hydrogen atom without neighbors\n",
      "[16:55:01] WARNING: not removing hydrogen atom without neighbors\n",
      "[16:55:01] WARNING: not removing hydrogen atom without neighbors\n",
      "[16:55:01] WARNING: not removing hydrogen atom without neighbors\n"
     ]
    }
   ],
   "source": [
    "for model, df in zip(models, model_dfs):\n",
    "\n",
    "    scores[model]['valid'] = num_valid(df)"
   ]
  },
  {
   "cell_type": "code",
   "execution_count": 16,
   "metadata": {},
   "outputs": [
    {
     "data": {
      "text/html": [
       "<div>\n",
       "<style scoped>\n",
       "    .dataframe tbody tr th:only-of-type {\n",
       "        vertical-align: middle;\n",
       "    }\n",
       "\n",
       "    .dataframe tbody tr th {\n",
       "        vertical-align: top;\n",
       "    }\n",
       "\n",
       "    .dataframe thead th {\n",
       "        text-align: right;\n",
       "    }\n",
       "</style>\n",
       "<table border=\"1\" class=\"dataframe\">\n",
       "  <thead>\n",
       "    <tr style=\"text-align: right;\">\n",
       "      <th></th>\n",
       "      <th>reinvent</th>\n",
       "      <th>crem</th>\n",
       "      <th>coati</th>\n",
       "      <th>safe</th>\n",
       "    </tr>\n",
       "  </thead>\n",
       "  <tbody>\n",
       "    <tr>\n",
       "      <th>valid</th>\n",
       "      <td>1.00</td>\n",
       "      <td>1.00</td>\n",
       "      <td>1.00</td>\n",
       "      <td>1.00</td>\n",
       "    </tr>\n",
       "    <tr>\n",
       "      <th>duplicates</th>\n",
       "      <td>0.00</td>\n",
       "      <td>0.00</td>\n",
       "      <td>0.00</td>\n",
       "      <td>0.00</td>\n",
       "    </tr>\n",
       "    <tr>\n",
       "      <th>good rings</th>\n",
       "      <td>0.00</td>\n",
       "      <td>0.00</td>\n",
       "      <td>0.00</td>\n",
       "      <td>0.00</td>\n",
       "    </tr>\n",
       "    <tr>\n",
       "      <th>Dundee</th>\n",
       "      <td>0.00</td>\n",
       "      <td>0.00</td>\n",
       "      <td>0.00</td>\n",
       "      <td>0.00</td>\n",
       "    </tr>\n",
       "    <tr>\n",
       "      <th>scaffold novelty</th>\n",
       "      <td>0.00</td>\n",
       "      <td>0.00</td>\n",
       "      <td>0.00</td>\n",
       "      <td>0.00</td>\n",
       "    </tr>\n",
       "    <tr>\n",
       "      <th>skeleton novelty</th>\n",
       "      <td>0.00</td>\n",
       "      <td>0.00</td>\n",
       "      <td>0.00</td>\n",
       "      <td>0.00</td>\n",
       "    </tr>\n",
       "    <tr>\n",
       "      <th>Lilly_chem</th>\n",
       "      <td>0.00</td>\n",
       "      <td>0.00</td>\n",
       "      <td>0.00</td>\n",
       "      <td>0.00</td>\n",
       "    </tr>\n",
       "    <tr>\n",
       "      <th>filters_NIBR</th>\n",
       "      <td>0.00</td>\n",
       "      <td>0.00</td>\n",
       "      <td>0.00</td>\n",
       "      <td>0.00</td>\n",
       "    </tr>\n",
       "    <tr>\n",
       "      <th>rule_of_five</th>\n",
       "      <td>0.00</td>\n",
       "      <td>0.00</td>\n",
       "      <td>0.00</td>\n",
       "      <td>0.00</td>\n",
       "    </tr>\n",
       "  </tbody>\n",
       "</table>\n",
       "</div>"
      ],
      "text/plain": [
       "                  reinvent  crem  coati  safe\n",
       "valid                 1.00  1.00   1.00  1.00\n",
       "duplicates            0.00  0.00   0.00  0.00\n",
       "good rings            0.00  0.00   0.00  0.00\n",
       "Dundee                0.00  0.00   0.00  0.00\n",
       "scaffold novelty      0.00  0.00   0.00  0.00\n",
       "skeleton novelty      0.00  0.00   0.00  0.00\n",
       "Lilly_chem            0.00  0.00   0.00  0.00\n",
       "filters_NIBR          0.00  0.00   0.00  0.00\n",
       "rule_of_five          0.00  0.00   0.00  0.00"
      ]
     },
     "execution_count": 16,
     "metadata": {},
     "output_type": "execute_result"
    }
   ],
   "source": [
    "scores"
   ]
  },
  {
   "cell_type": "markdown",
   "metadata": {},
   "source": [
    "### Filter #2: Duplicates"
   ]
  },
  {
   "cell_type": "markdown",
   "metadata": {},
   "source": [
    "Now we filter for duplicates using InCHI keys"
   ]
  },
  {
   "cell_type": "code",
   "execution_count": 19,
   "metadata": {},
   "outputs": [
    {
     "name": "stderr",
     "output_type": "stream",
     "text": [
      "[16:55:09] WARNING: not removing hydrogen atom without neighbors\n",
      "[16:55:09] WARNING: not removing hydrogen atom without neighbors\n",
      "[16:55:09] WARNING: not removing hydrogen atom without neighbors\n",
      "[16:55:09] WARNING: not removing hydrogen atom without neighbors\n",
      "[16:55:09] WARNING: not removing hydrogen atom without neighbors\n",
      "[16:55:09] WARNING: not removing hydrogen atom without neighbors\n",
      "[16:55:09] WARNING: not removing hydrogen atom without neighbors\n",
      "[16:55:09] WARNING: not removing hydrogen atom without neighbors\n",
      "[16:55:09] WARNING: not removing hydrogen atom without neighbors\n",
      "[16:55:09] WARNING: not removing hydrogen atom without neighbors\n",
      "[16:55:09] WARNING: not removing hydrogen atom without neighbors\n",
      "[16:55:09] WARNING: not removing hydrogen atom without neighbors\n",
      "[16:55:09] WARNING: not removing hydrogen atom without neighbors\n",
      "[16:55:09] WARNING: not removing hydrogen atom without neighbors\n",
      "[16:55:09] WARNING: not removing hydrogen atom without neighbors\n",
      "[16:55:09] WARNING: not removing hydrogen atom without neighbors\n",
      "[16:55:09] WARNING: not removing hydrogen atom without neighbors\n",
      "[16:55:09] WARNING: not removing hydrogen atom without neighbors\n",
      "[16:55:09] WARNING: not removing hydrogen atom without neighbors\n",
      "[16:55:09] WARNING: not removing hydrogen atom without neighbors\n",
      "[16:55:09] WARNING: not removing hydrogen atom without neighbors\n",
      "[16:55:09] WARNING: not removing hydrogen atom without neighbors\n",
      "[16:55:09] WARNING: not removing hydrogen atom without neighbors\n",
      "[16:55:09] WARNING: not removing hydrogen atom without neighbors\n",
      "[16:55:09] WARNING: not removing hydrogen atom without neighbors\n",
      "[16:55:09] WARNING: not removing hydrogen atom without neighbors\n",
      "[16:55:09] WARNING: not removing hydrogen atom without neighbors\n",
      "[16:55:09] WARNING: not removing hydrogen atom without neighbors\n",
      "[16:55:09] WARNING: not removing hydrogen atom without neighbors\n",
      "[16:55:09] WARNING: not removing hydrogen atom without neighbors\n",
      "[16:55:09] WARNING: not removing hydrogen atom without neighbors\n",
      "[16:55:09] WARNING: not removing hydrogen atom without neighbors\n",
      "[16:55:09] WARNING: not removing hydrogen atom without neighbors\n",
      "[16:55:09] WARNING: not removing hydrogen atom without neighbors\n",
      "[16:55:09] WARNING: not removing hydrogen atom without neighbors\n",
      "[16:55:09] WARNING: not removing hydrogen atom without neighbors\n",
      "[16:55:09] WARNING: not removing hydrogen atom without neighbors\n",
      "[16:55:09] WARNING: not removing hydrogen atom without neighbors\n",
      "[16:55:09] WARNING: not removing hydrogen atom without neighbors\n",
      "[16:55:09] WARNING: not removing hydrogen atom without neighbors\n",
      "[16:55:09] WARNING: not removing hydrogen atom without neighbors\n",
      "[16:55:09] WARNING: not removing hydrogen atom without neighbors\n",
      "[16:55:09] WARNING: not removing hydrogen atom without neighbors\n",
      "[16:55:09] WARNING: not removing hydrogen atom without neighbors\n",
      "[16:55:09] WARNING: not removing hydrogen atom without neighbors\n",
      "[16:55:09] WARNING: not removing hydrogen atom without neighbors\n",
      "[16:55:09] WARNING: not removing hydrogen atom without neighbors\n",
      "[16:55:09] WARNING: not removing hydrogen atom without neighbors\n",
      "[16:55:09] WARNING: not removing hydrogen atom without neighbors\n",
      "[16:55:09] WARNING: not removing hydrogen atom without neighbors\n",
      "[16:55:09] WARNING: not removing hydrogen atom without neighbors\n",
      "[16:55:09] WARNING: not removing hydrogen atom without neighbors\n",
      "[16:55:09] WARNING: not removing hydrogen atom without neighbors\n",
      "[16:55:09] WARNING: not removing hydrogen atom without neighbors\n",
      "[16:55:09] WARNING: not removing hydrogen atom without neighbors\n",
      "[16:55:09] WARNING: not removing hydrogen atom without neighbors\n",
      "[16:55:09] WARNING: not removing hydrogen atom without neighbors\n",
      "[16:55:09] WARNING: not removing hydrogen atom without neighbors\n",
      "[16:55:09] WARNING: not removing hydrogen atom without neighbors\n",
      "[16:55:09] WARNING: not removing hydrogen atom without neighbors\n",
      "[16:55:09] WARNING: not removing hydrogen atom without neighbors\n",
      "[16:55:09] WARNING: not removing hydrogen atom without neighbors\n",
      "[16:55:09] WARNING: not removing hydrogen atom without neighbors\n",
      "[16:55:09] WARNING: not removing hydrogen atom without neighbors\n",
      "[16:55:09] WARNING: not removing hydrogen atom without neighbors\n",
      "[16:55:09] WARNING: not removing hydrogen atom without neighbors\n",
      "[16:55:09] WARNING: not removing hydrogen atom without neighbors\n",
      "[16:55:09] WARNING: not removing hydrogen atom without neighbors\n",
      "[16:55:09] WARNING: not removing hydrogen atom without neighbors\n",
      "[16:55:09] WARNING: not removing hydrogen atom without neighbors\n",
      "[16:55:09] WARNING: not removing hydrogen atom without neighbors\n",
      "[16:55:09] WARNING: not removing hydrogen atom without neighbors\n",
      "[16:55:09] WARNING: not removing hydrogen atom without neighbors\n",
      "[16:55:09] WARNING: not removing hydrogen atom without neighbors\n",
      "[16:55:09] WARNING: not removing hydrogen atom without neighbors\n",
      "[16:55:09] WARNING: not removing hydrogen atom without neighbors\n",
      "[16:55:09] WARNING: not removing hydrogen atom without neighbors\n",
      "[16:55:09] WARNING: not removing hydrogen atom without neighbors\n",
      "[16:55:09] WARNING: not removing hydrogen atom without neighbors\n",
      "[16:55:09] WARNING: not removing hydrogen atom without neighbors\n",
      "[16:55:09] WARNING: not removing hydrogen atom without neighbors\n",
      "[16:55:09] WARNING: not removing hydrogen atom without neighbors\n",
      "[16:55:09] WARNING: not removing hydrogen atom without neighbors\n",
      "[16:55:09] WARNING: not removing hydrogen atom without neighbors\n",
      "[16:55:09] WARNING: not removing hydrogen atom without neighbors\n",
      "[16:55:09] WARNING: not removing hydrogen atom without neighbors\n",
      "[16:55:09] WARNING: not removing hydrogen atom without neighbors\n",
      "[16:55:09] WARNING: not removing hydrogen atom without neighbors\n",
      "[16:55:09] WARNING: not removing hydrogen atom without neighbors\n",
      "[16:55:09] WARNING: not removing hydrogen atom without neighbors\n",
      "[16:55:12] WARNING: not removing hydrogen atom without neighbors\n",
      "[16:55:12] WARNING: not removing hydrogen atom without neighbors\n",
      "[16:55:12] WARNING: not removing hydrogen atom without neighbors\n",
      "[16:55:12] WARNING: not removing hydrogen atom without neighbors\n"
     ]
    }
   ],
   "source": [
    "for i, (model, df) in enumerate(zip(models, model_dfs)):\n",
    "\n",
    "    mols = [Chem.MolFromSmiles(smi) for smi in df.SMILES]\n",
    "\n",
    "    df['ROMol'] = mols\n",
    "\n",
    "    df['inchi'] = df.ROMol.apply(Chem.MolToInchiKey)\n",
    "\n",
    "    duplicates = df.drop_duplicates(subset=\"inchi\")\n",
    "\n",
    "    scores[model]['duplicates'] = len(duplicates) / len(df)\n",
    "\n",
    "    df.drop_duplicates(subset=\"inchi\", inplace=True)\n",
    "    \n",
    "    model_dfs[i] = df "
   ]
  },
  {
   "cell_type": "code",
   "execution_count": 20,
   "metadata": {},
   "outputs": [
    {
     "data": {
      "text/html": [
       "<div>\n",
       "<style scoped>\n",
       "    .dataframe tbody tr th:only-of-type {\n",
       "        vertical-align: middle;\n",
       "    }\n",
       "\n",
       "    .dataframe tbody tr th {\n",
       "        vertical-align: top;\n",
       "    }\n",
       "\n",
       "    .dataframe thead th {\n",
       "        text-align: right;\n",
       "    }\n",
       "</style>\n",
       "<table border=\"1\" class=\"dataframe\">\n",
       "  <thead>\n",
       "    <tr style=\"text-align: right;\">\n",
       "      <th></th>\n",
       "      <th>reinvent</th>\n",
       "      <th>crem</th>\n",
       "      <th>coati</th>\n",
       "      <th>safe</th>\n",
       "    </tr>\n",
       "  </thead>\n",
       "  <tbody>\n",
       "    <tr>\n",
       "      <th>valid</th>\n",
       "      <td>1.00</td>\n",
       "      <td>1.00</td>\n",
       "      <td>1.00</td>\n",
       "      <td>1.00</td>\n",
       "    </tr>\n",
       "    <tr>\n",
       "      <th>duplicates</th>\n",
       "      <td>0.91</td>\n",
       "      <td>0.94</td>\n",
       "      <td>0.85</td>\n",
       "      <td>0.80</td>\n",
       "    </tr>\n",
       "    <tr>\n",
       "      <th>good rings</th>\n",
       "      <td>0.00</td>\n",
       "      <td>0.00</td>\n",
       "      <td>0.00</td>\n",
       "      <td>0.00</td>\n",
       "    </tr>\n",
       "    <tr>\n",
       "      <th>Dundee</th>\n",
       "      <td>0.00</td>\n",
       "      <td>0.00</td>\n",
       "      <td>0.00</td>\n",
       "      <td>0.00</td>\n",
       "    </tr>\n",
       "    <tr>\n",
       "      <th>scaffold novelty</th>\n",
       "      <td>0.00</td>\n",
       "      <td>0.00</td>\n",
       "      <td>0.00</td>\n",
       "      <td>0.00</td>\n",
       "    </tr>\n",
       "    <tr>\n",
       "      <th>skeleton novelty</th>\n",
       "      <td>0.00</td>\n",
       "      <td>0.00</td>\n",
       "      <td>0.00</td>\n",
       "      <td>0.00</td>\n",
       "    </tr>\n",
       "    <tr>\n",
       "      <th>Lilly_chem</th>\n",
       "      <td>0.00</td>\n",
       "      <td>0.00</td>\n",
       "      <td>0.00</td>\n",
       "      <td>0.00</td>\n",
       "    </tr>\n",
       "    <tr>\n",
       "      <th>filters_NIBR</th>\n",
       "      <td>0.00</td>\n",
       "      <td>0.00</td>\n",
       "      <td>0.00</td>\n",
       "      <td>0.00</td>\n",
       "    </tr>\n",
       "    <tr>\n",
       "      <th>rule_of_five</th>\n",
       "      <td>0.00</td>\n",
       "      <td>0.00</td>\n",
       "      <td>0.00</td>\n",
       "      <td>0.00</td>\n",
       "    </tr>\n",
       "  </tbody>\n",
       "</table>\n",
       "</div>"
      ],
      "text/plain": [
       "                  reinvent  crem  coati  safe\n",
       "valid                 1.00  1.00   1.00  1.00\n",
       "duplicates            0.91  0.94   0.85  0.80\n",
       "good rings            0.00  0.00   0.00  0.00\n",
       "Dundee                0.00  0.00   0.00  0.00\n",
       "scaffold novelty      0.00  0.00   0.00  0.00\n",
       "skeleton novelty      0.00  0.00   0.00  0.00\n",
       "Lilly_chem            0.00  0.00   0.00  0.00\n",
       "filters_NIBR          0.00  0.00   0.00  0.00\n",
       "rule_of_five          0.00  0.00   0.00  0.00"
      ]
     },
     "execution_count": 20,
     "metadata": {},
     "output_type": "execute_result"
    }
   ],
   "source": [
    "scores"
   ]
  },
  {
   "cell_type": "markdown",
   "metadata": {},
   "source": [
    "### Filter #3: Odd ring systems"
   ]
  },
  {
   "cell_type": "markdown",
   "metadata": {},
   "source": [
    "Filter out rings systems that occur less than 100 times in the ChemBL database"
   ]
  },
  {
   "cell_type": "code",
   "execution_count": 21,
   "metadata": {},
   "outputs": [],
   "source": [
    "def number_odd_rings(df):\n",
    "\n",
    "    ring_system_lookup = uru.RingSystemLookup.default()\n",
    "    df['ring_systems'] = df.SMILES.apply(ring_system_lookup.process_smiles)\n",
    "    df[['min_ring','min_freq']] = df.ring_systems.apply(uru.get_min_ring_frequency).to_list()\n",
    "    good_rings = df.query('min_freq > 100').copy()\n",
    "\n",
    "    return len(good_rings) / len(df)"
   ]
  },
  {
   "cell_type": "code",
   "execution_count": 22,
   "metadata": {},
   "outputs": [
    {
     "name": "stderr",
     "output_type": "stream",
     "text": [
      "[16:55:36] WARNING: not removing hydrogen atom without neighbors\n",
      "[16:55:36] WARNING: not removing hydrogen atom without neighbors\n",
      "[16:55:36] WARNING: not removing hydrogen atom without neighbors\n",
      "[16:55:36] WARNING: not removing hydrogen atom without neighbors\n",
      "[16:55:36] WARNING: not removing hydrogen atom without neighbors\n",
      "[16:55:36] WARNING: not removing hydrogen atom without neighbors\n",
      "[16:55:36] WARNING: not removing hydrogen atom without neighbors\n",
      "[16:55:36] WARNING: not removing hydrogen atom without neighbors\n",
      "[16:55:36] WARNING: not removing hydrogen atom without neighbors\n",
      "[16:55:36] WARNING: not removing hydrogen atom without neighbors\n",
      "[16:55:36] WARNING: not removing hydrogen atom without neighbors\n",
      "[16:55:36] WARNING: not removing hydrogen atom without neighbors\n",
      "[16:55:36] WARNING: not removing hydrogen atom without neighbors\n",
      "[16:55:36] WARNING: not removing hydrogen atom without neighbors\n",
      "[16:55:36] WARNING: not removing hydrogen atom without neighbors\n",
      "[16:55:36] WARNING: not removing hydrogen atom without neighbors\n",
      "[16:55:36] WARNING: not removing hydrogen atom without neighbors\n",
      "[16:55:36] WARNING: not removing hydrogen atom without neighbors\n",
      "[16:55:36] WARNING: not removing hydrogen atom without neighbors\n",
      "[16:55:36] WARNING: not removing hydrogen atom without neighbors\n",
      "[16:55:36] WARNING: not removing hydrogen atom without neighbors\n",
      "[16:55:36] WARNING: not removing hydrogen atom without neighbors\n",
      "[16:55:36] WARNING: not removing hydrogen atom without neighbors\n",
      "[16:55:36] WARNING: not removing hydrogen atom without neighbors\n",
      "[16:55:36] WARNING: not removing hydrogen atom without neighbors\n",
      "[16:55:36] WARNING: not removing hydrogen atom without neighbors\n",
      "[16:55:36] WARNING: not removing hydrogen atom without neighbors\n",
      "[16:55:36] WARNING: not removing hydrogen atom without neighbors\n",
      "[16:55:36] WARNING: not removing hydrogen atom without neighbors\n",
      "[16:55:36] WARNING: not removing hydrogen atom without neighbors\n",
      "[16:55:36] WARNING: not removing hydrogen atom without neighbors\n",
      "[16:55:36] WARNING: not removing hydrogen atom without neighbors\n",
      "[16:55:36] WARNING: not removing hydrogen atom without neighbors\n",
      "[16:55:36] WARNING: not removing hydrogen atom without neighbors\n",
      "[16:55:36] WARNING: not removing hydrogen atom without neighbors\n",
      "[16:55:36] WARNING: not removing hydrogen atom without neighbors\n",
      "[16:55:36] WARNING: not removing hydrogen atom without neighbors\n",
      "[16:55:36] WARNING: not removing hydrogen atom without neighbors\n",
      "[16:55:36] WARNING: not removing hydrogen atom without neighbors\n",
      "[16:55:36] WARNING: not removing hydrogen atom without neighbors\n",
      "[16:55:37] WARNING: not removing hydrogen atom without neighbors\n",
      "[16:55:37] WARNING: not removing hydrogen atom without neighbors\n",
      "[16:55:37] WARNING: not removing hydrogen atom without neighbors\n",
      "[16:55:37] WARNING: not removing hydrogen atom without neighbors\n",
      "[16:55:37] WARNING: not removing hydrogen atom without neighbors\n",
      "[16:55:37] WARNING: not removing hydrogen atom without neighbors\n",
      "[16:55:37] WARNING: not removing hydrogen atom without neighbors\n",
      "[16:55:37] WARNING: not removing hydrogen atom without neighbors\n",
      "[16:55:37] WARNING: not removing hydrogen atom without neighbors\n",
      "[16:55:37] WARNING: not removing hydrogen atom without neighbors\n",
      "[16:55:37] WARNING: not removing hydrogen atom without neighbors\n",
      "[16:55:37] WARNING: not removing hydrogen atom without neighbors\n",
      "[16:55:38] WARNING: not removing hydrogen atom without neighbors\n",
      "[16:55:38] WARNING: not removing hydrogen atom without neighbors\n",
      "[16:55:40] WARNING: not removing hydrogen atom without neighbors\n",
      "[16:55:40] WARNING: not removing hydrogen atom without neighbors\n",
      "[16:55:40] WARNING: not removing hydrogen atom without neighbors\n",
      "[16:55:41] WARNING: not removing hydrogen atom without neighbors\n",
      "[16:55:41] WARNING: not removing hydrogen atom without neighbors\n",
      "[16:55:41] WARNING: not removing hydrogen atom without neighbors\n",
      "[16:55:41] WARNING: not removing hydrogen atom without neighbors\n",
      "[16:55:41] WARNING: not removing hydrogen atom without neighbors\n",
      "[16:55:46] WARNING: not removing hydrogen atom without neighbors\n",
      "[16:55:53] WARNING: not removing hydrogen atom without neighbors\n",
      "[16:55:53] WARNING: not removing hydrogen atom without neighbors\n",
      "[16:55:53] WARNING: not removing hydrogen atom without neighbors\n"
     ]
    }
   ],
   "source": [
    "for model, df in zip(models, model_dfs):\n",
    "\n",
    "    scores[model]['good rings'] = number_odd_rings(df)"
   ]
  },
  {
   "cell_type": "markdown",
   "metadata": {},
   "source": [
    "0.892\t0.575\t0.692\t0.983333"
   ]
  },
  {
   "cell_type": "code",
   "execution_count": 23,
   "metadata": {},
   "outputs": [
    {
     "data": {
      "text/html": [
       "<div>\n",
       "<style scoped>\n",
       "    .dataframe tbody tr th:only-of-type {\n",
       "        vertical-align: middle;\n",
       "    }\n",
       "\n",
       "    .dataframe tbody tr th {\n",
       "        vertical-align: top;\n",
       "    }\n",
       "\n",
       "    .dataframe thead th {\n",
       "        text-align: right;\n",
       "    }\n",
       "</style>\n",
       "<table border=\"1\" class=\"dataframe\">\n",
       "  <thead>\n",
       "    <tr style=\"text-align: right;\">\n",
       "      <th></th>\n",
       "      <th>reinvent</th>\n",
       "      <th>crem</th>\n",
       "      <th>coati</th>\n",
       "      <th>safe</th>\n",
       "    </tr>\n",
       "  </thead>\n",
       "  <tbody>\n",
       "    <tr>\n",
       "      <th>valid</th>\n",
       "      <td>1.00</td>\n",
       "      <td>1.00</td>\n",
       "      <td>1.00</td>\n",
       "      <td>1.00</td>\n",
       "    </tr>\n",
       "    <tr>\n",
       "      <th>duplicates</th>\n",
       "      <td>0.91</td>\n",
       "      <td>0.94</td>\n",
       "      <td>0.85</td>\n",
       "      <td>0.80</td>\n",
       "    </tr>\n",
       "    <tr>\n",
       "      <th>good rings</th>\n",
       "      <td>0.96</td>\n",
       "      <td>0.86</td>\n",
       "      <td>0.82</td>\n",
       "      <td>0.91</td>\n",
       "    </tr>\n",
       "    <tr>\n",
       "      <th>Dundee</th>\n",
       "      <td>0.00</td>\n",
       "      <td>0.00</td>\n",
       "      <td>0.00</td>\n",
       "      <td>0.00</td>\n",
       "    </tr>\n",
       "    <tr>\n",
       "      <th>scaffold novelty</th>\n",
       "      <td>0.00</td>\n",
       "      <td>0.00</td>\n",
       "      <td>0.00</td>\n",
       "      <td>0.00</td>\n",
       "    </tr>\n",
       "    <tr>\n",
       "      <th>skeleton novelty</th>\n",
       "      <td>0.00</td>\n",
       "      <td>0.00</td>\n",
       "      <td>0.00</td>\n",
       "      <td>0.00</td>\n",
       "    </tr>\n",
       "    <tr>\n",
       "      <th>Lilly_chem</th>\n",
       "      <td>0.00</td>\n",
       "      <td>0.00</td>\n",
       "      <td>0.00</td>\n",
       "      <td>0.00</td>\n",
       "    </tr>\n",
       "    <tr>\n",
       "      <th>filters_NIBR</th>\n",
       "      <td>0.00</td>\n",
       "      <td>0.00</td>\n",
       "      <td>0.00</td>\n",
       "      <td>0.00</td>\n",
       "    </tr>\n",
       "    <tr>\n",
       "      <th>rule_of_five</th>\n",
       "      <td>0.00</td>\n",
       "      <td>0.00</td>\n",
       "      <td>0.00</td>\n",
       "      <td>0.00</td>\n",
       "    </tr>\n",
       "  </tbody>\n",
       "</table>\n",
       "</div>"
      ],
      "text/plain": [
       "                  reinvent  crem  coati  safe\n",
       "valid                 1.00  1.00   1.00  1.00\n",
       "duplicates            0.91  0.94   0.85  0.80\n",
       "good rings            0.96  0.86   0.82  0.91\n",
       "Dundee                0.00  0.00   0.00  0.00\n",
       "scaffold novelty      0.00  0.00   0.00  0.00\n",
       "skeleton novelty      0.00  0.00   0.00  0.00\n",
       "Lilly_chem            0.00  0.00   0.00  0.00\n",
       "filters_NIBR          0.00  0.00   0.00  0.00\n",
       "rule_of_five          0.00  0.00   0.00  0.00"
      ]
     },
     "execution_count": 23,
     "metadata": {},
     "output_type": "execute_result"
    }
   ],
   "source": [
    "scores"
   ]
  },
  {
   "cell_type": "markdown",
   "metadata": {},
   "source": [
    "### Filter #4: Dundee Filter"
   ]
  },
  {
   "cell_type": "code",
   "execution_count": 24,
   "metadata": {},
   "outputs": [],
   "source": [
    "reos = uru.REOS()\n",
    "reos.set_active_rule_sets([\"Dundee\"])"
   ]
  },
  {
   "cell_type": "code",
   "execution_count": 25,
   "metadata": {},
   "outputs": [],
   "source": [
    "def num_stable(df):\n",
    "\n",
    "    temp_df = pd.DataFrame()\n",
    "\n",
    "    temp_df[['rule_set','reos']] = [list(reos.process_mol(x)) for x in df.ROMol]\n",
    "\n",
    "    return uru.value_counts_df(temp_df, \"reos\")['count'].values[0] / len(df)"
   ]
  },
  {
   "cell_type": "code",
   "execution_count": 50,
   "metadata": {},
   "outputs": [],
   "source": [
    "for model, df in zip(models, model_dfs):\n",
    "\n",
    "    scores[model]['Dundee'] = num_stable(df)"
   ]
  },
  {
   "cell_type": "code",
   "execution_count": 51,
   "metadata": {},
   "outputs": [
    {
     "data": {
      "text/html": [
       "<div>\n",
       "<style scoped>\n",
       "    .dataframe tbody tr th:only-of-type {\n",
       "        vertical-align: middle;\n",
       "    }\n",
       "\n",
       "    .dataframe tbody tr th {\n",
       "        vertical-align: top;\n",
       "    }\n",
       "\n",
       "    .dataframe thead th {\n",
       "        text-align: right;\n",
       "    }\n",
       "</style>\n",
       "<table border=\"1\" class=\"dataframe\">\n",
       "  <thead>\n",
       "    <tr style=\"text-align: right;\">\n",
       "      <th></th>\n",
       "      <th>reinvent</th>\n",
       "      <th>crem</th>\n",
       "      <th>coati</th>\n",
       "      <th>safe</th>\n",
       "    </tr>\n",
       "  </thead>\n",
       "  <tbody>\n",
       "    <tr>\n",
       "      <th>valid</th>\n",
       "      <td>1.00</td>\n",
       "      <td>1.00</td>\n",
       "      <td>1.00</td>\n",
       "      <td>1.00</td>\n",
       "    </tr>\n",
       "    <tr>\n",
       "      <th>duplicates</th>\n",
       "      <td>0.91</td>\n",
       "      <td>0.94</td>\n",
       "      <td>0.85</td>\n",
       "      <td>0.80</td>\n",
       "    </tr>\n",
       "    <tr>\n",
       "      <th>good rings</th>\n",
       "      <td>0.96</td>\n",
       "      <td>0.86</td>\n",
       "      <td>0.82</td>\n",
       "      <td>0.91</td>\n",
       "    </tr>\n",
       "    <tr>\n",
       "      <th>Dundee</th>\n",
       "      <td>0.81</td>\n",
       "      <td>0.53</td>\n",
       "      <td>0.73</td>\n",
       "      <td>0.44</td>\n",
       "    </tr>\n",
       "    <tr>\n",
       "      <th>scaffold novelty</th>\n",
       "      <td>0.98</td>\n",
       "      <td>0.98</td>\n",
       "      <td>0.99</td>\n",
       "      <td>0.99</td>\n",
       "    </tr>\n",
       "    <tr>\n",
       "      <th>skeleton novelty</th>\n",
       "      <td>0.96</td>\n",
       "      <td>0.96</td>\n",
       "      <td>0.97</td>\n",
       "      <td>0.99</td>\n",
       "    </tr>\n",
       "    <tr>\n",
       "      <th>Lilly_chem</th>\n",
       "      <td>0.90</td>\n",
       "      <td>0.67</td>\n",
       "      <td>0.75</td>\n",
       "      <td>0.42</td>\n",
       "    </tr>\n",
       "    <tr>\n",
       "      <th>filters_NIBR</th>\n",
       "      <td>0.00</td>\n",
       "      <td>0.00</td>\n",
       "      <td>0.00</td>\n",
       "      <td>0.00</td>\n",
       "    </tr>\n",
       "    <tr>\n",
       "      <th>rule_of_five</th>\n",
       "      <td>1.00</td>\n",
       "      <td>0.99</td>\n",
       "      <td>1.00</td>\n",
       "      <td>0.60</td>\n",
       "    </tr>\n",
       "  </tbody>\n",
       "</table>\n",
       "</div>"
      ],
      "text/plain": [
       "                  reinvent  crem  coati  safe\n",
       "valid                 1.00  1.00   1.00  1.00\n",
       "duplicates            0.91  0.94   0.85  0.80\n",
       "good rings            0.96  0.86   0.82  0.91\n",
       "Dundee                0.81  0.53   0.73  0.44\n",
       "scaffold novelty      0.98  0.98   0.99  0.99\n",
       "skeleton novelty      0.96  0.96   0.97  0.99\n",
       "Lilly_chem            0.90  0.67   0.75  0.42\n",
       "filters_NIBR          0.00  0.00   0.00  0.00\n",
       "rule_of_five          1.00  0.99   1.00  0.60"
      ]
     },
     "execution_count": 51,
     "metadata": {},
     "output_type": "execute_result"
    }
   ],
   "source": [
    "scores"
   ]
  },
  {
   "cell_type": "markdown",
   "metadata": {},
   "source": [
    "### Scaffold and Skeleton Novelty"
   ]
  },
  {
   "cell_type": "code",
   "execution_count": 28,
   "metadata": {},
   "outputs": [],
   "source": [
    "from rdkit import Chem\n",
    "from rdkit.Chem import AllChem\n",
    "from rdkit.Chem.Scaffolds import MurckoScaffold\n",
    "from rdkit.DataStructs import BulkTanimotoSimilarity"
   ]
  },
  {
   "cell_type": "code",
   "execution_count": 29,
   "metadata": {},
   "outputs": [],
   "source": [
    "def extract_scaffold(smiles: str):\n",
    "    mol = Chem.MolFromSmiles(smiles)\n",
    "    scaffold = MurckoScaffold.GetScaffoldForMol(mol)\n",
    "    return Chem.MolToSmiles(scaffold)\n",
    "\n",
    "\n",
    "def extract_scaffold_skeleton(smiles: str):\n",
    "    mol = Chem.MolFromSmiles(smiles)\n",
    "    scaffold = MurckoScaffold.MakeScaffoldGeneric(MurckoScaffold.GetScaffoldForMol(mol))\n",
    "    return Chem.MolToSmiles(scaffold)\n",
    "\n"
   ]
  },
  {
   "cell_type": "code",
   "execution_count": 30,
   "metadata": {},
   "outputs": [],
   "source": [
    "def get_scaffold_novelty(df, initial_frags):\n",
    "    intial_scaffold = set([extract_scaffold(frag) for frag in initial_frags])\n",
    "    initial_skeleton = set([extract_scaffold_skeleton(frag) for frag in initial_frags])\n",
    "\n",
    "    model_scaffolds = set(df.SMILES.apply(extract_scaffold))\n",
    "    model_skeletons = set(df.SMILES.apply(extract_scaffold_skeleton))\n",
    "\n",
    "    novel_scaffolds = model_scaffolds - intial_scaffold\n",
    "    novel_skeletons = model_skeletons - initial_skeleton\n",
    "\n",
    "    return len(novel_scaffolds) / len(model_scaffolds), len(novel_skeletons) / len(model_skeletons)\n"
   ]
  },
  {
   "cell_type": "code",
   "execution_count": null,
   "metadata": {},
   "outputs": [],
   "source": [
    "for model, df in zip(models, model_dfs):\n",
    "\n",
    "    scaffold_novelty, skeleton_novelty = get_scaffold_novelty(df, fragments)\n",
    "\n",
    "    scores[model]['scaffold novelty'] = scaffold_novelty\n",
    "    scores[model]['skeleton novelty'] = skeleton_novelty"
   ]
  },
  {
   "cell_type": "code",
   "execution_count": 32,
   "metadata": {},
   "outputs": [
    {
     "name": "stdout",
     "output_type": "stream",
     "text": [
      "                  reinvent  crem  coati  safe\n",
      "valid                 1.00  1.00   1.00  1.00\n",
      "duplicates            0.91  0.94   0.85  0.80\n",
      "good rings            0.96  0.86   0.82  0.91\n",
      "Dundee                0.00  0.00   0.00  0.00\n",
      "scaffold novelty      0.98  0.98   0.99  0.99\n",
      "skeleton novelty      0.96  0.96   0.97  0.99\n",
      "Lilly_chem            0.00  0.00   0.00  0.00\n",
      "filters_NIBR          0.00  0.00   0.00  0.00\n",
      "rule_of_five          0.00  0.00   0.00  0.00\n"
     ]
    }
   ],
   "source": [
    "print(scores)"
   ]
  },
  {
   "cell_type": "markdown",
   "metadata": {},
   "source": [
    "### Define functions for Medchem Filters"
   ]
  },
  {
   "cell_type": "markdown",
   "metadata": {},
   "source": [
    "We look at the results for the following filters\n",
    "1. Lilly Rules\n",
    "2. NIBR\n",
    "3. Rule of five\n",
    "4. Sure CHEMBL"
   ]
  },
  {
   "cell_type": "code",
   "execution_count": 33,
   "metadata": {},
   "outputs": [],
   "source": [
    "\n",
    "import matplotlib.pyplot as plt\n",
    "import matplotlib.colors\n",
    "import seaborn as sns"
   ]
  },
  {
   "cell_type": "code",
   "execution_count": 34,
   "metadata": {},
   "outputs": [],
   "source": [
    "import medchem as mc"
   ]
  },
  {
   "cell_type": "code",
   "execution_count": 35,
   "metadata": {},
   "outputs": [
    {
     "name": "stderr",
     "output_type": "stream",
     "text": [
      "Failed to find the pandas get_adjustment() function to patch\n",
      "Failed to patch pandas - PandasTools will have limited functionality\n"
     ]
    }
   ],
   "source": [
    "from rdkit.Chem import PandasTools\n",
    "import datamol as dm"
   ]
  },
  {
   "cell_type": "code",
   "execution_count": 36,
   "metadata": {},
   "outputs": [],
   "source": [
    "model_dfs[0][\"mol\"] = model_dfs[0][\"SMILES\"].apply(dm.to_mol)"
   ]
  },
  {
   "cell_type": "code",
   "execution_count": 37,
   "metadata": {},
   "outputs": [],
   "source": [
    "def process_filters(data):\n",
    "\n",
    "    data[\"rule_of_five\"] = data[\"SMILES\"].apply(mc.rules.basic_rules.rule_of_five)\n",
    "\n",
    "    # Apply some default medchem filters\n",
    "    data[\"alerts_Dundee\"] = mc.functional.alert_filter(\n",
    "        mols=data[\"mol\"].tolist(),\n",
    "        alerts=[\"Dundee\"],\n",
    "        n_jobs=-1,\n",
    "        progress=True,\n",
    "        return_idx=False,\n",
    "    )\n",
    "\n",
    "    data[\"alerts_SureChEMBL\"] = mc.functional.alert_filter(\n",
    "        mols=data[\"mol\"].tolist(),\n",
    "        alerts=[\"SureChEMBL\"],\n",
    "        n_jobs=-1,\n",
    "        progress=True,\n",
    "        return_idx=False,\n",
    "    )\n",
    "\n",
    "    data[\"filters_NIBR\"] = mc.functional.nibr_filter(\n",
    "        mols=data[\"mol\"].tolist(),\n",
    "        n_jobs=-1,\n",
    "        progress=True,\n",
    "        return_idx=False,\n",
    "    )\n",
    "\n",
    "    data[\"filter_lilly_demerit\"] = mc.functional.lilly_demerit_filter(\n",
    "        mols=data[\"mol\"].tolist(),\n",
    "        n_jobs=-1,\n",
    "        progress=True,\n",
    "        return_idx=False,\n",
    "    )"
   ]
  },
  {
   "cell_type": "code",
   "execution_count": 38,
   "metadata": {},
   "outputs": [],
   "source": [
    "\n",
    "import matplotlib.pyplot as plt\n",
    "import matplotlib.colors\n",
    "import seaborn as sns"
   ]
  },
  {
   "cell_type": "code",
   "execution_count": 39,
   "metadata": {},
   "outputs": [],
   "source": [
    "def plot_filters(data, model):\n",
    "    filter_columns = [\n",
    "        \"rule_of_five\",\n",
    "        \"alerts_Dundee\",\n",
    "        \"alerts_SureChEMBL\",\n",
    "        \"filters_NIBR\",\n",
    "        \"filter_lilly_demerit\",\n",
    "    ]\n",
    "\n",
    "    # Some sorting for a nice plot\n",
    "    data[\"n_filters_pass\"] = data[filter_columns].sum(axis=1)\n",
    "    data = data.sort_values(\"n_filters_pass\", ascending=True)\n",
    "\n",
    "    # Plot\n",
    "\n",
    "    f, ax = plt.subplots(figsize=(14, 4), constrained_layout=True)\n",
    "\n",
    "    cmap = matplotlib.colors.ListedColormap([\"#EF6262\", \"#1D5B79\"], None)\n",
    "\n",
    "    a = sns.heatmap(\n",
    "        data[filter_columns].T,\n",
    "        annot=False,\n",
    "        ax=ax,\n",
    "        xticklabels=False,  # type: ignore\n",
    "        yticklabels=True,  # type: ignore\n",
    "        cbar=True,\n",
    "        cmap=cmap,\n",
    "    )\n",
    "\n",
    "    ax.collections[0].colorbar.set_ticks([0.25, 0.75])\n",
    "    ax.collections[0].colorbar.set_ticklabels([\"Don't Pass\", \"Pass\"], fontsize=14)\n",
    "\n",
    "    ax.set_xlabel(f\"Analogs from {model} sorted (n={len(data)})\", fontsize=14)\n",
    "    ax.set_ylabel(\"Medchem Filters\", fontsize=18)\n",
    "\n",
    "    # Add percentage of passing mols in the y labels\n",
    "    new_ylabels = []\n",
    "    for t in ax.yaxis.get_ticklabels():\n",
    "        perc = data[t.get_text()].sum() / len(data) * 100\n",
    "        new_ylabels.append(f\"{t.get_text()} ({perc:.0f}%)\")\n",
    "    _ = ax.yaxis.set_ticklabels(new_ylabels, fontsize=12)\n"
   ]
  },
  {
   "cell_type": "markdown",
   "metadata": {},
   "source": [
    "### Filter the Models and append to score dataframe"
   ]
  },
  {
   "cell_type": "code",
   "execution_count": null,
   "metadata": {},
   "outputs": [],
   "source": [
    "for model, df in zip(models[:3], model_dfs[:3]):\n",
    "\n",
    "        df[\"mol\"] = df[\"SMILES\"].apply(dm.to_mol)\n",
    "    \n",
    "        process_filters(df)\n",
    "    \n",
    "        plot_filters(df, model)"
   ]
  },
  {
   "cell_type": "code",
   "execution_count": null,
   "metadata": {},
   "outputs": [],
   "source": [
    "model_dfs[3][\"mol\"] = model_dfs[3][\"SMILES\"].apply(dm.to_mol)\n",
    "    "
   ]
  },
  {
   "cell_type": "code",
   "execution_count": 42,
   "metadata": {},
   "outputs": [],
   "source": [
    "safe_1000 = model_dfs[3].sample(1900, random_state=42)"
   ]
  },
  {
   "cell_type": "code",
   "execution_count": null,
   "metadata": {},
   "outputs": [],
   "source": [
    "process_filters(safe_1000)"
   ]
  },
  {
   "cell_type": "code",
   "execution_count": null,
   "metadata": {},
   "outputs": [],
   "source": [
    "plot_filters(safe_1000, model[3])"
   ]
  },
  {
   "cell_type": "code",
   "execution_count": 45,
   "metadata": {},
   "outputs": [],
   "source": [
    "for model, df in zip(models[:3], model_dfs[:3]):\n",
    "\n",
    "    scores[model][\"Lilly_chem\"] = df[\"filter_lilly_demerit\"].sum()/len(df)\n",
    "    scores[model][\"rule_of_five\"] = df[\"rule_of_five\"].sum()/len(df)\n",
    "    scores[model][\"filters_NIBR\"] = df[\"filters_NIBR\"].sum()/len(df)"
   ]
  },
  {
   "cell_type": "code",
   "execution_count": 46,
   "metadata": {},
   "outputs": [],
   "source": [
    "scores['safe'][\"Lilly_chem\"] = safe_1000[\"filter_lilly_demerit\"].sum()/len(safe_1000)\n",
    "scores['safe'][\"rule_of_five\"] = safe_1000[\"rule_of_five\"].sum()/len(safe_1000)\n",
    "scores['safe'][\"filters_NIBR\"] = safe_1000[\"filters_NIBR\"].sum()/len(safe_1000)\n"
   ]
  },
  {
   "cell_type": "markdown",
   "metadata": {},
   "source": [
    "### Now we can make Barplots using the scores"
   ]
  },
  {
   "cell_type": "code",
   "execution_count": 52,
   "metadata": {},
   "outputs": [
    {
     "data": {
      "image/png": "[encoded data removed]",
      "text/plain": [
       "<Figure size 1000x500 with 2 Axes>"
      ]
     },
     "metadata": {},
     "output_type": "display_data"
    }
   ],
   "source": [
    "#make bar plots of the scores color coded by model for each filter\n",
    "\n",
    "fig, ax = plt.subplots(1, 2, figsize=(10, 5))\n",
    "\n",
    "for i, filter in enumerate([\"Lilly_chem\", \"rule_of_five\"]):\n",
    "        \n",
    "            sns.barplot(x=models, y=[scores[model][filter] for model in models], ax=ax[i], palette=default_palette)\n",
    "        \n",
    "            ax[i].set_title(filter)\n",
    "            ax[i].set_ylabel('Fraction of Molecules Passing Filter')\n",
    "            \n",
    "            ax[i].set_ylim(0, 1.05)\n",
    "            \n",
    "            for p in ax[i].patches:\n",
    "                ax[i].annotate(f'{p.get_height():.2f}', (p.get_x() + p.get_width() / 2., p.get_height()),\n",
    "                            ha='center', va='center', fontsize=12, color='black', xytext=(0, 5),\n",
    "                            textcoords='offset points')\n",
    "\n",
    "plt.tight_layout()\n",
    "plt.show()"
   ]
  },
  {
   "cell_type": "code",
   "execution_count": 53,
   "metadata": {},
   "outputs": [
    {
     "data": {
      "image/png": "[encoded data removed]",
      "text/plain": [
       "<Figure size 1500x500 with 3 Axes>"
      ]
     },
     "metadata": {},
     "output_type": "display_data"
    }
   ],
   "source": [
    "#Now we will do 'duplicates', 'good rings', 'Dundee' filters\n",
    "\n",
    "fig, ax = plt.subplots(1, 3, figsize=(15, 5))\n",
    "\n",
    "for i, filter in enumerate([\"duplicates\", \"good rings\", \"Dundee\"]):\n",
    "            \n",
    "                sns.barplot(x=models, y=[scores[model][filter] for model in models], ax=ax[i], palette=default_palette)\n",
    "            \n",
    "                ax[i].set_title(filter)\n",
    "                ax[i].set_ylabel('Fraction of Molecules Passing Filter')\n",
    "                \n",
    "                ax[i].set_ylim(0, 1.05)\n",
    "                \n",
    "                for p in ax[i].patches:\n",
    "                    ax[i].annotate(f'{p.get_height():.2f}', (p.get_x() + p.get_width() / 2., p.get_height()),\n",
    "                                ha='center', va='center', fontsize=12, color='black', xytext=(0, 5),\n",
    "                                textcoords='offset points')\n",
    "\n",
    "plt.tight_layout()"
   ]
  },
  {
   "cell_type": "markdown",
   "metadata": {},
   "source": [
    "### We plot Skeleton and Scaffold Novelty"
   ]
  },
  {
   "cell_type": "code",
   "execution_count": null,
   "metadata": {},
   "outputs": [],
   "source": [
    "#Finally we will do 'scaffold novelty', 'skeleton novelty'\n",
    "\n",
    "fig, ax = plt.subplots(1, 2, figsize=(10,5))\n",
    "ax = ax.flatten()\n",
    "\n",
    "scaffold_novelty = [scores[model]['scaffold novelty'] for model in models]\n",
    "skeleton_novelty = [scores[model]['skeleton novelty'] for model in models]\n",
    "\n",
    "sns.barplot(x=models, y=scaffold_novelty, ax=ax[0], palette=default_palette)\n",
    "ax[0].set_title('Scaffold Novelty')\n",
    "ax[0].set_ylabel('Fraction of Novel Scaffolds')\n",
    "\n",
    "sns.barplot(x=models, y=skeleton_novelty, ax=ax[1], palette=default_palette)\n",
    "ax[1].set_title('Skeleton Novelty')\n",
    "ax[1].set_ylabel('Fraction of Novel Skeletons')\n",
    "\n",
    "for p in ax[0].patches:\n",
    "    ax[0].annotate(f'{p.get_height():.2f}', (p.get_x() + p.get_width() / 2., p.get_height()),\n",
    "                ha='center', va='center', fontsize=12, color='black', xytext=(0, 5),\n",
    "                textcoords='offset points')\n",
    "\n",
    "plt.tight_layout()\n",
    "plt.show()"
   ]
  }
 ],
 "metadata": {
  "kernelspec": {
   "display_name": "reinvent",
   "language": "python",
   "name": "python3"
  },
  "language_info": {
   "codemirror_mode": {
    "name": "ipython",
    "version": 3
   },
   "file_extension": ".py",
   "mimetype": "text/x-python",
   "name": "python",
   "nbconvert_exporter": "python",
   "pygments_lexer": "ipython3",
   "version": "3.10.13"
  }
 },
 "nbformat": 4,
 "nbformat_minor": 2
}
