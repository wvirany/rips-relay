{
 "cells": [
  {
   "cell_type": "markdown",
   "metadata": {},
   "source": [
    "## Filtering Arena"
   ]
  },
  {
   "cell_type": "code",
   "execution_count": 11,
   "metadata": {},
   "outputs": [
    {
     "name": "stdout",
     "output_type": "stream",
     "text": [
      "Current conda environment: reinvent\n",
      "Working directory: /home/fts_g_ucla_edu/Projects/rips-relay/experiments\n"
     ]
    }
   ],
   "source": [
    "import subprocess\n",
    "import os\n",
    "print('Current conda environment:', os.environ['CONDA_DEFAULT_ENV'])\n",
    "os.environ['TOKENIZERS_PARALLELISM'] = \"false\"\n",
    "\n",
    "cwd = os.getcwd()\n",
    "print('Working directory:', cwd)\n",
    "\n",
    "import warnings\n",
    "warnings.filterwarnings('ignore')\n",
    "\n",
    "import random\n",
    "random.seed(42)"
   ]
  },
  {
   "cell_type": "code",
   "execution_count": 12,
   "metadata": {},
   "outputs": [],
   "source": [
    "import numpy as np\n",
    "import pandas as pd\n",
    "\n",
    "from rdkit import Chem\n",
    "import useful_rdkit_utils as uru\n",
    "\n",
    "import pickle"
   ]
  },
  {
   "cell_type": "markdown",
   "metadata": {},
   "source": [
    "## Generating Data"
   ]
  },
  {
   "cell_type": "code",
   "execution_count": 13,
   "metadata": {},
   "outputs": [],
   "source": [
    "fragments = []\n",
    "\n",
    "f = open(\"data/fragments.smi\", \"r\")\n",
    "\n",
    "for i in range(1, 51):\n",
    "    mol = f.readline()\n",
    "    fragments.append(mol[:-1])"
   ]
  },
  {
   "cell_type": "markdown",
   "metadata": {},
   "source": [
    "### Generate a distribution from each fragment for each model"
   ]
  },
  {
   "cell_type": "code",
   "execution_count": 14,
   "metadata": {},
   "outputs": [],
   "source": [
    "models = ['reinvent', 'crem', 'coati', 'safe']"
   ]
  },
  {
   "cell_type": "markdown",
   "metadata": {},
   "source": [
    "#### Warning: The following 3 cells are dangerous:"
   ]
  },
  {
   "cell_type": "code",
   "execution_count": 15,
   "metadata": {},
   "outputs": [],
   "source": [
    "# %%capture\n",
    "\n",
    "# for fragment in fragments:\n",
    "#     for model in models:\n",
    "\n",
    "#         DF_FILEPATH = f'data/{model}_dataframe.csv'\n",
    "\n",
    "#         arg1 = '--model'\n",
    "#         arg2 = '--input_frag'\n",
    "#         arg3 = '--sample'\n",
    "\n",
    "#         args = ['python3', 'generate_analogs.py',\n",
    "#                 arg1, model,\n",
    "#                 arg2, fragment,\n",
    "#                 arg3, '200']\n",
    "\n",
    "#         # Change directory to generate analogs with python script\n",
    "#         %cd ..\n",
    "\n",
    "#         subprocess.run(args,\n",
    "#                     stdout=subprocess.DEVNULL,\n",
    "#                     stderr=subprocess.STDOUT)\n",
    "                \n",
    "#         # Change directory back to that of the current notebook\n",
    "#         %cd experiments\n",
    "\n",
    "#         df = pd.read_csv(DF_FILEPATH, index_col=0)\n",
    "\n",
    "#         df['Model'] = model\n",
    "\n",
    "#         if model == 'reinvent':\n",
    "#             reinvent_distributions.append(df)\n",
    "#         elif model == 'crem':\n",
    "#             crem_distributions.append(df)\n",
    "#         elif model == 'coati':\n",
    "#             coati_distributions.append(df)\n",
    "#         elif model == 'safe':\n",
    "#             safe_distributions.append(df)"
   ]
  },
  {
   "cell_type": "code",
   "execution_count": 16,
   "metadata": {},
   "outputs": [],
   "source": [
    "# data = {'reinvent' : reinvent_distributions,\n",
    "#         'crem' : crem_distributions,\n",
    "#         'coati' : coati_distributions,\n",
    "#         'safe' : safe_distributions}"
   ]
  },
  {
   "cell_type": "code",
   "execution_count": 17,
   "metadata": {},
   "outputs": [],
   "source": [
    "# with open('lists.pkl', 'wb') as file:\n",
    "#     pickle.dump(data, file)"
   ]
  },
  {
   "cell_type": "code",
   "execution_count": 18,
   "metadata": {},
   "outputs": [],
   "source": [
    "with open('lists.pkl', 'rb') as file:\n",
    "    data = pickle.load(file)"
   ]
  },
  {
   "cell_type": "markdown",
   "metadata": {},
   "source": [
    "### Concatenate data for each model"
   ]
  },
  {
   "cell_type": "code",
   "execution_count": 19,
   "metadata": {},
   "outputs": [],
   "source": [
    "model_dfs = []\n",
    "\n",
    "for model in models:\n",
    "\n",
    "    distributions = data[model]\n",
    "    model_df = pd.DataFrame()\n",
    "\n",
    "    for df in distributions:\n",
    "\n",
    "        model_df = pd.concat((model_df, df))\n",
    "\n",
    "    model_dfs.append(model_df)"
   ]
  },
  {
   "cell_type": "markdown",
   "metadata": {},
   "source": [
    "### Filtering invalid molecules"
   ]
  },
  {
   "cell_type": "code",
   "execution_count": 20,
   "metadata": {},
   "outputs": [
    {
     "name": "stderr",
     "output_type": "stream",
     "text": [
      "[00:00:30] WARNING: not removing hydrogen atom without neighbors\n",
      "[00:00:30] WARNING: not removing hydrogen atom without neighbors\n",
      "[00:00:30] WARNING: not removing hydrogen atom without neighbors\n",
      "[00:00:30] WARNING: not removing hydrogen atom without neighbors\n",
      "[00:00:30] WARNING: not removing hydrogen atom without neighbors\n",
      "[00:00:30] WARNING: not removing hydrogen atom without neighbors\n",
      "[00:00:30] WARNING: not removing hydrogen atom without neighbors\n",
      "[00:00:30] WARNING: not removing hydrogen atom without neighbors\n",
      "[00:00:30] WARNING: not removing hydrogen atom without neighbors\n",
      "[00:00:30] WARNING: not removing hydrogen atom without neighbors\n",
      "[00:00:30] WARNING: not removing hydrogen atom without neighbors\n",
      "[00:00:30] WARNING: not removing hydrogen atom without neighbors\n",
      "[00:00:30] WARNING: not removing hydrogen atom without neighbors\n",
      "[00:00:30] WARNING: not removing hydrogen atom without neighbors\n",
      "[00:00:30] WARNING: not removing hydrogen atom without neighbors\n",
      "[00:00:30] WARNING: not removing hydrogen atom without neighbors\n",
      "[00:00:30] WARNING: not removing hydrogen atom without neighbors\n",
      "[00:00:30] WARNING: not removing hydrogen atom without neighbors\n",
      "[00:00:30] WARNING: not removing hydrogen atom without neighbors\n",
      "[00:00:30] WARNING: not removing hydrogen atom without neighbors\n",
      "[00:00:30] WARNING: not removing hydrogen atom without neighbors\n",
      "[00:00:30] WARNING: not removing hydrogen atom without neighbors\n",
      "[00:00:30] WARNING: not removing hydrogen atom without neighbors\n",
      "[00:00:30] WARNING: not removing hydrogen atom without neighbors\n",
      "[00:00:30] WARNING: not removing hydrogen atom without neighbors\n",
      "[00:00:30] WARNING: not removing hydrogen atom without neighbors\n",
      "[00:00:30] WARNING: not removing hydrogen atom without neighbors\n",
      "[00:00:30] WARNING: not removing hydrogen atom without neighbors\n",
      "[00:00:30] WARNING: not removing hydrogen atom without neighbors\n",
      "[00:00:30] WARNING: not removing hydrogen atom without neighbors\n",
      "[00:00:30] WARNING: not removing hydrogen atom without neighbors\n",
      "[00:00:30] WARNING: not removing hydrogen atom without neighbors\n",
      "[00:00:30] WARNING: not removing hydrogen atom without neighbors\n",
      "[00:00:30] WARNING: not removing hydrogen atom without neighbors\n",
      "[00:00:30] WARNING: not removing hydrogen atom without neighbors\n",
      "[00:00:30] WARNING: not removing hydrogen atom without neighbors\n",
      "[00:00:30] WARNING: not removing hydrogen atom without neighbors\n",
      "[00:00:30] WARNING: not removing hydrogen atom without neighbors\n",
      "[00:00:30] WARNING: not removing hydrogen atom without neighbors\n",
      "[00:00:30] WARNING: not removing hydrogen atom without neighbors\n",
      "[00:00:30] WARNING: not removing hydrogen atom without neighbors\n",
      "[00:00:30] WARNING: not removing hydrogen atom without neighbors\n",
      "[00:00:30] WARNING: not removing hydrogen atom without neighbors\n",
      "[00:00:30] WARNING: not removing hydrogen atom without neighbors\n",
      "[00:00:30] WARNING: not removing hydrogen atom without neighbors\n",
      "[00:00:30] WARNING: not removing hydrogen atom without neighbors\n",
      "[00:00:30] WARNING: not removing hydrogen atom without neighbors\n",
      "[00:00:30] WARNING: not removing hydrogen atom without neighbors\n",
      "[00:00:30] WARNING: not removing hydrogen atom without neighbors\n",
      "[00:00:30] WARNING: not removing hydrogen atom without neighbors\n",
      "[00:00:30] WARNING: not removing hydrogen atom without neighbors\n",
      "[00:00:30] WARNING: not removing hydrogen atom without neighbors\n",
      "[00:00:30] WARNING: not removing hydrogen atom without neighbors\n",
      "[00:00:30] WARNING: not removing hydrogen atom without neighbors\n",
      "[00:00:30] WARNING: not removing hydrogen atom without neighbors\n",
      "[00:00:30] WARNING: not removing hydrogen atom without neighbors\n",
      "[00:00:30] WARNING: not removing hydrogen atom without neighbors\n",
      "[00:00:30] WARNING: not removing hydrogen atom without neighbors\n",
      "[00:00:30] WARNING: not removing hydrogen atom without neighbors\n",
      "[00:00:30] WARNING: not removing hydrogen atom without neighbors\n",
      "[00:00:30] WARNING: not removing hydrogen atom without neighbors\n",
      "[00:00:30] WARNING: not removing hydrogen atom without neighbors\n",
      "[00:00:30] WARNING: not removing hydrogen atom without neighbors\n",
      "[00:00:30] WARNING: not removing hydrogen atom without neighbors\n",
      "[00:00:30] WARNING: not removing hydrogen atom without neighbors\n",
      "[00:00:30] WARNING: not removing hydrogen atom without neighbors\n",
      "[00:00:30] WARNING: not removing hydrogen atom without neighbors\n",
      "[00:00:30] WARNING: not removing hydrogen atom without neighbors\n",
      "[00:00:30] WARNING: not removing hydrogen atom without neighbors\n",
      "[00:00:30] WARNING: not removing hydrogen atom without neighbors\n",
      "[00:00:30] WARNING: not removing hydrogen atom without neighbors\n",
      "[00:00:30] WARNING: not removing hydrogen atom without neighbors\n",
      "[00:00:30] WARNING: not removing hydrogen atom without neighbors\n",
      "[00:00:30] WARNING: not removing hydrogen atom without neighbors\n",
      "[00:00:30] WARNING: not removing hydrogen atom without neighbors\n",
      "[00:00:30] WARNING: not removing hydrogen atom without neighbors\n",
      "[00:00:30] WARNING: not removing hydrogen atom without neighbors\n",
      "[00:00:30] WARNING: not removing hydrogen atom without neighbors\n",
      "[00:00:30] WARNING: not removing hydrogen atom without neighbors\n",
      "[00:00:30] WARNING: not removing hydrogen atom without neighbors\n",
      "[00:00:30] WARNING: not removing hydrogen atom without neighbors\n",
      "[00:00:30] WARNING: not removing hydrogen atom without neighbors\n",
      "[00:00:30] WARNING: not removing hydrogen atom without neighbors\n",
      "[00:00:30] WARNING: not removing hydrogen atom without neighbors\n",
      "[00:00:30] WARNING: not removing hydrogen atom without neighbors\n",
      "[00:00:30] WARNING: not removing hydrogen atom without neighbors\n",
      "[00:00:30] WARNING: not removing hydrogen atom without neighbors\n",
      "[00:00:30] WARNING: not removing hydrogen atom without neighbors\n",
      "[00:00:30] WARNING: not removing hydrogen atom without neighbors\n",
      "[00:00:30] WARNING: not removing hydrogen atom without neighbors\n",
      "[00:00:31] WARNING: not removing hydrogen atom without neighbors\n",
      "[00:00:31] Can't kekulize mol.  Unkekulized atoms: 14 15 16 17 18\n",
      "[00:00:32] WARNING: not removing hydrogen atom without neighbors\n",
      "[00:00:32] WARNING: not removing hydrogen atom without neighbors\n",
      "[00:00:32] WARNING: not removing hydrogen atom without neighbors\n"
     ]
    }
   ],
   "source": [
    "for i, df in enumerate(model_dfs):\n",
    "\n",
    "    smiles_list = df['SMILES'].to_list()\n",
    "\n",
    "    valid_smiles = []\n",
    "    invalid_smiles = []\n",
    "\n",
    "    for smiles in smiles_list:\n",
    "        \n",
    "        try:\n",
    "            molecule = Chem.MolFromSmiles(smiles, sanitize=True)\n",
    "            if molecule is not None:\n",
    "                valid_smiles.append(True)\n",
    "            else:\n",
    "                valid_smiles.append(False)\n",
    "        except Exception as e:\n",
    "            invalid_smiles.append(smiles)\n",
    "        \n",
    "    model_dfs[i] = df[valid_smiles]"
   ]
  },
  {
   "cell_type": "code",
   "execution_count": 21,
   "metadata": {},
   "outputs": [
    {
     "data": {
      "text/plain": [
       "9999"
      ]
     },
     "execution_count": 21,
     "metadata": {},
     "output_type": "execute_result"
    }
   ],
   "source": [
    "len(model_dfs[3])"
   ]
  },
  {
   "cell_type": "markdown",
   "metadata": {},
   "source": [
    "## Filtering"
   ]
  },
  {
   "cell_type": "code",
   "execution_count": 22,
   "metadata": {},
   "outputs": [],
   "source": [
    "d = {'reinvent' : np.zeros(6),\n",
    "     'crem' : np.zeros(6),\n",
    "     'coati' : np.zeros(6),\n",
    "     'safe' : np.zeros(6)}\n",
    "\n",
    "scores = pd.DataFrame(data = d, index = ['valid', 'duplicates', 'good rings', 'chemical stability', 'scaffold novelty', 'skeleton novelty'])"
   ]
  },
  {
   "cell_type": "markdown",
   "metadata": {},
   "source": [
    "### Filter #1: Invalid SMILES strings"
   ]
  },
  {
   "cell_type": "code",
   "execution_count": 23,
   "metadata": {},
   "outputs": [],
   "source": [
    "def num_valid(df):\n",
    "\n",
    "    size = len(df)\n",
    "    count = 0\n",
    "\n",
    "    for smi in df.SMILES:\n",
    "\n",
    "        mol = Chem.MolFromSmiles(smi)\n",
    "\n",
    "        if mol is not None:\n",
    "            count += 1\n",
    "\n",
    "    return count / size"
   ]
  },
  {
   "cell_type": "code",
   "execution_count": 24,
   "metadata": {},
   "outputs": [
    {
     "name": "stderr",
     "output_type": "stream",
     "text": [
      "[00:00:34] WARNING: not removing hydrogen atom without neighbors\n",
      "[00:00:34] WARNING: not removing hydrogen atom without neighbors\n",
      "[00:00:34] WARNING: not removing hydrogen atom without neighbors\n",
      "[00:00:34] WARNING: not removing hydrogen atom without neighbors\n",
      "[00:00:34] WARNING: not removing hydrogen atom without neighbors\n",
      "[00:00:34] WARNING: not removing hydrogen atom without neighbors\n",
      "[00:00:34] WARNING: not removing hydrogen atom without neighbors\n",
      "[00:00:34] WARNING: not removing hydrogen atom without neighbors\n",
      "[00:00:34] WARNING: not removing hydrogen atom without neighbors\n",
      "[00:00:34] WARNING: not removing hydrogen atom without neighbors\n",
      "[00:00:34] WARNING: not removing hydrogen atom without neighbors\n",
      "[00:00:34] WARNING: not removing hydrogen atom without neighbors\n",
      "[00:00:34] WARNING: not removing hydrogen atom without neighbors\n",
      "[00:00:34] WARNING: not removing hydrogen atom without neighbors\n",
      "[00:00:34] WARNING: not removing hydrogen atom without neighbors\n",
      "[00:00:34] WARNING: not removing hydrogen atom without neighbors\n",
      "[00:00:34] WARNING: not removing hydrogen atom without neighbors\n",
      "[00:00:34] WARNING: not removing hydrogen atom without neighbors\n",
      "[00:00:34] WARNING: not removing hydrogen atom without neighbors\n",
      "[00:00:34] WARNING: not removing hydrogen atom without neighbors\n",
      "[00:00:34] WARNING: not removing hydrogen atom without neighbors\n",
      "[00:00:34] WARNING: not removing hydrogen atom without neighbors\n",
      "[00:00:34] WARNING: not removing hydrogen atom without neighbors\n",
      "[00:00:34] WARNING: not removing hydrogen atom without neighbors\n",
      "[00:00:34] WARNING: not removing hydrogen atom without neighbors\n",
      "[00:00:34] WARNING: not removing hydrogen atom without neighbors\n",
      "[00:00:34] WARNING: not removing hydrogen atom without neighbors\n",
      "[00:00:34] WARNING: not removing hydrogen atom without neighbors\n",
      "[00:00:34] WARNING: not removing hydrogen atom without neighbors\n",
      "[00:00:34] WARNING: not removing hydrogen atom without neighbors\n",
      "[00:00:34] WARNING: not removing hydrogen atom without neighbors\n",
      "[00:00:34] WARNING: not removing hydrogen atom without neighbors\n",
      "[00:00:34] WARNING: not removing hydrogen atom without neighbors\n",
      "[00:00:34] WARNING: not removing hydrogen atom without neighbors\n",
      "[00:00:34] WARNING: not removing hydrogen atom without neighbors\n",
      "[00:00:34] WARNING: not removing hydrogen atom without neighbors\n",
      "[00:00:34] WARNING: not removing hydrogen atom without neighbors\n",
      "[00:00:34] WARNING: not removing hydrogen atom without neighbors\n",
      "[00:00:34] WARNING: not removing hydrogen atom without neighbors\n",
      "[00:00:34] WARNING: not removing hydrogen atom without neighbors\n",
      "[00:00:34] WARNING: not removing hydrogen atom without neighbors\n",
      "[00:00:34] WARNING: not removing hydrogen atom without neighbors\n",
      "[00:00:34] WARNING: not removing hydrogen atom without neighbors\n",
      "[00:00:34] WARNING: not removing hydrogen atom without neighbors\n",
      "[00:00:34] WARNING: not removing hydrogen atom without neighbors\n",
      "[00:00:34] WARNING: not removing hydrogen atom without neighbors\n",
      "[00:00:34] WARNING: not removing hydrogen atom without neighbors\n",
      "[00:00:34] WARNING: not removing hydrogen atom without neighbors\n",
      "[00:00:34] WARNING: not removing hydrogen atom without neighbors\n",
      "[00:00:34] WARNING: not removing hydrogen atom without neighbors\n",
      "[00:00:34] WARNING: not removing hydrogen atom without neighbors\n",
      "[00:00:34] WARNING: not removing hydrogen atom without neighbors\n",
      "[00:00:34] WARNING: not removing hydrogen atom without neighbors\n",
      "[00:00:34] WARNING: not removing hydrogen atom without neighbors\n",
      "[00:00:34] WARNING: not removing hydrogen atom without neighbors\n",
      "[00:00:34] WARNING: not removing hydrogen atom without neighbors\n",
      "[00:00:34] WARNING: not removing hydrogen atom without neighbors\n",
      "[00:00:34] WARNING: not removing hydrogen atom without neighbors\n",
      "[00:00:34] WARNING: not removing hydrogen atom without neighbors\n",
      "[00:00:34] WARNING: not removing hydrogen atom without neighbors\n",
      "[00:00:34] WARNING: not removing hydrogen atom without neighbors\n",
      "[00:00:34] WARNING: not removing hydrogen atom without neighbors\n",
      "[00:00:34] WARNING: not removing hydrogen atom without neighbors\n",
      "[00:00:34] WARNING: not removing hydrogen atom without neighbors\n",
      "[00:00:34] WARNING: not removing hydrogen atom without neighbors\n",
      "[00:00:34] WARNING: not removing hydrogen atom without neighbors\n",
      "[00:00:34] WARNING: not removing hydrogen atom without neighbors\n",
      "[00:00:34] WARNING: not removing hydrogen atom without neighbors\n",
      "[00:00:34] WARNING: not removing hydrogen atom without neighbors\n",
      "[00:00:34] WARNING: not removing hydrogen atom without neighbors\n",
      "[00:00:34] WARNING: not removing hydrogen atom without neighbors\n",
      "[00:00:34] WARNING: not removing hydrogen atom without neighbors\n",
      "[00:00:34] WARNING: not removing hydrogen atom without neighbors\n",
      "[00:00:34] WARNING: not removing hydrogen atom without neighbors\n",
      "[00:00:34] WARNING: not removing hydrogen atom without neighbors\n",
      "[00:00:34] WARNING: not removing hydrogen atom without neighbors\n",
      "[00:00:34] WARNING: not removing hydrogen atom without neighbors\n",
      "[00:00:34] WARNING: not removing hydrogen atom without neighbors\n",
      "[00:00:34] WARNING: not removing hydrogen atom without neighbors\n",
      "[00:00:34] WARNING: not removing hydrogen atom without neighbors\n",
      "[00:00:34] WARNING: not removing hydrogen atom without neighbors\n",
      "[00:00:34] WARNING: not removing hydrogen atom without neighbors\n",
      "[00:00:34] WARNING: not removing hydrogen atom without neighbors\n",
      "[00:00:34] WARNING: not removing hydrogen atom without neighbors\n",
      "[00:00:34] WARNING: not removing hydrogen atom without neighbors\n",
      "[00:00:34] WARNING: not removing hydrogen atom without neighbors\n",
      "[00:00:34] WARNING: not removing hydrogen atom without neighbors\n",
      "[00:00:34] WARNING: not removing hydrogen atom without neighbors\n",
      "[00:00:34] WARNING: not removing hydrogen atom without neighbors\n",
      "[00:00:34] WARNING: not removing hydrogen atom without neighbors\n",
      "[00:00:35] WARNING: not removing hydrogen atom without neighbors\n",
      "[00:00:36] WARNING: not removing hydrogen atom without neighbors\n",
      "[00:00:36] WARNING: not removing hydrogen atom without neighbors\n",
      "[00:00:36] WARNING: not removing hydrogen atom without neighbors\n"
     ]
    }
   ],
   "source": [
    "for model, df in zip(models, model_dfs):\n",
    "\n",
    "    scores[model]['valid'] = num_valid(df)"
   ]
  },
  {
   "cell_type": "code",
   "execution_count": 25,
   "metadata": {},
   "outputs": [
    {
     "data": {
      "text/html": [
       "<div>\n",
       "<style scoped>\n",
       "    .dataframe tbody tr th:only-of-type {\n",
       "        vertical-align: middle;\n",
       "    }\n",
       "\n",
       "    .dataframe tbody tr th {\n",
       "        vertical-align: top;\n",
       "    }\n",
       "\n",
       "    .dataframe thead th {\n",
       "        text-align: right;\n",
       "    }\n",
       "</style>\n",
       "<table border=\"1\" class=\"dataframe\">\n",
       "  <thead>\n",
       "    <tr style=\"text-align: right;\">\n",
       "      <th></th>\n",
       "      <th>reinvent</th>\n",
       "      <th>crem</th>\n",
       "      <th>coati</th>\n",
       "      <th>safe</th>\n",
       "    </tr>\n",
       "  </thead>\n",
       "  <tbody>\n",
       "    <tr>\n",
       "      <th>valid</th>\n",
       "      <td>1.0</td>\n",
       "      <td>1.0</td>\n",
       "      <td>1.0</td>\n",
       "      <td>1.0</td>\n",
       "    </tr>\n",
       "    <tr>\n",
       "      <th>duplicates</th>\n",
       "      <td>0.0</td>\n",
       "      <td>0.0</td>\n",
       "      <td>0.0</td>\n",
       "      <td>0.0</td>\n",
       "    </tr>\n",
       "    <tr>\n",
       "      <th>good rings</th>\n",
       "      <td>0.0</td>\n",
       "      <td>0.0</td>\n",
       "      <td>0.0</td>\n",
       "      <td>0.0</td>\n",
       "    </tr>\n",
       "    <tr>\n",
       "      <th>chemical stability</th>\n",
       "      <td>0.0</td>\n",
       "      <td>0.0</td>\n",
       "      <td>0.0</td>\n",
       "      <td>0.0</td>\n",
       "    </tr>\n",
       "    <tr>\n",
       "      <th>scaffold novelty</th>\n",
       "      <td>0.0</td>\n",
       "      <td>0.0</td>\n",
       "      <td>0.0</td>\n",
       "      <td>0.0</td>\n",
       "    </tr>\n",
       "    <tr>\n",
       "      <th>skeleton novelty</th>\n",
       "      <td>0.0</td>\n",
       "      <td>0.0</td>\n",
       "      <td>0.0</td>\n",
       "      <td>0.0</td>\n",
       "    </tr>\n",
       "  </tbody>\n",
       "</table>\n",
       "</div>"
      ],
      "text/plain": [
       "                    reinvent  crem  coati  safe\n",
       "valid                    1.0   1.0    1.0   1.0\n",
       "duplicates               0.0   0.0    0.0   0.0\n",
       "good rings               0.0   0.0    0.0   0.0\n",
       "chemical stability       0.0   0.0    0.0   0.0\n",
       "scaffold novelty         0.0   0.0    0.0   0.0\n",
       "skeleton novelty         0.0   0.0    0.0   0.0"
      ]
     },
     "execution_count": 25,
     "metadata": {},
     "output_type": "execute_result"
    }
   ],
   "source": [
    "scores"
   ]
  },
  {
   "cell_type": "markdown",
   "metadata": {},
   "source": [
    "### Filter #2: Duplicates"
   ]
  },
  {
   "cell_type": "code",
   "execution_count": 26,
   "metadata": {},
   "outputs": [],
   "source": [
    "safe_df = model_dfs[3]"
   ]
  },
  {
   "cell_type": "code",
   "execution_count": 27,
   "metadata": {},
   "outputs": [
    {
     "data": {
      "text/html": [
       "<div>\n",
       "<style scoped>\n",
       "    .dataframe tbody tr th:only-of-type {\n",
       "        vertical-align: middle;\n",
       "    }\n",
       "\n",
       "    .dataframe tbody tr th {\n",
       "        vertical-align: top;\n",
       "    }\n",
       "\n",
       "    .dataframe thead th {\n",
       "        text-align: right;\n",
       "    }\n",
       "</style>\n",
       "<table border=\"1\" class=\"dataframe\">\n",
       "  <thead>\n",
       "    <tr style=\"text-align: right;\">\n",
       "      <th></th>\n",
       "      <th>SMILES</th>\n",
       "      <th>Model</th>\n",
       "    </tr>\n",
       "  </thead>\n",
       "  <tbody>\n",
       "    <tr>\n",
       "      <th>361</th>\n",
       "      <td>c1nc(C2CCOCC2)nc2c1CCN2</td>\n",
       "      <td>safe</td>\n",
       "    </tr>\n",
       "    <tr>\n",
       "      <th>73</th>\n",
       "      <td>c1nc(N2CCC2)nc2c1CCN2</td>\n",
       "      <td>safe</td>\n",
       "    </tr>\n",
       "    <tr>\n",
       "      <th>374</th>\n",
       "      <td>c1nc(-c2nn[nH]n2)nc2c1CCN2</td>\n",
       "      <td>safe</td>\n",
       "    </tr>\n",
       "    <tr>\n",
       "      <th>155</th>\n",
       "      <td>c1nc(SCCN2CCOCC2)nc2c1CCN2</td>\n",
       "      <td>safe</td>\n",
       "    </tr>\n",
       "    <tr>\n",
       "      <th>104</th>\n",
       "      <td>c1nc(N2CCCSCC2)nc2c1CCN2</td>\n",
       "      <td>safe</td>\n",
       "    </tr>\n",
       "    <tr>\n",
       "      <th>...</th>\n",
       "      <td>...</td>\n",
       "      <td>...</td>\n",
       "    </tr>\n",
       "    <tr>\n",
       "      <th>83</th>\n",
       "      <td>CC(C)C(=O)NC(c1nc2ccccc2n1-c1ccccc1)N1CCOCC1</td>\n",
       "      <td>safe</td>\n",
       "    </tr>\n",
       "    <tr>\n",
       "      <th>425</th>\n",
       "      <td>CC(C)C(=O)NC(c1nc2ccccc2n1C1CC1)N1CN(CC(=O)O)c...</td>\n",
       "      <td>safe</td>\n",
       "    </tr>\n",
       "    <tr>\n",
       "      <th>165</th>\n",
       "      <td>CC(C)C(=O)NC(c1cc2ccccc2nn1)c1nc2ccccc2n1CCC(=O)O</td>\n",
       "      <td>safe</td>\n",
       "    </tr>\n",
       "    <tr>\n",
       "      <th>266</th>\n",
       "      <td>CC(C)C(=O)NC(Nc1ccccc1)c1nc2ccccc2n1C1OC(CO)C(...</td>\n",
       "      <td>safe</td>\n",
       "    </tr>\n",
       "    <tr>\n",
       "      <th>199</th>\n",
       "      <td>CC(C)C(=O)NC(C(=O)O)c1nc2ccccc2n1-c1nncs1</td>\n",
       "      <td>safe</td>\n",
       "    </tr>\n",
       "  </tbody>\n",
       "</table>\n",
       "<p>9999 rows × 2 columns</p>\n",
       "</div>"
      ],
      "text/plain": [
       "                                                SMILES Model\n",
       "361                            c1nc(C2CCOCC2)nc2c1CCN2  safe\n",
       "73                               c1nc(N2CCC2)nc2c1CCN2  safe\n",
       "374                         c1nc(-c2nn[nH]n2)nc2c1CCN2  safe\n",
       "155                         c1nc(SCCN2CCOCC2)nc2c1CCN2  safe\n",
       "104                           c1nc(N2CCCSCC2)nc2c1CCN2  safe\n",
       "..                                                 ...   ...\n",
       "83        CC(C)C(=O)NC(c1nc2ccccc2n1-c1ccccc1)N1CCOCC1  safe\n",
       "425  CC(C)C(=O)NC(c1nc2ccccc2n1C1CC1)N1CN(CC(=O)O)c...  safe\n",
       "165  CC(C)C(=O)NC(c1cc2ccccc2nn1)c1nc2ccccc2n1CCC(=O)O  safe\n",
       "266  CC(C)C(=O)NC(Nc1ccccc1)c1nc2ccccc2n1C1OC(CO)C(...  safe\n",
       "199          CC(C)C(=O)NC(C(=O)O)c1nc2ccccc2n1-c1nncs1  safe\n",
       "\n",
       "[9999 rows x 2 columns]"
      ]
     },
     "execution_count": 27,
     "metadata": {},
     "output_type": "execute_result"
    }
   ],
   "source": [
    "safe_df"
   ]
  },
  {
   "cell_type": "code",
   "execution_count": 28,
   "metadata": {},
   "outputs": [
    {
     "name": "stderr",
     "output_type": "stream",
     "text": [
      "[00:00:44] WARNING: not removing hydrogen atom without neighbors\n",
      "[00:00:44] WARNING: not removing hydrogen atom without neighbors\n",
      "[00:00:44] WARNING: not removing hydrogen atom without neighbors\n",
      "[00:00:44] WARNING: not removing hydrogen atom without neighbors\n",
      "[00:00:44] WARNING: not removing hydrogen atom without neighbors\n",
      "[00:00:44] WARNING: not removing hydrogen atom without neighbors\n",
      "[00:00:44] WARNING: not removing hydrogen atom without neighbors\n",
      "[00:00:44] WARNING: not removing hydrogen atom without neighbors\n",
      "[00:00:44] WARNING: not removing hydrogen atom without neighbors\n",
      "[00:00:44] WARNING: not removing hydrogen atom without neighbors\n",
      "[00:00:44] WARNING: not removing hydrogen atom without neighbors\n",
      "[00:00:44] WARNING: not removing hydrogen atom without neighbors\n",
      "[00:00:44] WARNING: not removing hydrogen atom without neighbors\n",
      "[00:00:44] WARNING: not removing hydrogen atom without neighbors\n",
      "[00:00:44] WARNING: not removing hydrogen atom without neighbors\n",
      "[00:00:44] WARNING: not removing hydrogen atom without neighbors\n",
      "[00:00:44] WARNING: not removing hydrogen atom without neighbors\n",
      "[00:00:44] WARNING: not removing hydrogen atom without neighbors\n",
      "[00:00:44] WARNING: not removing hydrogen atom without neighbors\n",
      "[00:00:44] WARNING: not removing hydrogen atom without neighbors\n",
      "[00:00:44] WARNING: not removing hydrogen atom without neighbors\n",
      "[00:00:44] WARNING: not removing hydrogen atom without neighbors\n",
      "[00:00:44] WARNING: not removing hydrogen atom without neighbors\n",
      "[00:00:44] WARNING: not removing hydrogen atom without neighbors\n",
      "[00:00:44] WARNING: not removing hydrogen atom without neighbors\n",
      "[00:00:44] WARNING: not removing hydrogen atom without neighbors\n",
      "[00:00:44] WARNING: not removing hydrogen atom without neighbors\n",
      "[00:00:44] WARNING: not removing hydrogen atom without neighbors\n",
      "[00:00:44] WARNING: not removing hydrogen atom without neighbors\n",
      "[00:00:44] WARNING: not removing hydrogen atom without neighbors\n",
      "[00:00:44] WARNING: not removing hydrogen atom without neighbors\n",
      "[00:00:44] WARNING: not removing hydrogen atom without neighbors\n",
      "[00:00:44] WARNING: not removing hydrogen atom without neighbors\n",
      "[00:00:44] WARNING: not removing hydrogen atom without neighbors\n",
      "[00:00:44] WARNING: not removing hydrogen atom without neighbors\n",
      "[00:00:44] WARNING: not removing hydrogen atom without neighbors\n",
      "[00:00:44] WARNING: not removing hydrogen atom without neighbors\n",
      "[00:00:44] WARNING: not removing hydrogen atom without neighbors\n",
      "[00:00:44] WARNING: not removing hydrogen atom without neighbors\n",
      "[00:00:44] WARNING: not removing hydrogen atom without neighbors\n",
      "[00:00:44] WARNING: not removing hydrogen atom without neighbors\n",
      "[00:00:44] WARNING: not removing hydrogen atom without neighbors\n",
      "[00:00:44] WARNING: not removing hydrogen atom without neighbors\n",
      "[00:00:44] WARNING: not removing hydrogen atom without neighbors\n",
      "[00:00:44] WARNING: not removing hydrogen atom without neighbors\n",
      "[00:00:44] WARNING: not removing hydrogen atom without neighbors\n",
      "[00:00:44] WARNING: not removing hydrogen atom without neighbors\n",
      "[00:00:44] WARNING: not removing hydrogen atom without neighbors\n",
      "[00:00:44] WARNING: not removing hydrogen atom without neighbors\n",
      "[00:00:44] WARNING: not removing hydrogen atom without neighbors\n",
      "[00:00:44] WARNING: not removing hydrogen atom without neighbors\n",
      "[00:00:44] WARNING: not removing hydrogen atom without neighbors\n",
      "[00:00:44] WARNING: not removing hydrogen atom without neighbors\n",
      "[00:00:44] WARNING: not removing hydrogen atom without neighbors\n",
      "[00:00:44] WARNING: not removing hydrogen atom without neighbors\n",
      "[00:00:44] WARNING: not removing hydrogen atom without neighbors\n",
      "[00:00:44] WARNING: not removing hydrogen atom without neighbors\n",
      "[00:00:44] WARNING: not removing hydrogen atom without neighbors\n",
      "[00:00:44] WARNING: not removing hydrogen atom without neighbors\n",
      "[00:00:44] WARNING: not removing hydrogen atom without neighbors\n",
      "[00:00:44] WARNING: not removing hydrogen atom without neighbors\n",
      "[00:00:44] WARNING: not removing hydrogen atom without neighbors\n",
      "[00:00:44] WARNING: not removing hydrogen atom without neighbors\n",
      "[00:00:44] WARNING: not removing hydrogen atom without neighbors\n",
      "[00:00:44] WARNING: not removing hydrogen atom without neighbors\n",
      "[00:00:44] WARNING: not removing hydrogen atom without neighbors\n",
      "[00:00:44] WARNING: not removing hydrogen atom without neighbors\n",
      "[00:00:44] WARNING: not removing hydrogen atom without neighbors\n",
      "[00:00:44] WARNING: not removing hydrogen atom without neighbors\n",
      "[00:00:44] WARNING: not removing hydrogen atom without neighbors\n",
      "[00:00:44] WARNING: not removing hydrogen atom without neighbors\n",
      "[00:00:44] WARNING: not removing hydrogen atom without neighbors\n",
      "[00:00:44] WARNING: not removing hydrogen atom without neighbors\n",
      "[00:00:44] WARNING: not removing hydrogen atom without neighbors\n",
      "[00:00:44] WARNING: not removing hydrogen atom without neighbors\n",
      "[00:00:44] WARNING: not removing hydrogen atom without neighbors\n",
      "[00:00:44] WARNING: not removing hydrogen atom without neighbors\n",
      "[00:00:44] WARNING: not removing hydrogen atom without neighbors\n",
      "[00:00:44] WARNING: not removing hydrogen atom without neighbors\n",
      "[00:00:44] WARNING: not removing hydrogen atom without neighbors\n",
      "[00:00:44] WARNING: not removing hydrogen atom without neighbors\n",
      "[00:00:44] WARNING: not removing hydrogen atom without neighbors\n",
      "[00:00:44] WARNING: not removing hydrogen atom without neighbors\n",
      "[00:00:44] WARNING: not removing hydrogen atom without neighbors\n",
      "[00:00:44] WARNING: not removing hydrogen atom without neighbors\n",
      "[00:00:44] WARNING: not removing hydrogen atom without neighbors\n",
      "[00:00:44] WARNING: not removing hydrogen atom without neighbors\n",
      "[00:00:44] WARNING: not removing hydrogen atom without neighbors\n",
      "[00:00:44] WARNING: not removing hydrogen atom without neighbors\n",
      "[00:00:44] WARNING: not removing hydrogen atom without neighbors\n",
      "[00:00:47] WARNING: not removing hydrogen atom without neighbors\n",
      "[00:00:47] WARNING: not removing hydrogen atom without neighbors\n",
      "[00:00:47] WARNING: not removing hydrogen atom without neighbors\n",
      "[00:00:47] WARNING: not removing hydrogen atom without neighbors\n"
     ]
    }
   ],
   "source": [
    "for i, (model, df) in enumerate(zip(models, model_dfs)):\n",
    "\n",
    "    mols = [Chem.MolFromSmiles(smi) for smi in df.SMILES]\n",
    "\n",
    "    df['ROMol'] = mols\n",
    "\n",
    "    df['inchi'] = df.ROMol.apply(Chem.MolToInchiKey)\n",
    "\n",
    "    duplicates = df.drop_duplicates(subset=\"inchi\")\n",
    "\n",
    "    scores[model]['duplicates'] = len(duplicates) / len(df)\n",
    "\n",
    "    df.drop_duplicates(subset=\"inchi\", inplace=True)\n",
    "    \n",
    "    model_dfs[i] = df "
   ]
  },
  {
   "cell_type": "code",
   "execution_count": 29,
   "metadata": {},
   "outputs": [
    {
     "data": {
      "text/html": [
       "<div>\n",
       "<style scoped>\n",
       "    .dataframe tbody tr th:only-of-type {\n",
       "        vertical-align: middle;\n",
       "    }\n",
       "\n",
       "    .dataframe tbody tr th {\n",
       "        vertical-align: top;\n",
       "    }\n",
       "\n",
       "    .dataframe thead th {\n",
       "        text-align: right;\n",
       "    }\n",
       "</style>\n",
       "<table border=\"1\" class=\"dataframe\">\n",
       "  <thead>\n",
       "    <tr style=\"text-align: right;\">\n",
       "      <th></th>\n",
       "      <th>reinvent</th>\n",
       "      <th>crem</th>\n",
       "      <th>coati</th>\n",
       "      <th>safe</th>\n",
       "    </tr>\n",
       "  </thead>\n",
       "  <tbody>\n",
       "    <tr>\n",
       "      <th>valid</th>\n",
       "      <td>1.0000</td>\n",
       "      <td>1.000000</td>\n",
       "      <td>1.000000</td>\n",
       "      <td>1.00000</td>\n",
       "    </tr>\n",
       "    <tr>\n",
       "      <th>duplicates</th>\n",
       "      <td>0.9102</td>\n",
       "      <td>0.937527</td>\n",
       "      <td>0.846925</td>\n",
       "      <td>0.80428</td>\n",
       "    </tr>\n",
       "    <tr>\n",
       "      <th>good rings</th>\n",
       "      <td>0.0000</td>\n",
       "      <td>0.000000</td>\n",
       "      <td>0.000000</td>\n",
       "      <td>0.00000</td>\n",
       "    </tr>\n",
       "    <tr>\n",
       "      <th>chemical stability</th>\n",
       "      <td>0.0000</td>\n",
       "      <td>0.000000</td>\n",
       "      <td>0.000000</td>\n",
       "      <td>0.00000</td>\n",
       "    </tr>\n",
       "    <tr>\n",
       "      <th>scaffold novelty</th>\n",
       "      <td>0.0000</td>\n",
       "      <td>0.000000</td>\n",
       "      <td>0.000000</td>\n",
       "      <td>0.00000</td>\n",
       "    </tr>\n",
       "    <tr>\n",
       "      <th>skeleton novelty</th>\n",
       "      <td>0.0000</td>\n",
       "      <td>0.000000</td>\n",
       "      <td>0.000000</td>\n",
       "      <td>0.00000</td>\n",
       "    </tr>\n",
       "  </tbody>\n",
       "</table>\n",
       "</div>"
      ],
      "text/plain": [
       "                    reinvent      crem     coati     safe\n",
       "valid                 1.0000  1.000000  1.000000  1.00000\n",
       "duplicates            0.9102  0.937527  0.846925  0.80428\n",
       "good rings            0.0000  0.000000  0.000000  0.00000\n",
       "chemical stability    0.0000  0.000000  0.000000  0.00000\n",
       "scaffold novelty      0.0000  0.000000  0.000000  0.00000\n",
       "skeleton novelty      0.0000  0.000000  0.000000  0.00000"
      ]
     },
     "execution_count": 29,
     "metadata": {},
     "output_type": "execute_result"
    }
   ],
   "source": [
    "scores"
   ]
  },
  {
   "cell_type": "markdown",
   "metadata": {},
   "source": [
    "### Filter #3: Odd ring systems"
   ]
  },
  {
   "cell_type": "code",
   "execution_count": 30,
   "metadata": {},
   "outputs": [],
   "source": [
    "def number_odd_rings(df):\n",
    "\n",
    "    ring_system_lookup = uru.RingSystemLookup.default()\n",
    "    df['ring_systems'] = df.SMILES.apply(ring_system_lookup.process_smiles)\n",
    "    df[['min_ring','min_freq']] = df.ring_systems.apply(uru.get_min_ring_frequency).to_list()\n",
    "    good_rings = df.query('min_freq > 100').copy()\n",
    "\n",
    "    return len(good_rings) / len(df)"
   ]
  },
  {
   "cell_type": "code",
   "execution_count": 31,
   "metadata": {},
   "outputs": [
    {
     "name": "stderr",
     "output_type": "stream",
     "text": [
      "[00:01:11] WARNING: not removing hydrogen atom without neighbors\n",
      "[00:01:11] WARNING: not removing hydrogen atom without neighbors\n",
      "[00:01:11] WARNING: not removing hydrogen atom without neighbors\n",
      "[00:01:11] WARNING: not removing hydrogen atom without neighbors\n",
      "[00:01:11] WARNING: not removing hydrogen atom without neighbors\n",
      "[00:01:11] WARNING: not removing hydrogen atom without neighbors\n",
      "[00:01:11] WARNING: not removing hydrogen atom without neighbors\n",
      "[00:01:11] WARNING: not removing hydrogen atom without neighbors\n",
      "[00:01:11] WARNING: not removing hydrogen atom without neighbors\n",
      "[00:01:11] WARNING: not removing hydrogen atom without neighbors\n",
      "[00:01:11] WARNING: not removing hydrogen atom without neighbors\n",
      "[00:01:11] WARNING: not removing hydrogen atom without neighbors\n",
      "[00:01:11] WARNING: not removing hydrogen atom without neighbors\n",
      "[00:01:11] WARNING: not removing hydrogen atom without neighbors\n",
      "[00:01:11] WARNING: not removing hydrogen atom without neighbors\n",
      "[00:01:11] WARNING: not removing hydrogen atom without neighbors\n",
      "[00:01:11] WARNING: not removing hydrogen atom without neighbors\n",
      "[00:01:11] WARNING: not removing hydrogen atom without neighbors\n",
      "[00:01:11] WARNING: not removing hydrogen atom without neighbors\n",
      "[00:01:11] WARNING: not removing hydrogen atom without neighbors\n",
      "[00:01:11] WARNING: not removing hydrogen atom without neighbors\n",
      "[00:01:11] WARNING: not removing hydrogen atom without neighbors\n",
      "[00:01:11] WARNING: not removing hydrogen atom without neighbors\n",
      "[00:01:11] WARNING: not removing hydrogen atom without neighbors\n",
      "[00:01:11] WARNING: not removing hydrogen atom without neighbors\n",
      "[00:01:11] WARNING: not removing hydrogen atom without neighbors\n",
      "[00:01:11] WARNING: not removing hydrogen atom without neighbors\n",
      "[00:01:11] WARNING: not removing hydrogen atom without neighbors\n",
      "[00:01:11] WARNING: not removing hydrogen atom without neighbors\n",
      "[00:01:11] WARNING: not removing hydrogen atom without neighbors\n",
      "[00:01:11] WARNING: not removing hydrogen atom without neighbors\n",
      "[00:01:11] WARNING: not removing hydrogen atom without neighbors\n",
      "[00:01:11] WARNING: not removing hydrogen atom without neighbors\n",
      "[00:01:11] WARNING: not removing hydrogen atom without neighbors\n",
      "[00:01:11] WARNING: not removing hydrogen atom without neighbors\n",
      "[00:01:11] WARNING: not removing hydrogen atom without neighbors\n",
      "[00:01:11] WARNING: not removing hydrogen atom without neighbors\n",
      "[00:01:11] WARNING: not removing hydrogen atom without neighbors\n",
      "[00:01:11] WARNING: not removing hydrogen atom without neighbors\n",
      "[00:01:12] WARNING: not removing hydrogen atom without neighbors\n",
      "[00:01:12] WARNING: not removing hydrogen atom without neighbors\n",
      "[00:01:12] WARNING: not removing hydrogen atom without neighbors\n",
      "[00:01:12] WARNING: not removing hydrogen atom without neighbors\n",
      "[00:01:12] WARNING: not removing hydrogen atom without neighbors\n",
      "[00:01:12] WARNING: not removing hydrogen atom without neighbors\n",
      "[00:01:12] WARNING: not removing hydrogen atom without neighbors\n",
      "[00:01:13] WARNING: not removing hydrogen atom without neighbors\n",
      "[00:01:13] WARNING: not removing hydrogen atom without neighbors\n",
      "[00:01:13] WARNING: not removing hydrogen atom without neighbors\n",
      "[00:01:13] WARNING: not removing hydrogen atom without neighbors\n",
      "[00:01:13] WARNING: not removing hydrogen atom without neighbors\n",
      "[00:01:13] WARNING: not removing hydrogen atom without neighbors\n",
      "[00:01:13] WARNING: not removing hydrogen atom without neighbors\n",
      "[00:01:13] WARNING: not removing hydrogen atom without neighbors\n",
      "[00:01:15] WARNING: not removing hydrogen atom without neighbors\n",
      "[00:01:15] WARNING: not removing hydrogen atom without neighbors\n",
      "[00:01:15] WARNING: not removing hydrogen atom without neighbors\n",
      "[00:01:16] WARNING: not removing hydrogen atom without neighbors\n",
      "[00:01:16] WARNING: not removing hydrogen atom without neighbors\n",
      "[00:01:16] WARNING: not removing hydrogen atom without neighbors\n",
      "[00:01:16] WARNING: not removing hydrogen atom without neighbors\n",
      "[00:01:16] WARNING: not removing hydrogen atom without neighbors\n",
      "[00:01:21] WARNING: not removing hydrogen atom without neighbors\n",
      "[00:01:28] WARNING: not removing hydrogen atom without neighbors\n",
      "[00:01:28] WARNING: not removing hydrogen atom without neighbors\n",
      "[00:01:28] WARNING: not removing hydrogen atom without neighbors\n"
     ]
    }
   ],
   "source": [
    "for model, df in zip(models, model_dfs):\n",
    "\n",
    "    scores[model]['good rings'] = number_odd_rings(df)"
   ]
  },
  {
   "cell_type": "markdown",
   "metadata": {},
   "source": [
    "0.892\t0.575\t0.692\t0.983333"
   ]
  },
  {
   "cell_type": "code",
   "execution_count": 32,
   "metadata": {},
   "outputs": [
    {
     "data": {
      "text/html": [
       "<div>\n",
       "<style scoped>\n",
       "    .dataframe tbody tr th:only-of-type {\n",
       "        vertical-align: middle;\n",
       "    }\n",
       "\n",
       "    .dataframe tbody tr th {\n",
       "        vertical-align: top;\n",
       "    }\n",
       "\n",
       "    .dataframe thead th {\n",
       "        text-align: right;\n",
       "    }\n",
       "</style>\n",
       "<table border=\"1\" class=\"dataframe\">\n",
       "  <thead>\n",
       "    <tr style=\"text-align: right;\">\n",
       "      <th></th>\n",
       "      <th>reinvent</th>\n",
       "      <th>crem</th>\n",
       "      <th>coati</th>\n",
       "      <th>safe</th>\n",
       "    </tr>\n",
       "  </thead>\n",
       "  <tbody>\n",
       "    <tr>\n",
       "      <th>valid</th>\n",
       "      <td>1.000000</td>\n",
       "      <td>1.000000</td>\n",
       "      <td>1.000000</td>\n",
       "      <td>1.00000</td>\n",
       "    </tr>\n",
       "    <tr>\n",
       "      <th>duplicates</th>\n",
       "      <td>0.910200</td>\n",
       "      <td>0.937527</td>\n",
       "      <td>0.846925</td>\n",
       "      <td>0.80428</td>\n",
       "    </tr>\n",
       "    <tr>\n",
       "      <th>good rings</th>\n",
       "      <td>0.960668</td>\n",
       "      <td>0.862463</td>\n",
       "      <td>0.822612</td>\n",
       "      <td>0.90848</td>\n",
       "    </tr>\n",
       "    <tr>\n",
       "      <th>chemical stability</th>\n",
       "      <td>0.000000</td>\n",
       "      <td>0.000000</td>\n",
       "      <td>0.000000</td>\n",
       "      <td>0.00000</td>\n",
       "    </tr>\n",
       "    <tr>\n",
       "      <th>scaffold novelty</th>\n",
       "      <td>0.000000</td>\n",
       "      <td>0.000000</td>\n",
       "      <td>0.000000</td>\n",
       "      <td>0.00000</td>\n",
       "    </tr>\n",
       "    <tr>\n",
       "      <th>skeleton novelty</th>\n",
       "      <td>0.000000</td>\n",
       "      <td>0.000000</td>\n",
       "      <td>0.000000</td>\n",
       "      <td>0.00000</td>\n",
       "    </tr>\n",
       "  </tbody>\n",
       "</table>\n",
       "</div>"
      ],
      "text/plain": [
       "                    reinvent      crem     coati     safe\n",
       "valid               1.000000  1.000000  1.000000  1.00000\n",
       "duplicates          0.910200  0.937527  0.846925  0.80428\n",
       "good rings          0.960668  0.862463  0.822612  0.90848\n",
       "chemical stability  0.000000  0.000000  0.000000  0.00000\n",
       "scaffold novelty    0.000000  0.000000  0.000000  0.00000\n",
       "skeleton novelty    0.000000  0.000000  0.000000  0.00000"
      ]
     },
     "execution_count": 32,
     "metadata": {},
     "output_type": "execute_result"
    }
   ],
   "source": [
    "scores"
   ]
  },
  {
   "cell_type": "markdown",
   "metadata": {},
   "source": [
    "### Filter #4: Chemical Stability"
   ]
  },
  {
   "cell_type": "code",
   "execution_count": 33,
   "metadata": {},
   "outputs": [],
   "source": [
    "reos = uru.REOS()\n",
    "reos.set_active_rule_sets([\"Dundee\"])"
   ]
  },
  {
   "cell_type": "code",
   "execution_count": 34,
   "metadata": {},
   "outputs": [],
   "source": [
    "def num_stable(df):\n",
    "\n",
    "    temp_df = pd.DataFrame()\n",
    "\n",
    "    temp_df[['rule_set','reos']] = [list(reos.process_mol(x)) for x in df.ROMol]\n",
    "\n",
    "    return uru.value_counts_df(temp_df, \"reos\")['count'].values[0] / len(df)"
   ]
  },
  {
   "cell_type": "code",
   "execution_count": 35,
   "metadata": {},
   "outputs": [],
   "source": [
    "for model, df in zip(models, model_dfs):\n",
    "\n",
    "    scores[model]['chemical stability'] = num_stable(df)"
   ]
  },
  {
   "cell_type": "code",
   "execution_count": 36,
   "metadata": {},
   "outputs": [
    {
     "data": {
      "text/html": [
       "<div>\n",
       "<style scoped>\n",
       "    .dataframe tbody tr th:only-of-type {\n",
       "        vertical-align: middle;\n",
       "    }\n",
       "\n",
       "    .dataframe tbody tr th {\n",
       "        vertical-align: top;\n",
       "    }\n",
       "\n",
       "    .dataframe thead th {\n",
       "        text-align: right;\n",
       "    }\n",
       "</style>\n",
       "<table border=\"1\" class=\"dataframe\">\n",
       "  <thead>\n",
       "    <tr style=\"text-align: right;\">\n",
       "      <th></th>\n",
       "      <th>reinvent</th>\n",
       "      <th>crem</th>\n",
       "      <th>coati</th>\n",
       "      <th>safe</th>\n",
       "    </tr>\n",
       "  </thead>\n",
       "  <tbody>\n",
       "    <tr>\n",
       "      <th>valid</th>\n",
       "      <td>1.000000</td>\n",
       "      <td>1.000000</td>\n",
       "      <td>1.000000</td>\n",
       "      <td>1.000000</td>\n",
       "    </tr>\n",
       "    <tr>\n",
       "      <th>duplicates</th>\n",
       "      <td>0.910200</td>\n",
       "      <td>0.937527</td>\n",
       "      <td>0.846925</td>\n",
       "      <td>0.804280</td>\n",
       "    </tr>\n",
       "    <tr>\n",
       "      <th>good rings</th>\n",
       "      <td>0.960668</td>\n",
       "      <td>0.862463</td>\n",
       "      <td>0.822612</td>\n",
       "      <td>0.908480</td>\n",
       "    </tr>\n",
       "    <tr>\n",
       "      <th>chemical stability</th>\n",
       "      <td>0.811360</td>\n",
       "      <td>0.525248</td>\n",
       "      <td>0.725730</td>\n",
       "      <td>0.438697</td>\n",
       "    </tr>\n",
       "    <tr>\n",
       "      <th>scaffold novelty</th>\n",
       "      <td>0.000000</td>\n",
       "      <td>0.000000</td>\n",
       "      <td>0.000000</td>\n",
       "      <td>0.000000</td>\n",
       "    </tr>\n",
       "    <tr>\n",
       "      <th>skeleton novelty</th>\n",
       "      <td>0.000000</td>\n",
       "      <td>0.000000</td>\n",
       "      <td>0.000000</td>\n",
       "      <td>0.000000</td>\n",
       "    </tr>\n",
       "  </tbody>\n",
       "</table>\n",
       "</div>"
      ],
      "text/plain": [
       "                    reinvent      crem     coati      safe\n",
       "valid               1.000000  1.000000  1.000000  1.000000\n",
       "duplicates          0.910200  0.937527  0.846925  0.804280\n",
       "good rings          0.960668  0.862463  0.822612  0.908480\n",
       "chemical stability  0.811360  0.525248  0.725730  0.438697\n",
       "scaffold novelty    0.000000  0.000000  0.000000  0.000000\n",
       "skeleton novelty    0.000000  0.000000  0.000000  0.000000"
      ]
     },
     "execution_count": 36,
     "metadata": {},
     "output_type": "execute_result"
    }
   ],
   "source": [
    "scores"
   ]
  },
  {
   "cell_type": "code",
   "execution_count": 37,
   "metadata": {},
   "outputs": [],
   "source": [
    "\n",
    "from medchem.structural.lilly_demerits import LillyDemeritsFilters"
   ]
  },
  {
   "cell_type": "code",
   "execution_count": 38,
   "metadata": {},
   "outputs": [],
   "source": [
    "#def process_filters(alert: str):\n",
    "    #if not isinstance(alert, str):\n",
    "        #return None\n",
    "    #alerts = alert.split(\",\")\n",
    "    #output = set()\n",
    "    #for alert in alerts:\n",
    "        #if \":\" in alert:\n",
    "            #alert, value = alert.split(\":\")\n",
    "        #output.add(alert)\n",
    "    #return list(output)"
   ]
  },
  {
   "cell_type": "code",
   "execution_count": 39,
   "metadata": {},
   "outputs": [],
   "source": [
    "def process_structural_alerts(df: pd.DataFrame, smiles_column: str):\n",
    "    dfilter = LillyDemeritsFilters()\n",
    "    smiles = df[smiles_column].to_list()\n",
    "    results = dfilter(mols=[Chem.MolFromSmiles(smi) for smi in smiles])\n",
    "    df[\"pass_structure_filter\"] = results[\"pass_filter\"]\n",
    "    df[\"structure_filter_alerts\"] = results[\"reasons\"]\n",
    "    return df"
   ]
  },
  {
   "cell_type": "code",
   "execution_count": 40,
   "metadata": {},
   "outputs": [],
   "source": [
    "#model_dfs = [process_structural_alerts(df, \"SMILES\") for df in model_dfs]"
   ]
  },
  {
   "cell_type": "code",
   "execution_count": 41,
   "metadata": {},
   "outputs": [
    {
     "name": "stderr",
     "output_type": "stream",
     "text": [
      "Failed to find the pandas get_adjustment() function to patch\n",
      "Failed to patch pandas - PandasTools will have limited functionality\n"
     ]
    }
   ],
   "source": [
    "model_dfs[0] = process_structural_alerts(model_dfs[0], \"SMILES\")"
   ]
  },
  {
   "cell_type": "code",
   "execution_count": 42,
   "metadata": {},
   "outputs": [],
   "source": [
    "true_rate = model_dfs[0].pass_structure_filter.sum() / len(model_dfs[0])"
   ]
  },
  {
   "cell_type": "code",
   "execution_count": 43,
   "metadata": {},
   "outputs": [
    {
     "name": "stdout",
     "output_type": "stream",
     "text": [
      "0.9592397275324105\n"
     ]
    }
   ],
   "source": [
    "print(true_rate)"
   ]
  },
  {
   "cell_type": "code",
   "execution_count": 44,
   "metadata": {},
   "outputs": [],
   "source": [
    "from rdkit import Chem\n",
    "from rdkit.Chem import AllChem\n",
    "from rdkit.Chem.Scaffolds import MurckoScaffold\n",
    "from rdkit.DataStructs import BulkTanimotoSimilarity"
   ]
  },
  {
   "cell_type": "code",
   "execution_count": 45,
   "metadata": {},
   "outputs": [],
   "source": [
    "def extract_scaffold(smiles: str):\n",
    "    mol = Chem.MolFromSmiles(smiles)\n",
    "    scaffold = MurckoScaffold.GetScaffoldForMol(mol)\n",
    "    return Chem.MolToSmiles(scaffold)\n",
    "\n",
    "\n",
    "def extract_scaffold_skeleton(smiles: str):\n",
    "    mol = Chem.MolFromSmiles(smiles)\n",
    "    scaffold = MurckoScaffold.MakeScaffoldGeneric(MurckoScaffold.GetScaffoldForMol(mol))\n",
    "    return Chem.MolToSmiles(scaffold)\n",
    "\n"
   ]
  },
  {
   "cell_type": "code",
   "execution_count": 46,
   "metadata": {},
   "outputs": [],
   "source": [
    "def get_scaffold_novelty(df, initial_frags):\n",
    "    intial_scaffold = set([extract_scaffold(frag) for frag in initial_frags])\n",
    "    initial_skeleton = set([extract_scaffold_skeleton(frag) for frag in initial_frags])\n",
    "\n",
    "    model_scaffolds = set(df.SMILES.apply(extract_scaffold))\n",
    "    model_skeletons = set(df.SMILES.apply(extract_scaffold_skeleton))\n",
    "\n",
    "    novel_scaffolds = model_scaffolds - intial_scaffold\n",
    "    novel_skeletons = model_skeletons - initial_skeleton\n",
    "\n",
    "    return len(novel_scaffolds) / len(model_scaffolds), len(novel_skeletons) / len(model_skeletons)\n"
   ]
  },
  {
   "cell_type": "code",
   "execution_count": 47,
   "metadata": {},
   "outputs": [
    {
     "name": "stderr",
     "output_type": "stream",
     "text": [
      "[00:02:16] WARNING: not removing hydrogen atom without neighbors\n",
      "[00:02:16] WARNING: not removing hydrogen atom without neighbors\n",
      "[00:02:16] WARNING: not removing hydrogen atom without neighbors\n",
      "[00:02:16] WARNING: not removing hydrogen atom without neighbors\n",
      "[00:02:16] WARNING: not removing hydrogen atom without neighbors\n",
      "[00:02:16] WARNING: not removing hydrogen atom without neighbors\n",
      "[00:02:16] WARNING: not removing hydrogen atom without neighbors\n",
      "[00:02:16] WARNING: not removing hydrogen atom without neighbors\n",
      "[00:02:16] WARNING: not removing hydrogen atom without neighbors\n",
      "[00:02:16] WARNING: not removing hydrogen atom without neighbors\n",
      "[00:02:16] WARNING: not removing hydrogen atom without neighbors\n",
      "[00:02:16] WARNING: not removing hydrogen atom without neighbors\n",
      "[00:02:16] WARNING: not removing hydrogen atom without neighbors\n",
      "[00:02:16] WARNING: not removing hydrogen atom without neighbors\n",
      "[00:02:16] WARNING: not removing hydrogen atom without neighbors\n",
      "[00:02:16] WARNING: not removing hydrogen atom without neighbors\n",
      "[00:02:16] WARNING: not removing hydrogen atom without neighbors\n",
      "[00:02:16] WARNING: not removing hydrogen atom without neighbors\n",
      "[00:02:16] WARNING: not removing hydrogen atom without neighbors\n",
      "[00:02:16] WARNING: not removing hydrogen atom without neighbors\n",
      "[00:02:16] WARNING: not removing hydrogen atom without neighbors\n",
      "[00:02:16] WARNING: not removing hydrogen atom without neighbors\n",
      "[00:02:16] WARNING: not removing hydrogen atom without neighbors\n",
      "[00:02:16] WARNING: not removing hydrogen atom without neighbors\n",
      "[00:02:16] WARNING: not removing hydrogen atom without neighbors\n",
      "[00:02:16] WARNING: not removing hydrogen atom without neighbors\n",
      "[00:02:16] WARNING: not removing hydrogen atom without neighbors\n",
      "[00:02:16] WARNING: not removing hydrogen atom without neighbors\n",
      "[00:02:16] WARNING: not removing hydrogen atom without neighbors\n",
      "[00:02:16] WARNING: not removing hydrogen atom without neighbors\n",
      "[00:02:16] WARNING: not removing hydrogen atom without neighbors\n",
      "[00:02:16] WARNING: not removing hydrogen atom without neighbors\n",
      "[00:02:16] WARNING: not removing hydrogen atom without neighbors\n",
      "[00:02:16] WARNING: not removing hydrogen atom without neighbors\n",
      "[00:02:16] WARNING: not removing hydrogen atom without neighbors\n",
      "[00:02:16] WARNING: not removing hydrogen atom without neighbors\n",
      "[00:02:16] WARNING: not removing hydrogen atom without neighbors\n",
      "[00:02:16] WARNING: not removing hydrogen atom without neighbors\n",
      "[00:02:16] WARNING: not removing hydrogen atom without neighbors\n",
      "[00:02:16] WARNING: not removing hydrogen atom without neighbors\n",
      "[00:02:16] WARNING: not removing hydrogen atom without neighbors\n",
      "[00:02:16] WARNING: not removing hydrogen atom without neighbors\n",
      "[00:02:16] WARNING: not removing hydrogen atom without neighbors\n",
      "[00:02:16] WARNING: not removing hydrogen atom without neighbors\n",
      "[00:02:16] WARNING: not removing hydrogen atom without neighbors\n",
      "[00:02:16] WARNING: not removing hydrogen atom without neighbors\n",
      "[00:02:16] WARNING: not removing hydrogen atom without neighbors\n",
      "[00:02:16] WARNING: not removing hydrogen atom without neighbors\n",
      "[00:02:16] WARNING: not removing hydrogen atom without neighbors\n",
      "[00:02:16] WARNING: not removing hydrogen atom without neighbors\n",
      "[00:02:16] WARNING: not removing hydrogen atom without neighbors\n",
      "[00:02:16] WARNING: not removing hydrogen atom without neighbors\n",
      "[00:02:16] WARNING: not removing hydrogen atom without neighbors\n",
      "[00:02:16] WARNING: not removing hydrogen atom without neighbors\n",
      "[00:02:17] WARNING: not removing hydrogen atom without neighbors\n",
      "[00:02:17] WARNING: not removing hydrogen atom without neighbors\n",
      "[00:02:17] WARNING: not removing hydrogen atom without neighbors\n",
      "[00:02:17] WARNING: not removing hydrogen atom without neighbors\n",
      "[00:02:17] WARNING: not removing hydrogen atom without neighbors\n",
      "[00:02:17] WARNING: not removing hydrogen atom without neighbors\n",
      "[00:02:17] WARNING: not removing hydrogen atom without neighbors\n",
      "[00:02:17] WARNING: not removing hydrogen atom without neighbors\n",
      "[00:02:17] WARNING: not removing hydrogen atom without neighbors\n",
      "[00:02:17] WARNING: not removing hydrogen atom without neighbors\n",
      "[00:02:17] WARNING: not removing hydrogen atom without neighbors\n",
      "[00:02:17] WARNING: not removing hydrogen atom without neighbors\n",
      "[00:02:17] WARNING: not removing hydrogen atom without neighbors\n",
      "[00:02:17] WARNING: not removing hydrogen atom without neighbors\n",
      "[00:02:17] WARNING: not removing hydrogen atom without neighbors\n",
      "[00:02:17] WARNING: not removing hydrogen atom without neighbors\n",
      "[00:02:17] WARNING: not removing hydrogen atom without neighbors\n",
      "[00:02:17] WARNING: not removing hydrogen atom without neighbors\n",
      "[00:02:17] WARNING: not removing hydrogen atom without neighbors\n",
      "[00:02:17] WARNING: not removing hydrogen atom without neighbors\n",
      "[00:02:17] WARNING: not removing hydrogen atom without neighbors\n",
      "[00:02:17] WARNING: not removing hydrogen atom without neighbors\n",
      "[00:02:17] WARNING: not removing hydrogen atom without neighbors\n",
      "[00:02:17] WARNING: not removing hydrogen atom without neighbors\n",
      "[00:02:17] WARNING: not removing hydrogen atom without neighbors\n",
      "[00:02:17] WARNING: not removing hydrogen atom without neighbors\n",
      "[00:02:17] WARNING: not removing hydrogen atom without neighbors\n",
      "[00:02:17] WARNING: not removing hydrogen atom without neighbors\n",
      "[00:02:17] WARNING: not removing hydrogen atom without neighbors\n",
      "[00:02:17] WARNING: not removing hydrogen atom without neighbors\n",
      "[00:02:17] WARNING: not removing hydrogen atom without neighbors\n",
      "[00:02:17] WARNING: not removing hydrogen atom without neighbors\n",
      "[00:02:17] WARNING: not removing hydrogen atom without neighbors\n",
      "[00:02:17] WARNING: not removing hydrogen atom without neighbors\n",
      "[00:02:17] WARNING: not removing hydrogen atom without neighbors\n",
      "[00:02:17] WARNING: not removing hydrogen atom without neighbors\n",
      "[00:02:17] WARNING: not removing hydrogen atom without neighbors\n",
      "[00:02:17] WARNING: not removing hydrogen atom without neighbors\n",
      "[00:02:17] WARNING: not removing hydrogen atom without neighbors\n",
      "[00:02:17] WARNING: not removing hydrogen atom without neighbors\n",
      "[00:02:17] WARNING: not removing hydrogen atom without neighbors\n",
      "[00:02:17] WARNING: not removing hydrogen atom without neighbors\n",
      "[00:02:17] WARNING: not removing hydrogen atom without neighbors\n",
      "[00:02:17] WARNING: not removing hydrogen atom without neighbors\n",
      "[00:02:17] WARNING: not removing hydrogen atom without neighbors\n",
      "[00:02:17] WARNING: not removing hydrogen atom without neighbors\n",
      "[00:02:17] WARNING: not removing hydrogen atom without neighbors\n",
      "[00:02:17] WARNING: not removing hydrogen atom without neighbors\n",
      "[00:02:17] WARNING: not removing hydrogen atom without neighbors\n",
      "[00:02:17] WARNING: not removing hydrogen atom without neighbors\n",
      "[00:02:17] WARNING: not removing hydrogen atom without neighbors\n",
      "[00:02:17] WARNING: not removing hydrogen atom without neighbors\n",
      "[00:02:18] WARNING: not removing hydrogen atom without neighbors\n",
      "[00:02:18] WARNING: not removing hydrogen atom without neighbors\n",
      "[00:02:18] WARNING: not removing hydrogen atom without neighbors\n",
      "[00:02:18] WARNING: not removing hydrogen atom without neighbors\n",
      "[00:02:18] WARNING: not removing hydrogen atom without neighbors\n",
      "[00:02:18] WARNING: not removing hydrogen atom without neighbors\n",
      "[00:02:18] WARNING: not removing hydrogen atom without neighbors\n",
      "[00:02:18] WARNING: not removing hydrogen atom without neighbors\n",
      "[00:02:18] WARNING: not removing hydrogen atom without neighbors\n",
      "[00:02:18] WARNING: not removing hydrogen atom without neighbors\n",
      "[00:02:18] WARNING: not removing hydrogen atom without neighbors\n",
      "[00:02:18] WARNING: not removing hydrogen atom without neighbors\n",
      "[00:02:18] WARNING: not removing hydrogen atom without neighbors\n",
      "[00:02:19] WARNING: not removing hydrogen atom without neighbors\n",
      "[00:02:19] WARNING: not removing hydrogen atom without neighbors\n",
      "[00:02:19] WARNING: not removing hydrogen atom without neighbors\n",
      "[00:02:19] WARNING: not removing hydrogen atom without neighbors\n",
      "[00:02:19] WARNING: not removing hydrogen atom without neighbors\n",
      "[00:02:20] WARNING: not removing hydrogen atom without neighbors\n",
      "[00:02:21] WARNING: not removing hydrogen atom without neighbors\n",
      "[00:02:21] WARNING: not removing hydrogen atom without neighbors\n",
      "[00:02:21] WARNING: not removing hydrogen atom without neighbors\n",
      "[00:02:24] WARNING: not removing hydrogen atom without neighbors\n",
      "[00:02:26] WARNING: not removing hydrogen atom without neighbors\n",
      "[00:02:26] WARNING: not removing hydrogen atom without neighbors\n",
      "[00:02:26] WARNING: not removing hydrogen atom without neighbors\n"
     ]
    }
   ],
   "source": [
    "for model, df in zip(models, model_dfs):\n",
    "\n",
    "    scaffold_novelty, skeleton_novelty = get_scaffold_novelty(df, fragments)\n",
    "\n",
    "    scores[model]['scaffold novelty'] = scaffold_novelty\n",
    "    scores[model]['skeleton novelty'] = skeleton_novelty"
   ]
  },
  {
   "cell_type": "code",
   "execution_count": 48,
   "metadata": {},
   "outputs": [
    {
     "name": "stdout",
     "output_type": "stream",
     "text": [
      "                    reinvent      crem     coati      safe\n",
      "valid               1.000000  1.000000  1.000000  1.000000\n",
      "duplicates          0.910200  0.937527  0.846925  0.804280\n",
      "good rings          0.960668  0.862463  0.822612  0.908480\n",
      "chemical stability  0.811360  0.525248  0.725730  0.438697\n",
      "scaffold novelty    0.978992  0.984697  0.986613  0.991951\n",
      "skeleton novelty    0.963731  0.955128  0.971660  0.990145\n"
     ]
    }
   ],
   "source": [
    "print(scores)"
   ]
  },
  {
   "cell_type": "code",
   "execution_count": 49,
   "metadata": {},
   "outputs": [],
   "source": [
    "\n",
    "import matplotlib.pyplot as plt\n",
    "import matplotlib.colors\n",
    "import seaborn as sns"
   ]
  },
  {
   "cell_type": "code",
   "execution_count": 50,
   "metadata": {},
   "outputs": [
    {
     "data": {
      "image/png": "[encoded data removed]",
      "text/plain": [
       "<Figure size 1100x400 with 2 Axes>"
      ]
     },
     "metadata": {},
     "output_type": "display_data"
    }
   ],
   "source": [
    "#make bar plot of scaffold novelty and skeleton novelty\n",
    "\n",
    "fig, ax = plt.subplots(1, 2, figsize=(11, 4))\n",
    "ax = ax.flatten()\n",
    "\n",
    "scaffold_novelty = [scores[model]['scaffold novelty'] for model in models]\n",
    "skeleton_novelty = [scores[model]['skeleton novelty'] for model in models]\n",
    "\n",
    "sns.barplot(x=models, y=scaffold_novelty, ax=ax[0])\n",
    "ax[0].set_title('Scaffold Novelty')\n",
    "ax[0].set_ylabel('Fraction of Novel Scaffolds')\n",
    "\n",
    "sns.barplot(x=models, y=skeleton_novelty, ax=ax[1])\n",
    "ax[1].set_title('Skeleton Novelty')\n",
    "ax[1].set_ylabel('Fraction of Novel Skeletons')\n",
    "\n",
    "plt.tight_layout()\n",
    "plt.show()"
   ]
  },
  {
   "cell_type": "code",
   "execution_count": 51,
   "metadata": {},
   "outputs": [],
   "source": [
    "import medchem as mc"
   ]
  },
  {
   "cell_type": "code",
   "execution_count": 52,
   "metadata": {},
   "outputs": [],
   "source": [
    "from rdkit.Chem import PandasTools\n",
    "import datamol as dm"
   ]
  },
  {
   "cell_type": "code",
   "execution_count": null,
   "metadata": {},
   "outputs": [],
   "source": []
  },
  {
   "cell_type": "code",
   "execution_count": 53,
   "metadata": {},
   "outputs": [],
   "source": [
    "model_dfs[0][\"mol\"] = model_dfs[0][\"SMILES\"].apply(dm.to_mol)"
   ]
  },
  {
   "cell_type": "code",
   "execution_count": 54,
   "metadata": {},
   "outputs": [],
   "source": [
    "def process_filters(data):\n",
    "\n",
    "    data[\"rule_of_five\"] = data[\"SMILES\"].apply(mc.rules.basic_rules.rule_of_five)\n",
    "\n",
    "    # Apply some default medchem filters\n",
    "    data[\"alerts_Dundee\"] = mc.functional.alert_filter(\n",
    "        mols=data[\"mol\"].tolist(),\n",
    "        alerts=[\"Dundee\"],\n",
    "        n_jobs=-1,\n",
    "        progress=True,\n",
    "        return_idx=False,\n",
    "    )\n",
    "\n",
    "    data[\"alerts_SureChEMBL\"] = mc.functional.alert_filter(\n",
    "        mols=data[\"mol\"].tolist(),\n",
    "        alerts=[\"SureChEMBL\"],\n",
    "        n_jobs=-1,\n",
    "        progress=True,\n",
    "        return_idx=False,\n",
    "    )\n",
    "\n",
    "    data[\"filters_NIBR\"] = mc.functional.nibr_filter(\n",
    "        mols=data[\"mol\"].tolist(),\n",
    "        n_jobs=-1,\n",
    "        progress=True,\n",
    "        return_idx=False,\n",
    "    )\n",
    "\n",
    "    data[\"filter_molecular_graph\"] = mc.functional.molecular_graph_filter(\n",
    "        mols=data[\"mol\"].tolist(),\n",
    "        max_severity=5,\n",
    "        n_jobs=-1,\n",
    "        progress=True,\n",
    "        return_idx=False,\n",
    "    )\n",
    "\n",
    "    data[\"filter_lilly_demerit\"] = mc.functional.lilly_demerit_filter(\n",
    "        mols=data[\"mol\"].tolist(),\n",
    "        n_jobs=-1,\n",
    "        progress=True,\n",
    "        return_idx=False,\n",
    "    )"
   ]
  },
  {
   "cell_type": "code",
   "execution_count": 55,
   "metadata": {},
   "outputs": [],
   "source": [
    "\n",
    "import matplotlib.pyplot as plt\n",
    "import matplotlib.colors\n",
    "import seaborn as sns"
   ]
  },
  {
   "cell_type": "code",
   "execution_count": 56,
   "metadata": {},
   "outputs": [],
   "source": [
    "def plot_filters(data, model):\n",
    "    filter_columns = [\n",
    "        \"rule_of_five\",\n",
    "        \"alerts_Dundee\",\n",
    "        \"alerts_SureChEMBL\",\n",
    "        \"filters_NIBR\",\n",
    "        \"filter_molecular_graph\",\n",
    "        \"filter_lilly_demerit\",\n",
    "    ]\n",
    "\n",
    "    # Some sorting for a nice plot\n",
    "    data[\"n_filters_pass\"] = data[filter_columns].sum(axis=1)\n",
    "    data = data.sort_values(\"n_filters_pass\", ascending=True)\n",
    "\n",
    "    # Plot\n",
    "\n",
    "    f, ax = plt.subplots(figsize=(14, 4), constrained_layout=True)\n",
    "\n",
    "    cmap = matplotlib.colors.ListedColormap([\"#EF6262\", \"#1D5B79\"], None)\n",
    "\n",
    "    a = sns.heatmap(\n",
    "        data[filter_columns].T,\n",
    "        annot=False,\n",
    "        ax=ax,\n",
    "        xticklabels=False,  # type: ignore\n",
    "        yticklabels=True,  # type: ignore\n",
    "        cbar=True,\n",
    "        cmap=cmap,\n",
    "    )\n",
    "\n",
    "    ax.collections[0].colorbar.set_ticks([0.25, 0.75])\n",
    "    ax.collections[0].colorbar.set_ticklabels([\"Don't Pass\", \"Pass\"], fontsize=14)\n",
    "\n",
    "    ax.set_xlabel(f\"Analogs from {model} sorted (n={len(data)})\", fontsize=14)\n",
    "    ax.set_ylabel(\"Medchem Filters\", fontsize=18)\n",
    "\n",
    "    # Add percentage of passing mols in the y labels\n",
    "    new_ylabels = []\n",
    "    for t in ax.yaxis.get_ticklabels():\n",
    "        perc = data[t.get_text()].sum() / len(data) * 100\n",
    "        new_ylabels.append(f\"{t.get_text()} ({perc:.0f}%)\")\n",
    "    _ = ax.yaxis.set_ticklabels(new_ylabels, fontsize=12)\n"
   ]
  },
  {
   "cell_type": "code",
   "execution_count": null,
   "metadata": {},
   "outputs": [],
   "source": []
  },
  {
   "cell_type": "code",
   "execution_count": 57,
   "metadata": {},
   "outputs": [
    {
     "data": {
      "application/vnd.jupyter.widget-view+json": {
       "model_id": "2b4a74c4b1ec4201b617eaafaf706300",
       "version_major": 2,
       "version_minor": 0
      },
      "text/plain": [
       "Common alerts filtering:   0%|          | 0/9102 [00:00<?, ?it/s]"
      ]
     },
     "metadata": {},
     "output_type": "display_data"
    },
    {
     "data": {
      "application/vnd.jupyter.widget-view+json": {
       "model_id": "ab8e0d81dd2f4b7dacbc64d027578a11",
       "version_major": 2,
       "version_minor": 0
      },
      "text/plain": [
       "Common alerts filtering:   0%|          | 0/9102 [00:00<?, ?it/s]"
      ]
     },
     "metadata": {},
     "output_type": "display_data"
    },
    {
     "data": {
      "application/vnd.jupyter.widget-view+json": {
       "model_id": "b407bb1156634deaaa85d6c9aab2364c",
       "version_major": 2,
       "version_minor": 0
      },
      "text/plain": [
       "NIBR filtering:   0%|          | 0/9102 [00:00<?, ?it/s]"
      ]
     },
     "metadata": {},
     "output_type": "display_data"
    },
    {
     "data": {
      "application/vnd.jupyter.widget-view+json": {
       "model_id": "f4c4aee585e14fa2b936576c5612731d",
       "version_major": 2,
       "version_minor": 0
      },
      "text/plain": [
       "Match:   0%|          | 0/9102 [00:00<?, ?it/s]"
      ]
     },
     "metadata": {},
     "output_type": "display_data"
    },
    {
     "data": {
      "application/vnd.jupyter.widget-view+json": {
       "model_id": "8f2f37307c764919b4dd07d812ef5fac",
       "version_major": 2,
       "version_minor": 0
      },
      "text/plain": [
       "Demerits filtering:   0%|          | 0/2 [00:00<?, ?it/s]"
      ]
     },
     "metadata": {},
     "output_type": "display_data"
    },
    {
     "data": {
      "application/vnd.jupyter.widget-view+json": {
       "model_id": "4024b609e42a4ca397c582e4bf0c824e",
       "version_major": 2,
       "version_minor": 0
      },
      "text/plain": [
       "Common alerts filtering:   0%|          | 0/8674 [00:00<?, ?it/s]"
      ]
     },
     "metadata": {},
     "output_type": "display_data"
    },
    {
     "data": {
      "application/vnd.jupyter.widget-view+json": {
       "model_id": "4b2b2acca3f2463c9937388160a72e57",
       "version_major": 2,
       "version_minor": 0
      },
      "text/plain": [
       "Common alerts filtering:   0%|          | 0/8674 [00:00<?, ?it/s]"
      ]
     },
     "metadata": {},
     "output_type": "display_data"
    },
    {
     "data": {
      "application/vnd.jupyter.widget-view+json": {
       "model_id": "1026c4891eba4e478b919d02ca1d9f09",
       "version_major": 2,
       "version_minor": 0
      },
      "text/plain": [
       "NIBR filtering:   0%|          | 0/8674 [00:00<?, ?it/s]"
      ]
     },
     "metadata": {},
     "output_type": "display_data"
    },
    {
     "data": {
      "application/vnd.jupyter.widget-view+json": {
       "model_id": "b45bccd601314da2ac59fad18bfc67d0",
       "version_major": 2,
       "version_minor": 0
      },
      "text/plain": [
       "Match:   0%|          | 0/8674 [00:00<?, ?it/s]"
      ]
     },
     "metadata": {},
     "output_type": "display_data"
    },
    {
     "data": {
      "application/vnd.jupyter.widget-view+json": {
       "model_id": "3640ee0f54ba430f9a1ade9b14690379",
       "version_major": 2,
       "version_minor": 0
      },
      "text/plain": [
       "Demerits filtering:   0%|          | 0/2 [00:00<?, ?it/s]"
      ]
     },
     "metadata": {},
     "output_type": "display_data"
    },
    {
     "name": "stderr",
     "output_type": "stream",
     "text": [
      "[00:06:26] WARNING: not removing hydrogen atom without neighbors\n",
      "[00:06:26] WARNING: not removing hydrogen atom without neighbors\n",
      "[00:06:26] WARNING: not removing hydrogen atom without neighbors\n",
      "[00:06:26] WARNING: not removing hydrogen atom without neighbors\n",
      "[00:06:26] WARNING: not removing hydrogen atom without neighbors\n",
      "[00:06:26] WARNING: not removing hydrogen atom without neighbors\n",
      "[00:06:26] WARNING: not removing hydrogen atom without neighbors\n",
      "[00:06:26] WARNING: not removing hydrogen atom without neighbors\n",
      "[00:06:26] WARNING: not removing hydrogen atom without neighbors\n",
      "[00:06:26] WARNING: not removing hydrogen atom without neighbors\n",
      "[00:06:26] WARNING: not removing hydrogen atom without neighbors\n",
      "[00:06:26] WARNING: not removing hydrogen atom without neighbors\n",
      "[00:06:26] WARNING: not removing hydrogen atom without neighbors\n",
      "[00:06:26] WARNING: not removing hydrogen atom without neighbors\n",
      "[00:06:26] WARNING: not removing hydrogen atom without neighbors\n",
      "[00:06:26] WARNING: not removing hydrogen atom without neighbors\n",
      "[00:06:26] WARNING: not removing hydrogen atom without neighbors\n",
      "[00:06:26] WARNING: not removing hydrogen atom without neighbors\n",
      "[00:06:26] WARNING: not removing hydrogen atom without neighbors\n",
      "[00:06:26] WARNING: not removing hydrogen atom without neighbors\n",
      "[00:06:26] WARNING: not removing hydrogen atom without neighbors\n",
      "[00:06:26] WARNING: not removing hydrogen atom without neighbors\n",
      "[00:06:26] WARNING: not removing hydrogen atom without neighbors\n",
      "[00:06:26] WARNING: not removing hydrogen atom without neighbors\n",
      "[00:06:26] WARNING: not removing hydrogen atom without neighbors\n",
      "[00:06:26] WARNING: not removing hydrogen atom without neighbors\n",
      "[00:06:26] WARNING: not removing hydrogen atom without neighbors\n",
      "[00:06:26] WARNING: not removing hydrogen atom without neighbors\n",
      "[00:06:26] WARNING: not removing hydrogen atom without neighbors\n",
      "[00:06:26] WARNING: not removing hydrogen atom without neighbors\n",
      "[00:06:26] WARNING: not removing hydrogen atom without neighbors\n",
      "[00:06:26] WARNING: not removing hydrogen atom without neighbors\n",
      "[00:06:26] WARNING: not removing hydrogen atom without neighbors\n",
      "[00:06:26] WARNING: not removing hydrogen atom without neighbors\n",
      "[00:06:26] WARNING: not removing hydrogen atom without neighbors\n",
      "[00:06:26] WARNING: not removing hydrogen atom without neighbors\n",
      "[00:06:26] WARNING: not removing hydrogen atom without neighbors\n",
      "[00:06:26] WARNING: not removing hydrogen atom without neighbors\n",
      "[00:06:26] WARNING: not removing hydrogen atom without neighbors\n",
      "[00:06:26] WARNING: not removing hydrogen atom without neighbors\n",
      "[00:06:26] WARNING: not removing hydrogen atom without neighbors\n",
      "[00:06:26] WARNING: not removing hydrogen atom without neighbors\n",
      "[00:06:26] WARNING: not removing hydrogen atom without neighbors\n",
      "[00:06:26] WARNING: not removing hydrogen atom without neighbors\n",
      "[00:06:26] WARNING: not removing hydrogen atom without neighbors\n",
      "[00:06:26] WARNING: not removing hydrogen atom without neighbors\n",
      "[00:06:26] WARNING: not removing hydrogen atom without neighbors\n",
      "[00:06:26] WARNING: not removing hydrogen atom without neighbors\n",
      "[00:06:26] WARNING: not removing hydrogen atom without neighbors\n",
      "[00:06:26] WARNING: not removing hydrogen atom without neighbors\n",
      "[00:06:26] WARNING: not removing hydrogen atom without neighbors\n",
      "[00:06:26] WARNING: not removing hydrogen atom without neighbors\n",
      "[00:06:26] WARNING: not removing hydrogen atom without neighbors\n",
      "[00:06:26] WARNING: not removing hydrogen atom without neighbors\n",
      "[00:06:27] WARNING: not removing hydrogen atom without neighbors\n",
      "[00:06:27] WARNING: not removing hydrogen atom without neighbors\n",
      "[00:06:27] WARNING: not removing hydrogen atom without neighbors\n",
      "[00:06:27] WARNING: not removing hydrogen atom without neighbors\n",
      "[00:06:27] WARNING: not removing hydrogen atom without neighbors\n",
      "[00:06:27] WARNING: not removing hydrogen atom without neighbors\n",
      "[00:06:27] WARNING: not removing hydrogen atom without neighbors\n",
      "[00:06:27] WARNING: not removing hydrogen atom without neighbors\n",
      "[00:06:27] WARNING: not removing hydrogen atom without neighbors\n",
      "[00:06:27] WARNING: not removing hydrogen atom without neighbors\n",
      "[00:06:27] WARNING: not removing hydrogen atom without neighbors\n",
      "[00:06:27] WARNING: not removing hydrogen atom without neighbors\n",
      "[00:06:27] WARNING: not removing hydrogen atom without neighbors\n",
      "[00:06:27] WARNING: not removing hydrogen atom without neighbors\n",
      "[00:06:27] WARNING: not removing hydrogen atom without neighbors\n",
      "[00:06:27] WARNING: not removing hydrogen atom without neighbors\n",
      "[00:06:27] WARNING: not removing hydrogen atom without neighbors\n",
      "[00:06:27] WARNING: not removing hydrogen atom without neighbors\n",
      "[00:06:27] WARNING: not removing hydrogen atom without neighbors\n",
      "[00:06:27] WARNING: not removing hydrogen atom without neighbors\n",
      "[00:06:27] WARNING: not removing hydrogen atom without neighbors\n",
      "[00:06:27] WARNING: not removing hydrogen atom without neighbors\n",
      "[00:06:27] WARNING: not removing hydrogen atom without neighbors\n",
      "[00:06:27] WARNING: not removing hydrogen atom without neighbors\n",
      "[00:06:27] WARNING: not removing hydrogen atom without neighbors\n",
      "[00:06:27] WARNING: not removing hydrogen atom without neighbors\n",
      "[00:06:27] WARNING: not removing hydrogen atom without neighbors\n",
      "[00:06:27] WARNING: not removing hydrogen atom without neighbors\n",
      "[00:06:27] WARNING: not removing hydrogen atom without neighbors\n",
      "[00:06:27] WARNING: not removing hydrogen atom without neighbors\n",
      "[00:06:27] WARNING: not removing hydrogen atom without neighbors\n",
      "[00:06:27] WARNING: not removing hydrogen atom without neighbors\n",
      "[00:06:27] WARNING: not removing hydrogen atom without neighbors\n",
      "[00:06:27] WARNING: not removing hydrogen atom without neighbors\n",
      "[00:06:27] WARNING: not removing hydrogen atom without neighbors\n",
      "[00:06:27] WARNING: not removing hydrogen atom without neighbors\n",
      "[00:06:27] WARNING: not removing hydrogen atom without neighbors\n",
      "[00:06:27] WARNING: not removing hydrogen atom without neighbors\n",
      "[00:06:27] WARNING: not removing hydrogen atom without neighbors\n",
      "[00:06:27] WARNING: not removing hydrogen atom without neighbors\n",
      "[00:06:27] WARNING: not removing hydrogen atom without neighbors\n",
      "[00:06:27] WARNING: not removing hydrogen atom without neighbors\n",
      "[00:06:27] WARNING: not removing hydrogen atom without neighbors\n",
      "[00:06:27] WARNING: not removing hydrogen atom without neighbors\n",
      "[00:06:27] WARNING: not removing hydrogen atom without neighbors\n",
      "[00:06:27] WARNING: not removing hydrogen atom without neighbors\n",
      "[00:06:27] WARNING: not removing hydrogen atom without neighbors\n",
      "[00:06:27] WARNING: not removing hydrogen atom without neighbors\n",
      "[00:06:27] WARNING: not removing hydrogen atom without neighbors\n",
      "[00:06:27] WARNING: not removing hydrogen atom without neighbors\n",
      "[00:06:27] WARNING: not removing hydrogen atom without neighbors\n",
      "[00:06:27] WARNING: not removing hydrogen atom without neighbors\n",
      "[00:06:27] WARNING: not removing hydrogen atom without neighbors\n",
      "[00:06:27] WARNING: not removing hydrogen atom without neighbors\n",
      "[00:06:27] WARNING: not removing hydrogen atom without neighbors\n",
      "[00:06:27] WARNING: not removing hydrogen atom without neighbors\n",
      "[00:06:27] WARNING: not removing hydrogen atom without neighbors\n",
      "[00:06:27] WARNING: not removing hydrogen atom without neighbors\n",
      "[00:06:27] WARNING: not removing hydrogen atom without neighbors\n",
      "[00:06:27] WARNING: not removing hydrogen atom without neighbors\n",
      "[00:06:27] WARNING: not removing hydrogen atom without neighbors\n",
      "[00:06:27] WARNING: not removing hydrogen atom without neighbors\n",
      "[00:06:28] WARNING: not removing hydrogen atom without neighbors\n",
      "[00:06:28] WARNING: not removing hydrogen atom without neighbors\n",
      "[00:06:28] WARNING: not removing hydrogen atom without neighbors\n",
      "[00:06:29] WARNING: not removing hydrogen atom without neighbors\n",
      "[00:06:29] WARNING: not removing hydrogen atom without neighbors\n",
      "[00:06:29] WARNING: not removing hydrogen atom without neighbors\n",
      "[00:06:29] WARNING: not removing hydrogen atom without neighbors\n",
      "[00:06:29] WARNING: not removing hydrogen atom without neighbors\n"
     ]
    },
    {
     "data": {
      "application/vnd.jupyter.widget-view+json": {
       "model_id": "4e621a66919f47b6840cb4290a94bc5d",
       "version_major": 2,
       "version_minor": 0
      },
      "text/plain": [
       "Common alerts filtering:   0%|          | 0/5068 [00:00<?, ?it/s]"
      ]
     },
     "metadata": {},
     "output_type": "display_data"
    },
    {
     "data": {
      "application/vnd.jupyter.widget-view+json": {
       "model_id": "2070a71f2d2b4eb89aa213f1cac59c18",
       "version_major": 2,
       "version_minor": 0
      },
      "text/plain": [
       "Common alerts filtering:   0%|          | 0/5068 [00:00<?, ?it/s]"
      ]
     },
     "metadata": {},
     "output_type": "display_data"
    },
    {
     "data": {
      "application/vnd.jupyter.widget-view+json": {
       "model_id": "2967dc02993747e7bd8eeba6092af211",
       "version_major": 2,
       "version_minor": 0
      },
      "text/plain": [
       "NIBR filtering:   0%|          | 0/5068 [00:00<?, ?it/s]"
      ]
     },
     "metadata": {},
     "output_type": "display_data"
    },
    {
     "data": {
      "application/vnd.jupyter.widget-view+json": {
       "model_id": "b6c3ffebdba54a36940daae8312eb667",
       "version_major": 2,
       "version_minor": 0
      },
      "text/plain": [
       "Match:   0%|          | 0/5068 [00:00<?, ?it/s]"
      ]
     },
     "metadata": {},
     "output_type": "display_data"
    },
    {
     "data": {
      "application/vnd.jupyter.widget-view+json": {
       "model_id": "e265b009aa3242da89594fa9ae1791f1",
       "version_major": 2,
       "version_minor": 0
      },
      "text/plain": [
       "Demerits filtering:   0%|          | 0/2 [00:00<?, ?it/s]"
      ]
     },
     "metadata": {},
     "output_type": "display_data"
    },
    {
     "name": "stderr",
     "output_type": "stream",
     "text": [
      "[00:07:26] WARNING: not removing hydrogen atom without neighbors\n",
      "[00:07:26] WARNING: not removing hydrogen atom without neighbors\n",
      "[00:07:26] WARNING: not removing hydrogen atom without neighbors\n",
      "[00:07:26] WARNING: not removing hydrogen atom without neighbors\n",
      "[00:07:26] WARNING: not removing hydrogen atom without neighbors\n",
      "[00:07:26] WARNING: not removing hydrogen atom without neighbors\n",
      "[00:07:26] WARNING: not removing hydrogen atom without neighbors\n",
      "[00:07:26] WARNING: not removing hydrogen atom without neighbors\n",
      "[00:07:26] WARNING: not removing hydrogen atom without neighbors\n",
      "[00:07:26] WARNING: not removing hydrogen atom without neighbors\n",
      "[00:07:26] WARNING: not removing hydrogen atom without neighbors\n",
      "[00:07:26] WARNING: not removing hydrogen atom without neighbors\n",
      "[00:07:26] WARNING: not removing hydrogen atom without neighbors\n",
      "[00:07:26] WARNING: not removing hydrogen atom without neighbors\n",
      "[00:07:26] WARNING: not removing hydrogen atom without neighbors\n",
      "[00:07:26] WARNING: not removing hydrogen atom without neighbors\n",
      "[00:07:26] WARNING: not removing hydrogen atom without neighbors\n",
      "[00:07:26] WARNING: not removing hydrogen atom without neighbors\n",
      "[00:07:26] WARNING: not removing hydrogen atom without neighbors\n",
      "[00:07:26] WARNING: not removing hydrogen atom without neighbors\n",
      "[00:07:26] WARNING: not removing hydrogen atom without neighbors\n",
      "[00:07:26] WARNING: not removing hydrogen atom without neighbors\n",
      "[00:07:26] WARNING: not removing hydrogen atom without neighbors\n",
      "[00:07:26] WARNING: not removing hydrogen atom without neighbors\n",
      "[00:07:26] WARNING: not removing hydrogen atom without neighbors\n",
      "[00:07:26] WARNING: not removing hydrogen atom without neighbors\n",
      "[00:07:26] WARNING: not removing hydrogen atom without neighbors\n",
      "[00:07:26] WARNING: not removing hydrogen atom without neighbors\n",
      "[00:07:26] WARNING: not removing hydrogen atom without neighbors\n",
      "[00:07:26] WARNING: not removing hydrogen atom without neighbors\n",
      "[00:07:26] WARNING: not removing hydrogen atom without neighbors\n",
      "[00:07:26] WARNING: not removing hydrogen atom without neighbors\n",
      "[00:07:26] WARNING: not removing hydrogen atom without neighbors\n",
      "[00:07:26] WARNING: not removing hydrogen atom without neighbors\n",
      "[00:07:26] WARNING: not removing hydrogen atom without neighbors\n",
      "[00:07:26] WARNING: not removing hydrogen atom without neighbors\n",
      "[00:07:26] WARNING: not removing hydrogen atom without neighbors\n",
      "[00:07:26] WARNING: not removing hydrogen atom without neighbors\n",
      "[00:07:26] WARNING: not removing hydrogen atom without neighbors\n",
      "[00:07:26] WARNING: not removing hydrogen atom without neighbors\n",
      "[00:07:26] WARNING: not removing hydrogen atom without neighbors\n",
      "[00:07:26] WARNING: not removing hydrogen atom without neighbors\n",
      "[00:07:26] WARNING: not removing hydrogen atom without neighbors\n",
      "[00:07:26] WARNING: not removing hydrogen atom without neighbors\n",
      "[00:07:26] WARNING: not removing hydrogen atom without neighbors\n",
      "[00:07:26] WARNING: not removing hydrogen atom without neighbors\n",
      "[00:07:26] WARNING: not removing hydrogen atom without neighbors\n",
      "[00:07:27] WARNING: not removing hydrogen atom without neighbors\n",
      "[00:07:27] WARNING: not removing hydrogen atom without neighbors\n",
      "[00:07:27] WARNING: not removing hydrogen atom without neighbors\n",
      "[00:07:27] WARNING: not removing hydrogen atom without neighbors\n",
      "[00:07:27] WARNING: not removing hydrogen atom without neighbors\n",
      "[00:07:27] WARNING: not removing hydrogen atom without neighbors\n",
      "[00:07:27] WARNING: not removing hydrogen atom without neighbors\n",
      "[00:07:27] WARNING: not removing hydrogen atom without neighbors\n",
      "[00:07:27] WARNING: not removing hydrogen atom without neighbors\n",
      "[00:07:27] WARNING: not removing hydrogen atom without neighbors\n",
      "[00:07:27] WARNING: not removing hydrogen atom without neighbors\n",
      "[00:07:27] WARNING: not removing hydrogen atom without neighbors\n",
      "[00:07:27] WARNING: not removing hydrogen atom without neighbors\n",
      "[00:07:27] WARNING: not removing hydrogen atom without neighbors\n",
      "[00:07:27] WARNING: not removing hydrogen atom without neighbors\n",
      "[00:07:28] WARNING: not removing hydrogen atom without neighbors\n",
      "[00:07:29] WARNING: not removing hydrogen atom without neighbors\n",
      "[00:07:29] WARNING: not removing hydrogen atom without neighbors\n",
      "[00:07:29] WARNING: not removing hydrogen atom without neighbors\n",
      "[00:07:31] WARNING: not removing hydrogen atom without neighbors\n",
      "[00:07:33] WARNING: not removing hydrogen atom without neighbors\n",
      "[00:07:33] WARNING: not removing hydrogen atom without neighbors\n",
      "[00:07:33] WARNING: not removing hydrogen atom without neighbors\n"
     ]
    },
    {
     "data": {
      "application/vnd.jupyter.widget-view+json": {
       "model_id": "6e23853914294f7c9f182b5060b8a0c4",
       "version_major": 2,
       "version_minor": 0
      },
      "text/plain": [
       "Common alerts filtering:   0%|          | 0/8042 [00:00<?, ?it/s]"
      ]
     },
     "metadata": {},
     "output_type": "display_data"
    },
    {
     "data": {
      "application/vnd.jupyter.widget-view+json": {
       "model_id": "7699352324824a5db8ad1b8b817a546a",
       "version_major": 2,
       "version_minor": 0
      },
      "text/plain": [
       "Common alerts filtering:   0%|          | 0/8042 [00:00<?, ?it/s]"
      ]
     },
     "metadata": {},
     "output_type": "display_data"
    },
    {
     "data": {
      "application/vnd.jupyter.widget-view+json": {
       "model_id": "28f677df7d6043c78accb4d7d433ddff",
       "version_major": 2,
       "version_minor": 0
      },
      "text/plain": [
       "NIBR filtering:   0%|          | 0/8042 [00:00<?, ?it/s]"
      ]
     },
     "metadata": {},
     "output_type": "display_data"
    },
    {
     "data": {
      "application/vnd.jupyter.widget-view+json": {
       "model_id": "c18d50556966450eb5cf31b9b31bbc19",
       "version_major": 2,
       "version_minor": 0
      },
      "text/plain": [
       "Match:   0%|          | 0/8042 [00:00<?, ?it/s]"
      ]
     },
     "metadata": {},
     "output_type": "display_data"
    },
    {
     "data": {
      "application/vnd.jupyter.widget-view+json": {
       "model_id": "36e1623593554affa2ece43ea6204fef",
       "version_major": 2,
       "version_minor": 0
      },
      "text/plain": [
       "Demerits filtering:   0%|          | 0/2 [00:00<?, ?it/s]"
      ]
     },
     "metadata": {},
     "output_type": "display_data"
    },
    {
     "name": "stderr",
     "output_type": "stream",
     "text": [
      "[00:09:19] WARNING: not removing hydrogen atom without neighbors\n",
      "[00:09:19] WARNING: not removing hydrogen atom without neighbors\n",
      "[00:09:19] WARNING: not removing hydrogen atom without neighbors\n",
      "[00:09:20] WARNING: not removing hydrogen atom without neighbors\n"
     ]
    },
    {
     "ename": "ValueError",
     "evalue": "Length of values (4021) does not match length of index (4018)",
     "output_type": "error",
     "traceback": [
      "\u001b[0;31m---------------------------------------------------------------------------\u001b[0m",
      "\u001b[0;31m_RemoteTraceback\u001b[0m                          Traceback (most recent call last)",
      "\u001b[0;31m_RemoteTraceback\u001b[0m: \n\"\"\"\nTraceback (most recent call last):\n  File \"/home/fts_g_ucla_edu/.local/lib/python3.10/site-packages/joblib/_utils.py\", line 72, in __call__\n    return self.func(**kwargs)\n  File \"/home/fts_g_ucla_edu/.local/lib/python3.10/site-packages/joblib/parallel.py\", line 598, in __call__\n    return [func(*args, **kwargs)\n  File \"/home/fts_g_ucla_edu/.local/lib/python3.10/site-packages/joblib/parallel.py\", line 598, in <listcomp>\n    return [func(*args, **kwargs)\n  File \"/home/fts_g_ucla_edu/.conda/envs/reinvent/lib/python3.10/site-packages/datamol/utils/jobs.py\", line 83, in _run\n    return fn(args, **fn_kwargs)\n  File \"/home/fts_g_ucla_edu/.conda/envs/reinvent/lib/python3.10/site-packages/medchem/structural/lilly_demerits/_demerits.py\", line 324, in _score\n    results[\"mol\"] = mols\n  File \"/home/fts_g_ucla_edu/.local/lib/python3.10/site-packages/pandas/core/frame.py\", line 4311, in __setitem__\n    self._set_item(key, value)\n  File \"/home/fts_g_ucla_edu/.local/lib/python3.10/site-packages/pandas/core/frame.py\", line 4524, in _set_item\n    value, refs = self._sanitize_column(value)\n  File \"/home/fts_g_ucla_edu/.local/lib/python3.10/site-packages/pandas/core/frame.py\", line 5266, in _sanitize_column\n    com.require_length_match(value, self.index)\n  File \"/home/fts_g_ucla_edu/.local/lib/python3.10/site-packages/pandas/core/common.py\", line 573, in require_length_match\n    raise ValueError(\nValueError: Length of values (4021) does not match length of index (4018)\n\"\"\"",
      "\nThe above exception was the direct cause of the following exception:\n",
      "\u001b[0;31mValueError\u001b[0m                                Traceback (most recent call last)",
      "Cell \u001b[0;32mIn[57], line 5\u001b[0m\n\u001b[1;32m      1\u001b[0m \u001b[38;5;28;01mfor\u001b[39;00m model, df \u001b[38;5;129;01min\u001b[39;00m \u001b[38;5;28mzip\u001b[39m(models, model_dfs):\n\u001b[1;32m      3\u001b[0m         df[\u001b[38;5;124m\"\u001b[39m\u001b[38;5;124mmol\u001b[39m\u001b[38;5;124m\"\u001b[39m] \u001b[38;5;241m=\u001b[39m df[\u001b[38;5;124m\"\u001b[39m\u001b[38;5;124mSMILES\u001b[39m\u001b[38;5;124m\"\u001b[39m]\u001b[38;5;241m.\u001b[39mapply(dm\u001b[38;5;241m.\u001b[39mto_mol)\n\u001b[0;32m----> 5\u001b[0m         \u001b[43mprocess_filters\u001b[49m\u001b[43m(\u001b[49m\u001b[43mdf\u001b[49m\u001b[43m)\u001b[49m\n\u001b[1;32m      7\u001b[0m         plot_filters(df, model)\n",
      "Cell \u001b[0;32mIn[54], line 37\u001b[0m, in \u001b[0;36mprocess_filters\u001b[0;34m(data)\u001b[0m\n\u001b[1;32m     22\u001b[0m data[\u001b[38;5;124m\"\u001b[39m\u001b[38;5;124mfilters_NIBR\u001b[39m\u001b[38;5;124m\"\u001b[39m] \u001b[38;5;241m=\u001b[39m mc\u001b[38;5;241m.\u001b[39mfunctional\u001b[38;5;241m.\u001b[39mnibr_filter(\n\u001b[1;32m     23\u001b[0m     mols\u001b[38;5;241m=\u001b[39mdata[\u001b[38;5;124m\"\u001b[39m\u001b[38;5;124mmol\u001b[39m\u001b[38;5;124m\"\u001b[39m]\u001b[38;5;241m.\u001b[39mtolist(),\n\u001b[1;32m     24\u001b[0m     n_jobs\u001b[38;5;241m=\u001b[39m\u001b[38;5;241m-\u001b[39m\u001b[38;5;241m1\u001b[39m,\n\u001b[1;32m     25\u001b[0m     progress\u001b[38;5;241m=\u001b[39m\u001b[38;5;28;01mTrue\u001b[39;00m,\n\u001b[1;32m     26\u001b[0m     return_idx\u001b[38;5;241m=\u001b[39m\u001b[38;5;28;01mFalse\u001b[39;00m,\n\u001b[1;32m     27\u001b[0m )\n\u001b[1;32m     29\u001b[0m data[\u001b[38;5;124m\"\u001b[39m\u001b[38;5;124mfilter_molecular_graph\u001b[39m\u001b[38;5;124m\"\u001b[39m] \u001b[38;5;241m=\u001b[39m mc\u001b[38;5;241m.\u001b[39mfunctional\u001b[38;5;241m.\u001b[39mmolecular_graph_filter(\n\u001b[1;32m     30\u001b[0m     mols\u001b[38;5;241m=\u001b[39mdata[\u001b[38;5;124m\"\u001b[39m\u001b[38;5;124mmol\u001b[39m\u001b[38;5;124m\"\u001b[39m]\u001b[38;5;241m.\u001b[39mtolist(),\n\u001b[1;32m     31\u001b[0m     max_severity\u001b[38;5;241m=\u001b[39m\u001b[38;5;241m5\u001b[39m,\n\u001b[0;32m   (...)\u001b[0m\n\u001b[1;32m     34\u001b[0m     return_idx\u001b[38;5;241m=\u001b[39m\u001b[38;5;28;01mFalse\u001b[39;00m,\n\u001b[1;32m     35\u001b[0m )\n\u001b[0;32m---> 37\u001b[0m data[\u001b[38;5;124m\"\u001b[39m\u001b[38;5;124mfilter_lilly_demerit\u001b[39m\u001b[38;5;124m\"\u001b[39m] \u001b[38;5;241m=\u001b[39m \u001b[43mmc\u001b[49m\u001b[38;5;241;43m.\u001b[39;49m\u001b[43mfunctional\u001b[49m\u001b[38;5;241;43m.\u001b[39;49m\u001b[43mlilly_demerit_filter\u001b[49m\u001b[43m(\u001b[49m\n\u001b[1;32m     38\u001b[0m \u001b[43m    \u001b[49m\u001b[43mmols\u001b[49m\u001b[38;5;241;43m=\u001b[39;49m\u001b[43mdata\u001b[49m\u001b[43m[\u001b[49m\u001b[38;5;124;43m\"\u001b[39;49m\u001b[38;5;124;43mmol\u001b[39;49m\u001b[38;5;124;43m\"\u001b[39;49m\u001b[43m]\u001b[49m\u001b[38;5;241;43m.\u001b[39;49m\u001b[43mtolist\u001b[49m\u001b[43m(\u001b[49m\u001b[43m)\u001b[49m\u001b[43m,\u001b[49m\n\u001b[1;32m     39\u001b[0m \u001b[43m    \u001b[49m\u001b[43mn_jobs\u001b[49m\u001b[38;5;241;43m=\u001b[39;49m\u001b[38;5;241;43m-\u001b[39;49m\u001b[38;5;241;43m1\u001b[39;49m\u001b[43m,\u001b[49m\n\u001b[1;32m     40\u001b[0m \u001b[43m    \u001b[49m\u001b[43mprogress\u001b[49m\u001b[38;5;241;43m=\u001b[39;49m\u001b[38;5;28;43;01mTrue\u001b[39;49;00m\u001b[43m,\u001b[49m\n\u001b[1;32m     41\u001b[0m \u001b[43m    \u001b[49m\u001b[43mreturn_idx\u001b[49m\u001b[38;5;241;43m=\u001b[39;49m\u001b[38;5;28;43;01mFalse\u001b[39;49;00m\u001b[43m,\u001b[49m\n\u001b[1;32m     42\u001b[0m \u001b[43m\u001b[49m\u001b[43m)\u001b[49m\n",
      "File \u001b[0;32m~/.conda/envs/reinvent/lib/python3.10/site-packages/medchem/functional/_api.py:523\u001b[0m, in \u001b[0;36mlilly_demerit_filter\u001b[0;34m(mols, max_demerits, return_idx, n_jobs, progress, progress_leave, scheduler, batch_size, **kwargs)\u001b[0m\n\u001b[1;32m    519\u001b[0m \u001b[38;5;28;01mfrom\u001b[39;00m \u001b[38;5;21;01mmedchem\u001b[39;00m\u001b[38;5;21;01m.\u001b[39;00m\u001b[38;5;21;01mstructural\u001b[39;00m\u001b[38;5;21;01m.\u001b[39;00m\u001b[38;5;21;01mlilly_demerits\u001b[39;00m \u001b[38;5;28;01mimport\u001b[39;00m LillyDemeritsFilters\n\u001b[1;32m    521\u001b[0m dfilter \u001b[38;5;241m=\u001b[39m LillyDemeritsFilters()\n\u001b[0;32m--> 523\u001b[0m results \u001b[38;5;241m=\u001b[39m \u001b[43mdfilter\u001b[49m\u001b[43m(\u001b[49m\n\u001b[1;32m    524\u001b[0m \u001b[43m    \u001b[49m\u001b[43mmols\u001b[49m\u001b[43m,\u001b[49m\n\u001b[1;32m    525\u001b[0m \u001b[43m    \u001b[49m\u001b[43mn_jobs\u001b[49m\u001b[38;5;241;43m=\u001b[39;49m\u001b[43mn_jobs\u001b[49m\u001b[43m,\u001b[49m\n\u001b[1;32m    526\u001b[0m \u001b[43m    \u001b[49m\u001b[43mprogress\u001b[49m\u001b[38;5;241;43m=\u001b[39;49m\u001b[43mprogress\u001b[49m\u001b[43m,\u001b[49m\n\u001b[1;32m    527\u001b[0m \u001b[43m    \u001b[49m\u001b[43mprogress_leave\u001b[49m\u001b[38;5;241;43m=\u001b[39;49m\u001b[43mprogress_leave\u001b[49m\u001b[43m,\u001b[49m\n\u001b[1;32m    528\u001b[0m \u001b[43m    \u001b[49m\u001b[43mscheduler\u001b[49m\u001b[38;5;241;43m=\u001b[39;49m\u001b[43mscheduler\u001b[49m\u001b[43m,\u001b[49m\n\u001b[1;32m    529\u001b[0m \u001b[43m    \u001b[49m\u001b[43mbatch_size\u001b[49m\u001b[38;5;241;43m=\u001b[39;49m\u001b[43mbatch_size\u001b[49m\u001b[43m,\u001b[49m\n\u001b[1;32m    530\u001b[0m \u001b[43m    \u001b[49m\u001b[38;5;241;43m*\u001b[39;49m\u001b[38;5;241;43m*\u001b[39;49m\u001b[43mkwargs\u001b[49m\u001b[43m,\u001b[49m\n\u001b[1;32m    531\u001b[0m \u001b[43m\u001b[49m\u001b[43m)\u001b[49m\n\u001b[1;32m    533\u001b[0m results \u001b[38;5;241m=\u001b[39m results[\n\u001b[1;32m    534\u001b[0m     (results[\u001b[38;5;124m\"\u001b[39m\u001b[38;5;124mpass_filter\u001b[39m\u001b[38;5;124m\"\u001b[39m] \u001b[38;5;241m==\u001b[39m \u001b[38;5;28;01mTrue\u001b[39;00m)  \u001b[38;5;66;03m# noqa: E712\u001b[39;00m\n\u001b[1;32m    535\u001b[0m     \u001b[38;5;241m&\u001b[39m ((results[\u001b[38;5;124m\"\u001b[39m\u001b[38;5;124mdemerit_score\u001b[39m\u001b[38;5;124m\"\u001b[39m]\u001b[38;5;241m.\u001b[39misna()) \u001b[38;5;241m|\u001b[39m (results[\u001b[38;5;124m\"\u001b[39m\u001b[38;5;124mdemerit_score\u001b[39m\u001b[38;5;124m\"\u001b[39m] \u001b[38;5;241m<\u001b[39m max_demerits))\n\u001b[1;32m    536\u001b[0m ]\n\u001b[1;32m    538\u001b[0m filtered_idx \u001b[38;5;241m=\u001b[39m results\u001b[38;5;241m.\u001b[39mindex\u001b[38;5;241m.\u001b[39mvalues\u001b[38;5;241m.\u001b[39mastype(\u001b[38;5;28mint\u001b[39m)\n",
      "File \u001b[0;32m~/.conda/envs/reinvent/lib/python3.10/site-packages/medchem/structural/lilly_demerits/_demerits.py:80\u001b[0m, in \u001b[0;36mLillyDemeritsFilters.__call__\u001b[0;34m(self, mols, n_jobs, batch_size, progress, progress_leave, scheduler)\u001b[0m\n\u001b[1;32m     78\u001b[0m     mols_batch_list \u001b[38;5;241m=\u001b[39m np\u001b[38;5;241m.\u001b[39marray_split(mols, n_splits)\n\u001b[1;32m     79\u001b[0m     \u001b[38;5;66;03m# EN: cannot run this code in processes or loky mode\u001b[39;00m\n\u001b[0;32m---> 80\u001b[0m     results \u001b[38;5;241m=\u001b[39m \u001b[43mdm\u001b[49m\u001b[38;5;241;43m.\u001b[39;49m\u001b[43mparallelized\u001b[49m\u001b[43m(\u001b[49m\n\u001b[1;32m     81\u001b[0m \u001b[43m        \u001b[49m\u001b[38;5;28;43mself\u001b[39;49m\u001b[38;5;241;43m.\u001b[39;49m\u001b[43m_score\u001b[49m\u001b[43m,\u001b[49m\n\u001b[1;32m     82\u001b[0m \u001b[43m        \u001b[49m\u001b[43mmols_batch_list\u001b[49m\u001b[43m,\u001b[49m\n\u001b[1;32m     83\u001b[0m \u001b[43m        \u001b[49m\u001b[43mn_jobs\u001b[49m\u001b[38;5;241;43m=\u001b[39;49m\u001b[43mn_jobs\u001b[49m\u001b[43m,\u001b[49m\n\u001b[1;32m     84\u001b[0m \u001b[43m        \u001b[49m\u001b[43mprogress\u001b[49m\u001b[38;5;241;43m=\u001b[39;49m\u001b[43mprogress\u001b[49m\u001b[43m,\u001b[49m\n\u001b[1;32m     85\u001b[0m \u001b[43m        \u001b[49m\u001b[43mscheduler\u001b[49m\u001b[38;5;241;43m=\u001b[39;49m\u001b[43mscheduler\u001b[49m\u001b[43m,\u001b[49m\n\u001b[1;32m     86\u001b[0m \u001b[43m        \u001b[49m\u001b[43mtqdm_kwargs\u001b[49m\u001b[38;5;241;43m=\u001b[39;49m\u001b[38;5;28;43mdict\u001b[39;49m\u001b[43m(\u001b[49m\n\u001b[1;32m     87\u001b[0m \u001b[43m            \u001b[49m\u001b[43mdesc\u001b[49m\u001b[38;5;241;43m=\u001b[39;49m\u001b[38;5;124;43m\"\u001b[39;49m\u001b[38;5;124;43mDemerits filtering\u001b[39;49m\u001b[38;5;124;43m\"\u001b[39;49m\u001b[43m,\u001b[49m\n\u001b[1;32m     88\u001b[0m \u001b[43m            \u001b[49m\u001b[43mleave\u001b[49m\u001b[38;5;241;43m=\u001b[39;49m\u001b[43mprogress_leave\u001b[49m\u001b[43m,\u001b[49m\n\u001b[1;32m     89\u001b[0m \u001b[43m        \u001b[49m\u001b[43m)\u001b[49m\u001b[43m,\u001b[49m\n\u001b[1;32m     90\u001b[0m \u001b[43m    \u001b[49m\u001b[43m)\u001b[49m\n\u001b[1;32m     91\u001b[0m     \u001b[38;5;28;01mreturn\u001b[39;00m pd\u001b[38;5;241m.\u001b[39mconcat(results, ignore_index\u001b[38;5;241m=\u001b[39m\u001b[38;5;28;01mTrue\u001b[39;00m)  \u001b[38;5;66;03m# type: ignore\u001b[39;00m\n\u001b[1;32m     93\u001b[0m \u001b[38;5;28;01melse\u001b[39;00m:\n",
      "File \u001b[0;32m~/.conda/envs/reinvent/lib/python3.10/site-packages/datamol/utils/jobs.py:256\u001b[0m, in \u001b[0;36mparallelized\u001b[0;34m(fn, inputs_list, scheduler, n_jobs, batch_size, progress, arg_type, total, tqdm_kwargs, **job_kwargs)\u001b[0m\n\u001b[1;32m    221\u001b[0m \u001b[38;5;250m\u001b[39m\u001b[38;5;124;03m\"\"\"Run a function in parallel.\u001b[39;00m\n\u001b[1;32m    222\u001b[0m \n\u001b[1;32m    223\u001b[0m \u001b[38;5;124;03mArgs:\u001b[39;00m\n\u001b[0;32m   (...)\u001b[0m\n\u001b[1;32m    244\u001b[0m \u001b[38;5;124;03m    The results of the execution as a list.\u001b[39;00m\n\u001b[1;32m    245\u001b[0m \u001b[38;5;124;03m\"\"\"\u001b[39;00m\n\u001b[1;32m    247\u001b[0m runner \u001b[38;5;241m=\u001b[39m JobRunner(\n\u001b[1;32m    248\u001b[0m     n_jobs\u001b[38;5;241m=\u001b[39mn_jobs,\n\u001b[1;32m    249\u001b[0m     batch_size\u001b[38;5;241m=\u001b[39mbatch_size,\n\u001b[0;32m   (...)\u001b[0m\n\u001b[1;32m    254\u001b[0m     \u001b[38;5;241m*\u001b[39m\u001b[38;5;241m*\u001b[39mjob_kwargs,\n\u001b[1;32m    255\u001b[0m )\n\u001b[0;32m--> 256\u001b[0m \u001b[38;5;28;01mreturn\u001b[39;00m \u001b[43mrunner\u001b[49m\u001b[43m(\u001b[49m\u001b[43mfn\u001b[49m\u001b[43m,\u001b[49m\u001b[43m \u001b[49m\u001b[43minputs_list\u001b[49m\u001b[43m,\u001b[49m\u001b[43m \u001b[49m\u001b[43marg_type\u001b[49m\u001b[38;5;241;43m=\u001b[39;49m\u001b[43marg_type\u001b[49m\u001b[43m)\u001b[49m\n",
      "File \u001b[0;32m~/.conda/envs/reinvent/lib/python3.10/site-packages/datamol/utils/jobs.py:159\u001b[0m, in \u001b[0;36mJobRunner.__call__\u001b[0;34m(self, *args, **kwargs)\u001b[0m\n\u001b[1;32m    157\u001b[0m \u001b[38;5;28;01mif\u001b[39;00m \u001b[38;5;28mself\u001b[39m\u001b[38;5;241m.\u001b[39mis_sequential:\n\u001b[1;32m    158\u001b[0m     \u001b[38;5;28;01mreturn\u001b[39;00m \u001b[38;5;28mself\u001b[39m\u001b[38;5;241m.\u001b[39msequential(\u001b[38;5;241m*\u001b[39margs, \u001b[38;5;241m*\u001b[39m\u001b[38;5;241m*\u001b[39mkwargs)\n\u001b[0;32m--> 159\u001b[0m \u001b[38;5;28;01mreturn\u001b[39;00m \u001b[38;5;28;43mself\u001b[39;49m\u001b[38;5;241;43m.\u001b[39;49m\u001b[43mparallel\u001b[49m\u001b[43m(\u001b[49m\u001b[38;5;241;43m*\u001b[39;49m\u001b[43margs\u001b[49m\u001b[43m,\u001b[49m\u001b[43m \u001b[49m\u001b[38;5;241;43m*\u001b[39;49m\u001b[38;5;241;43m*\u001b[39;49m\u001b[43mkwargs\u001b[49m\u001b[43m)\u001b[49m\n",
      "File \u001b[0;32m~/.conda/envs/reinvent/lib/python3.10/site-packages/datamol/utils/jobs.py:147\u001b[0m, in \u001b[0;36mJobRunner.parallel\u001b[0;34m(self, callable_fn, data, arg_type, **fn_kwargs)\u001b[0m\n\u001b[1;32m    144\u001b[0m     \u001b[38;5;28mself\u001b[39m\u001b[38;5;241m.\u001b[39mtqdm_kwargs[\u001b[38;5;124m\"\u001b[39m\u001b[38;5;124mdisable\u001b[39m\u001b[38;5;124m\"\u001b[39m] \u001b[38;5;241m=\u001b[39m \u001b[38;5;28mself\u001b[39m\u001b[38;5;241m.\u001b[39mno_progress\n\u001b[1;32m    146\u001b[0m runner \u001b[38;5;241m=\u001b[39m JobRunner\u001b[38;5;241m.\u001b[39m_parallel_helper(\u001b[38;5;241m*\u001b[39m\u001b[38;5;241m*\u001b[39m\u001b[38;5;28mself\u001b[39m\u001b[38;5;241m.\u001b[39mjob_kwargs)\n\u001b[0;32m--> 147\u001b[0m results \u001b[38;5;241m=\u001b[39m \u001b[43mrunner\u001b[49m\u001b[43m(\u001b[49m\u001b[38;5;241;43m*\u001b[39;49m\u001b[38;5;241;43m*\u001b[39;49m\u001b[38;5;28;43mself\u001b[39;49m\u001b[38;5;241;43m.\u001b[39;49m\u001b[43mtqdm_kwargs\u001b[49m\u001b[43m)\u001b[49m\u001b[43m(\u001b[49m\n\u001b[1;32m    148\u001b[0m \u001b[43m    \u001b[49m\u001b[43mdelayed\u001b[49m\u001b[43m(\u001b[49m\u001b[43mJobRunner\u001b[49m\u001b[38;5;241;43m.\u001b[39;49m\u001b[43mwrap_fn\u001b[49m\u001b[43m(\u001b[49m\u001b[43mcallable_fn\u001b[49m\u001b[43m,\u001b[49m\u001b[43m \u001b[49m\u001b[43marg_type\u001b[49m\u001b[43m,\u001b[49m\u001b[43m \u001b[49m\u001b[38;5;241;43m*\u001b[39;49m\u001b[38;5;241;43m*\u001b[39;49m\u001b[43mfn_kwargs\u001b[49m\u001b[43m)\u001b[49m\u001b[43m)\u001b[49m\u001b[43m(\u001b[49m\u001b[43mdt\u001b[49m\u001b[43m)\u001b[49m\u001b[43m \u001b[49m\u001b[38;5;28;43;01mfor\u001b[39;49;00m\u001b[43m \u001b[49m\u001b[43mdt\u001b[49m\u001b[43m \u001b[49m\u001b[38;5;129;43;01min\u001b[39;49;00m\u001b[43m \u001b[49m\u001b[43mdata\u001b[49m\n\u001b[1;32m    149\u001b[0m \u001b[43m\u001b[49m\u001b[43m)\u001b[49m\n\u001b[1;32m    151\u001b[0m \u001b[38;5;28;01mreturn\u001b[39;00m results\n",
      "File \u001b[0;32m~/.conda/envs/reinvent/lib/python3.10/site-packages/datamol/utils/jobs.py:170\u001b[0m, in \u001b[0;36mJobRunner._parallel_helper.<locals>.run.<locals>.tmp\u001b[0;34m(op_iter)\u001b[0m\n\u001b[1;32m    168\u001b[0m \u001b[38;5;28;01mdef\u001b[39;00m \u001b[38;5;21mtmp\u001b[39m(op_iter):\n\u001b[1;32m    169\u001b[0m     \u001b[38;5;28;01mwith\u001b[39;00m _tqdm_callback(tqdm(\u001b[38;5;241m*\u001b[39m\u001b[38;5;241m*\u001b[39mtq_args)):\n\u001b[0;32m--> 170\u001b[0m         \u001b[38;5;28;01mreturn\u001b[39;00m \u001b[43mParallel\u001b[49m\u001b[43m(\u001b[49m\u001b[38;5;241;43m*\u001b[39;49m\u001b[38;5;241;43m*\u001b[39;49m\u001b[43mjoblib_args\u001b[49m\u001b[43m)\u001b[49m\u001b[43m(\u001b[49m\u001b[43mop_iter\u001b[49m\u001b[43m)\u001b[49m\n",
      "File \u001b[0;32m~/.local/lib/python3.10/site-packages/joblib/parallel.py:2007\u001b[0m, in \u001b[0;36mParallel.__call__\u001b[0;34m(self, iterable)\u001b[0m\n\u001b[1;32m   2001\u001b[0m \u001b[38;5;66;03m# The first item from the output is blank, but it makes the interpreter\u001b[39;00m\n\u001b[1;32m   2002\u001b[0m \u001b[38;5;66;03m# progress until it enters the Try/Except block of the generator and\u001b[39;00m\n\u001b[1;32m   2003\u001b[0m \u001b[38;5;66;03m# reach the first `yield` statement. This starts the aynchronous\u001b[39;00m\n\u001b[1;32m   2004\u001b[0m \u001b[38;5;66;03m# dispatch of the tasks to the workers.\u001b[39;00m\n\u001b[1;32m   2005\u001b[0m \u001b[38;5;28mnext\u001b[39m(output)\n\u001b[0;32m-> 2007\u001b[0m \u001b[38;5;28;01mreturn\u001b[39;00m output \u001b[38;5;28;01mif\u001b[39;00m \u001b[38;5;28mself\u001b[39m\u001b[38;5;241m.\u001b[39mreturn_generator \u001b[38;5;28;01melse\u001b[39;00m \u001b[38;5;28;43mlist\u001b[39;49m\u001b[43m(\u001b[49m\u001b[43moutput\u001b[49m\u001b[43m)\u001b[49m\n",
      "File \u001b[0;32m~/.local/lib/python3.10/site-packages/joblib/parallel.py:1650\u001b[0m, in \u001b[0;36mParallel._get_outputs\u001b[0;34m(self, iterator, pre_dispatch)\u001b[0m\n\u001b[1;32m   1647\u001b[0m     \u001b[38;5;28;01myield\u001b[39;00m\n\u001b[1;32m   1649\u001b[0m     \u001b[38;5;28;01mwith\u001b[39;00m \u001b[38;5;28mself\u001b[39m\u001b[38;5;241m.\u001b[39m_backend\u001b[38;5;241m.\u001b[39mretrieval_context():\n\u001b[0;32m-> 1650\u001b[0m         \u001b[38;5;28;01myield from\u001b[39;00m \u001b[38;5;28mself\u001b[39m\u001b[38;5;241m.\u001b[39m_retrieve()\n\u001b[1;32m   1652\u001b[0m \u001b[38;5;28;01mexcept\u001b[39;00m \u001b[38;5;167;01mGeneratorExit\u001b[39;00m:\n\u001b[1;32m   1653\u001b[0m     \u001b[38;5;66;03m# The generator has been garbage collected before being fully\u001b[39;00m\n\u001b[1;32m   1654\u001b[0m     \u001b[38;5;66;03m# consumed. This aborts the remaining tasks if possible and warn\u001b[39;00m\n\u001b[1;32m   1655\u001b[0m     \u001b[38;5;66;03m# the user if necessary.\u001b[39;00m\n\u001b[1;32m   1656\u001b[0m     \u001b[38;5;28mself\u001b[39m\u001b[38;5;241m.\u001b[39m_exception \u001b[38;5;241m=\u001b[39m \u001b[38;5;28;01mTrue\u001b[39;00m\n",
      "File \u001b[0;32m~/.local/lib/python3.10/site-packages/joblib/parallel.py:1754\u001b[0m, in \u001b[0;36mParallel._retrieve\u001b[0;34m(self)\u001b[0m\n\u001b[1;32m   1747\u001b[0m \u001b[38;5;28;01mwhile\u001b[39;00m \u001b[38;5;28mself\u001b[39m\u001b[38;5;241m.\u001b[39m_wait_retrieval():\n\u001b[1;32m   1748\u001b[0m \n\u001b[1;32m   1749\u001b[0m     \u001b[38;5;66;03m# If the callback thread of a worker has signaled that its task\u001b[39;00m\n\u001b[1;32m   1750\u001b[0m     \u001b[38;5;66;03m# triggered an exception, or if the retrieval loop has raised an\u001b[39;00m\n\u001b[1;32m   1751\u001b[0m     \u001b[38;5;66;03m# exception (e.g. `GeneratorExit`), exit the loop and surface the\u001b[39;00m\n\u001b[1;32m   1752\u001b[0m     \u001b[38;5;66;03m# worker traceback.\u001b[39;00m\n\u001b[1;32m   1753\u001b[0m     \u001b[38;5;28;01mif\u001b[39;00m \u001b[38;5;28mself\u001b[39m\u001b[38;5;241m.\u001b[39m_aborting:\n\u001b[0;32m-> 1754\u001b[0m         \u001b[38;5;28;43mself\u001b[39;49m\u001b[38;5;241;43m.\u001b[39;49m\u001b[43m_raise_error_fast\u001b[49m\u001b[43m(\u001b[49m\u001b[43m)\u001b[49m\n\u001b[1;32m   1755\u001b[0m         \u001b[38;5;28;01mbreak\u001b[39;00m\n\u001b[1;32m   1757\u001b[0m     \u001b[38;5;66;03m# If the next job is not ready for retrieval yet, we just wait for\u001b[39;00m\n\u001b[1;32m   1758\u001b[0m     \u001b[38;5;66;03m# async callbacks to progress.\u001b[39;00m\n",
      "File \u001b[0;32m~/.local/lib/python3.10/site-packages/joblib/parallel.py:1789\u001b[0m, in \u001b[0;36mParallel._raise_error_fast\u001b[0;34m(self)\u001b[0m\n\u001b[1;32m   1785\u001b[0m \u001b[38;5;66;03m# If this error job exists, immediatly raise the error by\u001b[39;00m\n\u001b[1;32m   1786\u001b[0m \u001b[38;5;66;03m# calling get_result. This job might not exists if abort has been\u001b[39;00m\n\u001b[1;32m   1787\u001b[0m \u001b[38;5;66;03m# called directly or if the generator is gc'ed.\u001b[39;00m\n\u001b[1;32m   1788\u001b[0m \u001b[38;5;28;01mif\u001b[39;00m error_job \u001b[38;5;129;01mis\u001b[39;00m \u001b[38;5;129;01mnot\u001b[39;00m \u001b[38;5;28;01mNone\u001b[39;00m:\n\u001b[0;32m-> 1789\u001b[0m     \u001b[43merror_job\u001b[49m\u001b[38;5;241;43m.\u001b[39;49m\u001b[43mget_result\u001b[49m\u001b[43m(\u001b[49m\u001b[38;5;28;43mself\u001b[39;49m\u001b[38;5;241;43m.\u001b[39;49m\u001b[43mtimeout\u001b[49m\u001b[43m)\u001b[49m\n",
      "File \u001b[0;32m~/.local/lib/python3.10/site-packages/joblib/parallel.py:745\u001b[0m, in \u001b[0;36mBatchCompletionCallBack.get_result\u001b[0;34m(self, timeout)\u001b[0m\n\u001b[1;32m    739\u001b[0m backend \u001b[38;5;241m=\u001b[39m \u001b[38;5;28mself\u001b[39m\u001b[38;5;241m.\u001b[39mparallel\u001b[38;5;241m.\u001b[39m_backend\n\u001b[1;32m    741\u001b[0m \u001b[38;5;28;01mif\u001b[39;00m backend\u001b[38;5;241m.\u001b[39msupports_retrieve_callback:\n\u001b[1;32m    742\u001b[0m     \u001b[38;5;66;03m# We assume that the result has already been retrieved by the\u001b[39;00m\n\u001b[1;32m    743\u001b[0m     \u001b[38;5;66;03m# callback thread, and is stored internally. It's just waiting to\u001b[39;00m\n\u001b[1;32m    744\u001b[0m     \u001b[38;5;66;03m# be returned.\u001b[39;00m\n\u001b[0;32m--> 745\u001b[0m     \u001b[38;5;28;01mreturn\u001b[39;00m \u001b[38;5;28;43mself\u001b[39;49m\u001b[38;5;241;43m.\u001b[39;49m\u001b[43m_return_or_raise\u001b[49m\u001b[43m(\u001b[49m\u001b[43m)\u001b[49m\n\u001b[1;32m    747\u001b[0m \u001b[38;5;66;03m# For other backends, the main thread needs to run the retrieval step.\u001b[39;00m\n\u001b[1;32m    748\u001b[0m \u001b[38;5;28;01mtry\u001b[39;00m:\n",
      "File \u001b[0;32m~/.local/lib/python3.10/site-packages/joblib/parallel.py:763\u001b[0m, in \u001b[0;36mBatchCompletionCallBack._return_or_raise\u001b[0;34m(self)\u001b[0m\n\u001b[1;32m    761\u001b[0m \u001b[38;5;28;01mtry\u001b[39;00m:\n\u001b[1;32m    762\u001b[0m     \u001b[38;5;28;01mif\u001b[39;00m \u001b[38;5;28mself\u001b[39m\u001b[38;5;241m.\u001b[39mstatus \u001b[38;5;241m==\u001b[39m TASK_ERROR:\n\u001b[0;32m--> 763\u001b[0m         \u001b[38;5;28;01mraise\u001b[39;00m \u001b[38;5;28mself\u001b[39m\u001b[38;5;241m.\u001b[39m_result\n\u001b[1;32m    764\u001b[0m     \u001b[38;5;28;01mreturn\u001b[39;00m \u001b[38;5;28mself\u001b[39m\u001b[38;5;241m.\u001b[39m_result\n\u001b[1;32m    765\u001b[0m \u001b[38;5;28;01mfinally\u001b[39;00m:\n",
      "\u001b[0;31mValueError\u001b[0m: Length of values (4021) does not match length of index (4018)"
     ]
    },
    {
     "data": {
      "image/png": "[encoded data removed]",
      "text/plain": [
       "<Figure size 1400x400 with 2 Axes>"
      ]
     },
     "metadata": {},
     "output_type": "display_data"
    },
    {
     "data": {
      "image/png": "[encoded data removed]",
      "text/plain": [
       "<Figure size 1400x400 with 2 Axes>"
      ]
     },
     "metadata": {},
     "output_type": "display_data"
    },
    {
     "data": {
      "image/png": "[encoded data removed]",
      "text/plain": [
       "<Figure size 1400x400 with 2 Axes>"
      ]
     },
     "metadata": {},
     "output_type": "display_data"
    }
   ],
   "source": [
    "for model, df in zip(models, model_dfs):\n",
    "\n",
    "        df[\"mol\"] = df[\"SMILES\"].apply(dm.to_mol)\n",
    "    \n",
    "        process_filters(df)\n",
    "    \n",
    "        plot_filters(df, model)"
   ]
  },
  {
   "cell_type": "code",
   "execution_count": null,
   "metadata": {},
   "outputs": [],
   "source": []
  }
 ],
 "metadata": {
  "kernelspec": {
   "display_name": "reinvent",
   "language": "python",
   "name": "python3"
  },
  "language_info": {
   "codemirror_mode": {
    "name": "ipython",
    "version": 3
   },
   "file_extension": ".py",
   "mimetype": "text/x-python",
   "name": "python",
   "nbconvert_exporter": "python",
   "pygments_lexer": "ipython3",
   "version": "3.10.13"
  }
 },
 "nbformat": 4,
 "nbformat_minor": 2
}
