{
 "cells": [
  {
   "cell_type": "markdown",
   "metadata": {},
   "source": [
    "## Filtering Arena"
   ]
  },
  {
   "cell_type": "code",
   "execution_count": 66,
   "metadata": {},
   "outputs": [
    {
     "name": "stdout",
     "output_type": "stream",
     "text": [
      "Current conda environment: reinvent\n",
      "Working directory: /home/fts_g_ucla_edu/Projects/rips-relay/experiments\n"
     ]
    }
   ],
   "source": [
    "import subprocess\n",
    "import os\n",
    "print('Current conda environment:', os.environ['CONDA_DEFAULT_ENV'])\n",
    "os.environ['TOKENIZERS_PARALLELISM'] = \"false\"\n",
    "\n",
    "cwd = os.getcwd()\n",
    "print('Working directory:', cwd)\n",
    "\n",
    "import warnings\n",
    "warnings.filterwarnings('ignore')\n",
    "\n",
    "import random\n",
    "random.seed(42)"
   ]
  },
  {
   "cell_type": "code",
   "execution_count": 81,
   "metadata": {},
   "outputs": [],
   "source": [
    "import numpy as np\n",
    "import pandas as pd\n",
    "\n",
    "from rdkit import Chem\n",
    "\n",
    "import pickle"
   ]
  },
  {
   "cell_type": "code",
   "execution_count": 68,
   "metadata": {},
   "outputs": [],
   "source": [
    "fragments = []\n",
    "\n",
    "f = open(\"data/fragments.smi\", \"r\")\n",
    "\n",
    "for i in range(1, 51):\n",
    "    mol = f.readline()\n",
    "    fragments.append(mol[:-1])"
   ]
  },
  {
   "cell_type": "markdown",
   "metadata": {},
   "source": [
    "### Generate a distribution from each fragment for each model"
   ]
  },
  {
   "cell_type": "code",
   "execution_count": 91,
   "metadata": {},
   "outputs": [],
   "source": [
    "models = ['reinvent', 'crem', 'coati', 'safe']"
   ]
  },
  {
   "cell_type": "markdown",
   "metadata": {},
   "source": [
    "#### Warning: The following 3 cells are dangerous:"
   ]
  },
  {
   "cell_type": "code",
   "execution_count": 61,
   "metadata": {},
   "outputs": [],
   "source": [
    "# %%capture\n",
    "\n",
    "# for fragment in fragments:\n",
    "#     for model in models:\n",
    "\n",
    "#         DF_FILEPATH = f'data/{model}_dataframe.csv'\n",
    "\n",
    "#         arg1 = '--model'\n",
    "#         arg2 = '--input_frag'\n",
    "#         arg3 = '--sample'\n",
    "\n",
    "#         args = ['python3', 'generate_analogs.py',\n",
    "#                 arg1, model,\n",
    "#                 arg2, fragment,\n",
    "#                 arg3, '200']\n",
    "\n",
    "#         # Change directory to generate analogs with python script\n",
    "#         %cd ..\n",
    "\n",
    "#         subprocess.run(args,\n",
    "#                     stdout=subprocess.DEVNULL,\n",
    "#                     stderr=subprocess.STDOUT)\n",
    "                \n",
    "#         # Change directory back to that of the current notebook\n",
    "#         %cd experiments\n",
    "\n",
    "#         df = pd.read_csv(DF_FILEPATH, index_col=0)\n",
    "\n",
    "#         df['Model'] = model\n",
    "\n",
    "#         if model == 'reinvent':\n",
    "#             reinvent_distributions.append(df)\n",
    "#         elif model == 'crem':\n",
    "#             crem_distributions.append(df)\n",
    "#         elif model == 'coati':\n",
    "#             coati_distributions.append(df)\n",
    "#         elif model == 'safe':\n",
    "#             safe_distributions.append(df)"
   ]
  },
  {
   "cell_type": "code",
   "execution_count": 62,
   "metadata": {},
   "outputs": [],
   "source": [
    "# data = {'reinvent' : reinvent_distributions,\n",
    "#         'crem' : crem_distributions,\n",
    "#         'coati' : coati_distributions,\n",
    "#         'safe' : safe_distributions}"
   ]
  },
  {
   "cell_type": "code",
   "execution_count": 63,
   "metadata": {},
   "outputs": [],
   "source": [
    "# with open('lists.pkl', 'wb') as file:\n",
    "#     pickle.dump(data, file)"
   ]
  },
  {
   "cell_type": "code",
   "execution_count": 69,
   "metadata": {},
   "outputs": [],
   "source": [
    "with open('lists.pkl', 'rb') as file:\n",
    "    data = pickle.load(file)"
   ]
  },
  {
   "cell_type": "markdown",
   "metadata": {},
   "source": [
    "## Concatenate data for each model"
   ]
  },
  {
   "cell_type": "code",
   "execution_count": 117,
   "metadata": {},
   "outputs": [],
   "source": [
    "model_dfs = []\n",
    "\n",
    "for model in models:\n",
    "\n",
    "    distributions = data[model]\n",
    "    model_df = pd.DataFrame()\n",
    "\n",
    "    for df in distributions:\n",
    "\n",
    "        model_df = pd.concat((model_df, df))\n",
    "\n",
    "    model_dfs.append(model_df)\n",
    "    \n",
    "reinvent_df, crem_df, coati_df, safe_df = [model_dfs[i] for i in range(4)]"
   ]
  },
  {
   "cell_type": "markdown",
   "metadata": {},
   "source": [
    "## Filter #1: Duplicates"
   ]
  },
  {
   "cell_type": "code",
   "execution_count": null,
   "metadata": {},
   "outputs": [],
   "source": []
  }
 ],
 "metadata": {
  "kernelspec": {
   "display_name": "reinvent",
   "language": "python",
   "name": "python3"
  },
  "language_info": {
   "codemirror_mode": {
    "name": "ipython",
    "version": 3
   },
   "file_extension": ".py",
   "mimetype": "text/x-python",
   "name": "python",
   "nbconvert_exporter": "python",
   "pygments_lexer": "ipython3",
   "version": "3.10.13"
  }
 },
 "nbformat": 4,
 "nbformat_minor": 2
}
