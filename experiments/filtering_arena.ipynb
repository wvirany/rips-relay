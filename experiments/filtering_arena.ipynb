{
 "cells": [
  {
   "cell_type": "markdown",
   "metadata": {},
   "source": [
    "## Filtering Arena"
   ]
  },
  {
   "cell_type": "code",
   "execution_count": 2,
   "metadata": {},
   "outputs": [
    {
     "name": "stdout",
     "output_type": "stream",
     "text": [
      "Current conda environment: reinvent\n",
      "Working directory: /home/fts_g_ucla_edu/Projects/rips-relay/experiments\n"
     ]
    }
   ],
   "source": [
    "import subprocess\n",
    "import os\n",
    "print('Current conda environment:', os.environ['CONDA_DEFAULT_ENV'])\n",
    "os.environ['TOKENIZERS_PARALLELISM'] = \"false\"\n",
    "\n",
    "cwd = os.getcwd()\n",
    "print('Working directory:', cwd)\n",
    "\n",
    "import warnings\n",
    "warnings.filterwarnings('ignore')\n",
    "\n",
    "import random\n",
    "random.seed(42)\n",
    "\n"
   ]
  },
  {
   "cell_type": "code",
   "execution_count": 3,
   "metadata": {},
   "outputs": [],
   "source": [
    "import numpy as np\n",
    "import pandas as pd\n",
    "\n",
    "from rdkit import Chem\n",
    "import useful_rdkit_utils as uru\n",
    "\n",
    "import pickle\n",
    "\n",
    "import seaborn as sns"
   ]
  },
  {
   "cell_type": "code",
   "execution_count": 4,
   "metadata": {},
   "outputs": [],
   "source": [
    "#Seaborn settings for visualizations\n",
    "\n",
    "rc = {\n",
    "    \"axes.facecolor\": \"#f7f9fc\",\n",
    "    \"figure.facecolor\": \"#f7f9fc\",\n",
    "    \"axes.edgecolor\": \"#000000\",\n",
    "    \"grid.color\": \"#EBEBE7\",\n",
    "    \"font.family\": \"serif\",\n",
    "    \"axes.labelcolor\": \"#000000\",\n",
    "    \"xtick.color\": \"#000000\",\n",
    "    \"ytick.color\": \"#000000\",\n",
    "    \"grid.alpha\": 0.4\n",
    "}\n",
    "\n",
    "default_palette = 'tab10'\n",
    "\n",
    "sns.set(rc=rc)\n",
    "pd.set_option('display.max_columns', 35)\n",
    "pd.options.display.float_format = '{:,.2f}'.format"
   ]
  },
  {
   "cell_type": "markdown",
   "metadata": {},
   "source": [
    "## Generating Data"
   ]
  },
  {
   "cell_type": "code",
   "execution_count": 5,
   "metadata": {},
   "outputs": [],
   "source": [
    "fragments = []\n",
    "\n",
    "f = open(\"data/fragments.smi\", \"r\")\n",
    "\n",
    "for i in range(1, 51):\n",
    "    mol = f.readline()\n",
    "    fragments.append(mol[:-1])"
   ]
  },
  {
   "cell_type": "markdown",
   "metadata": {},
   "source": [
    "### Generate a distribution from each fragment for each model"
   ]
  },
  {
   "cell_type": "code",
   "execution_count": 6,
   "metadata": {},
   "outputs": [],
   "source": [
    "models = ['reinvent', 'crem', 'coati', 'safe']"
   ]
  },
  {
   "cell_type": "markdown",
   "metadata": {},
   "source": [
    "#### Warning: The following 3 cells are dangerous:"
   ]
  },
  {
   "cell_type": "code",
   "execution_count": 7,
   "metadata": {},
   "outputs": [],
   "source": [
    "# %%capture\n",
    "\n",
    "# for fragment in fragments:\n",
    "#     for model in models:\n",
    "\n",
    "#         DF_FILEPATH = f'data/{model}_dataframe.csv'\n",
    "\n",
    "#         arg1 = '--model'\n",
    "#         arg2 = '--input_frag'\n",
    "#         arg3 = '--sample'\n",
    "\n",
    "#         args = ['python3', 'generate_analogs.py',\n",
    "#                 arg1, model,\n",
    "#                 arg2, fragment,\n",
    "#                 arg3, '200']\n",
    "\n",
    "#         # Change directory to generate analogs with python script\n",
    "#         %cd ..\n",
    "\n",
    "#         subprocess.run(args,\n",
    "#                     stdout=subprocess.DEVNULL,\n",
    "#                     stderr=subprocess.STDOUT)\n",
    "                \n",
    "#         # Change directory back to that of the current notebook\n",
    "#         %cd experiments\n",
    "\n",
    "#         df = pd.read_csv(DF_FILEPATH, index_col=0)\n",
    "\n",
    "#         df['Model'] = model\n",
    "\n",
    "#         if model == 'reinvent':\n",
    "#             reinvent_distributions.append(df)\n",
    "#         elif model == 'crem':\n",
    "#             crem_distributions.append(df)\n",
    "#         elif model == 'coati':\n",
    "#             coati_distributions.append(df)\n",
    "#         elif model == 'safe':\n",
    "#             safe_distributions.append(df)"
   ]
  },
  {
   "cell_type": "code",
   "execution_count": 8,
   "metadata": {},
   "outputs": [],
   "source": [
    "# data = {'reinvent' : reinvent_distributions,\n",
    "#         'crem' : crem_distributions,\n",
    "#         'coati' : coati_distributions,\n",
    "#         'safe' : safe_distributions}"
   ]
  },
  {
   "cell_type": "code",
   "execution_count": 9,
   "metadata": {},
   "outputs": [],
   "source": [
    "# with open('lists.pkl', 'wb') as file:\n",
    "#     pickle.dump(data, file)"
   ]
  },
  {
   "cell_type": "code",
   "execution_count": 10,
   "metadata": {},
   "outputs": [],
   "source": [
    "with open('lists.pkl', 'rb') as file:\n",
    "    data = pickle.load(file)"
   ]
  },
  {
   "cell_type": "markdown",
   "metadata": {},
   "source": [
    "### Concatenate data for each model"
   ]
  },
  {
   "cell_type": "code",
   "execution_count": 11,
   "metadata": {},
   "outputs": [],
   "source": [
    "model_dfs = []\n",
    "\n",
    "for model in models:\n",
    "\n",
    "    distributions = data[model]\n",
    "    model_df = pd.DataFrame()\n",
    "\n",
    "    for df in distributions:\n",
    "\n",
    "        model_df = pd.concat((model_df, df))\n",
    "\n",
    "    model_dfs.append(model_df)"
   ]
  },
  {
   "cell_type": "markdown",
   "metadata": {},
   "source": [
    "### Filtering invalid molecules"
   ]
  },
  {
   "cell_type": "code",
   "execution_count": 12,
   "metadata": {},
   "outputs": [
    {
     "name": "stderr",
     "output_type": "stream",
     "text": [
      "[20:48:42] WARNING: not removing hydrogen atom without neighbors\n",
      "[20:48:42] WARNING: not removing hydrogen atom without neighbors\n",
      "[20:48:42] WARNING: not removing hydrogen atom without neighbors\n",
      "[20:48:42] WARNING: not removing hydrogen atom without neighbors\n",
      "[20:48:42] WARNING: not removing hydrogen atom without neighbors\n",
      "[20:48:42] WARNING: not removing hydrogen atom without neighbors\n",
      "[20:48:42] WARNING: not removing hydrogen atom without neighbors\n",
      "[20:48:42] WARNING: not removing hydrogen atom without neighbors\n",
      "[20:48:42] WARNING: not removing hydrogen atom without neighbors\n",
      "[20:48:42] WARNING: not removing hydrogen atom without neighbors\n",
      "[20:48:42] WARNING: not removing hydrogen atom without neighbors\n",
      "[20:48:42] WARNING: not removing hydrogen atom without neighbors\n",
      "[20:48:42] WARNING: not removing hydrogen atom without neighbors\n",
      "[20:48:42] WARNING: not removing hydrogen atom without neighbors\n",
      "[20:48:42] WARNING: not removing hydrogen atom without neighbors\n",
      "[20:48:42] WARNING: not removing hydrogen atom without neighbors\n",
      "[20:48:42] WARNING: not removing hydrogen atom without neighbors\n",
      "[20:48:42] WARNING: not removing hydrogen atom without neighbors\n",
      "[20:48:42] WARNING: not removing hydrogen atom without neighbors\n",
      "[20:48:42] WARNING: not removing hydrogen atom without neighbors\n",
      "[20:48:42] WARNING: not removing hydrogen atom without neighbors\n",
      "[20:48:42] WARNING: not removing hydrogen atom without neighbors\n",
      "[20:48:42] WARNING: not removing hydrogen atom without neighbors\n",
      "[20:48:42] WARNING: not removing hydrogen atom without neighbors\n",
      "[20:48:42] WARNING: not removing hydrogen atom without neighbors\n",
      "[20:48:42] WARNING: not removing hydrogen atom without neighbors\n",
      "[20:48:42] WARNING: not removing hydrogen atom without neighbors\n",
      "[20:48:42] WARNING: not removing hydrogen atom without neighbors\n",
      "[20:48:42] WARNING: not removing hydrogen atom without neighbors\n",
      "[20:48:42] WARNING: not removing hydrogen atom without neighbors\n",
      "[20:48:42] WARNING: not removing hydrogen atom without neighbors\n",
      "[20:48:42] WARNING: not removing hydrogen atom without neighbors\n",
      "[20:48:42] WARNING: not removing hydrogen atom without neighbors\n",
      "[20:48:42] WARNING: not removing hydrogen atom without neighbors\n",
      "[20:48:42] WARNING: not removing hydrogen atom without neighbors\n",
      "[20:48:42] WARNING: not removing hydrogen atom without neighbors\n",
      "[20:48:42] WARNING: not removing hydrogen atom without neighbors\n",
      "[20:48:42] WARNING: not removing hydrogen atom without neighbors\n",
      "[20:48:42] WARNING: not removing hydrogen atom without neighbors\n",
      "[20:48:42] WARNING: not removing hydrogen atom without neighbors\n",
      "[20:48:42] WARNING: not removing hydrogen atom without neighbors\n",
      "[20:48:42] WARNING: not removing hydrogen atom without neighbors\n",
      "[20:48:42] WARNING: not removing hydrogen atom without neighbors\n",
      "[20:48:42] WARNING: not removing hydrogen atom without neighbors\n",
      "[20:48:42] WARNING: not removing hydrogen atom without neighbors\n",
      "[20:48:42] WARNING: not removing hydrogen atom without neighbors\n",
      "[20:48:42] WARNING: not removing hydrogen atom without neighbors\n",
      "[20:48:42] WARNING: not removing hydrogen atom without neighbors\n",
      "[20:48:42] WARNING: not removing hydrogen atom without neighbors\n",
      "[20:48:42] WARNING: not removing hydrogen atom without neighbors\n",
      "[20:48:42] WARNING: not removing hydrogen atom without neighbors\n",
      "[20:48:42] WARNING: not removing hydrogen atom without neighbors\n",
      "[20:48:42] WARNING: not removing hydrogen atom without neighbors\n",
      "[20:48:42] WARNING: not removing hydrogen atom without neighbors\n",
      "[20:48:42] WARNING: not removing hydrogen atom without neighbors\n",
      "[20:48:42] WARNING: not removing hydrogen atom without neighbors\n",
      "[20:48:42] WARNING: not removing hydrogen atom without neighbors\n",
      "[20:48:42] WARNING: not removing hydrogen atom without neighbors\n",
      "[20:48:42] WARNING: not removing hydrogen atom without neighbors\n",
      "[20:48:42] WARNING: not removing hydrogen atom without neighbors\n",
      "[20:48:42] WARNING: not removing hydrogen atom without neighbors\n",
      "[20:48:42] WARNING: not removing hydrogen atom without neighbors\n",
      "[20:48:42] WARNING: not removing hydrogen atom without neighbors\n",
      "[20:48:42] WARNING: not removing hydrogen atom without neighbors\n",
      "[20:48:42] WARNING: not removing hydrogen atom without neighbors\n",
      "[20:48:42] WARNING: not removing hydrogen atom without neighbors\n",
      "[20:48:42] WARNING: not removing hydrogen atom without neighbors\n",
      "[20:48:42] WARNING: not removing hydrogen atom without neighbors\n",
      "[20:48:42] WARNING: not removing hydrogen atom without neighbors\n",
      "[20:48:42] WARNING: not removing hydrogen atom without neighbors\n",
      "[20:48:42] WARNING: not removing hydrogen atom without neighbors\n",
      "[20:48:42] WARNING: not removing hydrogen atom without neighbors\n",
      "[20:48:42] WARNING: not removing hydrogen atom without neighbors\n",
      "[20:48:42] WARNING: not removing hydrogen atom without neighbors\n",
      "[20:48:42] WARNING: not removing hydrogen atom without neighbors\n",
      "[20:48:42] WARNING: not removing hydrogen atom without neighbors\n",
      "[20:48:42] WARNING: not removing hydrogen atom without neighbors\n",
      "[20:48:42] WARNING: not removing hydrogen atom without neighbors\n",
      "[20:48:42] WARNING: not removing hydrogen atom without neighbors\n",
      "[20:48:42] WARNING: not removing hydrogen atom without neighbors\n",
      "[20:48:42] WARNING: not removing hydrogen atom without neighbors\n",
      "[20:48:42] WARNING: not removing hydrogen atom without neighbors\n",
      "[20:48:42] WARNING: not removing hydrogen atom without neighbors\n",
      "[20:48:42] WARNING: not removing hydrogen atom without neighbors\n",
      "[20:48:42] WARNING: not removing hydrogen atom without neighbors\n",
      "[20:48:42] WARNING: not removing hydrogen atom without neighbors\n",
      "[20:48:42] WARNING: not removing hydrogen atom without neighbors\n",
      "[20:48:42] WARNING: not removing hydrogen atom without neighbors\n",
      "[20:48:42] WARNING: not removing hydrogen atom without neighbors\n",
      "[20:48:42] WARNING: not removing hydrogen atom without neighbors\n",
      "[20:48:43] WARNING: not removing hydrogen atom without neighbors\n",
      "[20:48:43] Can't kekulize mol.  Unkekulized atoms: 14 15 16 17 18\n",
      "[20:48:44] WARNING: not removing hydrogen atom without neighbors\n",
      "[20:48:44] WARNING: not removing hydrogen atom without neighbors\n",
      "[20:48:44] WARNING: not removing hydrogen atom without neighbors\n"
     ]
    }
   ],
   "source": [
    "for i, df in enumerate(model_dfs):\n",
    "\n",
    "    smiles_list = df['SMILES'].to_list()\n",
    "\n",
    "    valid_smiles = []\n",
    "    invalid_smiles = []\n",
    "\n",
    "    for smiles in smiles_list:\n",
    "        \n",
    "        try:\n",
    "            molecule = Chem.MolFromSmiles(smiles, sanitize=True)\n",
    "            if molecule is not None:\n",
    "                valid_smiles.append(True)\n",
    "            else:\n",
    "                valid_smiles.append(False)\n",
    "        except Exception as e:\n",
    "            invalid_smiles.append(smiles)\n",
    "        \n",
    "    model_dfs[i] = df[valid_smiles]"
   ]
  },
  {
   "cell_type": "code",
   "execution_count": 13,
   "metadata": {},
   "outputs": [
    {
     "data": {
      "text/plain": [
       "9999"
      ]
     },
     "execution_count": 13,
     "metadata": {},
     "output_type": "execute_result"
    }
   ],
   "source": [
    "len(model_dfs[3])"
   ]
  },
  {
   "cell_type": "markdown",
   "metadata": {},
   "source": [
    "## Filtering"
   ]
  },
  {
   "cell_type": "code",
   "execution_count": 14,
   "metadata": {},
   "outputs": [],
   "source": [
    "d = {'reinvent' : np.zeros(9),\n",
    "     'crem' : np.zeros(9),\n",
    "     'coati' : np.zeros(9),\n",
    "     'safe' : np.zeros(9)}\n",
    "\n",
    "scores = pd.DataFrame(data = d, index = ['valid', 'duplicates', 'good rings', 'chemical stability', 'scaffold novelty', 'skeleton novelty', \"Lilly_chem\", \"filters_NIBR\", \"rule_of_five\"])"
   ]
  },
  {
   "cell_type": "markdown",
   "metadata": {},
   "source": [
    "### Filter #1: Invalid SMILES strings"
   ]
  },
  {
   "cell_type": "code",
   "execution_count": 15,
   "metadata": {},
   "outputs": [],
   "source": [
    "def num_valid(df):\n",
    "\n",
    "    size = len(df)\n",
    "    count = 0\n",
    "\n",
    "    for smi in df.SMILES:\n",
    "\n",
    "        mol = Chem.MolFromSmiles(smi)\n",
    "\n",
    "        if mol is not None:\n",
    "            count += 1\n",
    "\n",
    "    return count / size"
   ]
  },
  {
   "cell_type": "code",
   "execution_count": 16,
   "metadata": {},
   "outputs": [
    {
     "name": "stderr",
     "output_type": "stream",
     "text": [
      "[20:48:46] WARNING: not removing hydrogen atom without neighbors\n",
      "[20:48:46] WARNING: not removing hydrogen atom without neighbors\n",
      "[20:48:46] WARNING: not removing hydrogen atom without neighbors\n",
      "[20:48:46] WARNING: not removing hydrogen atom without neighbors\n",
      "[20:48:46] WARNING: not removing hydrogen atom without neighbors\n",
      "[20:48:46] WARNING: not removing hydrogen atom without neighbors\n",
      "[20:48:46] WARNING: not removing hydrogen atom without neighbors\n",
      "[20:48:46] WARNING: not removing hydrogen atom without neighbors\n",
      "[20:48:46] WARNING: not removing hydrogen atom without neighbors\n",
      "[20:48:46] WARNING: not removing hydrogen atom without neighbors\n",
      "[20:48:46] WARNING: not removing hydrogen atom without neighbors\n",
      "[20:48:46] WARNING: not removing hydrogen atom without neighbors\n",
      "[20:48:46] WARNING: not removing hydrogen atom without neighbors\n",
      "[20:48:46] WARNING: not removing hydrogen atom without neighbors\n",
      "[20:48:46] WARNING: not removing hydrogen atom without neighbors\n",
      "[20:48:46] WARNING: not removing hydrogen atom without neighbors\n",
      "[20:48:46] WARNING: not removing hydrogen atom without neighbors\n",
      "[20:48:46] WARNING: not removing hydrogen atom without neighbors\n",
      "[20:48:46] WARNING: not removing hydrogen atom without neighbors\n",
      "[20:48:46] WARNING: not removing hydrogen atom without neighbors\n",
      "[20:48:46] WARNING: not removing hydrogen atom without neighbors\n",
      "[20:48:46] WARNING: not removing hydrogen atom without neighbors\n",
      "[20:48:46] WARNING: not removing hydrogen atom without neighbors\n",
      "[20:48:46] WARNING: not removing hydrogen atom without neighbors\n",
      "[20:48:46] WARNING: not removing hydrogen atom without neighbors\n",
      "[20:48:46] WARNING: not removing hydrogen atom without neighbors\n",
      "[20:48:46] WARNING: not removing hydrogen atom without neighbors\n",
      "[20:48:46] WARNING: not removing hydrogen atom without neighbors\n",
      "[20:48:46] WARNING: not removing hydrogen atom without neighbors\n",
      "[20:48:46] WARNING: not removing hydrogen atom without neighbors\n",
      "[20:48:46] WARNING: not removing hydrogen atom without neighbors\n",
      "[20:48:46] WARNING: not removing hydrogen atom without neighbors\n",
      "[20:48:46] WARNING: not removing hydrogen atom without neighbors\n",
      "[20:48:46] WARNING: not removing hydrogen atom without neighbors\n",
      "[20:48:46] WARNING: not removing hydrogen atom without neighbors\n",
      "[20:48:46] WARNING: not removing hydrogen atom without neighbors\n",
      "[20:48:46] WARNING: not removing hydrogen atom without neighbors\n",
      "[20:48:46] WARNING: not removing hydrogen atom without neighbors\n",
      "[20:48:46] WARNING: not removing hydrogen atom without neighbors\n",
      "[20:48:46] WARNING: not removing hydrogen atom without neighbors\n",
      "[20:48:46] WARNING: not removing hydrogen atom without neighbors\n",
      "[20:48:46] WARNING: not removing hydrogen atom without neighbors\n",
      "[20:48:46] WARNING: not removing hydrogen atom without neighbors\n",
      "[20:48:46] WARNING: not removing hydrogen atom without neighbors\n",
      "[20:48:46] WARNING: not removing hydrogen atom without neighbors\n",
      "[20:48:46] WARNING: not removing hydrogen atom without neighbors\n",
      "[20:48:46] WARNING: not removing hydrogen atom without neighbors\n",
      "[20:48:46] WARNING: not removing hydrogen atom without neighbors\n",
      "[20:48:46] WARNING: not removing hydrogen atom without neighbors\n",
      "[20:48:46] WARNING: not removing hydrogen atom without neighbors\n",
      "[20:48:46] WARNING: not removing hydrogen atom without neighbors\n",
      "[20:48:46] WARNING: not removing hydrogen atom without neighbors\n",
      "[20:48:46] WARNING: not removing hydrogen atom without neighbors\n",
      "[20:48:46] WARNING: not removing hydrogen atom without neighbors\n",
      "[20:48:46] WARNING: not removing hydrogen atom without neighbors\n",
      "[20:48:46] WARNING: not removing hydrogen atom without neighbors\n",
      "[20:48:46] WARNING: not removing hydrogen atom without neighbors\n",
      "[20:48:46] WARNING: not removing hydrogen atom without neighbors\n",
      "[20:48:46] WARNING: not removing hydrogen atom without neighbors\n",
      "[20:48:46] WARNING: not removing hydrogen atom without neighbors\n",
      "[20:48:46] WARNING: not removing hydrogen atom without neighbors\n",
      "[20:48:46] WARNING: not removing hydrogen atom without neighbors\n",
      "[20:48:46] WARNING: not removing hydrogen atom without neighbors\n",
      "[20:48:46] WARNING: not removing hydrogen atom without neighbors\n",
      "[20:48:46] WARNING: not removing hydrogen atom without neighbors\n",
      "[20:48:46] WARNING: not removing hydrogen atom without neighbors\n",
      "[20:48:46] WARNING: not removing hydrogen atom without neighbors\n",
      "[20:48:46] WARNING: not removing hydrogen atom without neighbors\n",
      "[20:48:46] WARNING: not removing hydrogen atom without neighbors\n",
      "[20:48:46] WARNING: not removing hydrogen atom without neighbors\n",
      "[20:48:46] WARNING: not removing hydrogen atom without neighbors\n",
      "[20:48:46] WARNING: not removing hydrogen atom without neighbors\n",
      "[20:48:46] WARNING: not removing hydrogen atom without neighbors\n",
      "[20:48:46] WARNING: not removing hydrogen atom without neighbors\n",
      "[20:48:46] WARNING: not removing hydrogen atom without neighbors\n",
      "[20:48:46] WARNING: not removing hydrogen atom without neighbors\n",
      "[20:48:46] WARNING: not removing hydrogen atom without neighbors\n",
      "[20:48:46] WARNING: not removing hydrogen atom without neighbors\n",
      "[20:48:46] WARNING: not removing hydrogen atom without neighbors\n",
      "[20:48:46] WARNING: not removing hydrogen atom without neighbors\n",
      "[20:48:46] WARNING: not removing hydrogen atom without neighbors\n",
      "[20:48:46] WARNING: not removing hydrogen atom without neighbors\n",
      "[20:48:46] WARNING: not removing hydrogen atom without neighbors\n",
      "[20:48:46] WARNING: not removing hydrogen atom without neighbors\n",
      "[20:48:46] WARNING: not removing hydrogen atom without neighbors\n",
      "[20:48:46] WARNING: not removing hydrogen atom without neighbors\n",
      "[20:48:46] WARNING: not removing hydrogen atom without neighbors\n",
      "[20:48:46] WARNING: not removing hydrogen atom without neighbors\n",
      "[20:48:46] WARNING: not removing hydrogen atom without neighbors\n",
      "[20:48:46] WARNING: not removing hydrogen atom without neighbors\n",
      "[20:48:47] WARNING: not removing hydrogen atom without neighbors\n",
      "[20:48:47] WARNING: not removing hydrogen atom without neighbors\n",
      "[20:48:47] WARNING: not removing hydrogen atom without neighbors\n",
      "[20:48:47] WARNING: not removing hydrogen atom without neighbors\n"
     ]
    }
   ],
   "source": [
    "for model, df in zip(models, model_dfs):\n",
    "\n",
    "    scores[model]['valid'] = num_valid(df)"
   ]
  },
  {
   "cell_type": "code",
   "execution_count": 17,
   "metadata": {},
   "outputs": [
    {
     "data": {
      "text/html": [
       "<div>\n",
       "<style scoped>\n",
       "    .dataframe tbody tr th:only-of-type {\n",
       "        vertical-align: middle;\n",
       "    }\n",
       "\n",
       "    .dataframe tbody tr th {\n",
       "        vertical-align: top;\n",
       "    }\n",
       "\n",
       "    .dataframe thead th {\n",
       "        text-align: right;\n",
       "    }\n",
       "</style>\n",
       "<table border=\"1\" class=\"dataframe\">\n",
       "  <thead>\n",
       "    <tr style=\"text-align: right;\">\n",
       "      <th></th>\n",
       "      <th>reinvent</th>\n",
       "      <th>crem</th>\n",
       "      <th>coati</th>\n",
       "      <th>safe</th>\n",
       "    </tr>\n",
       "  </thead>\n",
       "  <tbody>\n",
       "    <tr>\n",
       "      <th>valid</th>\n",
       "      <td>1.00</td>\n",
       "      <td>1.00</td>\n",
       "      <td>1.00</td>\n",
       "      <td>1.00</td>\n",
       "    </tr>\n",
       "    <tr>\n",
       "      <th>duplicates</th>\n",
       "      <td>0.00</td>\n",
       "      <td>0.00</td>\n",
       "      <td>0.00</td>\n",
       "      <td>0.00</td>\n",
       "    </tr>\n",
       "    <tr>\n",
       "      <th>good rings</th>\n",
       "      <td>0.00</td>\n",
       "      <td>0.00</td>\n",
       "      <td>0.00</td>\n",
       "      <td>0.00</td>\n",
       "    </tr>\n",
       "    <tr>\n",
       "      <th>chemical stability</th>\n",
       "      <td>0.00</td>\n",
       "      <td>0.00</td>\n",
       "      <td>0.00</td>\n",
       "      <td>0.00</td>\n",
       "    </tr>\n",
       "    <tr>\n",
       "      <th>scaffold novelty</th>\n",
       "      <td>0.00</td>\n",
       "      <td>0.00</td>\n",
       "      <td>0.00</td>\n",
       "      <td>0.00</td>\n",
       "    </tr>\n",
       "    <tr>\n",
       "      <th>skeleton novelty</th>\n",
       "      <td>0.00</td>\n",
       "      <td>0.00</td>\n",
       "      <td>0.00</td>\n",
       "      <td>0.00</td>\n",
       "    </tr>\n",
       "    <tr>\n",
       "      <th>Lilly_chem</th>\n",
       "      <td>0.00</td>\n",
       "      <td>0.00</td>\n",
       "      <td>0.00</td>\n",
       "      <td>0.00</td>\n",
       "    </tr>\n",
       "    <tr>\n",
       "      <th>filters_NIBR</th>\n",
       "      <td>0.00</td>\n",
       "      <td>0.00</td>\n",
       "      <td>0.00</td>\n",
       "      <td>0.00</td>\n",
       "    </tr>\n",
       "    <tr>\n",
       "      <th>rule_of_five</th>\n",
       "      <td>0.00</td>\n",
       "      <td>0.00</td>\n",
       "      <td>0.00</td>\n",
       "      <td>0.00</td>\n",
       "    </tr>\n",
       "  </tbody>\n",
       "</table>\n",
       "</div>"
      ],
      "text/plain": [
       "                    reinvent  crem  coati  safe\n",
       "valid                   1.00  1.00   1.00  1.00\n",
       "duplicates              0.00  0.00   0.00  0.00\n",
       "good rings              0.00  0.00   0.00  0.00\n",
       "chemical stability      0.00  0.00   0.00  0.00\n",
       "scaffold novelty        0.00  0.00   0.00  0.00\n",
       "skeleton novelty        0.00  0.00   0.00  0.00\n",
       "Lilly_chem              0.00  0.00   0.00  0.00\n",
       "filters_NIBR            0.00  0.00   0.00  0.00\n",
       "rule_of_five            0.00  0.00   0.00  0.00"
      ]
     },
     "execution_count": 17,
     "metadata": {},
     "output_type": "execute_result"
    }
   ],
   "source": [
    "scores"
   ]
  },
  {
   "cell_type": "markdown",
   "metadata": {},
   "source": [
    "### Filter #2: Duplicates"
   ]
  },
  {
   "cell_type": "code",
   "execution_count": 18,
   "metadata": {},
   "outputs": [],
   "source": [
    "safe_df = model_dfs[3]"
   ]
  },
  {
   "cell_type": "code",
   "execution_count": 19,
   "metadata": {},
   "outputs": [
    {
     "data": {
      "text/html": [
       "<div>\n",
       "<style scoped>\n",
       "    .dataframe tbody tr th:only-of-type {\n",
       "        vertical-align: middle;\n",
       "    }\n",
       "\n",
       "    .dataframe tbody tr th {\n",
       "        vertical-align: top;\n",
       "    }\n",
       "\n",
       "    .dataframe thead th {\n",
       "        text-align: right;\n",
       "    }\n",
       "</style>\n",
       "<table border=\"1\" class=\"dataframe\">\n",
       "  <thead>\n",
       "    <tr style=\"text-align: right;\">\n",
       "      <th></th>\n",
       "      <th>SMILES</th>\n",
       "      <th>Model</th>\n",
       "    </tr>\n",
       "  </thead>\n",
       "  <tbody>\n",
       "    <tr>\n",
       "      <th>361</th>\n",
       "      <td>c1nc(C2CCOCC2)nc2c1CCN2</td>\n",
       "      <td>safe</td>\n",
       "    </tr>\n",
       "    <tr>\n",
       "      <th>73</th>\n",
       "      <td>c1nc(N2CCC2)nc2c1CCN2</td>\n",
       "      <td>safe</td>\n",
       "    </tr>\n",
       "    <tr>\n",
       "      <th>374</th>\n",
       "      <td>c1nc(-c2nn[nH]n2)nc2c1CCN2</td>\n",
       "      <td>safe</td>\n",
       "    </tr>\n",
       "    <tr>\n",
       "      <th>155</th>\n",
       "      <td>c1nc(SCCN2CCOCC2)nc2c1CCN2</td>\n",
       "      <td>safe</td>\n",
       "    </tr>\n",
       "    <tr>\n",
       "      <th>104</th>\n",
       "      <td>c1nc(N2CCCSCC2)nc2c1CCN2</td>\n",
       "      <td>safe</td>\n",
       "    </tr>\n",
       "    <tr>\n",
       "      <th>...</th>\n",
       "      <td>...</td>\n",
       "      <td>...</td>\n",
       "    </tr>\n",
       "    <tr>\n",
       "      <th>83</th>\n",
       "      <td>CC(C)C(=O)NC(c1nc2ccccc2n1-c1ccccc1)N1CCOCC1</td>\n",
       "      <td>safe</td>\n",
       "    </tr>\n",
       "    <tr>\n",
       "      <th>425</th>\n",
       "      <td>CC(C)C(=O)NC(c1nc2ccccc2n1C1CC1)N1CN(CC(=O)O)c...</td>\n",
       "      <td>safe</td>\n",
       "    </tr>\n",
       "    <tr>\n",
       "      <th>165</th>\n",
       "      <td>CC(C)C(=O)NC(c1cc2ccccc2nn1)c1nc2ccccc2n1CCC(=O)O</td>\n",
       "      <td>safe</td>\n",
       "    </tr>\n",
       "    <tr>\n",
       "      <th>266</th>\n",
       "      <td>CC(C)C(=O)NC(Nc1ccccc1)c1nc2ccccc2n1C1OC(CO)C(...</td>\n",
       "      <td>safe</td>\n",
       "    </tr>\n",
       "    <tr>\n",
       "      <th>199</th>\n",
       "      <td>CC(C)C(=O)NC(C(=O)O)c1nc2ccccc2n1-c1nncs1</td>\n",
       "      <td>safe</td>\n",
       "    </tr>\n",
       "  </tbody>\n",
       "</table>\n",
       "<p>9999 rows × 2 columns</p>\n",
       "</div>"
      ],
      "text/plain": [
       "                                                SMILES Model\n",
       "361                            c1nc(C2CCOCC2)nc2c1CCN2  safe\n",
       "73                               c1nc(N2CCC2)nc2c1CCN2  safe\n",
       "374                         c1nc(-c2nn[nH]n2)nc2c1CCN2  safe\n",
       "155                         c1nc(SCCN2CCOCC2)nc2c1CCN2  safe\n",
       "104                           c1nc(N2CCCSCC2)nc2c1CCN2  safe\n",
       "..                                                 ...   ...\n",
       "83        CC(C)C(=O)NC(c1nc2ccccc2n1-c1ccccc1)N1CCOCC1  safe\n",
       "425  CC(C)C(=O)NC(c1nc2ccccc2n1C1CC1)N1CN(CC(=O)O)c...  safe\n",
       "165  CC(C)C(=O)NC(c1cc2ccccc2nn1)c1nc2ccccc2n1CCC(=O)O  safe\n",
       "266  CC(C)C(=O)NC(Nc1ccccc1)c1nc2ccccc2n1C1OC(CO)C(...  safe\n",
       "199          CC(C)C(=O)NC(C(=O)O)c1nc2ccccc2n1-c1nncs1  safe\n",
       "\n",
       "[9999 rows x 2 columns]"
      ]
     },
     "execution_count": 19,
     "metadata": {},
     "output_type": "execute_result"
    }
   ],
   "source": [
    "safe_df"
   ]
  },
  {
   "cell_type": "code",
   "execution_count": 20,
   "metadata": {},
   "outputs": [
    {
     "name": "stderr",
     "output_type": "stream",
     "text": [
      "[20:48:55] WARNING: not removing hydrogen atom without neighbors\n",
      "[20:48:55] WARNING: not removing hydrogen atom without neighbors\n",
      "[20:48:55] WARNING: not removing hydrogen atom without neighbors\n",
      "[20:48:55] WARNING: not removing hydrogen atom without neighbors\n",
      "[20:48:55] WARNING: not removing hydrogen atom without neighbors\n",
      "[20:48:55] WARNING: not removing hydrogen atom without neighbors\n",
      "[20:48:55] WARNING: not removing hydrogen atom without neighbors\n",
      "[20:48:55] WARNING: not removing hydrogen atom without neighbors\n",
      "[20:48:55] WARNING: not removing hydrogen atom without neighbors\n",
      "[20:48:55] WARNING: not removing hydrogen atom without neighbors\n",
      "[20:48:55] WARNING: not removing hydrogen atom without neighbors\n",
      "[20:48:55] WARNING: not removing hydrogen atom without neighbors\n",
      "[20:48:55] WARNING: not removing hydrogen atom without neighbors\n",
      "[20:48:55] WARNING: not removing hydrogen atom without neighbors\n",
      "[20:48:55] WARNING: not removing hydrogen atom without neighbors\n",
      "[20:48:55] WARNING: not removing hydrogen atom without neighbors\n",
      "[20:48:55] WARNING: not removing hydrogen atom without neighbors\n",
      "[20:48:55] WARNING: not removing hydrogen atom without neighbors\n",
      "[20:48:55] WARNING: not removing hydrogen atom without neighbors\n",
      "[20:48:55] WARNING: not removing hydrogen atom without neighbors\n",
      "[20:48:55] WARNING: not removing hydrogen atom without neighbors\n",
      "[20:48:55] WARNING: not removing hydrogen atom without neighbors\n",
      "[20:48:55] WARNING: not removing hydrogen atom without neighbors\n",
      "[20:48:55] WARNING: not removing hydrogen atom without neighbors\n",
      "[20:48:55] WARNING: not removing hydrogen atom without neighbors\n",
      "[20:48:55] WARNING: not removing hydrogen atom without neighbors\n",
      "[20:48:55] WARNING: not removing hydrogen atom without neighbors\n",
      "[20:48:55] WARNING: not removing hydrogen atom without neighbors\n",
      "[20:48:55] WARNING: not removing hydrogen atom without neighbors\n",
      "[20:48:55] WARNING: not removing hydrogen atom without neighbors\n",
      "[20:48:55] WARNING: not removing hydrogen atom without neighbors\n",
      "[20:48:55] WARNING: not removing hydrogen atom without neighbors\n",
      "[20:48:55] WARNING: not removing hydrogen atom without neighbors\n",
      "[20:48:55] WARNING: not removing hydrogen atom without neighbors\n",
      "[20:48:55] WARNING: not removing hydrogen atom without neighbors\n",
      "[20:48:55] WARNING: not removing hydrogen atom without neighbors\n",
      "[20:48:55] WARNING: not removing hydrogen atom without neighbors\n",
      "[20:48:55] WARNING: not removing hydrogen atom without neighbors\n",
      "[20:48:55] WARNING: not removing hydrogen atom without neighbors\n",
      "[20:48:55] WARNING: not removing hydrogen atom without neighbors\n",
      "[20:48:55] WARNING: not removing hydrogen atom without neighbors\n",
      "[20:48:55] WARNING: not removing hydrogen atom without neighbors\n",
      "[20:48:55] WARNING: not removing hydrogen atom without neighbors\n",
      "[20:48:55] WARNING: not removing hydrogen atom without neighbors\n",
      "[20:48:55] WARNING: not removing hydrogen atom without neighbors\n",
      "[20:48:55] WARNING: not removing hydrogen atom without neighbors\n",
      "[20:48:55] WARNING: not removing hydrogen atom without neighbors\n",
      "[20:48:55] WARNING: not removing hydrogen atom without neighbors\n",
      "[20:48:55] WARNING: not removing hydrogen atom without neighbors\n",
      "[20:48:55] WARNING: not removing hydrogen atom without neighbors\n",
      "[20:48:55] WARNING: not removing hydrogen atom without neighbors\n",
      "[20:48:55] WARNING: not removing hydrogen atom without neighbors\n",
      "[20:48:55] WARNING: not removing hydrogen atom without neighbors\n",
      "[20:48:55] WARNING: not removing hydrogen atom without neighbors\n",
      "[20:48:55] WARNING: not removing hydrogen atom without neighbors\n",
      "[20:48:55] WARNING: not removing hydrogen atom without neighbors\n",
      "[20:48:55] WARNING: not removing hydrogen atom without neighbors\n",
      "[20:48:55] WARNING: not removing hydrogen atom without neighbors\n",
      "[20:48:55] WARNING: not removing hydrogen atom without neighbors\n",
      "[20:48:55] WARNING: not removing hydrogen atom without neighbors\n",
      "[20:48:55] WARNING: not removing hydrogen atom without neighbors\n",
      "[20:48:55] WARNING: not removing hydrogen atom without neighbors\n",
      "[20:48:55] WARNING: not removing hydrogen atom without neighbors\n",
      "[20:48:55] WARNING: not removing hydrogen atom without neighbors\n",
      "[20:48:55] WARNING: not removing hydrogen atom without neighbors\n",
      "[20:48:55] WARNING: not removing hydrogen atom without neighbors\n",
      "[20:48:55] WARNING: not removing hydrogen atom without neighbors\n",
      "[20:48:55] WARNING: not removing hydrogen atom without neighbors\n",
      "[20:48:55] WARNING: not removing hydrogen atom without neighbors\n",
      "[20:48:55] WARNING: not removing hydrogen atom without neighbors\n",
      "[20:48:55] WARNING: not removing hydrogen atom without neighbors\n",
      "[20:48:55] WARNING: not removing hydrogen atom without neighbors\n",
      "[20:48:55] WARNING: not removing hydrogen atom without neighbors\n",
      "[20:48:55] WARNING: not removing hydrogen atom without neighbors\n",
      "[20:48:55] WARNING: not removing hydrogen atom without neighbors\n",
      "[20:48:55] WARNING: not removing hydrogen atom without neighbors\n",
      "[20:48:55] WARNING: not removing hydrogen atom without neighbors\n",
      "[20:48:55] WARNING: not removing hydrogen atom without neighbors\n",
      "[20:48:55] WARNING: not removing hydrogen atom without neighbors\n",
      "[20:48:55] WARNING: not removing hydrogen atom without neighbors\n",
      "[20:48:56] WARNING: not removing hydrogen atom without neighbors\n",
      "[20:48:56] WARNING: not removing hydrogen atom without neighbors\n",
      "[20:48:56] WARNING: not removing hydrogen atom without neighbors\n",
      "[20:48:56] WARNING: not removing hydrogen atom without neighbors\n",
      "[20:48:56] WARNING: not removing hydrogen atom without neighbors\n",
      "[20:48:56] WARNING: not removing hydrogen atom without neighbors\n",
      "[20:48:56] WARNING: not removing hydrogen atom without neighbors\n",
      "[20:48:56] WARNING: not removing hydrogen atom without neighbors\n",
      "[20:48:56] WARNING: not removing hydrogen atom without neighbors\n",
      "[20:48:56] WARNING: not removing hydrogen atom without neighbors\n",
      "[20:48:58] WARNING: not removing hydrogen atom without neighbors\n",
      "[20:48:59] WARNING: not removing hydrogen atom without neighbors\n",
      "[20:48:59] WARNING: not removing hydrogen atom without neighbors\n",
      "[20:48:59] WARNING: not removing hydrogen atom without neighbors\n"
     ]
    }
   ],
   "source": [
    "for i, (model, df) in enumerate(zip(models, model_dfs)):\n",
    "\n",
    "    mols = [Chem.MolFromSmiles(smi) for smi in df.SMILES]\n",
    "\n",
    "    df['ROMol'] = mols\n",
    "\n",
    "    df['inchi'] = df.ROMol.apply(Chem.MolToInchiKey)\n",
    "\n",
    "    duplicates = df.drop_duplicates(subset=\"inchi\")\n",
    "\n",
    "    scores[model]['duplicates'] = len(duplicates) / len(df)\n",
    "\n",
    "    df.drop_duplicates(subset=\"inchi\", inplace=True)\n",
    "    \n",
    "    model_dfs[i] = df "
   ]
  },
  {
   "cell_type": "code",
   "execution_count": 21,
   "metadata": {},
   "outputs": [
    {
     "data": {
      "text/html": [
       "<div>\n",
       "<style scoped>\n",
       "    .dataframe tbody tr th:only-of-type {\n",
       "        vertical-align: middle;\n",
       "    }\n",
       "\n",
       "    .dataframe tbody tr th {\n",
       "        vertical-align: top;\n",
       "    }\n",
       "\n",
       "    .dataframe thead th {\n",
       "        text-align: right;\n",
       "    }\n",
       "</style>\n",
       "<table border=\"1\" class=\"dataframe\">\n",
       "  <thead>\n",
       "    <tr style=\"text-align: right;\">\n",
       "      <th></th>\n",
       "      <th>reinvent</th>\n",
       "      <th>crem</th>\n",
       "      <th>coati</th>\n",
       "      <th>safe</th>\n",
       "    </tr>\n",
       "  </thead>\n",
       "  <tbody>\n",
       "    <tr>\n",
       "      <th>valid</th>\n",
       "      <td>1.00</td>\n",
       "      <td>1.00</td>\n",
       "      <td>1.00</td>\n",
       "      <td>1.00</td>\n",
       "    </tr>\n",
       "    <tr>\n",
       "      <th>duplicates</th>\n",
       "      <td>0.91</td>\n",
       "      <td>0.94</td>\n",
       "      <td>0.85</td>\n",
       "      <td>0.80</td>\n",
       "    </tr>\n",
       "    <tr>\n",
       "      <th>good rings</th>\n",
       "      <td>0.00</td>\n",
       "      <td>0.00</td>\n",
       "      <td>0.00</td>\n",
       "      <td>0.00</td>\n",
       "    </tr>\n",
       "    <tr>\n",
       "      <th>chemical stability</th>\n",
       "      <td>0.00</td>\n",
       "      <td>0.00</td>\n",
       "      <td>0.00</td>\n",
       "      <td>0.00</td>\n",
       "    </tr>\n",
       "    <tr>\n",
       "      <th>scaffold novelty</th>\n",
       "      <td>0.00</td>\n",
       "      <td>0.00</td>\n",
       "      <td>0.00</td>\n",
       "      <td>0.00</td>\n",
       "    </tr>\n",
       "    <tr>\n",
       "      <th>skeleton novelty</th>\n",
       "      <td>0.00</td>\n",
       "      <td>0.00</td>\n",
       "      <td>0.00</td>\n",
       "      <td>0.00</td>\n",
       "    </tr>\n",
       "    <tr>\n",
       "      <th>Lilly_chem</th>\n",
       "      <td>0.00</td>\n",
       "      <td>0.00</td>\n",
       "      <td>0.00</td>\n",
       "      <td>0.00</td>\n",
       "    </tr>\n",
       "    <tr>\n",
       "      <th>filters_NIBR</th>\n",
       "      <td>0.00</td>\n",
       "      <td>0.00</td>\n",
       "      <td>0.00</td>\n",
       "      <td>0.00</td>\n",
       "    </tr>\n",
       "    <tr>\n",
       "      <th>rule_of_five</th>\n",
       "      <td>0.00</td>\n",
       "      <td>0.00</td>\n",
       "      <td>0.00</td>\n",
       "      <td>0.00</td>\n",
       "    </tr>\n",
       "  </tbody>\n",
       "</table>\n",
       "</div>"
      ],
      "text/plain": [
       "                    reinvent  crem  coati  safe\n",
       "valid                   1.00  1.00   1.00  1.00\n",
       "duplicates              0.91  0.94   0.85  0.80\n",
       "good rings              0.00  0.00   0.00  0.00\n",
       "chemical stability      0.00  0.00   0.00  0.00\n",
       "scaffold novelty        0.00  0.00   0.00  0.00\n",
       "skeleton novelty        0.00  0.00   0.00  0.00\n",
       "Lilly_chem              0.00  0.00   0.00  0.00\n",
       "filters_NIBR            0.00  0.00   0.00  0.00\n",
       "rule_of_five            0.00  0.00   0.00  0.00"
      ]
     },
     "execution_count": 21,
     "metadata": {},
     "output_type": "execute_result"
    }
   ],
   "source": [
    "scores"
   ]
  },
  {
   "cell_type": "markdown",
   "metadata": {},
   "source": [
    "### Filter #3: Odd ring systems"
   ]
  },
  {
   "cell_type": "code",
   "execution_count": 22,
   "metadata": {},
   "outputs": [],
   "source": [
    "def number_odd_rings(df):\n",
    "\n",
    "    ring_system_lookup = uru.RingSystemLookup.default()\n",
    "    df['ring_systems'] = df.SMILES.apply(ring_system_lookup.process_smiles)\n",
    "    df[['min_ring','min_freq']] = df.ring_systems.apply(uru.get_min_ring_frequency).to_list()\n",
    "    good_rings = df.query('min_freq > 100').copy()\n",
    "\n",
    "    return len(good_rings) / len(df)"
   ]
  },
  {
   "cell_type": "code",
   "execution_count": 23,
   "metadata": {},
   "outputs": [
    {
     "name": "stderr",
     "output_type": "stream",
     "text": [
      "[20:49:22] WARNING: not removing hydrogen atom without neighbors\n",
      "[20:49:22] WARNING: not removing hydrogen atom without neighbors\n",
      "[20:49:22] WARNING: not removing hydrogen atom without neighbors\n",
      "[20:49:22] WARNING: not removing hydrogen atom without neighbors\n",
      "[20:49:22] WARNING: not removing hydrogen atom without neighbors\n",
      "[20:49:22] WARNING: not removing hydrogen atom without neighbors\n",
      "[20:49:22] WARNING: not removing hydrogen atom without neighbors\n",
      "[20:49:22] WARNING: not removing hydrogen atom without neighbors\n",
      "[20:49:22] WARNING: not removing hydrogen atom without neighbors\n",
      "[20:49:22] WARNING: not removing hydrogen atom without neighbors\n",
      "[20:49:22] WARNING: not removing hydrogen atom without neighbors\n",
      "[20:49:22] WARNING: not removing hydrogen atom without neighbors\n",
      "[20:49:22] WARNING: not removing hydrogen atom without neighbors\n",
      "[20:49:22] WARNING: not removing hydrogen atom without neighbors\n",
      "[20:49:22] WARNING: not removing hydrogen atom without neighbors\n",
      "[20:49:22] WARNING: not removing hydrogen atom without neighbors\n",
      "[20:49:22] WARNING: not removing hydrogen atom without neighbors\n",
      "[20:49:22] WARNING: not removing hydrogen atom without neighbors\n",
      "[20:49:22] WARNING: not removing hydrogen atom without neighbors\n",
      "[20:49:22] WARNING: not removing hydrogen atom without neighbors\n",
      "[20:49:22] WARNING: not removing hydrogen atom without neighbors\n",
      "[20:49:22] WARNING: not removing hydrogen atom without neighbors\n",
      "[20:49:22] WARNING: not removing hydrogen atom without neighbors\n",
      "[20:49:22] WARNING: not removing hydrogen atom without neighbors\n",
      "[20:49:22] WARNING: not removing hydrogen atom without neighbors\n",
      "[20:49:22] WARNING: not removing hydrogen atom without neighbors\n",
      "[20:49:22] WARNING: not removing hydrogen atom without neighbors\n",
      "[20:49:22] WARNING: not removing hydrogen atom without neighbors\n",
      "[20:49:22] WARNING: not removing hydrogen atom without neighbors\n",
      "[20:49:22] WARNING: not removing hydrogen atom without neighbors\n",
      "[20:49:22] WARNING: not removing hydrogen atom without neighbors\n",
      "[20:49:22] WARNING: not removing hydrogen atom without neighbors\n",
      "[20:49:22] WARNING: not removing hydrogen atom without neighbors\n",
      "[20:49:22] WARNING: not removing hydrogen atom without neighbors\n",
      "[20:49:22] WARNING: not removing hydrogen atom without neighbors\n",
      "[20:49:23] WARNING: not removing hydrogen atom without neighbors\n",
      "[20:49:23] WARNING: not removing hydrogen atom without neighbors\n",
      "[20:49:23] WARNING: not removing hydrogen atom without neighbors\n",
      "[20:49:23] WARNING: not removing hydrogen atom without neighbors\n",
      "[20:49:23] WARNING: not removing hydrogen atom without neighbors\n",
      "[20:49:23] WARNING: not removing hydrogen atom without neighbors\n",
      "[20:49:23] WARNING: not removing hydrogen atom without neighbors\n",
      "[20:49:23] WARNING: not removing hydrogen atom without neighbors\n",
      "[20:49:23] WARNING: not removing hydrogen atom without neighbors\n",
      "[20:49:23] WARNING: not removing hydrogen atom without neighbors\n",
      "[20:49:23] WARNING: not removing hydrogen atom without neighbors\n",
      "[20:49:24] WARNING: not removing hydrogen atom without neighbors\n",
      "[20:49:24] WARNING: not removing hydrogen atom without neighbors\n",
      "[20:49:24] WARNING: not removing hydrogen atom without neighbors\n",
      "[20:49:24] WARNING: not removing hydrogen atom without neighbors\n",
      "[20:49:24] WARNING: not removing hydrogen atom without neighbors\n",
      "[20:49:24] WARNING: not removing hydrogen atom without neighbors\n",
      "[20:49:24] WARNING: not removing hydrogen atom without neighbors\n",
      "[20:49:24] WARNING: not removing hydrogen atom without neighbors\n",
      "[20:49:26] WARNING: not removing hydrogen atom without neighbors\n",
      "[20:49:26] WARNING: not removing hydrogen atom without neighbors\n",
      "[20:49:26] WARNING: not removing hydrogen atom without neighbors\n",
      "[20:49:27] WARNING: not removing hydrogen atom without neighbors\n",
      "[20:49:27] WARNING: not removing hydrogen atom without neighbors\n",
      "[20:49:27] WARNING: not removing hydrogen atom without neighbors\n",
      "[20:49:27] WARNING: not removing hydrogen atom without neighbors\n",
      "[20:49:27] WARNING: not removing hydrogen atom without neighbors\n",
      "[20:49:32] WARNING: not removing hydrogen atom without neighbors\n",
      "[20:49:39] WARNING: not removing hydrogen atom without neighbors\n",
      "[20:49:39] WARNING: not removing hydrogen atom without neighbors\n",
      "[20:49:39] WARNING: not removing hydrogen atom without neighbors\n"
     ]
    }
   ],
   "source": [
    "for model, df in zip(models, model_dfs):\n",
    "\n",
    "    scores[model]['good rings'] = number_odd_rings(df)"
   ]
  },
  {
   "cell_type": "markdown",
   "metadata": {},
   "source": [
    "0.892\t0.575\t0.692\t0.983333"
   ]
  },
  {
   "cell_type": "code",
   "execution_count": 24,
   "metadata": {},
   "outputs": [
    {
     "data": {
      "text/html": [
       "<div>\n",
       "<style scoped>\n",
       "    .dataframe tbody tr th:only-of-type {\n",
       "        vertical-align: middle;\n",
       "    }\n",
       "\n",
       "    .dataframe tbody tr th {\n",
       "        vertical-align: top;\n",
       "    }\n",
       "\n",
       "    .dataframe thead th {\n",
       "        text-align: right;\n",
       "    }\n",
       "</style>\n",
       "<table border=\"1\" class=\"dataframe\">\n",
       "  <thead>\n",
       "    <tr style=\"text-align: right;\">\n",
       "      <th></th>\n",
       "      <th>reinvent</th>\n",
       "      <th>crem</th>\n",
       "      <th>coati</th>\n",
       "      <th>safe</th>\n",
       "    </tr>\n",
       "  </thead>\n",
       "  <tbody>\n",
       "    <tr>\n",
       "      <th>valid</th>\n",
       "      <td>1.00</td>\n",
       "      <td>1.00</td>\n",
       "      <td>1.00</td>\n",
       "      <td>1.00</td>\n",
       "    </tr>\n",
       "    <tr>\n",
       "      <th>duplicates</th>\n",
       "      <td>0.91</td>\n",
       "      <td>0.94</td>\n",
       "      <td>0.85</td>\n",
       "      <td>0.80</td>\n",
       "    </tr>\n",
       "    <tr>\n",
       "      <th>good rings</th>\n",
       "      <td>0.96</td>\n",
       "      <td>0.86</td>\n",
       "      <td>0.82</td>\n",
       "      <td>0.91</td>\n",
       "    </tr>\n",
       "    <tr>\n",
       "      <th>chemical stability</th>\n",
       "      <td>0.00</td>\n",
       "      <td>0.00</td>\n",
       "      <td>0.00</td>\n",
       "      <td>0.00</td>\n",
       "    </tr>\n",
       "    <tr>\n",
       "      <th>scaffold novelty</th>\n",
       "      <td>0.00</td>\n",
       "      <td>0.00</td>\n",
       "      <td>0.00</td>\n",
       "      <td>0.00</td>\n",
       "    </tr>\n",
       "    <tr>\n",
       "      <th>skeleton novelty</th>\n",
       "      <td>0.00</td>\n",
       "      <td>0.00</td>\n",
       "      <td>0.00</td>\n",
       "      <td>0.00</td>\n",
       "    </tr>\n",
       "    <tr>\n",
       "      <th>Lilly_chem</th>\n",
       "      <td>0.00</td>\n",
       "      <td>0.00</td>\n",
       "      <td>0.00</td>\n",
       "      <td>0.00</td>\n",
       "    </tr>\n",
       "    <tr>\n",
       "      <th>filters_NIBR</th>\n",
       "      <td>0.00</td>\n",
       "      <td>0.00</td>\n",
       "      <td>0.00</td>\n",
       "      <td>0.00</td>\n",
       "    </tr>\n",
       "    <tr>\n",
       "      <th>rule_of_five</th>\n",
       "      <td>0.00</td>\n",
       "      <td>0.00</td>\n",
       "      <td>0.00</td>\n",
       "      <td>0.00</td>\n",
       "    </tr>\n",
       "  </tbody>\n",
       "</table>\n",
       "</div>"
      ],
      "text/plain": [
       "                    reinvent  crem  coati  safe\n",
       "valid                   1.00  1.00   1.00  1.00\n",
       "duplicates              0.91  0.94   0.85  0.80\n",
       "good rings              0.96  0.86   0.82  0.91\n",
       "chemical stability      0.00  0.00   0.00  0.00\n",
       "scaffold novelty        0.00  0.00   0.00  0.00\n",
       "skeleton novelty        0.00  0.00   0.00  0.00\n",
       "Lilly_chem              0.00  0.00   0.00  0.00\n",
       "filters_NIBR            0.00  0.00   0.00  0.00\n",
       "rule_of_five            0.00  0.00   0.00  0.00"
      ]
     },
     "execution_count": 24,
     "metadata": {},
     "output_type": "execute_result"
    }
   ],
   "source": [
    "scores"
   ]
  },
  {
   "cell_type": "markdown",
   "metadata": {},
   "source": [
    "### Filter #4: Chemical Stability"
   ]
  },
  {
   "cell_type": "code",
   "execution_count": 25,
   "metadata": {},
   "outputs": [],
   "source": [
    "reos = uru.REOS()\n",
    "reos.set_active_rule_sets([\"Dundee\"])"
   ]
  },
  {
   "cell_type": "code",
   "execution_count": 26,
   "metadata": {},
   "outputs": [],
   "source": [
    "def num_stable(df):\n",
    "\n",
    "    temp_df = pd.DataFrame()\n",
    "\n",
    "    temp_df[['rule_set','reos']] = [list(reos.process_mol(x)) for x in df.ROMol]\n",
    "\n",
    "    return uru.value_counts_df(temp_df, \"reos\")['count'].values[0] / len(df)"
   ]
  },
  {
   "cell_type": "code",
   "execution_count": 27,
   "metadata": {},
   "outputs": [],
   "source": [
    "for model, df in zip(models, model_dfs):\n",
    "\n",
    "    scores[model]['chemical stability'] = num_stable(df)"
   ]
  },
  {
   "cell_type": "code",
   "execution_count": 28,
   "metadata": {},
   "outputs": [
    {
     "data": {
      "text/html": [
       "<div>\n",
       "<style scoped>\n",
       "    .dataframe tbody tr th:only-of-type {\n",
       "        vertical-align: middle;\n",
       "    }\n",
       "\n",
       "    .dataframe tbody tr th {\n",
       "        vertical-align: top;\n",
       "    }\n",
       "\n",
       "    .dataframe thead th {\n",
       "        text-align: right;\n",
       "    }\n",
       "</style>\n",
       "<table border=\"1\" class=\"dataframe\">\n",
       "  <thead>\n",
       "    <tr style=\"text-align: right;\">\n",
       "      <th></th>\n",
       "      <th>reinvent</th>\n",
       "      <th>crem</th>\n",
       "      <th>coati</th>\n",
       "      <th>safe</th>\n",
       "    </tr>\n",
       "  </thead>\n",
       "  <tbody>\n",
       "    <tr>\n",
       "      <th>valid</th>\n",
       "      <td>1.00</td>\n",
       "      <td>1.00</td>\n",
       "      <td>1.00</td>\n",
       "      <td>1.00</td>\n",
       "    </tr>\n",
       "    <tr>\n",
       "      <th>duplicates</th>\n",
       "      <td>0.91</td>\n",
       "      <td>0.94</td>\n",
       "      <td>0.85</td>\n",
       "      <td>0.80</td>\n",
       "    </tr>\n",
       "    <tr>\n",
       "      <th>good rings</th>\n",
       "      <td>0.96</td>\n",
       "      <td>0.86</td>\n",
       "      <td>0.82</td>\n",
       "      <td>0.91</td>\n",
       "    </tr>\n",
       "    <tr>\n",
       "      <th>chemical stability</th>\n",
       "      <td>0.81</td>\n",
       "      <td>0.53</td>\n",
       "      <td>0.73</td>\n",
       "      <td>0.44</td>\n",
       "    </tr>\n",
       "    <tr>\n",
       "      <th>scaffold novelty</th>\n",
       "      <td>0.00</td>\n",
       "      <td>0.00</td>\n",
       "      <td>0.00</td>\n",
       "      <td>0.00</td>\n",
       "    </tr>\n",
       "    <tr>\n",
       "      <th>skeleton novelty</th>\n",
       "      <td>0.00</td>\n",
       "      <td>0.00</td>\n",
       "      <td>0.00</td>\n",
       "      <td>0.00</td>\n",
       "    </tr>\n",
       "    <tr>\n",
       "      <th>Lilly_chem</th>\n",
       "      <td>0.00</td>\n",
       "      <td>0.00</td>\n",
       "      <td>0.00</td>\n",
       "      <td>0.00</td>\n",
       "    </tr>\n",
       "    <tr>\n",
       "      <th>filters_NIBR</th>\n",
       "      <td>0.00</td>\n",
       "      <td>0.00</td>\n",
       "      <td>0.00</td>\n",
       "      <td>0.00</td>\n",
       "    </tr>\n",
       "    <tr>\n",
       "      <th>rule_of_five</th>\n",
       "      <td>0.00</td>\n",
       "      <td>0.00</td>\n",
       "      <td>0.00</td>\n",
       "      <td>0.00</td>\n",
       "    </tr>\n",
       "  </tbody>\n",
       "</table>\n",
       "</div>"
      ],
      "text/plain": [
       "                    reinvent  crem  coati  safe\n",
       "valid                   1.00  1.00   1.00  1.00\n",
       "duplicates              0.91  0.94   0.85  0.80\n",
       "good rings              0.96  0.86   0.82  0.91\n",
       "chemical stability      0.81  0.53   0.73  0.44\n",
       "scaffold novelty        0.00  0.00   0.00  0.00\n",
       "skeleton novelty        0.00  0.00   0.00  0.00\n",
       "Lilly_chem              0.00  0.00   0.00  0.00\n",
       "filters_NIBR            0.00  0.00   0.00  0.00\n",
       "rule_of_five            0.00  0.00   0.00  0.00"
      ]
     },
     "execution_count": 28,
     "metadata": {},
     "output_type": "execute_result"
    }
   ],
   "source": [
    "scores"
   ]
  },
  {
   "cell_type": "code",
   "execution_count": 29,
   "metadata": {},
   "outputs": [],
   "source": [
    "\n",
    "from medchem.structural.lilly_demerits import LillyDemeritsFilters"
   ]
  },
  {
   "cell_type": "code",
   "execution_count": 30,
   "metadata": {},
   "outputs": [],
   "source": [
    "#def process_filters(alert: str):\n",
    "    #if not isinstance(alert, str):\n",
    "        #return None\n",
    "    #alerts = alert.split(\",\")\n",
    "    #output = set()\n",
    "    #for alert in alerts:\n",
    "        #if \":\" in alert:\n",
    "            #alert, value = alert.split(\":\")\n",
    "        #output.add(alert)\n",
    "    #return list(output)"
   ]
  },
  {
   "cell_type": "code",
   "execution_count": 31,
   "metadata": {},
   "outputs": [],
   "source": [
    "def process_structural_alerts(df: pd.DataFrame, smiles_column: str):\n",
    "    dfilter = LillyDemeritsFilters()\n",
    "    smiles = df[smiles_column].to_list()\n",
    "    results = dfilter(mols=[Chem.MolFromSmiles(smi) for smi in smiles])\n",
    "    df[\"pass_structure_filter\"] = results[\"pass_filter\"]\n",
    "    df[\"structure_filter_alerts\"] = results[\"reasons\"]\n",
    "    return df"
   ]
  },
  {
   "cell_type": "code",
   "execution_count": 32,
   "metadata": {},
   "outputs": [],
   "source": [
    "#model_dfs = [process_structural_alerts(df, \"SMILES\") for df in model_dfs]"
   ]
  },
  {
   "cell_type": "code",
   "execution_count": 33,
   "metadata": {},
   "outputs": [
    {
     "name": "stderr",
     "output_type": "stream",
     "text": [
      "Failed to find the pandas get_adjustment() function to patch\n",
      "Failed to patch pandas - PandasTools will have limited functionality\n"
     ]
    }
   ],
   "source": [
    "model_dfs[0] = process_structural_alerts(model_dfs[0], \"SMILES\")"
   ]
  },
  {
   "cell_type": "code",
   "execution_count": 34,
   "metadata": {},
   "outputs": [],
   "source": [
    "true_rate = model_dfs[0].pass_structure_filter.sum() / len(model_dfs[0])"
   ]
  },
  {
   "cell_type": "code",
   "execution_count": 35,
   "metadata": {},
   "outputs": [
    {
     "name": "stdout",
     "output_type": "stream",
     "text": [
      "0.9592397275324105\n"
     ]
    }
   ],
   "source": [
    "print(true_rate)"
   ]
  },
  {
   "cell_type": "code",
   "execution_count": 36,
   "metadata": {},
   "outputs": [],
   "source": [
    "from rdkit import Chem\n",
    "from rdkit.Chem import AllChem\n",
    "from rdkit.Chem.Scaffolds import MurckoScaffold\n",
    "from rdkit.DataStructs import BulkTanimotoSimilarity"
   ]
  },
  {
   "cell_type": "code",
   "execution_count": 37,
   "metadata": {},
   "outputs": [],
   "source": [
    "def extract_scaffold(smiles: str):\n",
    "    mol = Chem.MolFromSmiles(smiles)\n",
    "    scaffold = MurckoScaffold.GetScaffoldForMol(mol)\n",
    "    return Chem.MolToSmiles(scaffold)\n",
    "\n",
    "\n",
    "def extract_scaffold_skeleton(smiles: str):\n",
    "    mol = Chem.MolFromSmiles(smiles)\n",
    "    scaffold = MurckoScaffold.MakeScaffoldGeneric(MurckoScaffold.GetScaffoldForMol(mol))\n",
    "    return Chem.MolToSmiles(scaffold)\n",
    "\n"
   ]
  },
  {
   "cell_type": "code",
   "execution_count": 38,
   "metadata": {},
   "outputs": [],
   "source": [
    "def get_scaffold_novelty(df, initial_frags):\n",
    "    intial_scaffold = set([extract_scaffold(frag) for frag in initial_frags])\n",
    "    initial_skeleton = set([extract_scaffold_skeleton(frag) for frag in initial_frags])\n",
    "\n",
    "    model_scaffolds = set(df.SMILES.apply(extract_scaffold))\n",
    "    model_skeletons = set(df.SMILES.apply(extract_scaffold_skeleton))\n",
    "\n",
    "    novel_scaffolds = model_scaffolds - intial_scaffold\n",
    "    novel_skeletons = model_skeletons - initial_skeleton\n",
    "\n",
    "    return len(novel_scaffolds) / len(model_scaffolds), len(novel_skeletons) / len(model_skeletons)\n"
   ]
  },
  {
   "cell_type": "code",
   "execution_count": 39,
   "metadata": {},
   "outputs": [
    {
     "name": "stderr",
     "output_type": "stream",
     "text": [
      "[20:50:29] WARNING: not removing hydrogen atom without neighbors\n",
      "[20:50:29] WARNING: not removing hydrogen atom without neighbors\n",
      "[20:50:29] WARNING: not removing hydrogen atom without neighbors\n",
      "[20:50:29] WARNING: not removing hydrogen atom without neighbors\n",
      "[20:50:29] WARNING: not removing hydrogen atom without neighbors\n",
      "[20:50:29] WARNING: not removing hydrogen atom without neighbors\n",
      "[20:50:29] WARNING: not removing hydrogen atom without neighbors\n",
      "[20:50:29] WARNING: not removing hydrogen atom without neighbors\n",
      "[20:50:29] WARNING: not removing hydrogen atom without neighbors\n",
      "[20:50:29] WARNING: not removing hydrogen atom without neighbors\n",
      "[20:50:29] WARNING: not removing hydrogen atom without neighbors\n",
      "[20:50:29] WARNING: not removing hydrogen atom without neighbors\n",
      "[20:50:29] WARNING: not removing hydrogen atom without neighbors\n",
      "[20:50:29] WARNING: not removing hydrogen atom without neighbors\n",
      "[20:50:29] WARNING: not removing hydrogen atom without neighbors\n",
      "[20:50:29] WARNING: not removing hydrogen atom without neighbors\n",
      "[20:50:29] WARNING: not removing hydrogen atom without neighbors\n",
      "[20:50:29] WARNING: not removing hydrogen atom without neighbors\n",
      "[20:50:29] WARNING: not removing hydrogen atom without neighbors\n",
      "[20:50:29] WARNING: not removing hydrogen atom without neighbors\n",
      "[20:50:29] WARNING: not removing hydrogen atom without neighbors\n",
      "[20:50:29] WARNING: not removing hydrogen atom without neighbors\n",
      "[20:50:29] WARNING: not removing hydrogen atom without neighbors\n",
      "[20:50:29] WARNING: not removing hydrogen atom without neighbors\n",
      "[20:50:29] WARNING: not removing hydrogen atom without neighbors\n",
      "[20:50:29] WARNING: not removing hydrogen atom without neighbors\n",
      "[20:50:29] WARNING: not removing hydrogen atom without neighbors\n",
      "[20:50:29] WARNING: not removing hydrogen atom without neighbors\n",
      "[20:50:29] WARNING: not removing hydrogen atom without neighbors\n",
      "[20:50:29] WARNING: not removing hydrogen atom without neighbors\n",
      "[20:50:29] WARNING: not removing hydrogen atom without neighbors\n",
      "[20:50:29] WARNING: not removing hydrogen atom without neighbors\n",
      "[20:50:29] WARNING: not removing hydrogen atom without neighbors\n",
      "[20:50:29] WARNING: not removing hydrogen atom without neighbors\n",
      "[20:50:29] WARNING: not removing hydrogen atom without neighbors\n",
      "[20:50:29] WARNING: not removing hydrogen atom without neighbors\n",
      "[20:50:29] WARNING: not removing hydrogen atom without neighbors\n",
      "[20:50:30] WARNING: not removing hydrogen atom without neighbors\n",
      "[20:50:30] WARNING: not removing hydrogen atom without neighbors\n",
      "[20:50:30] WARNING: not removing hydrogen atom without neighbors\n",
      "[20:50:30] WARNING: not removing hydrogen atom without neighbors\n",
      "[20:50:30] WARNING: not removing hydrogen atom without neighbors\n",
      "[20:50:30] WARNING: not removing hydrogen atom without neighbors\n",
      "[20:50:30] WARNING: not removing hydrogen atom without neighbors\n",
      "[20:50:30] WARNING: not removing hydrogen atom without neighbors\n",
      "[20:50:30] WARNING: not removing hydrogen atom without neighbors\n",
      "[20:50:30] WARNING: not removing hydrogen atom without neighbors\n",
      "[20:50:30] WARNING: not removing hydrogen atom without neighbors\n",
      "[20:50:30] WARNING: not removing hydrogen atom without neighbors\n",
      "[20:50:30] WARNING: not removing hydrogen atom without neighbors\n",
      "[20:50:30] WARNING: not removing hydrogen atom without neighbors\n",
      "[20:50:30] WARNING: not removing hydrogen atom without neighbors\n",
      "[20:50:30] WARNING: not removing hydrogen atom without neighbors\n",
      "[20:50:30] WARNING: not removing hydrogen atom without neighbors\n",
      "[20:50:30] WARNING: not removing hydrogen atom without neighbors\n",
      "[20:50:30] WARNING: not removing hydrogen atom without neighbors\n",
      "[20:50:30] WARNING: not removing hydrogen atom without neighbors\n",
      "[20:50:30] WARNING: not removing hydrogen atom without neighbors\n",
      "[20:50:30] WARNING: not removing hydrogen atom without neighbors\n",
      "[20:50:30] WARNING: not removing hydrogen atom without neighbors\n",
      "[20:50:30] WARNING: not removing hydrogen atom without neighbors\n",
      "[20:50:30] WARNING: not removing hydrogen atom without neighbors\n",
      "[20:50:30] WARNING: not removing hydrogen atom without neighbors\n",
      "[20:50:30] WARNING: not removing hydrogen atom without neighbors\n",
      "[20:50:30] WARNING: not removing hydrogen atom without neighbors\n",
      "[20:50:30] WARNING: not removing hydrogen atom without neighbors\n",
      "[20:50:30] WARNING: not removing hydrogen atom without neighbors\n",
      "[20:50:30] WARNING: not removing hydrogen atom without neighbors\n",
      "[20:50:30] WARNING: not removing hydrogen atom without neighbors\n",
      "[20:50:30] WARNING: not removing hydrogen atom without neighbors\n",
      "[20:50:30] WARNING: not removing hydrogen atom without neighbors\n",
      "[20:50:30] WARNING: not removing hydrogen atom without neighbors\n",
      "[20:50:30] WARNING: not removing hydrogen atom without neighbors\n",
      "[20:50:30] WARNING: not removing hydrogen atom without neighbors\n",
      "[20:50:30] WARNING: not removing hydrogen atom without neighbors\n",
      "[20:50:30] WARNING: not removing hydrogen atom without neighbors\n",
      "[20:50:30] WARNING: not removing hydrogen atom without neighbors\n",
      "[20:50:30] WARNING: not removing hydrogen atom without neighbors\n",
      "[20:50:30] WARNING: not removing hydrogen atom without neighbors\n",
      "[20:50:30] WARNING: not removing hydrogen atom without neighbors\n",
      "[20:50:30] WARNING: not removing hydrogen atom without neighbors\n",
      "[20:50:31] WARNING: not removing hydrogen atom without neighbors\n",
      "[20:50:31] WARNING: not removing hydrogen atom without neighbors\n",
      "[20:50:31] WARNING: not removing hydrogen atom without neighbors\n",
      "[20:50:31] WARNING: not removing hydrogen atom without neighbors\n",
      "[20:50:31] WARNING: not removing hydrogen atom without neighbors\n",
      "[20:50:31] WARNING: not removing hydrogen atom without neighbors\n",
      "[20:50:31] WARNING: not removing hydrogen atom without neighbors\n",
      "[20:50:31] WARNING: not removing hydrogen atom without neighbors\n",
      "[20:50:31] WARNING: not removing hydrogen atom without neighbors\n",
      "[20:50:31] WARNING: not removing hydrogen atom without neighbors\n",
      "[20:50:31] WARNING: not removing hydrogen atom without neighbors\n",
      "[20:50:31] WARNING: not removing hydrogen atom without neighbors\n",
      "[20:50:31] WARNING: not removing hydrogen atom without neighbors\n",
      "[20:50:31] WARNING: not removing hydrogen atom without neighbors\n",
      "[20:50:31] WARNING: not removing hydrogen atom without neighbors\n",
      "[20:50:31] WARNING: not removing hydrogen atom without neighbors\n",
      "[20:50:31] WARNING: not removing hydrogen atom without neighbors\n",
      "[20:50:31] WARNING: not removing hydrogen atom without neighbors\n",
      "[20:50:31] WARNING: not removing hydrogen atom without neighbors\n",
      "[20:50:31] WARNING: not removing hydrogen atom without neighbors\n",
      "[20:50:31] WARNING: not removing hydrogen atom without neighbors\n",
      "[20:50:31] WARNING: not removing hydrogen atom without neighbors\n",
      "[20:50:31] WARNING: not removing hydrogen atom without neighbors\n",
      "[20:50:31] WARNING: not removing hydrogen atom without neighbors\n",
      "[20:50:31] WARNING: not removing hydrogen atom without neighbors\n",
      "[20:50:31] WARNING: not removing hydrogen atom without neighbors\n",
      "[20:50:31] WARNING: not removing hydrogen atom without neighbors\n",
      "[20:50:31] WARNING: not removing hydrogen atom without neighbors\n",
      "[20:50:31] WARNING: not removing hydrogen atom without neighbors\n",
      "[20:50:31] WARNING: not removing hydrogen atom without neighbors\n",
      "[20:50:31] WARNING: not removing hydrogen atom without neighbors\n",
      "[20:50:31] WARNING: not removing hydrogen atom without neighbors\n",
      "[20:50:31] WARNING: not removing hydrogen atom without neighbors\n",
      "[20:50:31] WARNING: not removing hydrogen atom without neighbors\n",
      "[20:50:31] WARNING: not removing hydrogen atom without neighbors\n",
      "[20:50:32] WARNING: not removing hydrogen atom without neighbors\n",
      "[20:50:32] WARNING: not removing hydrogen atom without neighbors\n",
      "[20:50:32] WARNING: not removing hydrogen atom without neighbors\n",
      "[20:50:32] WARNING: not removing hydrogen atom without neighbors\n",
      "[20:50:32] WARNING: not removing hydrogen atom without neighbors\n",
      "[20:50:32] WARNING: not removing hydrogen atom without neighbors\n",
      "[20:50:32] WARNING: not removing hydrogen atom without neighbors\n",
      "[20:50:32] WARNING: not removing hydrogen atom without neighbors\n",
      "[20:50:33] WARNING: not removing hydrogen atom without neighbors\n",
      "[20:50:35] WARNING: not removing hydrogen atom without neighbors\n",
      "[20:50:35] WARNING: not removing hydrogen atom without neighbors\n",
      "[20:50:35] WARNING: not removing hydrogen atom without neighbors\n",
      "[20:50:37] WARNING: not removing hydrogen atom without neighbors\n",
      "[20:50:40] WARNING: not removing hydrogen atom without neighbors\n",
      "[20:50:40] WARNING: not removing hydrogen atom without neighbors\n",
      "[20:50:40] WARNING: not removing hydrogen atom without neighbors\n"
     ]
    }
   ],
   "source": [
    "for model, df in zip(models, model_dfs):\n",
    "\n",
    "    scaffold_novelty, skeleton_novelty = get_scaffold_novelty(df, fragments)\n",
    "\n",
    "    scores[model]['scaffold novelty'] = scaffold_novelty\n",
    "    scores[model]['skeleton novelty'] = skeleton_novelty"
   ]
  },
  {
   "cell_type": "code",
   "execution_count": 40,
   "metadata": {},
   "outputs": [
    {
     "name": "stdout",
     "output_type": "stream",
     "text": [
      "                    reinvent  crem  coati  safe\n",
      "valid                   1.00  1.00   1.00  1.00\n",
      "duplicates              0.91  0.94   0.85  0.80\n",
      "good rings              0.96  0.86   0.82  0.91\n",
      "chemical stability      0.81  0.53   0.73  0.44\n",
      "scaffold novelty        0.98  0.98   0.99  0.99\n",
      "skeleton novelty        0.96  0.96   0.97  0.99\n",
      "Lilly_chem              0.00  0.00   0.00  0.00\n",
      "filters_NIBR            0.00  0.00   0.00  0.00\n",
      "rule_of_five            0.00  0.00   0.00  0.00\n"
     ]
    }
   ],
   "source": [
    "print(scores)"
   ]
  },
  {
   "cell_type": "code",
   "execution_count": 41,
   "metadata": {},
   "outputs": [],
   "source": [
    "\n",
    "import matplotlib.pyplot as plt\n",
    "import matplotlib.colors\n",
    "import seaborn as sns"
   ]
  },
  {
   "cell_type": "code",
   "execution_count": 42,
   "metadata": {},
   "outputs": [
    {
     "data": {
      "image/png": "[encoded data removed]",
      "text/plain": [
       "<Figure size 1100x400 with 2 Axes>"
      ]
     },
     "metadata": {},
     "output_type": "display_data"
    }
   ],
   "source": [
    "#make bar plot of scaffold novelty and skeleton novelty\n",
    "\n",
    "fig, ax = plt.subplots(1, 2, figsize=(11, 4))\n",
    "ax = ax.flatten()\n",
    "\n",
    "scaffold_novelty = [scores[model]['scaffold novelty'] for model in models]\n",
    "skeleton_novelty = [scores[model]['skeleton novelty'] for model in models]\n",
    "\n",
    "sns.barplot(x=models, y=scaffold_novelty, ax=ax[0])\n",
    "ax[0].set_title('Scaffold Novelty')\n",
    "ax[0].set_ylabel('Fraction of Novel Scaffolds')\n",
    "\n",
    "sns.barplot(x=models, y=skeleton_novelty, ax=ax[1])\n",
    "ax[1].set_title('Skeleton Novelty')\n",
    "ax[1].set_ylabel('Fraction of Novel Skeletons')\n",
    "\n",
    "plt.tight_layout()\n",
    "plt.show()"
   ]
  },
  {
   "cell_type": "code",
   "execution_count": 43,
   "metadata": {},
   "outputs": [],
   "source": [
    "import medchem as mc"
   ]
  },
  {
   "cell_type": "code",
   "execution_count": 44,
   "metadata": {},
   "outputs": [],
   "source": [
    "from rdkit.Chem import PandasTools\n",
    "import datamol as dm"
   ]
  },
  {
   "cell_type": "code",
   "execution_count": null,
   "metadata": {},
   "outputs": [],
   "source": []
  },
  {
   "cell_type": "code",
   "execution_count": 45,
   "metadata": {},
   "outputs": [],
   "source": [
    "model_dfs[0][\"mol\"] = model_dfs[0][\"SMILES\"].apply(dm.to_mol)"
   ]
  },
  {
   "cell_type": "code",
   "execution_count": 46,
   "metadata": {},
   "outputs": [],
   "source": [
    "def process_filters(data):\n",
    "\n",
    "    data[\"rule_of_five\"] = data[\"SMILES\"].apply(mc.rules.basic_rules.rule_of_five)\n",
    "\n",
    "    # Apply some default medchem filters\n",
    "    data[\"alerts_Dundee\"] = mc.functional.alert_filter(\n",
    "        mols=data[\"mol\"].tolist(),\n",
    "        alerts=[\"Dundee\"],\n",
    "        n_jobs=-1,\n",
    "        progress=True,\n",
    "        return_idx=False,\n",
    "    )\n",
    "\n",
    "    data[\"alerts_SureChEMBL\"] = mc.functional.alert_filter(\n",
    "        mols=data[\"mol\"].tolist(),\n",
    "        alerts=[\"SureChEMBL\"],\n",
    "        n_jobs=-1,\n",
    "        progress=True,\n",
    "        return_idx=False,\n",
    "    )\n",
    "\n",
    "    data[\"filters_NIBR\"] = mc.functional.nibr_filter(\n",
    "        mols=data[\"mol\"].tolist(),\n",
    "        n_jobs=-1,\n",
    "        progress=True,\n",
    "        return_idx=False,\n",
    "    )\n",
    "\n",
    "    data[\"filter_molecular_graph\"] = mc.functional.molecular_graph_filter(\n",
    "        mols=data[\"mol\"].tolist(),\n",
    "        max_severity=5,\n",
    "        n_jobs=-1,\n",
    "        progress=True,\n",
    "        return_idx=False,\n",
    "    )\n",
    "\n",
    "    data[\"filter_lilly_demerit\"] = mc.functional.lilly_demerit_filter(\n",
    "        mols=data[\"mol\"].tolist(),\n",
    "        n_jobs=-1,\n",
    "        progress=True,\n",
    "        return_idx=False,\n",
    "    )"
   ]
  },
  {
   "cell_type": "code",
   "execution_count": 47,
   "metadata": {},
   "outputs": [],
   "source": [
    "\n",
    "import matplotlib.pyplot as plt\n",
    "import matplotlib.colors\n",
    "import seaborn as sns"
   ]
  },
  {
   "cell_type": "code",
   "execution_count": 48,
   "metadata": {},
   "outputs": [],
   "source": [
    "def plot_filters(data, model):\n",
    "    filter_columns = [\n",
    "        \"rule_of_five\",\n",
    "        \"alerts_Dundee\",\n",
    "        \"alerts_SureChEMBL\",\n",
    "        \"filters_NIBR\",\n",
    "        \"filter_molecular_graph\",\n",
    "        \"filter_lilly_demerit\",\n",
    "    ]\n",
    "\n",
    "    # Some sorting for a nice plot\n",
    "    data[\"n_filters_pass\"] = data[filter_columns].sum(axis=1)\n",
    "    data = data.sort_values(\"n_filters_pass\", ascending=True)\n",
    "\n",
    "    # Plot\n",
    "\n",
    "    f, ax = plt.subplots(figsize=(14, 4), constrained_layout=True)\n",
    "\n",
    "    cmap = matplotlib.colors.ListedColormap([\"#EF6262\", \"#1D5B79\"], None)\n",
    "\n",
    "    a = sns.heatmap(\n",
    "        data[filter_columns].T,\n",
    "        annot=False,\n",
    "        ax=ax,\n",
    "        xticklabels=False,  # type: ignore\n",
    "        yticklabels=True,  # type: ignore\n",
    "        cbar=True,\n",
    "        cmap=cmap,\n",
    "    )\n",
    "\n",
    "    ax.collections[0].colorbar.set_ticks([0.25, 0.75])\n",
    "    ax.collections[0].colorbar.set_ticklabels([\"Don't Pass\", \"Pass\"], fontsize=14)\n",
    "\n",
    "    ax.set_xlabel(f\"Analogs from {model} sorted (n={len(data)})\", fontsize=14)\n",
    "    ax.set_ylabel(\"Medchem Filters\", fontsize=18)\n",
    "\n",
    "    # Add percentage of passing mols in the y labels\n",
    "    new_ylabels = []\n",
    "    for t in ax.yaxis.get_ticklabels():\n",
    "        perc = data[t.get_text()].sum() / len(data) * 100\n",
    "        new_ylabels.append(f\"{t.get_text()} ({perc:.0f}%)\")\n",
    "    _ = ax.yaxis.set_ticklabels(new_ylabels, fontsize=12)\n"
   ]
  },
  {
   "cell_type": "code",
   "execution_count": null,
   "metadata": {},
   "outputs": [],
   "source": []
  },
  {
   "cell_type": "code",
   "execution_count": 49,
   "metadata": {},
   "outputs": [
    {
     "data": {
      "application/vnd.jupyter.widget-view+json": {
       "model_id": "05710eb99de6459898899a9f10d75cd6",
       "version_major": 2,
       "version_minor": 0
      },
      "text/plain": [
       "Common alerts filtering:   0%|          | 0/9102 [00:00<?, ?it/s]"
      ]
     },
     "metadata": {},
     "output_type": "display_data"
    },
    {
     "data": {
      "application/vnd.jupyter.widget-view+json": {
       "model_id": "6fff3aeb0e5b48c69a4b5477b497b6a4",
       "version_major": 2,
       "version_minor": 0
      },
      "text/plain": [
       "Common alerts filtering:   0%|          | 0/9102 [00:00<?, ?it/s]"
      ]
     },
     "metadata": {},
     "output_type": "display_data"
    },
    {
     "data": {
      "application/vnd.jupyter.widget-view+json": {
       "model_id": "62c59cf08de74669b887dc9467347c3e",
       "version_major": 2,
       "version_minor": 0
      },
      "text/plain": [
       "NIBR filtering:   0%|          | 0/9102 [00:00<?, ?it/s]"
      ]
     },
     "metadata": {},
     "output_type": "display_data"
    },
    {
     "data": {
      "application/vnd.jupyter.widget-view+json": {
       "model_id": "d4b6701765764370aabeb30e89e6a1e7",
       "version_major": 2,
       "version_minor": 0
      },
      "text/plain": [
       "Match:   0%|          | 0/9102 [00:00<?, ?it/s]"
      ]
     },
     "metadata": {},
     "output_type": "display_data"
    },
    {
     "data": {
      "application/vnd.jupyter.widget-view+json": {
       "model_id": "43118e967ba7453085702caefea094d6",
       "version_major": 2,
       "version_minor": 0
      },
      "text/plain": [
       "Demerits filtering:   0%|          | 0/2 [00:00<?, ?it/s]"
      ]
     },
     "metadata": {},
     "output_type": "display_data"
    },
    {
     "data": {
      "application/vnd.jupyter.widget-view+json": {
       "model_id": "57e646d3848348ec85577ea0ed079d17",
       "version_major": 2,
       "version_minor": 0
      },
      "text/plain": [
       "Common alerts filtering:   0%|          | 0/8674 [00:00<?, ?it/s]"
      ]
     },
     "metadata": {},
     "output_type": "display_data"
    },
    {
     "data": {
      "application/vnd.jupyter.widget-view+json": {
       "model_id": "ebe332c58e0f45c4afb93806b5d85303",
       "version_major": 2,
       "version_minor": 0
      },
      "text/plain": [
       "Common alerts filtering:   0%|          | 0/8674 [00:00<?, ?it/s]"
      ]
     },
     "metadata": {},
     "output_type": "display_data"
    },
    {
     "data": {
      "application/vnd.jupyter.widget-view+json": {
       "model_id": "4b90346e2e3348b6b917a33940cbc284",
       "version_major": 2,
       "version_minor": 0
      },
      "text/plain": [
       "NIBR filtering:   0%|          | 0/8674 [00:00<?, ?it/s]"
      ]
     },
     "metadata": {},
     "output_type": "display_data"
    },
    {
     "data": {
      "application/vnd.jupyter.widget-view+json": {
       "model_id": "9b493390cf2b4ca3ab5c545de7d6d53b",
       "version_major": 2,
       "version_minor": 0
      },
      "text/plain": [
       "Match:   0%|          | 0/8674 [00:00<?, ?it/s]"
      ]
     },
     "metadata": {},
     "output_type": "display_data"
    },
    {
     "data": {
      "application/vnd.jupyter.widget-view+json": {
       "model_id": "2b24c8e018d5444bb47805163aeda747",
       "version_major": 2,
       "version_minor": 0
      },
      "text/plain": [
       "Demerits filtering:   0%|          | 0/2 [00:00<?, ?it/s]"
      ]
     },
     "metadata": {},
     "output_type": "display_data"
    },
    {
     "name": "stderr",
     "output_type": "stream",
     "text": [
      "[20:54:01] WARNING: not removing hydrogen atom without neighbors\n",
      "[20:54:01] WARNING: not removing hydrogen atom without neighbors\n",
      "[20:54:01] WARNING: not removing hydrogen atom without neighbors\n",
      "[20:54:01] WARNING: not removing hydrogen atom without neighbors\n",
      "[20:54:01] WARNING: not removing hydrogen atom without neighbors\n",
      "[20:54:01] WARNING: not removing hydrogen atom without neighbors\n",
      "[20:54:01] WARNING: not removing hydrogen atom without neighbors\n",
      "[20:54:01] WARNING: not removing hydrogen atom without neighbors\n",
      "[20:54:01] WARNING: not removing hydrogen atom without neighbors\n",
      "[20:54:01] WARNING: not removing hydrogen atom without neighbors\n",
      "[20:54:01] WARNING: not removing hydrogen atom without neighbors\n",
      "[20:54:01] WARNING: not removing hydrogen atom without neighbors\n",
      "[20:54:01] WARNING: not removing hydrogen atom without neighbors\n",
      "[20:54:01] WARNING: not removing hydrogen atom without neighbors\n",
      "[20:54:01] WARNING: not removing hydrogen atom without neighbors\n",
      "[20:54:01] WARNING: not removing hydrogen atom without neighbors\n",
      "[20:54:01] WARNING: not removing hydrogen atom without neighbors\n",
      "[20:54:01] WARNING: not removing hydrogen atom without neighbors\n",
      "[20:54:01] WARNING: not removing hydrogen atom without neighbors\n",
      "[20:54:01] WARNING: not removing hydrogen atom without neighbors\n",
      "[20:54:01] WARNING: not removing hydrogen atom without neighbors\n",
      "[20:54:01] WARNING: not removing hydrogen atom without neighbors\n",
      "[20:54:01] WARNING: not removing hydrogen atom without neighbors\n",
      "[20:54:01] WARNING: not removing hydrogen atom without neighbors\n",
      "[20:54:01] WARNING: not removing hydrogen atom without neighbors\n",
      "[20:54:01] WARNING: not removing hydrogen atom without neighbors\n",
      "[20:54:01] WARNING: not removing hydrogen atom without neighbors\n",
      "[20:54:01] WARNING: not removing hydrogen atom without neighbors\n",
      "[20:54:01] WARNING: not removing hydrogen atom without neighbors\n",
      "[20:54:01] WARNING: not removing hydrogen atom without neighbors\n",
      "[20:54:01] WARNING: not removing hydrogen atom without neighbors\n",
      "[20:54:01] WARNING: not removing hydrogen atom without neighbors\n",
      "[20:54:01] WARNING: not removing hydrogen atom without neighbors\n",
      "[20:54:01] WARNING: not removing hydrogen atom without neighbors\n",
      "[20:54:01] WARNING: not removing hydrogen atom without neighbors\n",
      "[20:54:01] WARNING: not removing hydrogen atom without neighbors\n",
      "[20:54:01] WARNING: not removing hydrogen atom without neighbors\n",
      "[20:54:01] WARNING: not removing hydrogen atom without neighbors\n",
      "[20:54:01] WARNING: not removing hydrogen atom without neighbors\n",
      "[20:54:01] WARNING: not removing hydrogen atom without neighbors\n",
      "[20:54:01] WARNING: not removing hydrogen atom without neighbors\n",
      "[20:54:01] WARNING: not removing hydrogen atom without neighbors\n",
      "[20:54:01] WARNING: not removing hydrogen atom without neighbors\n",
      "[20:54:01] WARNING: not removing hydrogen atom without neighbors\n",
      "[20:54:01] WARNING: not removing hydrogen atom without neighbors\n",
      "[20:54:01] WARNING: not removing hydrogen atom without neighbors\n",
      "[20:54:01] WARNING: not removing hydrogen atom without neighbors\n",
      "[20:54:01] WARNING: not removing hydrogen atom without neighbors\n",
      "[20:54:01] WARNING: not removing hydrogen atom without neighbors\n",
      "[20:54:01] WARNING: not removing hydrogen atom without neighbors\n",
      "[20:54:01] WARNING: not removing hydrogen atom without neighbors\n",
      "[20:54:01] WARNING: not removing hydrogen atom without neighbors\n",
      "[20:54:01] WARNING: not removing hydrogen atom without neighbors\n",
      "[20:54:01] WARNING: not removing hydrogen atom without neighbors\n",
      "[20:54:01] WARNING: not removing hydrogen atom without neighbors\n",
      "[20:54:01] WARNING: not removing hydrogen atom without neighbors\n",
      "[20:54:01] WARNING: not removing hydrogen atom without neighbors\n",
      "[20:54:01] WARNING: not removing hydrogen atom without neighbors\n",
      "[20:54:01] WARNING: not removing hydrogen atom without neighbors\n",
      "[20:54:01] WARNING: not removing hydrogen atom without neighbors\n",
      "[20:54:01] WARNING: not removing hydrogen atom without neighbors\n",
      "[20:54:01] WARNING: not removing hydrogen atom without neighbors\n",
      "[20:54:01] WARNING: not removing hydrogen atom without neighbors\n",
      "[20:54:01] WARNING: not removing hydrogen atom without neighbors\n",
      "[20:54:01] WARNING: not removing hydrogen atom without neighbors\n",
      "[20:54:01] WARNING: not removing hydrogen atom without neighbors\n",
      "[20:54:01] WARNING: not removing hydrogen atom without neighbors\n",
      "[20:54:01] WARNING: not removing hydrogen atom without neighbors\n",
      "[20:54:01] WARNING: not removing hydrogen atom without neighbors\n",
      "[20:54:01] WARNING: not removing hydrogen atom without neighbors\n",
      "[20:54:01] WARNING: not removing hydrogen atom without neighbors\n",
      "[20:54:01] WARNING: not removing hydrogen atom without neighbors\n",
      "[20:54:01] WARNING: not removing hydrogen atom without neighbors\n",
      "[20:54:01] WARNING: not removing hydrogen atom without neighbors\n",
      "[20:54:01] WARNING: not removing hydrogen atom without neighbors\n",
      "[20:54:01] WARNING: not removing hydrogen atom without neighbors\n",
      "[20:54:01] WARNING: not removing hydrogen atom without neighbors\n",
      "[20:54:01] WARNING: not removing hydrogen atom without neighbors\n",
      "[20:54:01] WARNING: not removing hydrogen atom without neighbors\n",
      "[20:54:01] WARNING: not removing hydrogen atom without neighbors\n",
      "[20:54:01] WARNING: not removing hydrogen atom without neighbors\n",
      "[20:54:01] WARNING: not removing hydrogen atom without neighbors\n",
      "[20:54:01] WARNING: not removing hydrogen atom without neighbors\n",
      "[20:54:01] WARNING: not removing hydrogen atom without neighbors\n",
      "[20:54:01] WARNING: not removing hydrogen atom without neighbors\n",
      "[20:54:01] WARNING: not removing hydrogen atom without neighbors\n",
      "[20:54:01] WARNING: not removing hydrogen atom without neighbors\n",
      "[20:54:01] WARNING: not removing hydrogen atom without neighbors\n",
      "[20:54:01] WARNING: not removing hydrogen atom without neighbors\n",
      "[20:54:01] WARNING: not removing hydrogen atom without neighbors\n",
      "[20:54:01] WARNING: not removing hydrogen atom without neighbors\n",
      "[20:54:01] WARNING: not removing hydrogen atom without neighbors\n",
      "[20:54:01] WARNING: not removing hydrogen atom without neighbors\n",
      "[20:54:01] WARNING: not removing hydrogen atom without neighbors\n",
      "[20:54:01] WARNING: not removing hydrogen atom without neighbors\n",
      "[20:54:01] WARNING: not removing hydrogen atom without neighbors\n",
      "[20:54:01] WARNING: not removing hydrogen atom without neighbors\n",
      "[20:54:02] WARNING: not removing hydrogen atom without neighbors\n",
      "[20:54:02] WARNING: not removing hydrogen atom without neighbors\n",
      "[20:54:02] WARNING: not removing hydrogen atom without neighbors\n",
      "[20:54:02] WARNING: not removing hydrogen atom without neighbors\n",
      "[20:54:02] WARNING: not removing hydrogen atom without neighbors\n",
      "[20:54:02] WARNING: not removing hydrogen atom without neighbors\n",
      "[20:54:02] WARNING: not removing hydrogen atom without neighbors\n",
      "[20:54:02] WARNING: not removing hydrogen atom without neighbors\n",
      "[20:54:02] WARNING: not removing hydrogen atom without neighbors\n",
      "[20:54:02] WARNING: not removing hydrogen atom without neighbors\n",
      "[20:54:02] WARNING: not removing hydrogen atom without neighbors\n",
      "[20:54:02] WARNING: not removing hydrogen atom without neighbors\n",
      "[20:54:02] WARNING: not removing hydrogen atom without neighbors\n",
      "[20:54:02] WARNING: not removing hydrogen atom without neighbors\n",
      "[20:54:02] WARNING: not removing hydrogen atom without neighbors\n",
      "[20:54:02] WARNING: not removing hydrogen atom without neighbors\n",
      "[20:54:02] WARNING: not removing hydrogen atom without neighbors\n",
      "[20:54:02] WARNING: not removing hydrogen atom without neighbors\n",
      "[20:54:02] WARNING: not removing hydrogen atom without neighbors\n",
      "[20:54:03] WARNING: not removing hydrogen atom without neighbors\n",
      "[20:54:03] WARNING: not removing hydrogen atom without neighbors\n",
      "[20:54:03] WARNING: not removing hydrogen atom without neighbors\n",
      "[20:54:03] WARNING: not removing hydrogen atom without neighbors\n",
      "[20:54:03] WARNING: not removing hydrogen atom without neighbors\n",
      "[20:54:03] WARNING: not removing hydrogen atom without neighbors\n",
      "[20:54:03] WARNING: not removing hydrogen atom without neighbors\n",
      "[20:54:03] WARNING: not removing hydrogen atom without neighbors\n"
     ]
    },
    {
     "data": {
      "application/vnd.jupyter.widget-view+json": {
       "model_id": "e8a15f6710ec49458ca78849b260beba",
       "version_major": 2,
       "version_minor": 0
      },
      "text/plain": [
       "Common alerts filtering:   0%|          | 0/5068 [00:00<?, ?it/s]"
      ]
     },
     "metadata": {},
     "output_type": "display_data"
    },
    {
     "data": {
      "application/vnd.jupyter.widget-view+json": {
       "model_id": "2779bcbd40174d98b7959b9990c63664",
       "version_major": 2,
       "version_minor": 0
      },
      "text/plain": [
       "Common alerts filtering:   0%|          | 0/5068 [00:00<?, ?it/s]"
      ]
     },
     "metadata": {},
     "output_type": "display_data"
    },
    {
     "data": {
      "application/vnd.jupyter.widget-view+json": {
       "model_id": "e5a92ace9b7c455ca45d1f936c3e2af9",
       "version_major": 2,
       "version_minor": 0
      },
      "text/plain": [
       "NIBR filtering:   0%|          | 0/5068 [00:00<?, ?it/s]"
      ]
     },
     "metadata": {},
     "output_type": "display_data"
    },
    {
     "data": {
      "application/vnd.jupyter.widget-view+json": {
       "model_id": "40c9a0a377cd492daa1af19e25910749",
       "version_major": 2,
       "version_minor": 0
      },
      "text/plain": [
       "Match:   0%|          | 0/5068 [00:00<?, ?it/s]"
      ]
     },
     "metadata": {},
     "output_type": "display_data"
    },
    {
     "data": {
      "application/vnd.jupyter.widget-view+json": {
       "model_id": "dd5287ecff6c4a4aa4ac8a6562e72cf0",
       "version_major": 2,
       "version_minor": 0
      },
      "text/plain": [
       "Demerits filtering:   0%|          | 0/2 [00:00<?, ?it/s]"
      ]
     },
     "metadata": {},
     "output_type": "display_data"
    },
    {
     "name": "stderr",
     "output_type": "stream",
     "text": [
      "[20:54:52] WARNING: not removing hydrogen atom without neighbors\n",
      "[20:54:52] WARNING: not removing hydrogen atom without neighbors\n",
      "[20:54:52] WARNING: not removing hydrogen atom without neighbors\n",
      "[20:54:52] WARNING: not removing hydrogen atom without neighbors\n",
      "[20:54:52] WARNING: not removing hydrogen atom without neighbors\n",
      "[20:54:52] WARNING: not removing hydrogen atom without neighbors\n",
      "[20:54:52] WARNING: not removing hydrogen atom without neighbors\n",
      "[20:54:52] WARNING: not removing hydrogen atom without neighbors\n",
      "[20:54:52] WARNING: not removing hydrogen atom without neighbors\n",
      "[20:54:52] WARNING: not removing hydrogen atom without neighbors\n",
      "[20:54:52] WARNING: not removing hydrogen atom without neighbors\n",
      "[20:54:52] WARNING: not removing hydrogen atom without neighbors\n",
      "[20:54:52] WARNING: not removing hydrogen atom without neighbors\n",
      "[20:54:52] WARNING: not removing hydrogen atom without neighbors\n",
      "[20:54:52] WARNING: not removing hydrogen atom without neighbors\n",
      "[20:54:52] WARNING: not removing hydrogen atom without neighbors\n",
      "[20:54:52] WARNING: not removing hydrogen atom without neighbors\n",
      "[20:54:52] WARNING: not removing hydrogen atom without neighbors\n",
      "[20:54:52] WARNING: not removing hydrogen atom without neighbors\n",
      "[20:54:52] WARNING: not removing hydrogen atom without neighbors\n",
      "[20:54:52] WARNING: not removing hydrogen atom without neighbors\n",
      "[20:54:52] WARNING: not removing hydrogen atom without neighbors\n",
      "[20:54:52] WARNING: not removing hydrogen atom without neighbors\n",
      "[20:54:52] WARNING: not removing hydrogen atom without neighbors\n",
      "[20:54:52] WARNING: not removing hydrogen atom without neighbors\n",
      "[20:54:52] WARNING: not removing hydrogen atom without neighbors\n",
      "[20:54:52] WARNING: not removing hydrogen atom without neighbors\n",
      "[20:54:52] WARNING: not removing hydrogen atom without neighbors\n",
      "[20:54:52] WARNING: not removing hydrogen atom without neighbors\n",
      "[20:54:52] WARNING: not removing hydrogen atom without neighbors\n",
      "[20:54:52] WARNING: not removing hydrogen atom without neighbors\n",
      "[20:54:52] WARNING: not removing hydrogen atom without neighbors\n",
      "[20:54:52] WARNING: not removing hydrogen atom without neighbors\n",
      "[20:54:52] WARNING: not removing hydrogen atom without neighbors\n",
      "[20:54:52] WARNING: not removing hydrogen atom without neighbors\n",
      "[20:54:52] WARNING: not removing hydrogen atom without neighbors\n",
      "[20:54:52] WARNING: not removing hydrogen atom without neighbors\n",
      "[20:54:52] WARNING: not removing hydrogen atom without neighbors\n",
      "[20:54:52] WARNING: not removing hydrogen atom without neighbors\n",
      "[20:54:52] WARNING: not removing hydrogen atom without neighbors\n",
      "[20:54:52] WARNING: not removing hydrogen atom without neighbors\n",
      "[20:54:52] WARNING: not removing hydrogen atom without neighbors\n",
      "[20:54:52] WARNING: not removing hydrogen atom without neighbors\n",
      "[20:54:52] WARNING: not removing hydrogen atom without neighbors\n",
      "[20:54:52] WARNING: not removing hydrogen atom without neighbors\n",
      "[20:54:52] WARNING: not removing hydrogen atom without neighbors\n",
      "[20:54:53] WARNING: not removing hydrogen atom without neighbors\n",
      "[20:54:53] WARNING: not removing hydrogen atom without neighbors\n",
      "[20:54:53] WARNING: not removing hydrogen atom without neighbors\n",
      "[20:54:53] WARNING: not removing hydrogen atom without neighbors\n",
      "[20:54:53] WARNING: not removing hydrogen atom without neighbors\n",
      "[20:54:53] WARNING: not removing hydrogen atom without neighbors\n",
      "[20:54:53] WARNING: not removing hydrogen atom without neighbors\n",
      "[20:54:53] WARNING: not removing hydrogen atom without neighbors\n",
      "[20:54:53] WARNING: not removing hydrogen atom without neighbors\n",
      "[20:54:53] WARNING: not removing hydrogen atom without neighbors\n",
      "[20:54:53] WARNING: not removing hydrogen atom without neighbors\n",
      "[20:54:53] WARNING: not removing hydrogen atom without neighbors\n",
      "[20:54:53] WARNING: not removing hydrogen atom without neighbors\n",
      "[20:54:53] WARNING: not removing hydrogen atom without neighbors\n",
      "[20:54:53] WARNING: not removing hydrogen atom without neighbors\n",
      "[20:54:53] WARNING: not removing hydrogen atom without neighbors\n"
     ]
    },
    {
     "data": {
      "image/png": "[encoded data removed]",
      "text/plain": [
       "<Figure size 1400x400 with 2 Axes>"
      ]
     },
     "metadata": {},
     "output_type": "display_data"
    },
    {
     "data": {
      "image/png": "[encoded data removed]",
      "text/plain": [
       "<Figure size 1400x400 with 2 Axes>"
      ]
     },
     "metadata": {},
     "output_type": "display_data"
    },
    {
     "data": {
      "image/png": "[encoded data removed]",
      "text/plain": [
       "<Figure size 1400x400 with 2 Axes>"
      ]
     },
     "metadata": {},
     "output_type": "display_data"
    }
   ],
   "source": [
    "for model, df in zip(models[:3], model_dfs[:3]):\n",
    "\n",
    "        df[\"mol\"] = df[\"SMILES\"].apply(dm.to_mol)\n",
    "    \n",
    "        process_filters(df)\n",
    "    \n",
    "        plot_filters(df, model)"
   ]
  },
  {
   "cell_type": "code",
   "execution_count": 50,
   "metadata": {},
   "outputs": [
    {
     "name": "stderr",
     "output_type": "stream",
     "text": [
      "[20:54:56] WARNING: not removing hydrogen atom without neighbors\n",
      "[20:54:56] WARNING: not removing hydrogen atom without neighbors\n",
      "[20:54:56] WARNING: not removing hydrogen atom without neighbors\n",
      "[20:54:56] WARNING: not removing hydrogen atom without neighbors\n"
     ]
    }
   ],
   "source": [
    "model_dfs[3][\"mol\"] = model_dfs[3][\"SMILES\"].apply(dm.to_mol)\n",
    "    "
   ]
  },
  {
   "cell_type": "code",
   "execution_count": 51,
   "metadata": {},
   "outputs": [],
   "source": [
    "safe_1000 = model_dfs[3].sample(1900, random_state=42)"
   ]
  },
  {
   "cell_type": "code",
   "execution_count": 52,
   "metadata": {},
   "outputs": [
    {
     "data": {
      "text/plain": [
       "1900"
      ]
     },
     "execution_count": 52,
     "metadata": {},
     "output_type": "execute_result"
    }
   ],
   "source": [
    "len(safe_1000)"
   ]
  },
  {
   "cell_type": "code",
   "execution_count": 53,
   "metadata": {},
   "outputs": [
    {
     "data": {
      "application/vnd.jupyter.widget-view+json": {
       "model_id": "4329a1b905b94e5491556cf53af1895c",
       "version_major": 2,
       "version_minor": 0
      },
      "text/plain": [
       "Common alerts filtering:   0%|          | 0/1900 [00:00<?, ?it/s]"
      ]
     },
     "metadata": {},
     "output_type": "display_data"
    },
    {
     "data": {
      "application/vnd.jupyter.widget-view+json": {
       "model_id": "0651deda69c24fc685a3f55584b7c293",
       "version_major": 2,
       "version_minor": 0
      },
      "text/plain": [
       "Common alerts filtering:   0%|          | 0/1900 [00:00<?, ?it/s]"
      ]
     },
     "metadata": {},
     "output_type": "display_data"
    },
    {
     "data": {
      "application/vnd.jupyter.widget-view+json": {
       "model_id": "bc31f1b3d0044e728278f92b953b16e8",
       "version_major": 2,
       "version_minor": 0
      },
      "text/plain": [
       "NIBR filtering:   0%|          | 0/1900 [00:00<?, ?it/s]"
      ]
     },
     "metadata": {},
     "output_type": "display_data"
    },
    {
     "data": {
      "application/vnd.jupyter.widget-view+json": {
       "model_id": "f3d75c1b62a245eaa6c8ed0e830a4577",
       "version_major": 2,
       "version_minor": 0
      },
      "text/plain": [
       "Match:   0%|          | 0/1900 [00:00<?, ?it/s]"
      ]
     },
     "metadata": {},
     "output_type": "display_data"
    }
   ],
   "source": [
    "process_filters(safe_1000)"
   ]
  },
  {
   "cell_type": "code",
   "execution_count": 54,
   "metadata": {},
   "outputs": [
    {
     "data": {
      "text/html": [
       "<div>\n",
       "<style scoped>\n",
       "    .dataframe tbody tr th:only-of-type {\n",
       "        vertical-align: middle;\n",
       "    }\n",
       "\n",
       "    .dataframe tbody tr th {\n",
       "        vertical-align: top;\n",
       "    }\n",
       "\n",
       "    .dataframe thead th {\n",
       "        text-align: right;\n",
       "    }\n",
       "</style>\n",
       "<table border=\"1\" class=\"dataframe\">\n",
       "  <thead>\n",
       "    <tr style=\"text-align: right;\">\n",
       "      <th></th>\n",
       "      <th>SMILES</th>\n",
       "      <th>Model</th>\n",
       "      <th>ROMol</th>\n",
       "      <th>inchi</th>\n",
       "      <th>ring_systems</th>\n",
       "      <th>min_ring</th>\n",
       "      <th>min_freq</th>\n",
       "      <th>mol</th>\n",
       "      <th>rule_of_five</th>\n",
       "      <th>alerts_Dundee</th>\n",
       "      <th>alerts_SureChEMBL</th>\n",
       "      <th>filters_NIBR</th>\n",
       "      <th>filter_molecular_graph</th>\n",
       "      <th>filter_lilly_demerit</th>\n",
       "    </tr>\n",
       "  </thead>\n",
       "  <tbody>\n",
       "    <tr>\n",
       "      <th>26</th>\n",
       "      <td>CC(C)C(=O)NC(c1nc2ccccc2n1-c1ccc(Cl)cc1)C1(F)CC1</td>\n",
       "      <td>safe</td>\n",
       "      <td>&lt;rdkit.Chem.rdchem.Mol object at 0x705200a4dd20&gt;</td>\n",
       "      <td>JHRQTYXVRNTCIM-UHFFFAOYSA-N</td>\n",
       "      <td>[(c1ccc2[nH]cnc2c1, 43841), (C1CC1, 70914), (c...</td>\n",
       "      <td>c1ccc2[nH]cnc2c1</td>\n",
       "      <td>43841</td>\n",
       "      <td>&lt;rdkit.Chem.rdchem.Mol object at 0x7052af952960&gt;</td>\n",
       "      <td>True</td>\n",
       "      <td>True</td>\n",
       "      <td>True</td>\n",
       "      <td>True</td>\n",
       "      <td>True</td>\n",
       "      <td>True</td>\n",
       "    </tr>\n",
       "    <tr>\n",
       "      <th>371</th>\n",
       "      <td>Cc1c(OCc2ccccc2)c(C(F)(F)F)nc(C(F)(F)F)c1C(OCc...</td>\n",
       "      <td>safe</td>\n",
       "      <td>&lt;rdkit.Chem.rdchem.Mol object at 0x705200b5be60&gt;</td>\n",
       "      <td>UMMXMUMQRDBFMH-AJZOCDQUSA-N</td>\n",
       "      <td>[(C1=CNCC1, 90), (c1ccncc1, 231698), (c1ccccc1...</td>\n",
       "      <td>C1=CNCC1</td>\n",
       "      <td>90</td>\n",
       "      <td>&lt;rdkit.Chem.rdchem.Mol object at 0x7052ac4e2110&gt;</td>\n",
       "      <td>False</td>\n",
       "      <td>True</td>\n",
       "      <td>True</td>\n",
       "      <td>True</td>\n",
       "      <td>True</td>\n",
       "      <td>False</td>\n",
       "    </tr>\n",
       "    <tr>\n",
       "      <th>60</th>\n",
       "      <td>CC(=O)N(C(=O)Nc1ccc(C(O)=Nc2cc(Cl)cc(Cl)c2)c(F...</td>\n",
       "      <td>safe</td>\n",
       "      <td>&lt;rdkit.Chem.rdchem.Mol object at 0x705200ba7f40&gt;</td>\n",
       "      <td>PIPVUUVPRHYSGR-UHFFFAOYSA-N</td>\n",
       "      <td>[(c1ccccc1, 2260082), (c1ccccc1, 2260082)]</td>\n",
       "      <td>c1ccccc1</td>\n",
       "      <td>2260082</td>\n",
       "      <td>&lt;rdkit.Chem.rdchem.Mol object at 0x7052ac4f4e40&gt;</td>\n",
       "      <td>False</td>\n",
       "      <td>False</td>\n",
       "      <td>True</td>\n",
       "      <td>True</td>\n",
       "      <td>True</td>\n",
       "      <td>False</td>\n",
       "    </tr>\n",
       "    <tr>\n",
       "      <th>155</th>\n",
       "      <td>O=C(O)C(CNCP)Oc1c(C(F)(F)F)ccc(C(F)(F)F)c1F</td>\n",
       "      <td>safe</td>\n",
       "      <td>&lt;rdkit.Chem.rdchem.Mol object at 0x705200a3e810&gt;</td>\n",
       "      <td>YFACRQNXAMOHJH-UHFFFAOYSA-N</td>\n",
       "      <td>[(c1ccccc1, 2260082)]</td>\n",
       "      <td>c1ccccc1</td>\n",
       "      <td>2260082</td>\n",
       "      <td>&lt;rdkit.Chem.rdchem.Mol object at 0x7052af979000&gt;</td>\n",
       "      <td>True</td>\n",
       "      <td>False</td>\n",
       "      <td>True</td>\n",
       "      <td>True</td>\n",
       "      <td>True</td>\n",
       "      <td>False</td>\n",
       "    </tr>\n",
       "    <tr>\n",
       "      <th>11</th>\n",
       "      <td>C[Si](C)(C)CCN(CO)C(=O)c1c(Cc2ccnc(C#N)c2)nc2c...</td>\n",
       "      <td>safe</td>\n",
       "      <td>&lt;rdkit.Chem.rdchem.Mol object at 0x705200baa8f0&gt;</td>\n",
       "      <td>VENABEPUIBHDDW-UHFFFAOYSA-N</td>\n",
       "      <td>[(c1ccc2ncccc2c1, 57286), (c1ccc2[nH]ccc2c1, 9...</td>\n",
       "      <td>c1ccc2ncccc2c1</td>\n",
       "      <td>57286</td>\n",
       "      <td>&lt;rdkit.Chem.rdchem.Mol object at 0x7052ac4f7610&gt;</td>\n",
       "      <td>False</td>\n",
       "      <td>False</td>\n",
       "      <td>True</td>\n",
       "      <td>False</td>\n",
       "      <td>True</td>\n",
       "      <td>False</td>\n",
       "    </tr>\n",
       "  </tbody>\n",
       "</table>\n",
       "</div>"
      ],
      "text/plain": [
       "                                                SMILES Model  \\\n",
       "26    CC(C)C(=O)NC(c1nc2ccccc2n1-c1ccc(Cl)cc1)C1(F)CC1  safe   \n",
       "371  Cc1c(OCc2ccccc2)c(C(F)(F)F)nc(C(F)(F)F)c1C(OCc...  safe   \n",
       "60   CC(=O)N(C(=O)Nc1ccc(C(O)=Nc2cc(Cl)cc(Cl)c2)c(F...  safe   \n",
       "155        O=C(O)C(CNCP)Oc1c(C(F)(F)F)ccc(C(F)(F)F)c1F  safe   \n",
       "11   C[Si](C)(C)CCN(CO)C(=O)c1c(Cc2ccnc(C#N)c2)nc2c...  safe   \n",
       "\n",
       "                                                ROMol  \\\n",
       "26   <rdkit.Chem.rdchem.Mol object at 0x705200a4dd20>   \n",
       "371  <rdkit.Chem.rdchem.Mol object at 0x705200b5be60>   \n",
       "60   <rdkit.Chem.rdchem.Mol object at 0x705200ba7f40>   \n",
       "155  <rdkit.Chem.rdchem.Mol object at 0x705200a3e810>   \n",
       "11   <rdkit.Chem.rdchem.Mol object at 0x705200baa8f0>   \n",
       "\n",
       "                           inchi  \\\n",
       "26   JHRQTYXVRNTCIM-UHFFFAOYSA-N   \n",
       "371  UMMXMUMQRDBFMH-AJZOCDQUSA-N   \n",
       "60   PIPVUUVPRHYSGR-UHFFFAOYSA-N   \n",
       "155  YFACRQNXAMOHJH-UHFFFAOYSA-N   \n",
       "11   VENABEPUIBHDDW-UHFFFAOYSA-N   \n",
       "\n",
       "                                          ring_systems          min_ring  \\\n",
       "26   [(c1ccc2[nH]cnc2c1, 43841), (C1CC1, 70914), (c...  c1ccc2[nH]cnc2c1   \n",
       "371  [(C1=CNCC1, 90), (c1ccncc1, 231698), (c1ccccc1...          C1=CNCC1   \n",
       "60          [(c1ccccc1, 2260082), (c1ccccc1, 2260082)]          c1ccccc1   \n",
       "155                              [(c1ccccc1, 2260082)]          c1ccccc1   \n",
       "11   [(c1ccc2ncccc2c1, 57286), (c1ccc2[nH]ccc2c1, 9...    c1ccc2ncccc2c1   \n",
       "\n",
       "    min_freq                                               mol  rule_of_five  \\\n",
       "26     43841  <rdkit.Chem.rdchem.Mol object at 0x7052af952960>          True   \n",
       "371       90  <rdkit.Chem.rdchem.Mol object at 0x7052ac4e2110>         False   \n",
       "60   2260082  <rdkit.Chem.rdchem.Mol object at 0x7052ac4f4e40>         False   \n",
       "155  2260082  <rdkit.Chem.rdchem.Mol object at 0x7052af979000>          True   \n",
       "11     57286  <rdkit.Chem.rdchem.Mol object at 0x7052ac4f7610>         False   \n",
       "\n",
       "     alerts_Dundee  alerts_SureChEMBL  filters_NIBR  filter_molecular_graph  \\\n",
       "26            True               True          True                    True   \n",
       "371           True               True          True                    True   \n",
       "60           False               True          True                    True   \n",
       "155          False               True          True                    True   \n",
       "11           False               True         False                    True   \n",
       "\n",
       "     filter_lilly_demerit  \n",
       "26                   True  \n",
       "371                 False  \n",
       "60                  False  \n",
       "155                 False  \n",
       "11                  False  "
      ]
     },
     "execution_count": 54,
     "metadata": {},
     "output_type": "execute_result"
    }
   ],
   "source": [
    "safe_1000.head()"
   ]
  },
  {
   "cell_type": "code",
   "execution_count": 55,
   "metadata": {},
   "outputs": [
    {
     "data": {
      "image/png": "[encoded data removed]",
      "text/plain": [
       "<Figure size 1400x400 with 2 Axes>"
      ]
     },
     "metadata": {},
     "output_type": "display_data"
    }
   ],
   "source": [
    "plot_filters(safe_1000, model[3])"
   ]
  },
  {
   "cell_type": "code",
   "execution_count": 56,
   "metadata": {},
   "outputs": [
    {
     "data": {
      "text/html": [
       "<div>\n",
       "<style scoped>\n",
       "    .dataframe tbody tr th:only-of-type {\n",
       "        vertical-align: middle;\n",
       "    }\n",
       "\n",
       "    .dataframe tbody tr th {\n",
       "        vertical-align: top;\n",
       "    }\n",
       "\n",
       "    .dataframe thead th {\n",
       "        text-align: right;\n",
       "    }\n",
       "</style>\n",
       "<table border=\"1\" class=\"dataframe\">\n",
       "  <thead>\n",
       "    <tr style=\"text-align: right;\">\n",
       "      <th></th>\n",
       "      <th>SMILES</th>\n",
       "      <th>Model</th>\n",
       "      <th>ROMol</th>\n",
       "      <th>inchi</th>\n",
       "      <th>ring_systems</th>\n",
       "      <th>min_ring</th>\n",
       "      <th>min_freq</th>\n",
       "      <th>mol</th>\n",
       "      <th>rule_of_five</th>\n",
       "      <th>alerts_Dundee</th>\n",
       "      <th>alerts_SureChEMBL</th>\n",
       "      <th>filters_NIBR</th>\n",
       "      <th>filter_molecular_graph</th>\n",
       "      <th>filter_lilly_demerit</th>\n",
       "      <th>n_filters_pass</th>\n",
       "    </tr>\n",
       "  </thead>\n",
       "  <tbody>\n",
       "    <tr>\n",
       "      <th>9</th>\n",
       "      <td>c1ncc2c(n1)NCCN2</td>\n",
       "      <td>coati</td>\n",
       "      <td>&lt;rdkit.Chem.rdchem.Mol object at 0x7052010dcf20&gt;</td>\n",
       "      <td>IDAICLIJTRXNER-UHFFFAOYSA-N</td>\n",
       "      <td>[(c1ncc2c(n1)NCCN2, 114)]</td>\n",
       "      <td>c1ncc2c(n1)NCCN2</td>\n",
       "      <td>114</td>\n",
       "      <td>&lt;rdkit.Chem.rdchem.Mol object at 0x7052af57b8b0&gt;</td>\n",
       "      <td>True</td>\n",
       "      <td>True</td>\n",
       "      <td>True</td>\n",
       "      <td>True</td>\n",
       "      <td>True</td>\n",
       "      <td>True</td>\n",
       "      <td>6</td>\n",
       "    </tr>\n",
       "    <tr>\n",
       "      <th>253</th>\n",
       "      <td>c1cc2c(c(-c3cnc[nH]3)c1)OCC2</td>\n",
       "      <td>coati</td>\n",
       "      <td>&lt;rdkit.Chem.rdchem.Mol object at 0x7052010ddc40&gt;</td>\n",
       "      <td>WBNQVKNPPZKPOG-UHFFFAOYSA-N</td>\n",
       "      <td>[(c1ccc2c(c1)CCO2, 3858), (c1c[nH]cn1, 66991)]</td>\n",
       "      <td>c1ccc2c(c1)CCO2</td>\n",
       "      <td>3858</td>\n",
       "      <td>&lt;rdkit.Chem.rdchem.Mol object at 0x7052af57b530&gt;</td>\n",
       "      <td>True</td>\n",
       "      <td>True</td>\n",
       "      <td>True</td>\n",
       "      <td>True</td>\n",
       "      <td>True</td>\n",
       "      <td>True</td>\n",
       "      <td>6</td>\n",
       "    </tr>\n",
       "    <tr>\n",
       "      <th>157</th>\n",
       "      <td>CNS(=O)(=O)c1ccc(-c2cncnc2)c2c1NCC2</td>\n",
       "      <td>coati</td>\n",
       "      <td>&lt;rdkit.Chem.rdchem.Mol object at 0x7052010de180&gt;</td>\n",
       "      <td>XCJBVZBIRPKCAN-UHFFFAOYSA-N</td>\n",
       "      <td>[(c1ccc2c(c1)CCN2, 7904), (c1cncnc1, 81465)]</td>\n",
       "      <td>c1ccc2c(c1)CCN2</td>\n",
       "      <td>7904</td>\n",
       "      <td>&lt;rdkit.Chem.rdchem.Mol object at 0x7052af57ab20&gt;</td>\n",
       "      <td>True</td>\n",
       "      <td>True</td>\n",
       "      <td>True</td>\n",
       "      <td>True</td>\n",
       "      <td>True</td>\n",
       "      <td>True</td>\n",
       "      <td>6</td>\n",
       "    </tr>\n",
       "    <tr>\n",
       "      <th>209</th>\n",
       "      <td>C#Cc1c[n-]c2c1CNCC2</td>\n",
       "      <td>coati</td>\n",
       "      <td>&lt;rdkit.Chem.rdchem.Mol object at 0x7052010de7a0&gt;</td>\n",
       "      <td>LSDCQZLNMRPLKL-UHFFFAOYSA-N</td>\n",
       "      <td>[(c1cc2c([n-]1)CCNC2, 0)]</td>\n",
       "      <td>c1cc2c([n-]1)CCNC2</td>\n",
       "      <td>0</td>\n",
       "      <td>&lt;rdkit.Chem.rdchem.Mol object at 0x7052af57af10&gt;</td>\n",
       "      <td>True</td>\n",
       "      <td>False</td>\n",
       "      <td>False</td>\n",
       "      <td>True</td>\n",
       "      <td>True</td>\n",
       "      <td>True</td>\n",
       "      <td>4</td>\n",
       "    </tr>\n",
       "    <tr>\n",
       "      <th>75</th>\n",
       "      <td>CC1=NCc2cnccc2N1</td>\n",
       "      <td>coati</td>\n",
       "      <td>&lt;rdkit.Chem.rdchem.Mol object at 0x7052010df140&gt;</td>\n",
       "      <td>VSFSMFKHWKOSKN-UHFFFAOYSA-N</td>\n",
       "      <td>[(C1=NCc2cnccc2N1, 0)]</td>\n",
       "      <td>C1=NCc2cnccc2N1</td>\n",
       "      <td>0</td>\n",
       "      <td>&lt;rdkit.Chem.rdchem.Mol object at 0x7052af579cb0&gt;</td>\n",
       "      <td>True</td>\n",
       "      <td>True</td>\n",
       "      <td>True</td>\n",
       "      <td>True</td>\n",
       "      <td>True</td>\n",
       "      <td>True</td>\n",
       "      <td>6</td>\n",
       "    </tr>\n",
       "  </tbody>\n",
       "</table>\n",
       "</div>"
      ],
      "text/plain": [
       "                                  SMILES  Model  \\\n",
       "9                       c1ncc2c(n1)NCCN2  coati   \n",
       "253         c1cc2c(c(-c3cnc[nH]3)c1)OCC2  coati   \n",
       "157  CNS(=O)(=O)c1ccc(-c2cncnc2)c2c1NCC2  coati   \n",
       "209                  C#Cc1c[n-]c2c1CNCC2  coati   \n",
       "75                      CC1=NCc2cnccc2N1  coati   \n",
       "\n",
       "                                                ROMol  \\\n",
       "9    <rdkit.Chem.rdchem.Mol object at 0x7052010dcf20>   \n",
       "253  <rdkit.Chem.rdchem.Mol object at 0x7052010ddc40>   \n",
       "157  <rdkit.Chem.rdchem.Mol object at 0x7052010de180>   \n",
       "209  <rdkit.Chem.rdchem.Mol object at 0x7052010de7a0>   \n",
       "75   <rdkit.Chem.rdchem.Mol object at 0x7052010df140>   \n",
       "\n",
       "                           inchi  \\\n",
       "9    IDAICLIJTRXNER-UHFFFAOYSA-N   \n",
       "253  WBNQVKNPPZKPOG-UHFFFAOYSA-N   \n",
       "157  XCJBVZBIRPKCAN-UHFFFAOYSA-N   \n",
       "209  LSDCQZLNMRPLKL-UHFFFAOYSA-N   \n",
       "75   VSFSMFKHWKOSKN-UHFFFAOYSA-N   \n",
       "\n",
       "                                       ring_systems            min_ring  \\\n",
       "9                         [(c1ncc2c(n1)NCCN2, 114)]    c1ncc2c(n1)NCCN2   \n",
       "253  [(c1ccc2c(c1)CCO2, 3858), (c1c[nH]cn1, 66991)]     c1ccc2c(c1)CCO2   \n",
       "157    [(c1ccc2c(c1)CCN2, 7904), (c1cncnc1, 81465)]     c1ccc2c(c1)CCN2   \n",
       "209                       [(c1cc2c([n-]1)CCNC2, 0)]  c1cc2c([n-]1)CCNC2   \n",
       "75                           [(C1=NCc2cnccc2N1, 0)]     C1=NCc2cnccc2N1   \n",
       "\n",
       "    min_freq                                               mol  rule_of_five  \\\n",
       "9        114  <rdkit.Chem.rdchem.Mol object at 0x7052af57b8b0>          True   \n",
       "253     3858  <rdkit.Chem.rdchem.Mol object at 0x7052af57b530>          True   \n",
       "157     7904  <rdkit.Chem.rdchem.Mol object at 0x7052af57ab20>          True   \n",
       "209        0  <rdkit.Chem.rdchem.Mol object at 0x7052af57af10>          True   \n",
       "75         0  <rdkit.Chem.rdchem.Mol object at 0x7052af579cb0>          True   \n",
       "\n",
       "     alerts_Dundee  alerts_SureChEMBL  filters_NIBR  filter_molecular_graph  \\\n",
       "9             True               True          True                    True   \n",
       "253           True               True          True                    True   \n",
       "157           True               True          True                    True   \n",
       "209          False              False          True                    True   \n",
       "75            True               True          True                    True   \n",
       "\n",
       "     filter_lilly_demerit  n_filters_pass  \n",
       "9                    True               6  \n",
       "253                  True               6  \n",
       "157                  True               6  \n",
       "209                  True               4  \n",
       "75                   True               6  "
      ]
     },
     "execution_count": 56,
     "metadata": {},
     "output_type": "execute_result"
    }
   ],
   "source": [
    "model_dfs[2].head()"
   ]
  },
  {
   "cell_type": "code",
   "execution_count": 57,
   "metadata": {},
   "outputs": [
    {
     "data": {
      "text/html": [
       "<div>\n",
       "<style scoped>\n",
       "    .dataframe tbody tr th:only-of-type {\n",
       "        vertical-align: middle;\n",
       "    }\n",
       "\n",
       "    .dataframe tbody tr th {\n",
       "        vertical-align: top;\n",
       "    }\n",
       "\n",
       "    .dataframe thead th {\n",
       "        text-align: right;\n",
       "    }\n",
       "</style>\n",
       "<table border=\"1\" class=\"dataframe\">\n",
       "  <thead>\n",
       "    <tr style=\"text-align: right;\">\n",
       "      <th></th>\n",
       "      <th>SMILES</th>\n",
       "      <th>Model</th>\n",
       "      <th>ROMol</th>\n",
       "      <th>inchi</th>\n",
       "      <th>ring_systems</th>\n",
       "      <th>min_ring</th>\n",
       "      <th>min_freq</th>\n",
       "      <th>mol</th>\n",
       "    </tr>\n",
       "  </thead>\n",
       "  <tbody>\n",
       "    <tr>\n",
       "      <th>361</th>\n",
       "      <td>c1nc(C2CCOCC2)nc2c1CCN2</td>\n",
       "      <td>safe</td>\n",
       "      <td>&lt;rdkit.Chem.rdchem.Mol object at 0x705200cc1f50&gt;</td>\n",
       "      <td>ULDKZNDWVXGVGS-UHFFFAOYSA-N</td>\n",
       "      <td>[(c1ncc2c(n1)NCC2, 814), (C1CCOCC1, 64272)]</td>\n",
       "      <td>c1ncc2c(n1)NCC2</td>\n",
       "      <td>814</td>\n",
       "      <td>&lt;rdkit.Chem.rdchem.Mol object at 0x7052ac880580&gt;</td>\n",
       "    </tr>\n",
       "    <tr>\n",
       "      <th>73</th>\n",
       "      <td>c1nc(N2CCC2)nc2c1CCN2</td>\n",
       "      <td>safe</td>\n",
       "      <td>&lt;rdkit.Chem.rdchem.Mol object at 0x705200ebeb20&gt;</td>\n",
       "      <td>DNYKSENQXKNWNF-UHFFFAOYSA-N</td>\n",
       "      <td>[(c1ncc2c(n1)NCC2, 814), (C1CNC1, 13255)]</td>\n",
       "      <td>c1ncc2c(n1)NCC2</td>\n",
       "      <td>814</td>\n",
       "      <td>&lt;rdkit.Chem.rdchem.Mol object at 0x7052ac880350&gt;</td>\n",
       "    </tr>\n",
       "    <tr>\n",
       "      <th>374</th>\n",
       "      <td>c1nc(-c2nn[nH]n2)nc2c1CCN2</td>\n",
       "      <td>safe</td>\n",
       "      <td>&lt;rdkit.Chem.rdchem.Mol object at 0x705200ebd230&gt;</td>\n",
       "      <td>TVHCZSJCHMFCHD-UHFFFAOYSA-N</td>\n",
       "      <td>[(c1ncc2c(n1)NCC2, 814), (c1nn[nH]n1, 20601)]</td>\n",
       "      <td>c1ncc2c(n1)NCC2</td>\n",
       "      <td>814</td>\n",
       "      <td>&lt;rdkit.Chem.rdchem.Mol object at 0x7052ac880900&gt;</td>\n",
       "    </tr>\n",
       "    <tr>\n",
       "      <th>155</th>\n",
       "      <td>c1nc(SCCN2CCOCC2)nc2c1CCN2</td>\n",
       "      <td>safe</td>\n",
       "      <td>&lt;rdkit.Chem.rdchem.Mol object at 0x705200ec2c00&gt;</td>\n",
       "      <td>PAACHEIVJIWASK-UHFFFAOYSA-N</td>\n",
       "      <td>[(c1ncc2c(n1)NCC2, 814), (C1COCCN1, 70960)]</td>\n",
       "      <td>c1ncc2c(n1)NCC2</td>\n",
       "      <td>814</td>\n",
       "      <td>&lt;rdkit.Chem.rdchem.Mol object at 0x7052ac880820&gt;</td>\n",
       "    </tr>\n",
       "    <tr>\n",
       "      <th>104</th>\n",
       "      <td>c1nc(N2CCCSCC2)nc2c1CCN2</td>\n",
       "      <td>safe</td>\n",
       "      <td>&lt;rdkit.Chem.rdchem.Mol object at 0x705200ec4350&gt;</td>\n",
       "      <td>WSYVFHAIHQTORR-UHFFFAOYSA-N</td>\n",
       "      <td>[(C1CNCCSC1, 89), (c1ncc2c(n1)NCC2, 814)]</td>\n",
       "      <td>C1CNCCSC1</td>\n",
       "      <td>89</td>\n",
       "      <td>&lt;rdkit.Chem.rdchem.Mol object at 0x7052ac880970&gt;</td>\n",
       "    </tr>\n",
       "  </tbody>\n",
       "</table>\n",
       "</div>"
      ],
      "text/plain": [
       "                         SMILES Model  \\\n",
       "361     c1nc(C2CCOCC2)nc2c1CCN2  safe   \n",
       "73        c1nc(N2CCC2)nc2c1CCN2  safe   \n",
       "374  c1nc(-c2nn[nH]n2)nc2c1CCN2  safe   \n",
       "155  c1nc(SCCN2CCOCC2)nc2c1CCN2  safe   \n",
       "104    c1nc(N2CCCSCC2)nc2c1CCN2  safe   \n",
       "\n",
       "                                                ROMol  \\\n",
       "361  <rdkit.Chem.rdchem.Mol object at 0x705200cc1f50>   \n",
       "73   <rdkit.Chem.rdchem.Mol object at 0x705200ebeb20>   \n",
       "374  <rdkit.Chem.rdchem.Mol object at 0x705200ebd230>   \n",
       "155  <rdkit.Chem.rdchem.Mol object at 0x705200ec2c00>   \n",
       "104  <rdkit.Chem.rdchem.Mol object at 0x705200ec4350>   \n",
       "\n",
       "                           inchi  \\\n",
       "361  ULDKZNDWVXGVGS-UHFFFAOYSA-N   \n",
       "73   DNYKSENQXKNWNF-UHFFFAOYSA-N   \n",
       "374  TVHCZSJCHMFCHD-UHFFFAOYSA-N   \n",
       "155  PAACHEIVJIWASK-UHFFFAOYSA-N   \n",
       "104  WSYVFHAIHQTORR-UHFFFAOYSA-N   \n",
       "\n",
       "                                      ring_systems         min_ring min_freq  \\\n",
       "361    [(c1ncc2c(n1)NCC2, 814), (C1CCOCC1, 64272)]  c1ncc2c(n1)NCC2      814   \n",
       "73       [(c1ncc2c(n1)NCC2, 814), (C1CNC1, 13255)]  c1ncc2c(n1)NCC2      814   \n",
       "374  [(c1ncc2c(n1)NCC2, 814), (c1nn[nH]n1, 20601)]  c1ncc2c(n1)NCC2      814   \n",
       "155    [(c1ncc2c(n1)NCC2, 814), (C1COCCN1, 70960)]  c1ncc2c(n1)NCC2      814   \n",
       "104      [(C1CNCCSC1, 89), (c1ncc2c(n1)NCC2, 814)]        C1CNCCSC1       89   \n",
       "\n",
       "                                                  mol  \n",
       "361  <rdkit.Chem.rdchem.Mol object at 0x7052ac880580>  \n",
       "73   <rdkit.Chem.rdchem.Mol object at 0x7052ac880350>  \n",
       "374  <rdkit.Chem.rdchem.Mol object at 0x7052ac880900>  \n",
       "155  <rdkit.Chem.rdchem.Mol object at 0x7052ac880820>  \n",
       "104  <rdkit.Chem.rdchem.Mol object at 0x7052ac880970>  "
      ]
     },
     "execution_count": 57,
     "metadata": {},
     "output_type": "execute_result"
    }
   ],
   "source": [
    "model_dfs[3].head()"
   ]
  },
  {
   "cell_type": "code",
   "execution_count": 60,
   "metadata": {},
   "outputs": [
    {
     "data": {
      "text/plain": [
       "0.6722388747982476"
      ]
     },
     "execution_count": 60,
     "metadata": {},
     "output_type": "execute_result"
    }
   ],
   "source": [
    "model_dfs[1][\"filter_lilly_demerit\"].sum()/len(model_dfs[1])"
   ]
  },
  {
   "cell_type": "code",
   "execution_count": 65,
   "metadata": {},
   "outputs": [],
   "source": [
    "for model, df in zip(models[:3], model_dfs[:3]):\n",
    "\n",
    "    scores[model][\"Lilly_chem\"] = df[\"filter_lilly_demerit\"].sum()/len(df)\n",
    "    scores[model][\"filters_NIBR\"] = df[\"filters_NIBR\"].sum()/len(df)\n",
    "    scores[model][\"rule_of_five\"] = df[\"rule_of_five\"].sum()/len(df)"
   ]
  },
  {
   "cell_type": "code",
   "execution_count": 66,
   "metadata": {},
   "outputs": [],
   "source": [
    "scores['safe'][\"Lilly_chem\"] = safe_1000[\"filter_lilly_demerit\"].sum()/len(safe_1000)\n",
    "scores['safe'][\"filters_NIBR\"] = safe_1000[\"filters_NIBR\"].sum()/len(safe_1000)\n",
    "scores['safe'][\"rule_of_five\"] = safe_1000[\"rule_of_five\"].sum()/len(safe_1000)\n",
    "\n"
   ]
  },
  {
   "cell_type": "markdown",
   "metadata": {},
   "source": [
    "Make them into boxplots"
   ]
  },
  {
   "cell_type": "code",
   "execution_count": 69,
   "metadata": {},
   "outputs": [
    {
     "data": {
      "image/png": "[encoded data removed]",
      "text/plain": [
       "<Figure size 1500x500 with 3 Axes>"
      ]
     },
     "metadata": {},
     "output_type": "display_data"
    }
   ],
   "source": [
    "#make bar plots of the scores color coded by model for each filter\n",
    "\n",
    "fig, ax = plt.subplots(1, 3, figsize=(15, 5))\n",
    "\n",
    "for i, filter in enumerate([\"Lilly_chem\", \"filters_NIBR\", \"rule_of_five\"]):\n",
    "        \n",
    "            sns.barplot(x=models, y=[scores[model][filter] for model in models], ax=ax[i], palette=default_palette)\n",
    "        \n",
    "            ax[i].set_title(filter)\n",
    "            ax[i].set_ylabel('Fraction of Molecules Passing Filter')\n",
    "\n",
    "plt.tight_layout()\n",
    "plt.show()"
   ]
  },
  {
   "cell_type": "code",
   "execution_count": 72,
   "metadata": {},
   "outputs": [
    {
     "data": {
      "image/png": "[encoded data removed]",
      "text/plain": [
       "<Figure size 1500x500 with 3 Axes>"
      ]
     },
     "metadata": {},
     "output_type": "display_data"
    }
   ],
   "source": [
    "#Now we will do 'duplicates', 'good rings', 'chemical stability'\n",
    "\n",
    "fig, ax = plt.subplots(1, 3, figsize=(15, 5))\n",
    "\n",
    "for i, filter in enumerate([\"duplicates\", \"good rings\", \"chemical stability\"]):\n",
    "            \n",
    "                sns.barplot(x=models, y=[scores[model][filter] for model in models], ax=ax[i], palette=default_palette)\n",
    "            \n",
    "                ax[i].set_title(filter)\n",
    "                ax[i].set_ylabel('Fraction of Molecules Passing Filter')\n",
    "\n",
    "plt.tight_layout()"
   ]
  },
  {
   "cell_type": "code",
   "execution_count": 73,
   "metadata": {},
   "outputs": [
    {
     "data": {
      "image/png": "[encoded data removed]",
      "text/plain": [
       "<Figure size 1100x400 with 2 Axes>"
      ]
     },
     "metadata": {},
     "output_type": "display_data"
    }
   ],
   "source": [
    "#Finally we will do 'scaffold novelty', 'skeleton novelty'\n",
    "\n",
    "fig, ax = plt.subplots(1, 2, figsize=(11, 4))\n",
    "ax = ax.flatten()\n",
    "\n",
    "scaffold_novelty = [scores[model]['scaffold novelty'] for model in models]\n",
    "skeleton_novelty = [scores[model]['skeleton novelty'] for model in models]\n",
    "\n",
    "sns.barplot(x=models, y=scaffold_novelty, ax=ax[0], palette=default_palette)\n",
    "ax[0].set_title('Scaffold Novelty')\n",
    "ax[0].set_ylabel('Fraction of Novel Scaffolds')\n",
    "\n",
    "sns.barplot(x=models, y=skeleton_novelty, ax=ax[1], palette=default_palette)\n",
    "ax[1].set_title('Skeleton Novelty')\n",
    "ax[1].set_ylabel('Fraction of Novel Skeletons')\n",
    "\n",
    "plt.tight_layout()\n",
    "plt.show()"
   ]
  }
 ],
 "metadata": {
  "kernelspec": {
   "display_name": "reinvent",
   "language": "python",
   "name": "python3"
  },
  "language_info": {
   "codemirror_mode": {
    "name": "ipython",
    "version": 3
   },
   "file_extension": ".py",
   "mimetype": "text/x-python",
   "name": "python",
   "nbconvert_exporter": "python",
   "pygments_lexer": "ipython3",
   "version": "3.10.13"
  }
 },
 "nbformat": 4,
 "nbformat_minor": 2
}
