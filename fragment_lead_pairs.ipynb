{
 "cells": [
  {
   "cell_type": "code",
   "execution_count": 117,
   "metadata": {},
   "outputs": [
    {
     "name": "stdout",
     "output_type": "stream",
     "text": [
      "Current conda environment: reinvent4\n"
     ]
    }
   ],
   "source": [
    "import os\n",
    "print('Current conda environment:', os.environ['CONDA_DEFAULT_ENV'])\n",
    "\n",
    "import warnings\n",
    "warnings.filterwarnings('ignore')\n",
    "\n",
    "import random\n",
    "random.seed(42)"
   ]
  },
  {
   "cell_type": "code",
   "execution_count": 118,
   "metadata": {},
   "outputs": [],
   "source": [
    "import numpy as np\n",
    "import pandas as pd\n",
    "import matplotlib.pyplot as plt\n",
    "import seaborn as sns\n",
    "\n",
    "from sklearn.decomposition import PCA\n",
    "from sklearn.manifold import TSNE\n",
    "from sklearn.preprocessing import StandardScaler\n",
    "\n",
    "from rdkit import Chem\n",
    "from rdkit.Chem import AllChem\n",
    "import useful_rdkit_utils as uru\n",
    "\n",
    "sns.set(rc = {'figure.figsize':(15,8)})"
   ]
  },
  {
   "cell_type": "code",
   "execution_count": 119,
   "metadata": {},
   "outputs": [],
   "source": [
    "fragment_lead_pairs = pd.read_csv('data/fragment_lead_pairs.csv')"
   ]
  },
  {
   "cell_type": "code",
   "execution_count": 120,
   "metadata": {},
   "outputs": [
    {
     "data": {
      "text/html": [
       "<div>\n",
       "<style scoped>\n",
       "    .dataframe tbody tr th:only-of-type {\n",
       "        vertical-align: middle;\n",
       "    }\n",
       "\n",
       "    .dataframe tbody tr th {\n",
       "        vertical-align: top;\n",
       "    }\n",
       "\n",
       "    .dataframe thead th {\n",
       "        text-align: right;\n",
       "    }\n",
       "</style>\n",
       "<table border=\"1\" class=\"dataframe\">\n",
       "  <thead>\n",
       "    <tr style=\"text-align: right;\">\n",
       "      <th></th>\n",
       "      <th>SMILES</th>\n",
       "      <th>Input_SMILES</th>\n",
       "      <th>Tanimoto</th>\n",
       "      <th>NLL</th>\n",
       "      <th>ring_systems</th>\n",
       "      <th>min_ring</th>\n",
       "      <th>min_freq</th>\n",
       "      <th>PC1</th>\n",
       "      <th>PC2</th>\n",
       "      <th>PC3</th>\n",
       "    </tr>\n",
       "  </thead>\n",
       "  <tbody>\n",
       "    <tr>\n",
       "      <th>0</th>\n",
       "      <td>CC(C)(C)c1c[nH]c(=O)c(N)c1</td>\n",
       "      <td>Nc1cc(C(F)(F)F)c[nH]c1=O</td>\n",
       "      <td>0.550000</td>\n",
       "      <td>2.425028</td>\n",
       "      <td>[(O=c1cccc[nH]1, 11659)]</td>\n",
       "      <td>O=c1cccc[nH]1</td>\n",
       "      <td>11659</td>\n",
       "      <td>-1.581998</td>\n",
       "      <td>-1.044067</td>\n",
       "      <td>-0.562223</td>\n",
       "    </tr>\n",
       "    <tr>\n",
       "      <th>1</th>\n",
       "      <td>Nc1cc(C(F)(F)F)c[nH]c1=O</td>\n",
       "      <td>Nc1cc(C(F)(F)F)c[nH]c1=O</td>\n",
       "      <td>1.000000</td>\n",
       "      <td>2.543555</td>\n",
       "      <td>[(O=c1cccc[nH]1, 11659)]</td>\n",
       "      <td>O=c1cccc[nH]1</td>\n",
       "      <td>11659</td>\n",
       "      <td>0.439375</td>\n",
       "      <td>-0.034436</td>\n",
       "      <td>-0.243780</td>\n",
       "    </tr>\n",
       "    <tr>\n",
       "      <th>2</th>\n",
       "      <td>CCc1c[nH]c(=O)c(N)c1</td>\n",
       "      <td>Nc1cc(C(F)(F)F)c[nH]c1=O</td>\n",
       "      <td>0.450000</td>\n",
       "      <td>3.004223</td>\n",
       "      <td>[(O=c1cccc[nH]1, 11659)]</td>\n",
       "      <td>O=c1cccc[nH]1</td>\n",
       "      <td>11659</td>\n",
       "      <td>-3.494022</td>\n",
       "      <td>-1.463871</td>\n",
       "      <td>-2.555098</td>\n",
       "    </tr>\n",
       "    <tr>\n",
       "      <th>3</th>\n",
       "      <td>CCNc1cc(C(F)(F)F)c[nH]c1=O</td>\n",
       "      <td>Nc1cc(C(F)(F)F)c[nH]c1=O</td>\n",
       "      <td>0.581395</td>\n",
       "      <td>3.075449</td>\n",
       "      <td>[(O=c1cccc[nH]1, 11659)]</td>\n",
       "      <td>O=c1cccc[nH]1</td>\n",
       "      <td>11659</td>\n",
       "      <td>8.112647</td>\n",
       "      <td>-0.834599</td>\n",
       "      <td>-2.909139</td>\n",
       "    </tr>\n",
       "    <tr>\n",
       "      <th>4</th>\n",
       "      <td>Nc1cc(CC(F)(F)F)c[nH]c1=O</td>\n",
       "      <td>Nc1cc(C(F)(F)F)c[nH]c1=O</td>\n",
       "      <td>0.625000</td>\n",
       "      <td>3.432559</td>\n",
       "      <td>[(O=c1cccc[nH]1, 11659)]</td>\n",
       "      <td>O=c1cccc[nH]1</td>\n",
       "      <td>11659</td>\n",
       "      <td>-3.181488</td>\n",
       "      <td>0.412028</td>\n",
       "      <td>-1.894779</td>\n",
       "    </tr>\n",
       "    <tr>\n",
       "      <th>...</th>\n",
       "      <td>...</td>\n",
       "      <td>...</td>\n",
       "      <td>...</td>\n",
       "      <td>...</td>\n",
       "      <td>...</td>\n",
       "      <td>...</td>\n",
       "      <td>...</td>\n",
       "      <td>...</td>\n",
       "      <td>...</td>\n",
       "      <td>...</td>\n",
       "    </tr>\n",
       "    <tr>\n",
       "      <th>422</th>\n",
       "      <td>CC1CN(c2cc(C(F)(F)F)c[nH]c2=O)C(=O)O1</td>\n",
       "      <td>Nc1cc(C(F)(F)F)c[nH]c1=O</td>\n",
       "      <td>0.441860</td>\n",
       "      <td>9.186886</td>\n",
       "      <td>[(O=C1NCCO1, 6154), (O=c1cccc[nH]1, 11659)]</td>\n",
       "      <td>O=C1NCCO1</td>\n",
       "      <td>6154</td>\n",
       "      <td>6.962728</td>\n",
       "      <td>-6.175534</td>\n",
       "      <td>15.898130</td>\n",
       "    </tr>\n",
       "    <tr>\n",
       "      <th>423</th>\n",
       "      <td>O=C(Nc1cc(C(F)(F)F)c[nH]c1=O)C1CC1</td>\n",
       "      <td>Nc1cc(C(F)(F)F)c[nH]c1=O</td>\n",
       "      <td>0.360000</td>\n",
       "      <td>9.195277</td>\n",
       "      <td>[(O=c1cccc[nH]1, 11659), (C1CC1, 70914)]</td>\n",
       "      <td>O=c1cccc[nH]1</td>\n",
       "      <td>11659</td>\n",
       "      <td>9.053248</td>\n",
       "      <td>-2.148970</td>\n",
       "      <td>-2.991672</td>\n",
       "    </tr>\n",
       "    <tr>\n",
       "      <th>424</th>\n",
       "      <td>CC(C)(C)[C@H]1CN(c2cc(C(F)(F)F)c[nH]c2=O)C(=O)O1</td>\n",
       "      <td>Nc1cc(C(F)(F)F)c[nH]c1=O</td>\n",
       "      <td>0.404255</td>\n",
       "      <td>9.203863</td>\n",
       "      <td>[(O=C1NCCO1, 6154), (O=c1cccc[nH]1, 11659)]</td>\n",
       "      <td>O=C1NCCO1</td>\n",
       "      <td>6154</td>\n",
       "      <td>6.978867</td>\n",
       "      <td>-6.067713</td>\n",
       "      <td>15.316008</td>\n",
       "    </tr>\n",
       "    <tr>\n",
       "      <th>425</th>\n",
       "      <td>Nc1cc(Cn2cc(C(F)(F)F)cc(N)c2=O)c[nH]c1=O</td>\n",
       "      <td>Nc1cc(C(F)(F)F)c[nH]c1=O</td>\n",
       "      <td>NaN</td>\n",
       "      <td>9.244457</td>\n",
       "      <td>[(O=c1cccc[nH]1, 11659), (O=c1cccc[nH]1, 11659)]</td>\n",
       "      <td>O=c1cccc[nH]1</td>\n",
       "      <td>11659</td>\n",
       "      <td>-1.282264</td>\n",
       "      <td>9.323821</td>\n",
       "      <td>3.072757</td>\n",
       "    </tr>\n",
       "    <tr>\n",
       "      <th>426</th>\n",
       "      <td>Nc1cc(C(F)(F)F)c(-c2ccc(C(F)(F)F)cc2)[nH]c1=O</td>\n",
       "      <td>Nc1cc(C(F)(F)F)c[nH]c1=O</td>\n",
       "      <td>0.583333</td>\n",
       "      <td>9.538368</td>\n",
       "      <td>[(O=c1cccc[nH]1, 11659), (c1ccccc1, 2260082)]</td>\n",
       "      <td>O=c1cccc[nH]1</td>\n",
       "      <td>11659</td>\n",
       "      <td>-1.575264</td>\n",
       "      <td>8.392597</td>\n",
       "      <td>1.897556</td>\n",
       "    </tr>\n",
       "  </tbody>\n",
       "</table>\n",
       "<p>425 rows × 10 columns</p>\n",
       "</div>"
      ],
      "text/plain": [
       "                                               SMILES  \\\n",
       "0                          CC(C)(C)c1c[nH]c(=O)c(N)c1   \n",
       "1                            Nc1cc(C(F)(F)F)c[nH]c1=O   \n",
       "2                                CCc1c[nH]c(=O)c(N)c1   \n",
       "3                          CCNc1cc(C(F)(F)F)c[nH]c1=O   \n",
       "4                           Nc1cc(CC(F)(F)F)c[nH]c1=O   \n",
       "..                                                ...   \n",
       "422             CC1CN(c2cc(C(F)(F)F)c[nH]c2=O)C(=O)O1   \n",
       "423                O=C(Nc1cc(C(F)(F)F)c[nH]c1=O)C1CC1   \n",
       "424  CC(C)(C)[C@H]1CN(c2cc(C(F)(F)F)c[nH]c2=O)C(=O)O1   \n",
       "425          Nc1cc(Cn2cc(C(F)(F)F)cc(N)c2=O)c[nH]c1=O   \n",
       "426     Nc1cc(C(F)(F)F)c(-c2ccc(C(F)(F)F)cc2)[nH]c1=O   \n",
       "\n",
       "                 Input_SMILES  Tanimoto       NLL  \\\n",
       "0    Nc1cc(C(F)(F)F)c[nH]c1=O  0.550000  2.425028   \n",
       "1    Nc1cc(C(F)(F)F)c[nH]c1=O  1.000000  2.543555   \n",
       "2    Nc1cc(C(F)(F)F)c[nH]c1=O  0.450000  3.004223   \n",
       "3    Nc1cc(C(F)(F)F)c[nH]c1=O  0.581395  3.075449   \n",
       "4    Nc1cc(C(F)(F)F)c[nH]c1=O  0.625000  3.432559   \n",
       "..                        ...       ...       ...   \n",
       "422  Nc1cc(C(F)(F)F)c[nH]c1=O  0.441860  9.186886   \n",
       "423  Nc1cc(C(F)(F)F)c[nH]c1=O  0.360000  9.195277   \n",
       "424  Nc1cc(C(F)(F)F)c[nH]c1=O  0.404255  9.203863   \n",
       "425  Nc1cc(C(F)(F)F)c[nH]c1=O       NaN  9.244457   \n",
       "426  Nc1cc(C(F)(F)F)c[nH]c1=O  0.583333  9.538368   \n",
       "\n",
       "                                         ring_systems       min_ring min_freq  \\\n",
       "0                            [(O=c1cccc[nH]1, 11659)]  O=c1cccc[nH]1    11659   \n",
       "1                            [(O=c1cccc[nH]1, 11659)]  O=c1cccc[nH]1    11659   \n",
       "2                            [(O=c1cccc[nH]1, 11659)]  O=c1cccc[nH]1    11659   \n",
       "3                            [(O=c1cccc[nH]1, 11659)]  O=c1cccc[nH]1    11659   \n",
       "4                            [(O=c1cccc[nH]1, 11659)]  O=c1cccc[nH]1    11659   \n",
       "..                                                ...            ...      ...   \n",
       "422       [(O=C1NCCO1, 6154), (O=c1cccc[nH]1, 11659)]      O=C1NCCO1     6154   \n",
       "423          [(O=c1cccc[nH]1, 11659), (C1CC1, 70914)]  O=c1cccc[nH]1    11659   \n",
       "424       [(O=C1NCCO1, 6154), (O=c1cccc[nH]1, 11659)]      O=C1NCCO1     6154   \n",
       "425  [(O=c1cccc[nH]1, 11659), (O=c1cccc[nH]1, 11659)]  O=c1cccc[nH]1    11659   \n",
       "426     [(O=c1cccc[nH]1, 11659), (c1ccccc1, 2260082)]  O=c1cccc[nH]1    11659   \n",
       "\n",
       "          PC1       PC2        PC3  \n",
       "0   -1.581998 -1.044067  -0.562223  \n",
       "1    0.439375 -0.034436  -0.243780  \n",
       "2   -3.494022 -1.463871  -2.555098  \n",
       "3    8.112647 -0.834599  -2.909139  \n",
       "4   -3.181488  0.412028  -1.894779  \n",
       "..        ...       ...        ...  \n",
       "422  6.962728 -6.175534  15.898130  \n",
       "423  9.053248 -2.148970  -2.991672  \n",
       "424  6.978867 -6.067713  15.316008  \n",
       "425 -1.282264  9.323821   3.072757  \n",
       "426 -1.575264  8.392597   1.897556  \n",
       "\n",
       "[425 rows x 10 columns]"
      ]
     },
     "execution_count": 120,
     "metadata": {},
     "output_type": "execute_result"
    }
   ],
   "source": [
    "df"
   ]
  },
  {
   "cell_type": "code",
   "execution_count": 121,
   "metadata": {},
   "outputs": [],
   "source": [
    "mol_smiles, lead_smiles = fragment_lead_pairs['Fragment'][1], fragment_lead_pairs['Lead'][1]"
   ]
  },
  {
   "cell_type": "code",
   "execution_count": 122,
   "metadata": {},
   "outputs": [],
   "source": [
    "f = open(\"data/mol2mol.smi\", \"w\")\n",
    "f.write(mol_smiles)\n",
    "f.close()"
   ]
  },
  {
   "cell_type": "code",
   "execution_count": 123,
   "metadata": {},
   "outputs": [
    {
     "name": "stdout",
     "output_type": "stream",
     "text": [
      "21:42:07 <INFO> Started REINVENT 4.3.5 (C) AstraZeneca 2017, 2023 on 2024-06-30\n",
      "21:42:07 <INFO> Command line: /home/fts_g_ucla_edu/.conda/envs/reinvent4/bin/reinvent sampling.toml --seed 42\n",
      "21:42:07 <INFO> User fts_g_ucla_edu on host rips-relay-2024-vm\n",
      "21:42:07 <INFO> Python version 3.10.14\n",
      "21:42:07 <INFO> PyTorch version 2.2.1+cu121, git 6c8c5ad5eaf47a62fafbb4a2747198cbffbf1ff0\n",
      "21:42:07 <INFO> PyTorch compiled with CUDA version 12.1\n",
      "21:42:07 <INFO> RDKit version 2023.09.5\n",
      "21:42:07 <INFO> Platform Linux-6.5.0-1018-gcp-x86_64-with-glibc2.35\n",
      "21:42:07 <INFO> CUDA driver version 550.54.15\n",
      "21:42:07 <INFO> Number of PyTorch CUDA devices 2\n",
      "21:42:07 <WARN> 'use_cuda' is deprecated, use 'device' instead\n",
      "21:42:07 <INFO> Using CUDA device:0 Tesla T4\n",
      "21:42:07 <INFO> GPU memory: 14814 MiB free, 14917 MiB total\n",
      "21:42:07 <INFO> Set seed for all random generators to None\n",
      "21:42:07 <INFO> Writing JSON config file to /home/fts_g_ucla_edu/Projects/wvir/fragment_lead_pairs/_sampling.json\n",
      "21:42:07 <INFO> Starting Sampling\n",
      "21:42:07 <INFO> /home/fts_g_ucla_edu/Projects/testdir/REINVENT4/priors/mol2mol_medium_similarity.prior has valid hash:\n",
      "{ 'comments': [],\n",
      "  'creation_date': 0,\n",
      "  'date_format': 'UNIX epoch',\n",
      "  'hash_id': 'b67da12a3b4abf1ea4f6d24c0ac58d50',\n",
      "  'hash_id_format': 'xxhash.xxh3_128_hex 3.4.1',\n",
      "  'model_id': '0c2799f6b12342b3a31b97c755f8f13a',\n",
      "  'model_id_format': 'uuid.uuid4 3.10.12',\n",
      "  'origina_data_source': 'ChEMBL 28',\n",
      "  'updates': []}\n",
      "21:42:08 <INFO> Number of network parameters: 17,462,400\n",
      "21:42:08 <INFO> Using generator Mol2Mol\n",
      "21:42:08 <INFO> Writing sampled SMILES to CSV file sampling.csv\n",
      "21:42:08 <WARN> randomize_smiles is set to be True by user. But the model was trained using canonical SMILESwhere randomize_smiles might undermine the performance (this needs more investigation), but randomize_smiles is reset to be False for now.\n",
      "21:42:08 <INFO> Sampling 500 SMILES from model /home/fts_g_ucla_edu/Projects/testdir/REINVENT4/priors/mol2mol_medium_similarity.prior\n",
      "21:42:08 <WARN> Sampling with beam search may be very slow\n",
      "21:42:13 <INFO> Time taken in seconds: 4\n",
      "21:42:15 <INFO> Peak main memory usage: 1562.035 MiB\n",
      "21:42:15 <INFO> Finished REINVENT on 2024-06-30\n"
     ]
    }
   ],
   "source": [
    "!reinvent sampling.toml --seed 42"
   ]
  },
  {
   "cell_type": "code",
   "execution_count": 124,
   "metadata": {},
   "outputs": [],
   "source": [
    "analogs = pd.read_csv('sampling.csv')"
   ]
  },
  {
   "cell_type": "code",
   "execution_count": 125,
   "metadata": {},
   "outputs": [
    {
     "data": {
      "text/html": [
       "<div>\n",
       "<style scoped>\n",
       "    .dataframe tbody tr th:only-of-type {\n",
       "        vertical-align: middle;\n",
       "    }\n",
       "\n",
       "    .dataframe tbody tr th {\n",
       "        vertical-align: top;\n",
       "    }\n",
       "\n",
       "    .dataframe thead th {\n",
       "        text-align: right;\n",
       "    }\n",
       "</style>\n",
       "<table border=\"1\" class=\"dataframe\">\n",
       "  <thead>\n",
       "    <tr style=\"text-align: right;\">\n",
       "      <th></th>\n",
       "      <th>SMILES</th>\n",
       "      <th>Input_SMILES</th>\n",
       "      <th>Tanimoto</th>\n",
       "      <th>NLL</th>\n",
       "    </tr>\n",
       "  </thead>\n",
       "  <tbody>\n",
       "    <tr>\n",
       "      <th>0</th>\n",
       "      <td>CN1C[C@@H](O)[C@H](c2ccccc2)C1=O</td>\n",
       "      <td>Cc1ccc([C@H]2C(=O)N(C)C[C@H]2O)cc1</td>\n",
       "      <td>0.600000</td>\n",
       "      <td>2.973137</td>\n",
       "    </tr>\n",
       "    <tr>\n",
       "      <th>1</th>\n",
       "      <td>CN1C[C@@H](O)[C@@H](c2ccccc2)C1=O</td>\n",
       "      <td>Cc1ccc([C@H]2C(=O)N(C)C[C@H]2O)cc1</td>\n",
       "      <td>0.600000</td>\n",
       "      <td>3.316742</td>\n",
       "    </tr>\n",
       "    <tr>\n",
       "      <th>2</th>\n",
       "      <td>CN1C[C@H](O)[C@@H](c2ccccc2)C1=O</td>\n",
       "      <td>Cc1ccc([C@H]2C(=O)N(C)C[C@H]2O)cc1</td>\n",
       "      <td>0.600000</td>\n",
       "      <td>3.421726</td>\n",
       "    </tr>\n",
       "    <tr>\n",
       "      <th>3</th>\n",
       "      <td>CN1C[C@@H](O)[C@H](c2cccc(Cl)c2)C1=O</td>\n",
       "      <td>Cc1ccc([C@H]2C(=O)N(C)C[C@H]2O)cc1</td>\n",
       "      <td>0.576923</td>\n",
       "      <td>3.754017</td>\n",
       "    </tr>\n",
       "    <tr>\n",
       "      <th>4</th>\n",
       "      <td>COc1ccc([C@H]2C(=O)N(C)C[C@@H]2O)cc1OC</td>\n",
       "      <td>Cc1ccc([C@H]2C(=O)N(C)C[C@H]2O)cc1</td>\n",
       "      <td>0.525424</td>\n",
       "      <td>3.949009</td>\n",
       "    </tr>\n",
       "  </tbody>\n",
       "</table>\n",
       "</div>"
      ],
      "text/plain": [
       "                                   SMILES                        Input_SMILES  \\\n",
       "0        CN1C[C@@H](O)[C@H](c2ccccc2)C1=O  Cc1ccc([C@H]2C(=O)N(C)C[C@H]2O)cc1   \n",
       "1       CN1C[C@@H](O)[C@@H](c2ccccc2)C1=O  Cc1ccc([C@H]2C(=O)N(C)C[C@H]2O)cc1   \n",
       "2        CN1C[C@H](O)[C@@H](c2ccccc2)C1=O  Cc1ccc([C@H]2C(=O)N(C)C[C@H]2O)cc1   \n",
       "3    CN1C[C@@H](O)[C@H](c2cccc(Cl)c2)C1=O  Cc1ccc([C@H]2C(=O)N(C)C[C@H]2O)cc1   \n",
       "4  COc1ccc([C@H]2C(=O)N(C)C[C@@H]2O)cc1OC  Cc1ccc([C@H]2C(=O)N(C)C[C@H]2O)cc1   \n",
       "\n",
       "   Tanimoto       NLL  \n",
       "0  0.600000  2.973137  \n",
       "1  0.600000  3.316742  \n",
       "2  0.600000  3.421726  \n",
       "3  0.576923  3.754017  \n",
       "4  0.525424  3.949009  "
      ]
     },
     "execution_count": 125,
     "metadata": {},
     "output_type": "execute_result"
    }
   ],
   "source": [
    "analogs.head()"
   ]
  },
  {
   "cell_type": "code",
   "execution_count": 126,
   "metadata": {},
   "outputs": [
    {
     "data": {
      "text/plain": [
       "0.5785740335154668"
      ]
     },
     "execution_count": 126,
     "metadata": {},
     "output_type": "execute_result"
    }
   ],
   "source": [
    "analogs['Tanimoto'].mean()"
   ]
  },
  {
   "cell_type": "code",
   "execution_count": 127,
   "metadata": {},
   "outputs": [
    {
     "name": "stdout",
     "output_type": "stream",
     "text": [
      "False\n"
     ]
    }
   ],
   "source": [
    "print(lead_smiles in analogs['SMILES'].to_list())"
   ]
  },
  {
   "cell_type": "code",
   "execution_count": 128,
   "metadata": {},
   "outputs": [
    {
     "data": {
      "text/plain": [
       "(493, 481)"
      ]
     },
     "execution_count": 128,
     "metadata": {},
     "output_type": "execute_result"
    }
   ],
   "source": [
    "ring_system_lookup = uru.RingSystemLookup.default()\n",
    "analogs['ring_systems'] = analogs.SMILES.apply(ring_system_lookup.process_smiles)\n",
    "analogs[['min_ring','min_freq']] = analogs.ring_systems.apply(uru.get_min_ring_frequency).to_list()\n",
    "df = analogs.query('min_freq > 100').copy()\n",
    "len(analogs), len(df)"
   ]
  },
  {
   "cell_type": "code",
   "execution_count": 129,
   "metadata": {},
   "outputs": [],
   "source": [
    "smiles = df['SMILES'].to_numpy()\n",
    "\n",
    "mols = [Chem.MolFromSmiles(smile) for smile in smiles]\n",
    "\n",
    "lead_mol = Chem.MolFromSmiles(lead_smiles)"
   ]
  },
  {
   "cell_type": "code",
   "execution_count": 130,
   "metadata": {},
   "outputs": [],
   "source": [
    "fpgen = AllChem.GetMorganGenerator()\n",
    "\n",
    "fingerprints = np.array([fpgen.GetFingerprint(mol).ToList() for mol in mols])\n",
    "\n",
    "lead_fp = np.array([fpgen.GetFingerprint(lead_mol).ToList()])\n",
    "\n",
    "fingerprints = np.vstack((fingerprints, lead_fp))"
   ]
  },
  {
   "cell_type": "code",
   "execution_count": 131,
   "metadata": {},
   "outputs": [],
   "source": [
    "scaler = StandardScaler()\n",
    "X = scaler.fit_transform(X)"
   ]
  },
  {
   "cell_type": "code",
   "execution_count": 132,
   "metadata": {},
   "outputs": [],
   "source": [
    "pca = PCA(n_components=3, random_state=0)\n",
    "pca_fps = pca.fit_transform(X)"
   ]
  },
  {
   "cell_type": "code",
   "execution_count": 135,
   "metadata": {},
   "outputs": [
    {
     "data": {
      "image/png": "[encoded data removed]",
      "text/plain": [
       "<Figure size 1600x800 with 1 Axes>"
      ]
     },
     "metadata": {},
     "output_type": "display_data"
    }
   ],
   "source": [
    "fig, ax = plt.subplots(ncols=1, nrows=1, figsize=(16,8))\n",
    "\n",
    "ax.scatter(pca_fps.T[0][:-1], pca_fps.T[1][:-1], s=5, c='midnightblue', label='Generated')\n",
    "ax.scatter(pca_fps.T[0][-1], pca_fps.T[1][-1], s=45, c='red', marker='x', label='Lead')\n",
    "ax.scatter(pca_fps.T[0][1], pca_fps.T[1][1], s=45, c='darkgreen', marker='x', label='Initial Fragment')\n",
    "\n",
    "\n",
    "ax.legend()\n",
    "\n",
    "fig.suptitle('Distribution of Generated Molecules from Fragment-Lead Pair');"
   ]
  },
  {
   "cell_type": "code",
   "execution_count": 134,
   "metadata": {},
   "outputs": [
    {
     "data": {
      "text/plain": [
       "(482, 2048)"
      ]
     },
     "execution_count": 134,
     "metadata": {},
     "output_type": "execute_result"
    }
   ],
   "source": [
    "fingerprints.shape"
   ]
  },
  {
   "cell_type": "code",
   "execution_count": null,
   "metadata": {},
   "outputs": [],
   "source": []
  }
 ],
 "metadata": {
  "kernelspec": {
   "display_name": "reinvent4",
   "language": "python",
   "name": "python3"
  },
  "language_info": {
   "codemirror_mode": {
    "name": "ipython",
    "version": 3
   },
   "file_extension": ".py",
   "mimetype": "text/x-python",
   "name": "python",
   "nbconvert_exporter": "python",
   "pygments_lexer": "ipython3",
   "version": "3.10.14"
  }
 },
 "nbformat": 4,
 "nbformat_minor": 2
}
