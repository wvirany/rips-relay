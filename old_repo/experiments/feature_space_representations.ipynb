{
 "cells": [
  {
   "cell_type": "code",
   "execution_count": null,
   "metadata": {},
   "outputs": [],
   "source": [
    "import subprocess\n",
    "import os\n",
    "print('Current conda environment:', os.environ['CONDA_DEFAULT_ENV'])\n",
    "os.environ['TOKENIZERS_PARALLELISM'] = \"false\"\n",
    "\n",
    "cwd = os.getcwd()\n",
    "print(cwd)\n",
    "\n",
    "import warnings\n",
    "warnings.filterwarnings('ignore')\n",
    "\n",
    "import random\n",
    "random.seed(42)"
   ]
  },
  {
   "cell_type": "code",
   "execution_count": null,
   "metadata": {},
   "outputs": [],
   "source": [
    "import pandas as pd\n",
    "import numpy as np\n",
    "\n",
    "import matplotlib.pyplot as plt\n",
    "import seaborn as sns\n",
    "sns.set(rc = {'figure.figsize':(15,8)})\n",
    "\n",
    "import mols2grid\n",
    "\n",
    "from rdkit import Chem\n",
    "from rdkit.Chem.Draw import MolsToGridImage\n",
    "\n",
    "from sklearn.decomposition import PCA\n",
    "from sklearn.manifold import TSNE"
   ]
  },
  {
   "cell_type": "code",
   "execution_count": null,
   "metadata": {},
   "outputs": [],
   "source": [
    "features = pd.read_csv('data/features', index_col=0)"
   ]
  },
  {
   "cell_type": "code",
   "execution_count": null,
   "metadata": {},
   "outputs": [],
   "source": [
    "features.head()"
   ]
  },
  {
   "cell_type": "code",
   "execution_count": null,
   "metadata": {},
   "outputs": [],
   "source": [
    "features['Docking score'] = features['Docking score'].abs()"
   ]
  },
  {
   "cell_type": "code",
   "execution_count": null,
   "metadata": {},
   "outputs": [],
   "source": [
    "ax = features.plot.scatter(x = 'QED',\n",
    "                      y = 'Docking score',\n",
    "                      s=5,\n",
    "                      c='Model',\n",
    "                      colormap='tab10',\n",
    "                      colorbar=False,\n",
    "                      legend=True)\n",
    "\n",
    "ax.set_title('Docking Score vs. QED', fontsize=18);"
   ]
  },
  {
   "cell_type": "code",
   "execution_count": null,
   "metadata": {},
   "outputs": [],
   "source": [
    "ax = features.plot.scatter(x = 'Synthetic Complexity',\n",
    "                      y = 'Docking score',\n",
    "                      s=5,\n",
    "                      c='Model',\n",
    "                      colormap='tab10',\n",
    "                      colorbar=False,\n",
    "                      legend=True)\n",
    "\n",
    "ax.set_title('Docking Score vs. Synthetic Complexity', fontsize=18);"
   ]
  },
  {
   "cell_type": "code",
   "execution_count": null,
   "metadata": {},
   "outputs": [],
   "source": [
    "ax = features.plot.scatter(x = 'RMSD',\n",
    "                      y = 'Docking score',\n",
    "                      s=5,\n",
    "                      c='Model',\n",
    "                      colormap='tab10',\n",
    "                      colorbar=False,\n",
    "                      legend=True)\n",
    "\n",
    "ax.set_title('Docking Score vs. RMSD', fontsize=18);"
   ]
  },
  {
   "cell_type": "code",
   "execution_count": null,
   "metadata": {},
   "outputs": [],
   "source": [
    "ax = features.plot.scatter(x = 'Tanimoto',\n",
    "                      y = 'Docking score',\n",
    "                      s=5,\n",
    "                      c='Model',\n",
    "                      colormap='tab10',\n",
    "                      colorbar=False,\n",
    "                      legend=True)\n",
    "\n",
    "ax.set_title('Docking Score vs. Tanimoto Similarity', fontsize=18);"
   ]
  },
  {
   "cell_type": "code",
   "execution_count": null,
   "metadata": {},
   "outputs": [],
   "source": [
    "ax = features.plot.scatter(x = 'Interaction Weight Ratio',\n",
    "                      y = 'Docking score',\n",
    "                      s=5,\n",
    "                      c='Model',\n",
    "                      colormap='tab10',\n",
    "                      colorbar=False,\n",
    "                      legend=True)\n",
    "\n",
    "ax.set_title('Docking Score vs. Interaction Weight Ratio', fontsize=18);"
   ]
  },
  {
   "cell_type": "code",
   "execution_count": null,
   "metadata": {},
   "outputs": [],
   "source": [
    "ax = features.plot.scatter(x = 'Weighted Interaction Similarity',\n",
    "                      y = 'Docking score',\n",
    "                      s=5,\n",
    "                      c='Model',\n",
    "                      colormap='tab10',\n",
    "                      colorbar=False,\n",
    "                      legend=True)\n",
    "\n",
    "ax.set_title('Docking Score vs. Weighted Interaction Similarity', fontsize=18);"
   ]
  },
  {
   "cell_type": "code",
   "execution_count": null,
   "metadata": {},
   "outputs": [],
   "source": [
    "ax = features.plot.scatter(x = 'QED',\n",
    "                      y = 'Synthetic Complexity',\n",
    "                      s=5,\n",
    "                      c='Model',\n",
    "                      colormap='tab10',\n",
    "                      colorbar=False,\n",
    "                      legend=True)\n",
    "\n",
    "ax.set_title('Synthetic Complexity vs. QED', fontsize=18);"
   ]
  },
  {
   "cell_type": "code",
   "execution_count": null,
   "metadata": {},
   "outputs": [],
   "source": [
    "ax = features.plot.scatter(x = 'QED',\n",
    "                      y = 'Tanimoto',\n",
    "                      s=5,\n",
    "                      c='Model',\n",
    "                      colormap='tab10',\n",
    "                      colorbar=False,\n",
    "                      legend=True)\n",
    "\n",
    "ax.set_title('Tanimoto Similarity vs. QED', fontsize=18);"
   ]
  },
  {
   "cell_type": "code",
   "execution_count": null,
   "metadata": {},
   "outputs": [],
   "source": [
    "ax = features.plot.scatter(x = 'Synthetic Complexity',\n",
    "                      y = 'Tanimoto',\n",
    "                      s=5,\n",
    "                      c='Model',\n",
    "                      colormap='tab10',\n",
    "                      colorbar=False,\n",
    "                      legend=True)\n",
    "\n",
    "ax.set_title('Tanimoto Similarity vs. Synthetic Complexity', fontsize=18);"
   ]
  }
 ],
 "metadata": {
  "kernelspec": {
   "display_name": "reinvent",
   "language": "python",
   "name": "python3"
  },
  "language_info": {
   "codemirror_mode": {
    "name": "ipython",
    "version": 3
   },
   "file_extension": ".py",
   "mimetype": "text/x-python",
   "name": "python",
   "nbconvert_exporter": "python",
   "pygments_lexer": "ipython3",
   "version": "3.10.13"
  }
 },
 "nbformat": 4,
 "nbformat_minor": 2
}
