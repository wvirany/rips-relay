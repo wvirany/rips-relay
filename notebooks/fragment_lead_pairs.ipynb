{
 "cells": [
  {
   "cell_type": "code",
   "execution_count": 1,
   "metadata": {},
   "outputs": [
    {
     "name": "stdout",
     "output_type": "stream",
     "text": [
      "Current conda environment: reinvent4\n"
     ]
    }
   ],
   "source": [
    "import os\n",
    "print('Current conda environment:', os.environ['CONDA_DEFAULT_ENV'])\n",
    "\n",
    "import warnings\n",
    "warnings.filterwarnings('ignore')\n",
    "\n",
    "import random\n",
    "random.seed(42)"
   ]
  },
  {
   "cell_type": "code",
   "execution_count": 2,
   "metadata": {},
   "outputs": [],
   "source": [
    "import numpy as np\n",
    "import pandas as pd\n",
    "import matplotlib.pyplot as plt\n",
    "import seaborn as sns\n",
    "\n",
    "from sklearn.decomposition import PCA\n",
    "from sklearn.manifold import TSNE\n",
    "from sklearn.preprocessing import StandardScaler\n",
    "\n",
    "from rdkit import Chem\n",
    "from rdkit.Chem import AllChem\n",
    "import useful_rdkit_utils as uru\n",
    "\n",
    "sns.set(rc = {'figure.figsize':(15,8)})"
   ]
  },
  {
   "cell_type": "code",
   "execution_count": 5,
   "metadata": {},
   "outputs": [],
   "source": [
    "fragment_lead_pairs = pd.read_csv('data/fragment_lead_pairs.csv')"
   ]
  },
  {
   "cell_type": "code",
   "execution_count": 6,
   "metadata": {},
   "outputs": [
    {
     "data": {
      "text/html": [
       "<div>\n",
       "<style scoped>\n",
       "    .dataframe tbody tr th:only-of-type {\n",
       "        vertical-align: middle;\n",
       "    }\n",
       "\n",
       "    .dataframe tbody tr th {\n",
       "        vertical-align: top;\n",
       "    }\n",
       "\n",
       "    .dataframe thead th {\n",
       "        text-align: right;\n",
       "    }\n",
       "</style>\n",
       "<table border=\"1\" class=\"dataframe\">\n",
       "  <thead>\n",
       "    <tr style=\"text-align: right;\">\n",
       "      <th></th>\n",
       "      <th>Year</th>\n",
       "      <th>Table_Entry</th>\n",
       "      <th>Fragment</th>\n",
       "      <th>Lead</th>\n",
       "    </tr>\n",
       "  </thead>\n",
       "  <tbody>\n",
       "    <tr>\n",
       "      <th>0</th>\n",
       "      <td>2022</td>\n",
       "      <td>1</td>\n",
       "      <td>Nc1cc(c[nH]c1=O)C(F)(F)F</td>\n",
       "      <td>N[C@H]1CCN(Cc2cccc(c2)c3ccc4c(=O)[nH]ccc4c3)C1</td>\n",
       "    </tr>\n",
       "    <tr>\n",
       "      <th>1</th>\n",
       "      <td>2022</td>\n",
       "      <td>2</td>\n",
       "      <td>CN1C[C@@H](O)[C@H](C1=O)c2ccc(C)cc2</td>\n",
       "      <td>COc1ccc(CN2C[C@H](O)[C@](CCC(C)C)(C2=O)c3ccc(c...</td>\n",
       "    </tr>\n",
       "    <tr>\n",
       "      <th>2</th>\n",
       "      <td>2022</td>\n",
       "      <td>3</td>\n",
       "      <td>Fc1cncc(c1)N2C(=O)N[C@@H](Cc3ccccc3)C2=O</td>\n",
       "      <td>Clc1ccccc1C2CC3(C2)NC(=O)N(C3=O)c4cncc5ccccc45</td>\n",
       "    </tr>\n",
       "    <tr>\n",
       "      <th>3</th>\n",
       "      <td>2022</td>\n",
       "      <td>4</td>\n",
       "      <td>c1ccc(cc1)c2ccccc2c3nnn[nH]3</td>\n",
       "      <td>Cc1ccc(cc1)c2cccc(c2c3nnn[nH]3)S(=O)(=O)N</td>\n",
       "    </tr>\n",
       "    <tr>\n",
       "      <th>4</th>\n",
       "      <td>2022</td>\n",
       "      <td>5</td>\n",
       "      <td>CN(C)C(=O)C(N)Cc1ccc(F)cc1</td>\n",
       "      <td>Clc1ccc(cc1)[C@H]2CN[C@H](C2)C(=O)N3CCN(CC3)c4...</td>\n",
       "    </tr>\n",
       "    <tr>\n",
       "      <th>...</th>\n",
       "      <td>...</td>\n",
       "      <td>...</td>\n",
       "      <td>...</td>\n",
       "      <td>...</td>\n",
       "    </tr>\n",
       "    <tr>\n",
       "      <th>162</th>\n",
       "      <td>2016</td>\n",
       "      <td>23</td>\n",
       "      <td>CC1Cn2c(cc3cccc(S1)c23)C(=O)O</td>\n",
       "      <td>Cc1cc(OCCCc2c(C(=O)O)n3CCCc4c(Cl)ccc2c43)cc(C)...</td>\n",
       "    </tr>\n",
       "    <tr>\n",
       "      <th>163</th>\n",
       "      <td>2016</td>\n",
       "      <td>24</td>\n",
       "      <td>COC(=O)[C@@H](N)Cc1c[nH]c2ccccc12</td>\n",
       "      <td>Clc1sc(cc1Br)S(=O)(=O)NCCc2c[nH]c3ccccc23</td>\n",
       "    </tr>\n",
       "    <tr>\n",
       "      <th>164</th>\n",
       "      <td>2016</td>\n",
       "      <td>25</td>\n",
       "      <td>OC(=O)c1cc(c2ccccc2)n(n1)c3ccccc3</td>\n",
       "      <td>OC(=O)c1ccc(o1)c2ccc(Cl)c(c2)C(=S)NCc3ccc(cc3)...</td>\n",
       "    </tr>\n",
       "    <tr>\n",
       "      <th>165</th>\n",
       "      <td>2016</td>\n",
       "      <td>26</td>\n",
       "      <td>O=C(CN1CCNCC1)N2CCCCC2</td>\n",
       "      <td>COC[C@H]1CN[C@H](C)CN1CC(=O)N2CC(C)(C)c3cnc(Cc...</td>\n",
       "    </tr>\n",
       "    <tr>\n",
       "      <th>166</th>\n",
       "      <td>2016</td>\n",
       "      <td>27</td>\n",
       "      <td>C1COc2cc(ccc2O1)c3cc(ncn3)n4cccn4</td>\n",
       "      <td>Fc1ccc(nc1)c2cc(ncn2)c3cc(Cl)cc(C#N)c3</td>\n",
       "    </tr>\n",
       "  </tbody>\n",
       "</table>\n",
       "<p>167 rows × 4 columns</p>\n",
       "</div>"
      ],
      "text/plain": [
       "     Year  Table_Entry                                  Fragment  \\\n",
       "0    2022            1                  Nc1cc(c[nH]c1=O)C(F)(F)F   \n",
       "1    2022            2       CN1C[C@@H](O)[C@H](C1=O)c2ccc(C)cc2   \n",
       "2    2022            3  Fc1cncc(c1)N2C(=O)N[C@@H](Cc3ccccc3)C2=O   \n",
       "3    2022            4              c1ccc(cc1)c2ccccc2c3nnn[nH]3   \n",
       "4    2022            5                CN(C)C(=O)C(N)Cc1ccc(F)cc1   \n",
       "..    ...          ...                                       ...   \n",
       "162  2016           23             CC1Cn2c(cc3cccc(S1)c23)C(=O)O   \n",
       "163  2016           24         COC(=O)[C@@H](N)Cc1c[nH]c2ccccc12   \n",
       "164  2016           25         OC(=O)c1cc(c2ccccc2)n(n1)c3ccccc3   \n",
       "165  2016           26                    O=C(CN1CCNCC1)N2CCCCC2   \n",
       "166  2016           27         C1COc2cc(ccc2O1)c3cc(ncn3)n4cccn4   \n",
       "\n",
       "                                                  Lead  \n",
       "0       N[C@H]1CCN(Cc2cccc(c2)c3ccc4c(=O)[nH]ccc4c3)C1  \n",
       "1    COc1ccc(CN2C[C@H](O)[C@](CCC(C)C)(C2=O)c3ccc(c...  \n",
       "2       Clc1ccccc1C2CC3(C2)NC(=O)N(C3=O)c4cncc5ccccc45  \n",
       "3            Cc1ccc(cc1)c2cccc(c2c3nnn[nH]3)S(=O)(=O)N  \n",
       "4    Clc1ccc(cc1)[C@H]2CN[C@H](C2)C(=O)N3CCN(CC3)c4...  \n",
       "..                                                 ...  \n",
       "162  Cc1cc(OCCCc2c(C(=O)O)n3CCCc4c(Cl)ccc2c43)cc(C)...  \n",
       "163          Clc1sc(cc1Br)S(=O)(=O)NCCc2c[nH]c3ccccc23  \n",
       "164  OC(=O)c1ccc(o1)c2ccc(Cl)c(c2)C(=S)NCc3ccc(cc3)...  \n",
       "165  COC[C@H]1CN[C@H](C)CN1CC(=O)N2CC(C)(C)c3cnc(Cc...  \n",
       "166             Fc1ccc(nc1)c2cc(ncn2)c3cc(Cl)cc(C#N)c3  \n",
       "\n",
       "[167 rows x 4 columns]"
      ]
     },
     "execution_count": 6,
     "metadata": {},
     "output_type": "execute_result"
    }
   ],
   "source": [
    "fragment_lead_pairs"
   ]
  },
  {
   "cell_type": "code",
   "execution_count": 9,
   "metadata": {},
   "outputs": [],
   "source": [
    "mol_smiles, lead_smiles = fragment_lead_pairs['Fragment'][1], fragment_lead_pairs['Lead'][1]"
   ]
  },
  {
   "cell_type": "code",
   "execution_count": 10,
   "metadata": {},
   "outputs": [],
   "source": [
    "f = open(\"data/mol2mol.smi\", \"w\")\n",
    "f.write(mol_smiles)\n",
    "f.close()"
   ]
  },
  {
   "cell_type": "code",
   "execution_count": 12,
   "metadata": {},
   "outputs": [
    {
     "name": "stdout",
     "output_type": "stream",
     "text": [
      "15:11:17 <INFO> Started REINVENT 4.3.5 (C) AstraZeneca 2017, 2023 on 2024-07-01\n",
      "15:11:17 <INFO> Command line: /home/fts_g_ucla_edu/.conda/envs/reinvent4/bin/reinvent sampling.toml --seed 42\n",
      "15:11:17 <INFO> User fts_g_ucla_edu on host rips-relay-2024-vm\n",
      "15:11:17 <INFO> Python version 3.10.14\n",
      "15:11:17 <INFO> PyTorch version 2.2.1+cu121, git 6c8c5ad5eaf47a62fafbb4a2747198cbffbf1ff0\n",
      "15:11:17 <INFO> PyTorch compiled with CUDA version 12.1\n",
      "15:11:17 <INFO> RDKit version 2023.09.5\n",
      "15:11:17 <INFO> Platform Linux-6.5.0-1018-gcp-x86_64-with-glibc2.35\n",
      "15:11:17 <INFO> CUDA driver version 550.54.15\n",
      "15:11:17 <INFO> Number of PyTorch CUDA devices 2\n",
      "15:11:17 <WARN> 'use_cuda' is deprecated, use 'device' instead\n",
      "15:11:18 <INFO> Using CUDA device:0 Tesla T4\n",
      "15:11:18 <INFO> GPU memory: 14814 MiB free, 14917 MiB total\n",
      "15:11:18 <INFO> Set seed for all random generators to None\n",
      "15:11:18 <INFO> Writing JSON config file to /home/fts_g_ucla_edu/Projects/rips-relay/notebooks/_sampling.json\n",
      "15:11:18 <INFO> Starting Sampling\n",
      "15:11:18 <INFO> /home/fts_g_ucla_edu/Projects/REINVENT4/priors/mol2mol_medium_similarity.prior has valid hash:\n",
      "{ 'comments': [],\n",
      "  'creation_date': 0,\n",
      "  'date_format': 'UNIX epoch',\n",
      "  'hash_id': 'b67da12a3b4abf1ea4f6d24c0ac58d50',\n",
      "  'hash_id_format': 'xxhash.xxh3_128_hex 3.4.1',\n",
      "  'model_id': '0c2799f6b12342b3a31b97c755f8f13a',\n",
      "  'model_id_format': 'uuid.uuid4 3.10.12',\n",
      "  'origina_data_source': 'ChEMBL 28',\n",
      "  'updates': []}\n",
      "15:11:18 <INFO> Number of network parameters: 17,462,400\n",
      "15:11:18 <INFO> Using generator Mol2Mol\n",
      "15:11:18 <INFO> Writing sampled SMILES to CSV file sampling.csv\n",
      "15:11:18 <WARN> randomize_smiles is set to be True by user. But the model was trained using canonical SMILESwhere randomize_smiles might undermine the performance (this needs more investigation), but randomize_smiles is reset to be False for now.\n",
      "15:11:18 <INFO> Sampling 500 SMILES from model /home/fts_g_ucla_edu/Projects/REINVENT4/priors/mol2mol_medium_similarity.prior\n",
      "15:11:18 <WARN> Sampling with beam search may be very slow\n",
      "15:11:23 <INFO> Time taken in seconds: 4\n",
      "15:11:26 <INFO> Peak main memory usage: 1562.074 MiB\n",
      "15:11:26 <INFO> Finished REINVENT on 2024-07-01\n"
     ]
    }
   ],
   "source": [
    "!reinvent sampling.toml --seed 42"
   ]
  },
  {
   "cell_type": "code",
   "execution_count": 13,
   "metadata": {},
   "outputs": [],
   "source": [
    "analogs = pd.read_csv('sampling.csv')"
   ]
  },
  {
   "cell_type": "code",
   "execution_count": 14,
   "metadata": {},
   "outputs": [
    {
     "data": {
      "text/html": [
       "<div>\n",
       "<style scoped>\n",
       "    .dataframe tbody tr th:only-of-type {\n",
       "        vertical-align: middle;\n",
       "    }\n",
       "\n",
       "    .dataframe tbody tr th {\n",
       "        vertical-align: top;\n",
       "    }\n",
       "\n",
       "    .dataframe thead th {\n",
       "        text-align: right;\n",
       "    }\n",
       "</style>\n",
       "<table border=\"1\" class=\"dataframe\">\n",
       "  <thead>\n",
       "    <tr style=\"text-align: right;\">\n",
       "      <th></th>\n",
       "      <th>SMILES</th>\n",
       "      <th>Input_SMILES</th>\n",
       "      <th>Tanimoto</th>\n",
       "      <th>NLL</th>\n",
       "    </tr>\n",
       "  </thead>\n",
       "  <tbody>\n",
       "    <tr>\n",
       "      <th>0</th>\n",
       "      <td>CN1C[C@@H](O)[C@H](c2ccccc2)C1=O</td>\n",
       "      <td>Cc1ccc([C@H]2C(=O)N(C)C[C@H]2O)cc1</td>\n",
       "      <td>0.600000</td>\n",
       "      <td>2.973137</td>\n",
       "    </tr>\n",
       "    <tr>\n",
       "      <th>1</th>\n",
       "      <td>CN1C[C@@H](O)[C@@H](c2ccccc2)C1=O</td>\n",
       "      <td>Cc1ccc([C@H]2C(=O)N(C)C[C@H]2O)cc1</td>\n",
       "      <td>0.600000</td>\n",
       "      <td>3.316742</td>\n",
       "    </tr>\n",
       "    <tr>\n",
       "      <th>2</th>\n",
       "      <td>CN1C[C@H](O)[C@@H](c2ccccc2)C1=O</td>\n",
       "      <td>Cc1ccc([C@H]2C(=O)N(C)C[C@H]2O)cc1</td>\n",
       "      <td>0.600000</td>\n",
       "      <td>3.421726</td>\n",
       "    </tr>\n",
       "    <tr>\n",
       "      <th>3</th>\n",
       "      <td>CN1C[C@@H](O)[C@H](c2cccc(Cl)c2)C1=O</td>\n",
       "      <td>Cc1ccc([C@H]2C(=O)N(C)C[C@H]2O)cc1</td>\n",
       "      <td>0.576923</td>\n",
       "      <td>3.754017</td>\n",
       "    </tr>\n",
       "    <tr>\n",
       "      <th>4</th>\n",
       "      <td>COc1ccc([C@H]2C(=O)N(C)C[C@@H]2O)cc1OC</td>\n",
       "      <td>Cc1ccc([C@H]2C(=O)N(C)C[C@H]2O)cc1</td>\n",
       "      <td>0.525424</td>\n",
       "      <td>3.949009</td>\n",
       "    </tr>\n",
       "  </tbody>\n",
       "</table>\n",
       "</div>"
      ],
      "text/plain": [
       "                                   SMILES                        Input_SMILES  \\\n",
       "0        CN1C[C@@H](O)[C@H](c2ccccc2)C1=O  Cc1ccc([C@H]2C(=O)N(C)C[C@H]2O)cc1   \n",
       "1       CN1C[C@@H](O)[C@@H](c2ccccc2)C1=O  Cc1ccc([C@H]2C(=O)N(C)C[C@H]2O)cc1   \n",
       "2        CN1C[C@H](O)[C@@H](c2ccccc2)C1=O  Cc1ccc([C@H]2C(=O)N(C)C[C@H]2O)cc1   \n",
       "3    CN1C[C@@H](O)[C@H](c2cccc(Cl)c2)C1=O  Cc1ccc([C@H]2C(=O)N(C)C[C@H]2O)cc1   \n",
       "4  COc1ccc([C@H]2C(=O)N(C)C[C@@H]2O)cc1OC  Cc1ccc([C@H]2C(=O)N(C)C[C@H]2O)cc1   \n",
       "\n",
       "   Tanimoto       NLL  \n",
       "0  0.600000  2.973137  \n",
       "1  0.600000  3.316742  \n",
       "2  0.600000  3.421726  \n",
       "3  0.576923  3.754017  \n",
       "4  0.525424  3.949009  "
      ]
     },
     "execution_count": 14,
     "metadata": {},
     "output_type": "execute_result"
    }
   ],
   "source": [
    "analogs.head()"
   ]
  },
  {
   "cell_type": "code",
   "execution_count": 15,
   "metadata": {},
   "outputs": [
    {
     "data": {
      "text/plain": [
       "0.5785740335154668"
      ]
     },
     "execution_count": 15,
     "metadata": {},
     "output_type": "execute_result"
    }
   ],
   "source": [
    "analogs['Tanimoto'].mean()"
   ]
  },
  {
   "cell_type": "code",
   "execution_count": 16,
   "metadata": {},
   "outputs": [
    {
     "name": "stdout",
     "output_type": "stream",
     "text": [
      "False\n"
     ]
    }
   ],
   "source": [
    "print(lead_smiles in analogs['SMILES'].to_list())"
   ]
  },
  {
   "cell_type": "code",
   "execution_count": 17,
   "metadata": {},
   "outputs": [
    {
     "data": {
      "text/plain": [
       "(493, 481)"
      ]
     },
     "execution_count": 17,
     "metadata": {},
     "output_type": "execute_result"
    }
   ],
   "source": [
    "ring_system_lookup = uru.RingSystemLookup.default()\n",
    "analogs['ring_systems'] = analogs.SMILES.apply(ring_system_lookup.process_smiles)\n",
    "analogs[['min_ring','min_freq']] = analogs.ring_systems.apply(uru.get_min_ring_frequency).to_list()\n",
    "df = analogs.query('min_freq > 100').copy()\n",
    "len(analogs), len(df)"
   ]
  },
  {
   "cell_type": "code",
   "execution_count": 18,
   "metadata": {},
   "outputs": [],
   "source": [
    "smiles = df['SMILES'].to_numpy()\n",
    "\n",
    "mols = [Chem.MolFromSmiles(smile) for smile in smiles]\n",
    "\n",
    "lead_mol = Chem.MolFromSmiles(lead_smiles)"
   ]
  },
  {
   "cell_type": "code",
   "execution_count": 22,
   "metadata": {},
   "outputs": [],
   "source": [
    "fpgen = AllChem.GetMorganGenerator()\n",
    "\n",
    "fingerprints = np.array([fpgen.GetFingerprint(mol).ToList() for mol in mols])\n",
    "\n",
    "lead_fp = np.array([fpgen.GetFingerprint(lead_mol).ToList()])\n",
    "\n",
    "X = np.vstack((fingerprints, lead_fp))"
   ]
  },
  {
   "cell_type": "code",
   "execution_count": 23,
   "metadata": {},
   "outputs": [],
   "source": [
    "scaler = StandardScaler()\n",
    "X = scaler.fit_transform(X)"
   ]
  },
  {
   "cell_type": "code",
   "execution_count": 24,
   "metadata": {},
   "outputs": [],
   "source": [
    "pca = PCA(n_components=3, random_state=0)\n",
    "pca_fps = pca.fit_transform(X)"
   ]
  },
  {
   "cell_type": "code",
   "execution_count": 25,
   "metadata": {},
   "outputs": [
    {
     "data": {
      "image/png": "[encoded data removed]",
      "text/plain": [
       "<Figure size 1600x800 with 1 Axes>"
      ]
     },
     "metadata": {},
     "output_type": "display_data"
    }
   ],
   "source": [
    "fig, ax = plt.subplots(ncols=1, nrows=1, figsize=(16,8))\n",
    "\n",
    "ax.scatter(pca_fps.T[0][:-1], pca_fps.T[1][:-1], s=5, c='midnightblue', label='Generated')\n",
    "ax.scatter(pca_fps.T[0][-1], pca_fps.T[1][-1], s=45, c='red', marker='x', label='Lead')\n",
    "ax.scatter(pca_fps.T[0][1], pca_fps.T[1][1], s=45, c='darkgreen', marker='x', label='Initial Fragment')\n",
    "\n",
    "\n",
    "ax.legend()\n",
    "\n",
    "fig.suptitle('Distribution of Generated Molecules from Fragment-Lead Pair');"
   ]
  },
  {
   "cell_type": "code",
   "execution_count": null,
   "metadata": {},
   "outputs": [
    {
     "data": {
      "text/plain": [
       "(482, 2048)"
      ]
     },
     "execution_count": 134,
     "metadata": {},
     "output_type": "execute_result"
    }
   ],
   "source": [
    "fingerprints.shape"
   ]
  },
  {
   "cell_type": "code",
   "execution_count": null,
   "metadata": {},
   "outputs": [],
   "source": []
  }
 ],
 "metadata": {
  "kernelspec": {
   "display_name": "reinvent4",
   "language": "python",
   "name": "python3"
  },
  "language_info": {
   "codemirror_mode": {
    "name": "ipython",
    "version": 3
   },
   "file_extension": ".py",
   "mimetype": "text/x-python",
   "name": "python",
   "nbconvert_exporter": "python",
   "pygments_lexer": "ipython3",
   "version": "3.10.14"
  }
 },
 "nbformat": 4,
 "nbformat_minor": 2
}
