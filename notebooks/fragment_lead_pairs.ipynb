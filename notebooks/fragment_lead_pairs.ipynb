{
 "cells": [
  {
   "cell_type": "code",
   "execution_count": 80,
   "metadata": {},
   "outputs": [
    {
     "name": "stdout",
     "output_type": "stream",
     "text": [
      "Current conda environment: reinvent4\n"
     ]
    }
   ],
   "source": [
    "import os\n",
    "print('Current conda environment:', os.environ['CONDA_DEFAULT_ENV'])\n",
    "\n",
    "import warnings\n",
    "warnings.filterwarnings('ignore')\n",
    "\n",
    "import random\n",
    "random.seed(42)"
   ]
  },
  {
   "cell_type": "code",
   "execution_count": 81,
   "metadata": {},
   "outputs": [],
   "source": [
    "import numpy as np\n",
    "import pandas as pd\n",
    "import matplotlib.pyplot as plt\n",
    "import seaborn as sns\n",
    "\n",
    "from sklearn.decomposition import PCA\n",
    "from sklearn.manifold import TSNE\n",
    "from sklearn.preprocessing import StandardScaler\n",
    "\n",
    "from rdkit import Chem\n",
    "from rdkit.Chem import AllChem\n",
    "import useful_rdkit_utils as uru\n",
    "\n",
    "sns.set(rc = {'figure.figsize':(15,8)})"
   ]
  },
  {
   "cell_type": "code",
   "execution_count": 82,
   "metadata": {},
   "outputs": [],
   "source": [
    "fragment_lead_pairs = pd.read_csv('data/fragment_lead_pairs.csv')"
   ]
  },
  {
   "cell_type": "code",
   "execution_count": 83,
   "metadata": {},
   "outputs": [
    {
     "data": {
      "text/html": [
       "<div>\n",
       "<style scoped>\n",
       "    .dataframe tbody tr th:only-of-type {\n",
       "        vertical-align: middle;\n",
       "    }\n",
       "\n",
       "    .dataframe tbody tr th {\n",
       "        vertical-align: top;\n",
       "    }\n",
       "\n",
       "    .dataframe thead th {\n",
       "        text-align: right;\n",
       "    }\n",
       "</style>\n",
       "<table border=\"1\" class=\"dataframe\">\n",
       "  <thead>\n",
       "    <tr style=\"text-align: right;\">\n",
       "      <th></th>\n",
       "      <th>Year</th>\n",
       "      <th>Table_Entry</th>\n",
       "      <th>Fragment</th>\n",
       "      <th>Lead</th>\n",
       "    </tr>\n",
       "  </thead>\n",
       "  <tbody>\n",
       "    <tr>\n",
       "      <th>0</th>\n",
       "      <td>2022</td>\n",
       "      <td>1</td>\n",
       "      <td>Nc1cc(c[nH]c1=O)C(F)(F)F</td>\n",
       "      <td>N[C@H]1CCN(Cc2cccc(c2)c3ccc4c(=O)[nH]ccc4c3)C1</td>\n",
       "    </tr>\n",
       "    <tr>\n",
       "      <th>1</th>\n",
       "      <td>2022</td>\n",
       "      <td>2</td>\n",
       "      <td>CN1C[C@@H](O)[C@H](C1=O)c2ccc(C)cc2</td>\n",
       "      <td>COc1ccc(CN2C[C@H](O)[C@](CCC(C)C)(C2=O)c3ccc(c...</td>\n",
       "    </tr>\n",
       "    <tr>\n",
       "      <th>2</th>\n",
       "      <td>2022</td>\n",
       "      <td>3</td>\n",
       "      <td>Fc1cncc(c1)N2C(=O)N[C@@H](Cc3ccccc3)C2=O</td>\n",
       "      <td>Clc1ccccc1C2CC3(C2)NC(=O)N(C3=O)c4cncc5ccccc45</td>\n",
       "    </tr>\n",
       "    <tr>\n",
       "      <th>3</th>\n",
       "      <td>2022</td>\n",
       "      <td>4</td>\n",
       "      <td>c1ccc(cc1)c2ccccc2c3nnn[nH]3</td>\n",
       "      <td>Cc1ccc(cc1)c2cccc(c2c3nnn[nH]3)S(=O)(=O)N</td>\n",
       "    </tr>\n",
       "    <tr>\n",
       "      <th>4</th>\n",
       "      <td>2022</td>\n",
       "      <td>5</td>\n",
       "      <td>CN(C)C(=O)C(N)Cc1ccc(F)cc1</td>\n",
       "      <td>Clc1ccc(cc1)[C@H]2CN[C@H](C2)C(=O)N3CCN(CC3)c4...</td>\n",
       "    </tr>\n",
       "    <tr>\n",
       "      <th>...</th>\n",
       "      <td>...</td>\n",
       "      <td>...</td>\n",
       "      <td>...</td>\n",
       "      <td>...</td>\n",
       "    </tr>\n",
       "    <tr>\n",
       "      <th>162</th>\n",
       "      <td>2016</td>\n",
       "      <td>23</td>\n",
       "      <td>CC1Cn2c(cc3cccc(S1)c23)C(=O)O</td>\n",
       "      <td>Cc1cc(OCCCc2c(C(=O)O)n3CCCc4c(Cl)ccc2c43)cc(C)...</td>\n",
       "    </tr>\n",
       "    <tr>\n",
       "      <th>163</th>\n",
       "      <td>2016</td>\n",
       "      <td>24</td>\n",
       "      <td>COC(=O)[C@@H](N)Cc1c[nH]c2ccccc12</td>\n",
       "      <td>Clc1sc(cc1Br)S(=O)(=O)NCCc2c[nH]c3ccccc23</td>\n",
       "    </tr>\n",
       "    <tr>\n",
       "      <th>164</th>\n",
       "      <td>2016</td>\n",
       "      <td>25</td>\n",
       "      <td>OC(=O)c1cc(c2ccccc2)n(n1)c3ccccc3</td>\n",
       "      <td>OC(=O)c1ccc(o1)c2ccc(Cl)c(c2)C(=S)NCc3ccc(cc3)...</td>\n",
       "    </tr>\n",
       "    <tr>\n",
       "      <th>165</th>\n",
       "      <td>2016</td>\n",
       "      <td>26</td>\n",
       "      <td>O=C(CN1CCNCC1)N2CCCCC2</td>\n",
       "      <td>COC[C@H]1CN[C@H](C)CN1CC(=O)N2CC(C)(C)c3cnc(Cc...</td>\n",
       "    </tr>\n",
       "    <tr>\n",
       "      <th>166</th>\n",
       "      <td>2016</td>\n",
       "      <td>27</td>\n",
       "      <td>C1COc2cc(ccc2O1)c3cc(ncn3)n4cccn4</td>\n",
       "      <td>Fc1ccc(nc1)c2cc(ncn2)c3cc(Cl)cc(C#N)c3</td>\n",
       "    </tr>\n",
       "  </tbody>\n",
       "</table>\n",
       "<p>167 rows × 4 columns</p>\n",
       "</div>"
      ],
      "text/plain": [
       "     Year  Table_Entry                                  Fragment  \\\n",
       "0    2022            1                  Nc1cc(c[nH]c1=O)C(F)(F)F   \n",
       "1    2022            2       CN1C[C@@H](O)[C@H](C1=O)c2ccc(C)cc2   \n",
       "2    2022            3  Fc1cncc(c1)N2C(=O)N[C@@H](Cc3ccccc3)C2=O   \n",
       "3    2022            4              c1ccc(cc1)c2ccccc2c3nnn[nH]3   \n",
       "4    2022            5                CN(C)C(=O)C(N)Cc1ccc(F)cc1   \n",
       "..    ...          ...                                       ...   \n",
       "162  2016           23             CC1Cn2c(cc3cccc(S1)c23)C(=O)O   \n",
       "163  2016           24         COC(=O)[C@@H](N)Cc1c[nH]c2ccccc12   \n",
       "164  2016           25         OC(=O)c1cc(c2ccccc2)n(n1)c3ccccc3   \n",
       "165  2016           26                    O=C(CN1CCNCC1)N2CCCCC2   \n",
       "166  2016           27         C1COc2cc(ccc2O1)c3cc(ncn3)n4cccn4   \n",
       "\n",
       "                                                  Lead  \n",
       "0       N[C@H]1CCN(Cc2cccc(c2)c3ccc4c(=O)[nH]ccc4c3)C1  \n",
       "1    COc1ccc(CN2C[C@H](O)[C@](CCC(C)C)(C2=O)c3ccc(c...  \n",
       "2       Clc1ccccc1C2CC3(C2)NC(=O)N(C3=O)c4cncc5ccccc45  \n",
       "3            Cc1ccc(cc1)c2cccc(c2c3nnn[nH]3)S(=O)(=O)N  \n",
       "4    Clc1ccc(cc1)[C@H]2CN[C@H](C2)C(=O)N3CCN(CC3)c4...  \n",
       "..                                                 ...  \n",
       "162  Cc1cc(OCCCc2c(C(=O)O)n3CCCc4c(Cl)ccc2c43)cc(C)...  \n",
       "163          Clc1sc(cc1Br)S(=O)(=O)NCCc2c[nH]c3ccccc23  \n",
       "164  OC(=O)c1ccc(o1)c2ccc(Cl)c(c2)C(=S)NCc3ccc(cc3)...  \n",
       "165  COC[C@H]1CN[C@H](C)CN1CC(=O)N2CC(C)(C)c3cnc(Cc...  \n",
       "166             Fc1ccc(nc1)c2cc(ncn2)c3cc(Cl)cc(C#N)c3  \n",
       "\n",
       "[167 rows x 4 columns]"
      ]
     },
     "execution_count": 83,
     "metadata": {},
     "output_type": "execute_result"
    }
   ],
   "source": [
    "fragment_lead_pairs"
   ]
  },
  {
   "cell_type": "code",
   "execution_count": 84,
   "metadata": {},
   "outputs": [],
   "source": [
    "initial_fragment_smiles, lead_smiles = fragment_lead_pairs['Fragment'][0], fragment_lead_pairs['Lead'][0]"
   ]
  },
  {
   "cell_type": "code",
   "execution_count": 85,
   "metadata": {},
   "outputs": [
    {
     "data": {
      "text/plain": [
       "'N[C@H]1CCN(Cc2cccc(c2)c3ccc4c(=O)[nH]ccc4c3)C1'"
      ]
     },
     "execution_count": 85,
     "metadata": {},
     "output_type": "execute_result"
    }
   ],
   "source": [
    "lead_smiles"
   ]
  },
  {
   "cell_type": "code",
   "execution_count": 86,
   "metadata": {},
   "outputs": [],
   "source": [
    "f = open(\"data/mol2mol.smi\", \"w\")\n",
    "f.write(initial_fragment_smiles)\n",
    "f.close()"
   ]
  },
  {
   "cell_type": "code",
   "execution_count": 87,
   "metadata": {},
   "outputs": [
    {
     "name": "stdout",
     "output_type": "stream",
     "text": [
      "21:52:33 <INFO> Started REINVENT 4.3.5 (C) AstraZeneca 2017, 2023 on 2024-07-01\n",
      "21:52:33 <INFO> Command line: /home/fts_g_ucla_edu/.conda/envs/reinvent4/bin/reinvent sampling.toml --seed 42\n",
      "21:52:33 <INFO> User fts_g_ucla_edu on host rips-relay-2024-vm\n",
      "21:52:33 <INFO> Python version 3.10.14\n",
      "21:52:33 <INFO> PyTorch version 2.2.1+cu121, git 6c8c5ad5eaf47a62fafbb4a2747198cbffbf1ff0\n",
      "21:52:33 <INFO> PyTorch compiled with CUDA version 12.1\n",
      "21:52:33 <INFO> RDKit version 2023.09.5\n",
      "21:52:33 <INFO> Platform Linux-6.5.0-1018-gcp-x86_64-with-glibc2.35\n",
      "21:52:33 <INFO> CUDA driver version 550.54.15\n",
      "21:52:33 <INFO> Number of PyTorch CUDA devices 2\n",
      "21:52:33 <WARN> 'use_cuda' is deprecated, use 'device' instead\n",
      "21:52:34 <INFO> Using CUDA device:0 Tesla T4\n",
      "21:52:34 <INFO> GPU memory: 14814 MiB free, 14917 MiB total\n",
      "21:52:34 <INFO> Set seed for all random generators to None\n",
      "21:52:34 <INFO> Writing JSON config file to /home/fts_g_ucla_edu/Projects/rips-relay/notebooks/_sampling.json\n",
      "21:52:34 <INFO> Starting Sampling\n",
      "21:52:34 <INFO> /home/fts_g_ucla_edu/Projects/REINVENT4/priors/mol2mol_similarity.prior has valid hash:\n",
      "{ 'comments': [],\n",
      "  'creation_date': 0,\n",
      "  'date_format': 'UNIX epoch',\n",
      "  'hash_id': '3c6a77904318ad22c299806d686463f5',\n",
      "  'hash_id_format': 'xxhash.xxh3_128_hex 3.4.1',\n",
      "  'model_id': '595a7122492447e0b10b11b6cf47b2ae',\n",
      "  'model_id_format': 'uuid.uuid4 3.10.12',\n",
      "  'origina_data_source': 'ChEMBL 28',\n",
      "  'updates': []}\n",
      "21:52:34 <INFO> Number of network parameters: 17,462,400\n",
      "21:52:34 <INFO> Using generator Mol2Mol\n",
      "21:52:34 <INFO> Writing sampled SMILES to CSV file sampling.csv\n",
      "21:52:34 <WARN> randomize_smiles is set to be True by user. But the model was trained using canonical SMILESwhere randomize_smiles might undermine the performance (this needs more investigation), but randomize_smiles is reset to be False for now.\n",
      "21:52:34 <INFO> Sampling 500 SMILES from model /home/fts_g_ucla_edu/Projects/REINVENT4/priors/mol2mol_similarity.prior\n",
      "21:52:34 <WARN> Sampling with beam search may be very slow\n",
      "21:52:38 <INFO> Time taken in seconds: 4\n",
      "21:52:41 <INFO> Peak main memory usage: 1592.094 MiB\n",
      "21:52:41 <INFO> Finished REINVENT on 2024-07-01\n"
     ]
    }
   ],
   "source": [
    "!reinvent sampling.toml --seed 42"
   ]
  },
  {
   "cell_type": "code",
   "execution_count": 88,
   "metadata": {},
   "outputs": [],
   "source": [
    "analogs = pd.read_csv('sampling.csv')"
   ]
  },
  {
   "cell_type": "code",
   "execution_count": 89,
   "metadata": {},
   "outputs": [
    {
     "name": "stdout",
     "output_type": "stream",
     "text": [
      "(420, 4)\n"
     ]
    },
    {
     "data": {
      "text/html": [
       "<div>\n",
       "<style scoped>\n",
       "    .dataframe tbody tr th:only-of-type {\n",
       "        vertical-align: middle;\n",
       "    }\n",
       "\n",
       "    .dataframe tbody tr th {\n",
       "        vertical-align: top;\n",
       "    }\n",
       "\n",
       "    .dataframe thead th {\n",
       "        text-align: right;\n",
       "    }\n",
       "</style>\n",
       "<table border=\"1\" class=\"dataframe\">\n",
       "  <thead>\n",
       "    <tr style=\"text-align: right;\">\n",
       "      <th></th>\n",
       "      <th>SMILES</th>\n",
       "      <th>Input_SMILES</th>\n",
       "      <th>Tanimoto</th>\n",
       "      <th>NLL</th>\n",
       "    </tr>\n",
       "  </thead>\n",
       "  <tbody>\n",
       "    <tr>\n",
       "      <th>0</th>\n",
       "      <td>CC(C)(C)c1c[nH]c(=O)c(N)c1</td>\n",
       "      <td>Nc1cc(C(F)(F)F)c[nH]c1=O</td>\n",
       "      <td>0.550000</td>\n",
       "      <td>1.951411</td>\n",
       "    </tr>\n",
       "    <tr>\n",
       "      <th>1</th>\n",
       "      <td>Nc1cc(C(F)(F)F)c[nH]c1=O</td>\n",
       "      <td>Nc1cc(C(F)(F)F)c[nH]c1=O</td>\n",
       "      <td>1.000000</td>\n",
       "      <td>2.141617</td>\n",
       "    </tr>\n",
       "    <tr>\n",
       "      <th>2</th>\n",
       "      <td>CC(C)c1c[nH]c(=O)c(N)c1</td>\n",
       "      <td>Nc1cc(C(F)(F)F)c[nH]c1=O</td>\n",
       "      <td>NaN</td>\n",
       "      <td>3.681051</td>\n",
       "    </tr>\n",
       "    <tr>\n",
       "      <th>3</th>\n",
       "      <td>Nc1cc(CC(F)(F)F)c[nH]c1=O</td>\n",
       "      <td>Nc1cc(C(F)(F)F)c[nH]c1=O</td>\n",
       "      <td>0.428571</td>\n",
       "      <td>3.748102</td>\n",
       "    </tr>\n",
       "    <tr>\n",
       "      <th>4</th>\n",
       "      <td>Cc1cc(N)c(=O)[nH]c1C(F)(F)F</td>\n",
       "      <td>Nc1cc(C(F)(F)F)c[nH]c1=O</td>\n",
       "      <td>0.625000</td>\n",
       "      <td>3.774560</td>\n",
       "    </tr>\n",
       "    <tr>\n",
       "      <th>...</th>\n",
       "      <td>...</td>\n",
       "      <td>...</td>\n",
       "      <td>...</td>\n",
       "      <td>...</td>\n",
       "    </tr>\n",
       "    <tr>\n",
       "      <th>415</th>\n",
       "      <td>CCC(CC)Cc1c[nH]c(=O)c(N)c1</td>\n",
       "      <td>Nc1cc(C(F)(F)F)c[nH]c1=O</td>\n",
       "      <td>0.372549</td>\n",
       "      <td>9.029275</td>\n",
       "    </tr>\n",
       "    <tr>\n",
       "      <th>416</th>\n",
       "      <td>Nc1c[nH]c(=O)cc1C(F)(F)F</td>\n",
       "      <td>Nc1cc(C(F)(F)F)c[nH]c1=O</td>\n",
       "      <td>0.454545</td>\n",
       "      <td>9.032927</td>\n",
       "    </tr>\n",
       "    <tr>\n",
       "      <th>417</th>\n",
       "      <td>Nc1cc(C(F)F)[nH]c(=O)c1Br</td>\n",
       "      <td>Nc1cc(C(F)(F)F)c[nH]c1=O</td>\n",
       "      <td>0.675000</td>\n",
       "      <td>9.039200</td>\n",
       "    </tr>\n",
       "    <tr>\n",
       "      <th>418</th>\n",
       "      <td>Nc1cc(-c2cc(C(F)(F)F)c[nH]c2=O)ccc1[N+](=O)[O-]</td>\n",
       "      <td>Nc1cc(C(F)(F)F)c[nH]c1=O</td>\n",
       "      <td>0.392157</td>\n",
       "      <td>9.439645</td>\n",
       "    </tr>\n",
       "    <tr>\n",
       "      <th>419</th>\n",
       "      <td>O=C(Nc1cc(C(F)(F)F)c[nH]c1=O)C1CCCC1</td>\n",
       "      <td>Nc1cc(C(F)(F)F)c[nH]c1=O</td>\n",
       "      <td>0.454545</td>\n",
       "      <td>9.692937</td>\n",
       "    </tr>\n",
       "  </tbody>\n",
       "</table>\n",
       "<p>420 rows × 4 columns</p>\n",
       "</div>"
      ],
      "text/plain": [
       "                                              SMILES  \\\n",
       "0                         CC(C)(C)c1c[nH]c(=O)c(N)c1   \n",
       "1                           Nc1cc(C(F)(F)F)c[nH]c1=O   \n",
       "2                            CC(C)c1c[nH]c(=O)c(N)c1   \n",
       "3                          Nc1cc(CC(F)(F)F)c[nH]c1=O   \n",
       "4                        Cc1cc(N)c(=O)[nH]c1C(F)(F)F   \n",
       "..                                               ...   \n",
       "415                       CCC(CC)Cc1c[nH]c(=O)c(N)c1   \n",
       "416                         Nc1c[nH]c(=O)cc1C(F)(F)F   \n",
       "417                        Nc1cc(C(F)F)[nH]c(=O)c1Br   \n",
       "418  Nc1cc(-c2cc(C(F)(F)F)c[nH]c2=O)ccc1[N+](=O)[O-]   \n",
       "419             O=C(Nc1cc(C(F)(F)F)c[nH]c1=O)C1CCCC1   \n",
       "\n",
       "                 Input_SMILES  Tanimoto       NLL  \n",
       "0    Nc1cc(C(F)(F)F)c[nH]c1=O  0.550000  1.951411  \n",
       "1    Nc1cc(C(F)(F)F)c[nH]c1=O  1.000000  2.141617  \n",
       "2    Nc1cc(C(F)(F)F)c[nH]c1=O       NaN  3.681051  \n",
       "3    Nc1cc(C(F)(F)F)c[nH]c1=O  0.428571  3.748102  \n",
       "4    Nc1cc(C(F)(F)F)c[nH]c1=O  0.625000  3.774560  \n",
       "..                        ...       ...       ...  \n",
       "415  Nc1cc(C(F)(F)F)c[nH]c1=O  0.372549  9.029275  \n",
       "416  Nc1cc(C(F)(F)F)c[nH]c1=O  0.454545  9.032927  \n",
       "417  Nc1cc(C(F)(F)F)c[nH]c1=O  0.675000  9.039200  \n",
       "418  Nc1cc(C(F)(F)F)c[nH]c1=O  0.392157  9.439645  \n",
       "419  Nc1cc(C(F)(F)F)c[nH]c1=O  0.454545  9.692937  \n",
       "\n",
       "[420 rows x 4 columns]"
      ]
     },
     "execution_count": 89,
     "metadata": {},
     "output_type": "execute_result"
    }
   ],
   "source": [
    "print(analogs.shape)\n",
    "analogs"
   ]
  },
  {
   "cell_type": "code",
   "execution_count": 90,
   "metadata": {},
   "outputs": [
    {
     "data": {
      "text/plain": [
       "0.47296895297409386"
      ]
     },
     "execution_count": 90,
     "metadata": {},
     "output_type": "execute_result"
    }
   ],
   "source": [
    "analogs['Tanimoto'].mean()"
   ]
  },
  {
   "cell_type": "code",
   "execution_count": 91,
   "metadata": {},
   "outputs": [
    {
     "name": "stdout",
     "output_type": "stream",
     "text": [
      "False\n"
     ]
    }
   ],
   "source": [
    "print(lead_smiles in analogs['SMILES'].to_list())"
   ]
  },
  {
   "cell_type": "code",
   "execution_count": 92,
   "metadata": {},
   "outputs": [
    {
     "data": {
      "text/plain": [
       "(420, 418)"
      ]
     },
     "execution_count": 92,
     "metadata": {},
     "output_type": "execute_result"
    }
   ],
   "source": [
    "ring_system_lookup = uru.RingSystemLookup.default()\n",
    "analogs['ring_systems'] = analogs.SMILES.apply(ring_system_lookup.process_smiles)\n",
    "analogs[['min_ring','min_freq']] = analogs.ring_systems.apply(uru.get_min_ring_frequency).to_list()\n",
    "df = analogs.query('min_freq > 100').copy()\n",
    "len(analogs), len(df)"
   ]
  },
  {
   "cell_type": "code",
   "execution_count": 93,
   "metadata": {},
   "outputs": [],
   "source": [
    "smiles = df['SMILES'].to_numpy()\n",
    "\n",
    "mols = [Chem.MolFromSmiles(smile) for smile in smiles]\n",
    "\n",
    "initial_fragment = Chem.MolFromSmiles(initial_fragment_smiles)\n",
    "lead_mol = Chem.MolFromSmiles(lead_smiles)"
   ]
  },
  {
   "cell_type": "code",
   "execution_count": 94,
   "metadata": {},
   "outputs": [],
   "source": [
    "fpgen = AllChem.GetMorganGenerator()\n",
    "\n",
    "fingerprints = np.array([fpgen.GetFingerprint(mol).ToList() for mol in mols])\n",
    "\n",
    "initial_fragment_fp = np.array([fpgen.GetFingerprint(initial_fragment)])\n",
    "lead_fp = np.array([fpgen.GetFingerprint(lead_mol).ToList()])\n",
    "\n",
    "X = np.vstack((initial_fragment_fp, fingerprints, lead_fp))"
   ]
  },
  {
   "cell_type": "code",
   "execution_count": 95,
   "metadata": {},
   "outputs": [],
   "source": [
    "scaler = StandardScaler()\n",
    "X = scaler.fit_transform(X)"
   ]
  },
  {
   "cell_type": "code",
   "execution_count": 96,
   "metadata": {},
   "outputs": [],
   "source": [
    "pca = PCA(n_components=3, random_state=0)\n",
    "pca_fps = pca.fit_transform(X)"
   ]
  },
  {
   "cell_type": "code",
   "execution_count": 97,
   "metadata": {},
   "outputs": [
    {
     "data": {
      "image/png": "[encoded data removed]",
      "text/plain": [
       "<Figure size 1600x800 with 1 Axes>"
      ]
     },
     "metadata": {},
     "output_type": "display_data"
    }
   ],
   "source": [
    "fig, ax = plt.subplots(ncols=1, nrows=1, figsize=(16,8))\n",
    "\n",
    "ax.scatter(pca_fps.T[0][1:-1], pca_fps.T[1][1:-1], s=5, c='limegreen', label='Generated', alpha=.2)\n",
    "ax.scatter(pca_fps.T[0][0], pca_fps.T[1][0], s=100, c='midnightblue', marker='x', label='Initial Fragment')\n",
    "ax.scatter(pca_fps.T[0][-1], pca_fps.T[1][-1], s=100, c='red', marker='x', label='Lead')\n",
    "\n",
    "handles, labels = ax.get_legend_handles_labels()\n",
    "handles[0] = plt.Line2D([], [], marker='.', color='limegreen', linestyle='None', markersize=5, alpha=1)\n",
    "\n",
    "ax.set_xlabel('PC1')\n",
    "ax.set_ylabel('PC2')\n",
    "\n",
    "\n",
    "ax.legend(handles, labels)\n",
    "\n",
    "fig.suptitle('Distribution of Generated Molecules from Fragment-Lead Pair');"
   ]
  },
  {
   "cell_type": "code",
   "execution_count": 98,
   "metadata": {},
   "outputs": [],
   "source": [
    "initial_fragment_smiles, lead_smiles = fragment_lead_pairs['Fragment'], fragment_lead_pairs['Lead']"
   ]
  },
  {
   "cell_type": "code",
   "execution_count": 99,
   "metadata": {},
   "outputs": [],
   "source": [
    "for frag, lead in zip(initial_fragment_smiles, lead_smiles):\n",
    "\n",
    "    frag += '\\n'\n",
    "    \n",
    "    f = open(\"data/mol2mol.smi\", \"a\")\n",
    "    f.write(frag)\n",
    "    f.close()"
   ]
  },
  {
   "cell_type": "code",
   "execution_count": 100,
   "metadata": {},
   "outputs": [
    {
     "name": "stdout",
     "output_type": "stream",
     "text": [
      "21:52:47 <INFO> Started REINVENT 4.3.5 (C) AstraZeneca 2017, 2023 on 2024-07-01\n",
      "21:52:47 <INFO> Command line: /home/fts_g_ucla_edu/.conda/envs/reinvent4/bin/reinvent sampling.toml --seed 42\n",
      "21:52:47 <INFO> User fts_g_ucla_edu on host rips-relay-2024-vm\n",
      "21:52:47 <INFO> Python version 3.10.14\n",
      "21:52:47 <INFO> PyTorch version 2.2.1+cu121, git 6c8c5ad5eaf47a62fafbb4a2747198cbffbf1ff0\n",
      "21:52:47 <INFO> PyTorch compiled with CUDA version 12.1\n",
      "21:52:47 <INFO> RDKit version 2023.09.5\n",
      "21:52:47 <INFO> Platform Linux-6.5.0-1018-gcp-x86_64-with-glibc2.35\n",
      "21:52:47 <INFO> CUDA driver version 550.54.15\n",
      "21:52:47 <INFO> Number of PyTorch CUDA devices 2\n",
      "21:52:47 <WARN> 'use_cuda' is deprecated, use 'device' instead\n",
      "21:52:47 <INFO> Using CUDA device:0 Tesla T4\n",
      "21:52:47 <INFO> GPU memory: 14814 MiB free, 14917 MiB total\n",
      "21:52:47 <INFO> Set seed for all random generators to None\n",
      "21:52:47 <INFO> Writing JSON config file to /home/fts_g_ucla_edu/Projects/rips-relay/notebooks/_sampling.json\n",
      "21:52:47 <INFO> Starting Sampling\n",
      "21:52:48 <INFO> /home/fts_g_ucla_edu/Projects/REINVENT4/priors/mol2mol_similarity.prior has valid hash:\n",
      "{ 'comments': [],\n",
      "  'creation_date': 0,\n",
      "  'date_format': 'UNIX epoch',\n",
      "  'hash_id': '3c6a77904318ad22c299806d686463f5',\n",
      "  'hash_id_format': 'xxhash.xxh3_128_hex 3.4.1',\n",
      "  'model_id': '595a7122492447e0b10b11b6cf47b2ae',\n",
      "  'model_id_format': 'uuid.uuid4 3.10.12',\n",
      "  'origina_data_source': 'ChEMBL 28',\n",
      "  'updates': []}\n",
      "21:52:48 <INFO> Number of network parameters: 17,462,400\n",
      "21:52:48 <INFO> Using generator Mol2Mol\n",
      "21:52:48 <INFO> Writing sampled SMILES to CSV file sampling.csv\n",
      "21:52:48 <WARN> randomize_smiles is set to be True by user. But the model was trained using canonical SMILESwhere randomize_smiles might undermine the performance (this needs more investigation), but randomize_smiles is reset to be False for now.\n",
      "21:52:48 <INFO> Sampling 83500 SMILES from model /home/fts_g_ucla_edu/Projects/REINVENT4/priors/mol2mol_similarity.prior\n",
      "21:52:48 <WARN> Sampling with beam search may be very slow\n",
      "Traceback (most recent call last):\n",
      "  File \"/home/fts_g_ucla_edu/.conda/envs/reinvent4/bin/reinvent\", line 8, in <module>\n",
      "    sys.exit(main())\n",
      "  File \"/home/fts_g_ucla_edu/.conda/envs/reinvent4/lib/python3.10/site-packages/reinvent/Reinvent.py\", line 302, in main\n",
      "    runner(input_config, actual_device, tb_logdir, responder_config)\n",
      "  File \"/home/fts_g_ucla_edu/.conda/envs/reinvent4/lib/python3.10/site-packages/reinvent/runmodes/samplers/run_sampling.py\", line 104, in run_sampling\n",
      "    sampled = sampler.sample(input_smilies)\n",
      "  File \"/home/fts_g_ucla_edu/.conda/envs/reinvent4/lib/python3.10/site-packages/reinvent/runmodes/samplers/mol2mol.py\", line 29, in sample\n",
      "    smilies = [\n",
      "  File \"/home/fts_g_ucla_edu/.conda/envs/reinvent4/lib/python3.10/site-packages/reinvent/runmodes/samplers/mol2mol.py\", line 30, in <listcomp>\n",
      "    self.chemistry.conversions.convert_to_standardized_smiles(smile) for smile in smilies\n",
      "  File \"/home/fts_g_ucla_edu/.conda/envs/reinvent4/lib/python3.10/site-packages/reinvent/chemistry/conversions.py\", line 122, in convert_to_standardized_smiles\n",
      "    raise RuntimeError(f\"RDKit does not accept SMILES: {smiles}\")\n",
      "RuntimeError: RDKit does not accept SMILES: Nc1cc(c[nH]c1=O)C(F)(F)FNc1cc(c[nH]c1=O)C(F)(F)F\n"
     ]
    }
   ],
   "source": [
    "!reinvent sampling.toml --seed 42"
   ]
  },
  {
   "cell_type": "code",
   "execution_count": 101,
   "metadata": {},
   "outputs": [
    {
     "ename": "EmptyDataError",
     "evalue": "No columns to parse from file",
     "output_type": "error",
     "traceback": [
      "\u001b[0;31m---------------------------------------------------------------------------\u001b[0m",
      "\u001b[0;31mEmptyDataError\u001b[0m                            Traceback (most recent call last)",
      "Cell \u001b[0;32mIn[101], line 1\u001b[0m\n\u001b[0;32m----> 1\u001b[0m analogs \u001b[38;5;241m=\u001b[39m \u001b[43mpd\u001b[49m\u001b[38;5;241;43m.\u001b[39;49m\u001b[43mread_csv\u001b[49m\u001b[43m(\u001b[49m\u001b[38;5;124;43m'\u001b[39;49m\u001b[38;5;124;43msampling.csv\u001b[39;49m\u001b[38;5;124;43m'\u001b[39;49m\u001b[43m)\u001b[49m\n",
      "File \u001b[0;32m~/.conda/envs/reinvent4/lib/python3.10/site-packages/pandas/io/parsers/readers.py:1026\u001b[0m, in \u001b[0;36mread_csv\u001b[0;34m(filepath_or_buffer, sep, delimiter, header, names, index_col, usecols, dtype, engine, converters, true_values, false_values, skipinitialspace, skiprows, skipfooter, nrows, na_values, keep_default_na, na_filter, verbose, skip_blank_lines, parse_dates, infer_datetime_format, keep_date_col, date_parser, date_format, dayfirst, cache_dates, iterator, chunksize, compression, thousands, decimal, lineterminator, quotechar, quoting, doublequote, escapechar, comment, encoding, encoding_errors, dialect, on_bad_lines, delim_whitespace, low_memory, memory_map, float_precision, storage_options, dtype_backend)\u001b[0m\n\u001b[1;32m   1013\u001b[0m kwds_defaults \u001b[38;5;241m=\u001b[39m _refine_defaults_read(\n\u001b[1;32m   1014\u001b[0m     dialect,\n\u001b[1;32m   1015\u001b[0m     delimiter,\n\u001b[0;32m   (...)\u001b[0m\n\u001b[1;32m   1022\u001b[0m     dtype_backend\u001b[38;5;241m=\u001b[39mdtype_backend,\n\u001b[1;32m   1023\u001b[0m )\n\u001b[1;32m   1024\u001b[0m kwds\u001b[38;5;241m.\u001b[39mupdate(kwds_defaults)\n\u001b[0;32m-> 1026\u001b[0m \u001b[38;5;28;01mreturn\u001b[39;00m \u001b[43m_read\u001b[49m\u001b[43m(\u001b[49m\u001b[43mfilepath_or_buffer\u001b[49m\u001b[43m,\u001b[49m\u001b[43m \u001b[49m\u001b[43mkwds\u001b[49m\u001b[43m)\u001b[49m\n",
      "File \u001b[0;32m~/.conda/envs/reinvent4/lib/python3.10/site-packages/pandas/io/parsers/readers.py:620\u001b[0m, in \u001b[0;36m_read\u001b[0;34m(filepath_or_buffer, kwds)\u001b[0m\n\u001b[1;32m    617\u001b[0m _validate_names(kwds\u001b[38;5;241m.\u001b[39mget(\u001b[38;5;124m\"\u001b[39m\u001b[38;5;124mnames\u001b[39m\u001b[38;5;124m\"\u001b[39m, \u001b[38;5;28;01mNone\u001b[39;00m))\n\u001b[1;32m    619\u001b[0m \u001b[38;5;66;03m# Create the parser.\u001b[39;00m\n\u001b[0;32m--> 620\u001b[0m parser \u001b[38;5;241m=\u001b[39m \u001b[43mTextFileReader\u001b[49m\u001b[43m(\u001b[49m\u001b[43mfilepath_or_buffer\u001b[49m\u001b[43m,\u001b[49m\u001b[43m \u001b[49m\u001b[38;5;241;43m*\u001b[39;49m\u001b[38;5;241;43m*\u001b[39;49m\u001b[43mkwds\u001b[49m\u001b[43m)\u001b[49m\n\u001b[1;32m    622\u001b[0m \u001b[38;5;28;01mif\u001b[39;00m chunksize \u001b[38;5;129;01mor\u001b[39;00m iterator:\n\u001b[1;32m    623\u001b[0m     \u001b[38;5;28;01mreturn\u001b[39;00m parser\n",
      "File \u001b[0;32m~/.conda/envs/reinvent4/lib/python3.10/site-packages/pandas/io/parsers/readers.py:1620\u001b[0m, in \u001b[0;36mTextFileReader.__init__\u001b[0;34m(self, f, engine, **kwds)\u001b[0m\n\u001b[1;32m   1617\u001b[0m     \u001b[38;5;28mself\u001b[39m\u001b[38;5;241m.\u001b[39moptions[\u001b[38;5;124m\"\u001b[39m\u001b[38;5;124mhas_index_names\u001b[39m\u001b[38;5;124m\"\u001b[39m] \u001b[38;5;241m=\u001b[39m kwds[\u001b[38;5;124m\"\u001b[39m\u001b[38;5;124mhas_index_names\u001b[39m\u001b[38;5;124m\"\u001b[39m]\n\u001b[1;32m   1619\u001b[0m \u001b[38;5;28mself\u001b[39m\u001b[38;5;241m.\u001b[39mhandles: IOHandles \u001b[38;5;241m|\u001b[39m \u001b[38;5;28;01mNone\u001b[39;00m \u001b[38;5;241m=\u001b[39m \u001b[38;5;28;01mNone\u001b[39;00m\n\u001b[0;32m-> 1620\u001b[0m \u001b[38;5;28mself\u001b[39m\u001b[38;5;241m.\u001b[39m_engine \u001b[38;5;241m=\u001b[39m \u001b[38;5;28;43mself\u001b[39;49m\u001b[38;5;241;43m.\u001b[39;49m\u001b[43m_make_engine\u001b[49m\u001b[43m(\u001b[49m\u001b[43mf\u001b[49m\u001b[43m,\u001b[49m\u001b[43m \u001b[49m\u001b[38;5;28;43mself\u001b[39;49m\u001b[38;5;241;43m.\u001b[39;49m\u001b[43mengine\u001b[49m\u001b[43m)\u001b[49m\n",
      "File \u001b[0;32m~/.conda/envs/reinvent4/lib/python3.10/site-packages/pandas/io/parsers/readers.py:1898\u001b[0m, in \u001b[0;36mTextFileReader._make_engine\u001b[0;34m(self, f, engine)\u001b[0m\n\u001b[1;32m   1895\u001b[0m     \u001b[38;5;28;01mraise\u001b[39;00m \u001b[38;5;167;01mValueError\u001b[39;00m(msg)\n\u001b[1;32m   1897\u001b[0m \u001b[38;5;28;01mtry\u001b[39;00m:\n\u001b[0;32m-> 1898\u001b[0m     \u001b[38;5;28;01mreturn\u001b[39;00m \u001b[43mmapping\u001b[49m\u001b[43m[\u001b[49m\u001b[43mengine\u001b[49m\u001b[43m]\u001b[49m\u001b[43m(\u001b[49m\u001b[43mf\u001b[49m\u001b[43m,\u001b[49m\u001b[43m \u001b[49m\u001b[38;5;241;43m*\u001b[39;49m\u001b[38;5;241;43m*\u001b[39;49m\u001b[38;5;28;43mself\u001b[39;49m\u001b[38;5;241;43m.\u001b[39;49m\u001b[43moptions\u001b[49m\u001b[43m)\u001b[49m\n\u001b[1;32m   1899\u001b[0m \u001b[38;5;28;01mexcept\u001b[39;00m \u001b[38;5;167;01mException\u001b[39;00m:\n\u001b[1;32m   1900\u001b[0m     \u001b[38;5;28;01mif\u001b[39;00m \u001b[38;5;28mself\u001b[39m\u001b[38;5;241m.\u001b[39mhandles \u001b[38;5;129;01mis\u001b[39;00m \u001b[38;5;129;01mnot\u001b[39;00m \u001b[38;5;28;01mNone\u001b[39;00m:\n",
      "File \u001b[0;32m~/.conda/envs/reinvent4/lib/python3.10/site-packages/pandas/io/parsers/c_parser_wrapper.py:93\u001b[0m, in \u001b[0;36mCParserWrapper.__init__\u001b[0;34m(self, src, **kwds)\u001b[0m\n\u001b[1;32m     90\u001b[0m \u001b[38;5;28;01mif\u001b[39;00m kwds[\u001b[38;5;124m\"\u001b[39m\u001b[38;5;124mdtype_backend\u001b[39m\u001b[38;5;124m\"\u001b[39m] \u001b[38;5;241m==\u001b[39m \u001b[38;5;124m\"\u001b[39m\u001b[38;5;124mpyarrow\u001b[39m\u001b[38;5;124m\"\u001b[39m:\n\u001b[1;32m     91\u001b[0m     \u001b[38;5;66;03m# Fail here loudly instead of in cython after reading\u001b[39;00m\n\u001b[1;32m     92\u001b[0m     import_optional_dependency(\u001b[38;5;124m\"\u001b[39m\u001b[38;5;124mpyarrow\u001b[39m\u001b[38;5;124m\"\u001b[39m)\n\u001b[0;32m---> 93\u001b[0m \u001b[38;5;28mself\u001b[39m\u001b[38;5;241m.\u001b[39m_reader \u001b[38;5;241m=\u001b[39m \u001b[43mparsers\u001b[49m\u001b[38;5;241;43m.\u001b[39;49m\u001b[43mTextReader\u001b[49m\u001b[43m(\u001b[49m\u001b[43msrc\u001b[49m\u001b[43m,\u001b[49m\u001b[43m \u001b[49m\u001b[38;5;241;43m*\u001b[39;49m\u001b[38;5;241;43m*\u001b[39;49m\u001b[43mkwds\u001b[49m\u001b[43m)\u001b[49m\n\u001b[1;32m     95\u001b[0m \u001b[38;5;28mself\u001b[39m\u001b[38;5;241m.\u001b[39munnamed_cols \u001b[38;5;241m=\u001b[39m \u001b[38;5;28mself\u001b[39m\u001b[38;5;241m.\u001b[39m_reader\u001b[38;5;241m.\u001b[39munnamed_cols\n\u001b[1;32m     97\u001b[0m \u001b[38;5;66;03m# error: Cannot determine type of 'names'\u001b[39;00m\n",
      "File \u001b[0;32mparsers.pyx:581\u001b[0m, in \u001b[0;36mpandas._libs.parsers.TextReader.__cinit__\u001b[0;34m()\u001b[0m\n",
      "\u001b[0;31mEmptyDataError\u001b[0m: No columns to parse from file"
     ]
    }
   ],
   "source": [
    "analogs = pd.read_csv('sampling.csv')"
   ]
  },
  {
   "cell_type": "code",
   "execution_count": null,
   "metadata": {},
   "outputs": [
    {
     "data": {
      "text/html": [
       "<div>\n",
       "<style scoped>\n",
       "    .dataframe tbody tr th:only-of-type {\n",
       "        vertical-align: middle;\n",
       "    }\n",
       "\n",
       "    .dataframe tbody tr th {\n",
       "        vertical-align: top;\n",
       "    }\n",
       "\n",
       "    .dataframe thead th {\n",
       "        text-align: right;\n",
       "    }\n",
       "</style>\n",
       "<table border=\"1\" class=\"dataframe\">\n",
       "  <thead>\n",
       "    <tr style=\"text-align: right;\">\n",
       "      <th></th>\n",
       "      <th>SMILES</th>\n",
       "      <th>Input_SMILES</th>\n",
       "      <th>Tanimoto</th>\n",
       "      <th>NLL</th>\n",
       "    </tr>\n",
       "  </thead>\n",
       "  <tbody>\n",
       "    <tr>\n",
       "      <th>0</th>\n",
       "      <td>COc1c[nH]c(=O)c(N)c1</td>\n",
       "      <td>Nc1cc(C(F)(F)F)c[nH]c1=O</td>\n",
       "      <td>0.450000</td>\n",
       "      <td>6.027443</td>\n",
       "    </tr>\n",
       "    <tr>\n",
       "      <th>1</th>\n",
       "      <td>CN1C[C@H](O)[C@@H](c2c(F)cccc2F)C1=O</td>\n",
       "      <td>Cc1ccc([C@H]2C(=O)N(C)C[C@H]2O)cc1</td>\n",
       "      <td>0.473684</td>\n",
       "      <td>5.540741</td>\n",
       "    </tr>\n",
       "    <tr>\n",
       "      <th>2</th>\n",
       "      <td>CSCC[C@H]1NC(=O)N(c2cccc(F)c2)C1=O</td>\n",
       "      <td>O=C1N[C@@H](Cc2ccccc2)C(=O)N1c1cncc(F)c1</td>\n",
       "      <td>0.447368</td>\n",
       "      <td>5.973771</td>\n",
       "    </tr>\n",
       "    <tr>\n",
       "      <th>3</th>\n",
       "      <td>Nc1ccccc1-c1nnn[nH]1</td>\n",
       "      <td>c1ccc(-c2ccccc2-c2nnn[nH]2)cc1</td>\n",
       "      <td>0.508772</td>\n",
       "      <td>3.187813</td>\n",
       "    </tr>\n",
       "    <tr>\n",
       "      <th>4</th>\n",
       "      <td>COCCNC(=O)C(N)Cc1ccc(F)cc1</td>\n",
       "      <td>CN(C)C(=O)C(N)Cc1ccc(F)cc1</td>\n",
       "      <td>0.553571</td>\n",
       "      <td>6.512230</td>\n",
       "    </tr>\n",
       "    <tr>\n",
       "      <th>...</th>\n",
       "      <td>...</td>\n",
       "      <td>...</td>\n",
       "      <td>...</td>\n",
       "      <td>...</td>\n",
       "    </tr>\n",
       "    <tr>\n",
       "      <th>3411</th>\n",
       "      <td>N#Cc1cc2c([nH]c1=O)CC(OCCc1ccccc1)OC2</td>\n",
       "      <td>CC(C)C1Cc2[nH]c(=O)c(C#N)cc2CO1</td>\n",
       "      <td>0.569231</td>\n",
       "      <td>13.218761</td>\n",
       "    </tr>\n",
       "    <tr>\n",
       "      <th>3412</th>\n",
       "      <td>CN(C)C(=O)c1ccccc1O</td>\n",
       "      <td>O=C(O)c1ccccc1O</td>\n",
       "      <td>0.333333</td>\n",
       "      <td>4.657554</td>\n",
       "    </tr>\n",
       "    <tr>\n",
       "      <th>3413</th>\n",
       "      <td>O=C(O)c1cc(-c2ccccc2)n(-c2ccc(C(F)(F)F)cc2)n1</td>\n",
       "      <td>O=C(O)c1cc(-c2ccccc2)n(-c2ccccc2)n1</td>\n",
       "      <td>0.446429</td>\n",
       "      <td>5.074320</td>\n",
       "    </tr>\n",
       "    <tr>\n",
       "      <th>3414</th>\n",
       "      <td>O=C(CN[C@H]1C[C@@H]2CC[C@H]1C2)N1CCCCC1</td>\n",
       "      <td>O=C(CN1CCNCC1)N1CCCCC1</td>\n",
       "      <td>0.500000</td>\n",
       "      <td>13.807041</td>\n",
       "    </tr>\n",
       "    <tr>\n",
       "      <th>3415</th>\n",
       "      <td>FC(F)(F)c1ccc(-c2cc(-n3cccn3)ncn2)cc1</td>\n",
       "      <td>c1cnn(-c2cc(-c3ccc4c(c3)OCCO4)ncn2)c1</td>\n",
       "      <td>0.629630</td>\n",
       "      <td>4.672769</td>\n",
       "    </tr>\n",
       "  </tbody>\n",
       "</table>\n",
       "<p>3416 rows × 4 columns</p>\n",
       "</div>"
      ],
      "text/plain": [
       "                                             SMILES  \\\n",
       "0                              COc1c[nH]c(=O)c(N)c1   \n",
       "1              CN1C[C@H](O)[C@@H](c2c(F)cccc2F)C1=O   \n",
       "2                CSCC[C@H]1NC(=O)N(c2cccc(F)c2)C1=O   \n",
       "3                              Nc1ccccc1-c1nnn[nH]1   \n",
       "4                        COCCNC(=O)C(N)Cc1ccc(F)cc1   \n",
       "...                                             ...   \n",
       "3411          N#Cc1cc2c([nH]c1=O)CC(OCCc1ccccc1)OC2   \n",
       "3412                            CN(C)C(=O)c1ccccc1O   \n",
       "3413  O=C(O)c1cc(-c2ccccc2)n(-c2ccc(C(F)(F)F)cc2)n1   \n",
       "3414        O=C(CN[C@H]1C[C@@H]2CC[C@H]1C2)N1CCCCC1   \n",
       "3415          FC(F)(F)c1ccc(-c2cc(-n3cccn3)ncn2)cc1   \n",
       "\n",
       "                                  Input_SMILES  Tanimoto        NLL  \n",
       "0                     Nc1cc(C(F)(F)F)c[nH]c1=O  0.450000   6.027443  \n",
       "1           Cc1ccc([C@H]2C(=O)N(C)C[C@H]2O)cc1  0.473684   5.540741  \n",
       "2     O=C1N[C@@H](Cc2ccccc2)C(=O)N1c1cncc(F)c1  0.447368   5.973771  \n",
       "3               c1ccc(-c2ccccc2-c2nnn[nH]2)cc1  0.508772   3.187813  \n",
       "4                   CN(C)C(=O)C(N)Cc1ccc(F)cc1  0.553571   6.512230  \n",
       "...                                        ...       ...        ...  \n",
       "3411           CC(C)C1Cc2[nH]c(=O)c(C#N)cc2CO1  0.569231  13.218761  \n",
       "3412                           O=C(O)c1ccccc1O  0.333333   4.657554  \n",
       "3413       O=C(O)c1cc(-c2ccccc2)n(-c2ccccc2)n1  0.446429   5.074320  \n",
       "3414                    O=C(CN1CCNCC1)N1CCCCC1  0.500000  13.807041  \n",
       "3415     c1cnn(-c2cc(-c3ccc4c(c3)OCCO4)ncn2)c1  0.629630   4.672769  \n",
       "\n",
       "[3416 rows x 4 columns]"
      ]
     },
     "execution_count": 116,
     "metadata": {},
     "output_type": "execute_result"
    }
   ],
   "source": [
    "analogs"
   ]
  },
  {
   "cell_type": "code",
   "execution_count": null,
   "metadata": {},
   "outputs": [
    {
     "data": {
      "text/plain": [
       "164"
      ]
     },
     "execution_count": 118,
     "metadata": {},
     "output_type": "execute_result"
    }
   ],
   "source": [
    "analogs['Input_SMILES'].nunique()"
   ]
  },
  {
   "cell_type": "code",
   "execution_count": null,
   "metadata": {},
   "outputs": [
    {
     "data": {
      "text/plain": [
       "<Axes: >"
      ]
     },
     "execution_count": 124,
     "metadata": {},
     "output_type": "execute_result"
    },
    {
     "data": {
      "image/png": "[encoded data removed]",
      "text/plain": [
       "<Figure size 1500x800 with 1 Axes>"
      ]
     },
     "metadata": {},
     "output_type": "display_data"
    }
   ],
   "source": [
    "analogs['Input_SMILES'].hist(bins=164)"
   ]
  },
  {
   "cell_type": "code",
   "execution_count": null,
   "metadata": {},
   "outputs": [],
   "source": []
  }
 ],
 "metadata": {
  "kernelspec": {
   "display_name": "reinvent4",
   "language": "python",
   "name": "python3"
  },
  "language_info": {
   "codemirror_mode": {
    "name": "ipython",
    "version": 3
   },
   "file_extension": ".py",
   "mimetype": "text/x-python",
   "name": "python",
   "nbconvert_exporter": "python",
   "pygments_lexer": "ipython3",
   "version": "3.10.14"
  }
 },
 "nbformat": 4,
 "nbformat_minor": 2
}
